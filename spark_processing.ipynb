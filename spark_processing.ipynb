{
  "cells": [
    {
      "cell_type": "code",
      "execution_count": 3,
      "metadata": {
        "collapsed": false,
        "jupyter": {
          "outputs_hidden": true
        },
        "microsoft": {
          "language": "python"
        }
      },
      "outputs": [
        {
          "data": {
            "application/vnd.livy.statement-meta+json": {
              "execution_finish_time": "2023-04-30T20:36:20.8260114Z",
              "execution_start_time": "2023-04-30T20:36:05.8329296Z",
              "livy_statement_state": "available",
              "parent_msg_id": "7ca664e9-974d-41e4-8a74-c0e5897fb5f4",
              "queued_time": "2023-04-30T20:36:01.089955Z",
              "session_id": "0",
              "session_start_time": null,
              "spark_jobs": null,
              "spark_pool": "sparksfmo6v9",
              "state": "finished",
              "statement_id": 4
            },
            "text/plain": [
              "StatementMeta(sparksfmo6v9, 0, 4, Finished, Available)"
            ]
          },
          "metadata": {},
          "output_type": "display_data"
        },
        {
          "data": {
            "application/vnd.synapse.widget-view+json": {
              "widget_id": "f41a2626-5d92-4e3c-a05b-81fb1a8d5b47",
              "widget_type": "Synapse.DataFrame"
            },
            "text/plain": [
              "SynapseWidget(Synapse.DataFrame, f41a2626-5d92-4e3c-a05b-81fb1a8d5b47)"
            ]
          },
          "metadata": {},
          "output_type": "display_data"
        }
      ],
      "source": [
        "%%pyspark\n",
        "df = spark.read.load('abfss://files@datalakesfmo6v9.dfs.core.windows.net/sales/orders/*.csv', format='csv'\n",
        "## If header exists uncomment line below\n",
        "##, header=True\n",
        ")\n",
        "display(df.limit(100))"
      ]
    },
    {
      "cell_type": "code",
      "execution_count": 4,
      "metadata": {
        "collapsed": false,
        "jupyter": {
          "outputs_hidden": false,
          "source_hidden": false
        },
        "microsoft": {
          "language": "python"
        },
        "nteract": {
          "transient": {
            "deleting": false
          }
        }
      },
      "outputs": [
        {
          "data": {
            "application/vnd.livy.statement-meta+json": {
              "execution_finish_time": "2023-04-30T20:36:44.8358823Z",
              "execution_start_time": "2023-04-30T20:36:43.6245893Z",
              "livy_statement_state": "available",
              "parent_msg_id": "3f58c00f-d204-4196-a5d7-b63fd9658172",
              "queued_time": "2023-04-30T20:36:43.4600846Z",
              "session_id": "0",
              "session_start_time": null,
              "spark_jobs": null,
              "spark_pool": "sparksfmo6v9",
              "state": "finished",
              "statement_id": 5
            },
            "text/plain": [
              "StatementMeta(sparksfmo6v9, 0, 5, Finished, Available)"
            ]
          },
          "metadata": {},
          "output_type": "display_data"
        },
        {
          "data": {
            "application/vnd.synapse.widget-view+json": {
              "widget_id": "1455dd53-8762-47f0-a8bd-2b00df6e4109",
              "widget_type": "Synapse.DataFrame"
            },
            "text/plain": [
              "SynapseWidget(Synapse.DataFrame, 1455dd53-8762-47f0-a8bd-2b00df6e4109)"
            ]
          },
          "metadata": {},
          "output_type": "display_data"
        }
      ],
      "source": [
        "%%pyspark\n",
        "from pyspark.sql.types import *\n",
        "from pyspark.sql.functions import *\n",
        "\n",
        "orderSchema = StructType([\n",
        "    StructField(\"SalesOrderNumber\", StringType()),\n",
        "    StructField(\"SalesOrderLineNumber\", IntegerType()),\n",
        "    StructField(\"OrderDate\", DateType()),\n",
        "    StructField(\"CustomerName\", StringType()),\n",
        "    StructField(\"Email\", StringType()),\n",
        "    StructField(\"Item\", StringType()),\n",
        "    StructField(\"Quantity\", IntegerType()),\n",
        "    StructField(\"UnitPrice\", FloatType()),\n",
        "    StructField(\"Tax\", FloatType())\n",
        "    ])\n",
        "\n",
        "df = spark.read.load('abfss://files@datalakesfmo6v9.dfs.core.windows.net/sales/orders/*.csv', format='csv', schema=orderSchema)\n",
        "display(df.limit(100))"
      ]
    },
    {
      "cell_type": "code",
      "execution_count": 5,
      "metadata": {
        "jupyter": {
          "outputs_hidden": false,
          "source_hidden": false
        },
        "nteract": {
          "transient": {
            "deleting": false
          }
        }
      },
      "outputs": [
        {
          "data": {
            "application/vnd.livy.statement-meta+json": {
              "execution_finish_time": "2023-04-30T20:38:02.0913758Z",
              "execution_start_time": "2023-04-30T20:38:01.9028444Z",
              "livy_statement_state": "available",
              "parent_msg_id": "d88837ce-fdda-4bd6-abd7-e1005283febc",
              "queued_time": "2023-04-30T20:38:01.7154919Z",
              "session_id": "0",
              "session_start_time": null,
              "spark_jobs": null,
              "spark_pool": "sparksfmo6v9",
              "state": "finished",
              "statement_id": 6
            },
            "text/plain": [
              "StatementMeta(sparksfmo6v9, 0, 6, Finished, Available)"
            ]
          },
          "metadata": {},
          "output_type": "display_data"
        },
        {
          "name": "stdout",
          "output_type": "stream",
          "text": [
            "root\n",
            " |-- SalesOrderNumber: string (nullable = true)\n",
            " |-- SalesOrderLineNumber: integer (nullable = true)\n",
            " |-- OrderDate: date (nullable = true)\n",
            " |-- CustomerName: string (nullable = true)\n",
            " |-- Email: string (nullable = true)\n",
            " |-- Item: string (nullable = true)\n",
            " |-- Quantity: integer (nullable = true)\n",
            " |-- UnitPrice: float (nullable = true)\n",
            " |-- Tax: float (nullable = true)\n",
            "\n"
          ]
        }
      ],
      "source": [
        "df.printSchema()"
      ]
    },
    {
      "cell_type": "code",
      "execution_count": 8,
      "metadata": {
        "collapsed": false,
        "jupyter": {
          "outputs_hidden": false,
          "source_hidden": false
        },
        "nteract": {
          "transient": {
            "deleting": false
          }
        }
      },
      "outputs": [
        {
          "data": {
            "application/vnd.livy.statement-meta+json": {
              "execution_finish_time": "2023-04-30T20:46:25.7874312Z",
              "execution_start_time": "2023-04-30T20:46:21.6041441Z",
              "livy_statement_state": "available",
              "parent_msg_id": "eda3bd9d-6fa8-45b4-8dee-252cf54e32f4",
              "queued_time": "2023-04-30T20:46:21.4568699Z",
              "session_id": "0",
              "session_start_time": null,
              "spark_jobs": null,
              "spark_pool": "sparksfmo6v9",
              "state": "finished",
              "statement_id": 9
            },
            "text/plain": [
              "StatementMeta(sparksfmo6v9, 0, 9, Finished, Available)"
            ]
          },
          "metadata": {},
          "output_type": "display_data"
        },
        {
          "name": "stdout",
          "output_type": "stream",
          "text": [
            "133\n",
            "133\n"
          ]
        },
        {
          "data": {
            "application/vnd.synapse.widget-view+json": {
              "widget_id": "cd5cc632-e59b-49aa-a84c-2a1370a8df8a",
              "widget_type": "Synapse.DataFrame"
            },
            "text/plain": [
              "SynapseWidget(Synapse.DataFrame, cd5cc632-e59b-49aa-a84c-2a1370a8df8a)"
            ]
          },
          "metadata": {},
          "output_type": "display_data"
        }
      ],
      "source": [
        "customers = df.select(\"CustomerName\", \"Email\").where(df['Item']=='Road-250 Red, 52')\n",
        "print(customers.count())\n",
        "print(customers.distinct().count())\n",
        "display(customers.distinct())"
      ]
    },
    {
      "cell_type": "code",
      "execution_count": 7,
      "metadata": {
        "collapsed": false,
        "jupyter": {
          "outputs_hidden": false,
          "source_hidden": false
        },
        "nteract": {
          "transient": {
            "deleting": false
          }
        }
      },
      "outputs": [
        {
          "data": {
            "application/vnd.livy.statement-meta+json": {
              "execution_finish_time": "2023-04-30T20:45:50.0815588Z",
              "execution_start_time": "2023-04-30T20:45:47.1243925Z",
              "livy_statement_state": "available",
              "parent_msg_id": "5a972a59-632b-4d70-b653-da079e8f5d8f",
              "queued_time": "2023-04-30T20:45:46.9397397Z",
              "session_id": "0",
              "session_start_time": null,
              "spark_jobs": null,
              "spark_pool": "sparksfmo6v9",
              "state": "finished",
              "statement_id": 8
            },
            "text/plain": [
              "StatementMeta(sparksfmo6v9, 0, 8, Finished, Available)"
            ]
          },
          "metadata": {},
          "output_type": "display_data"
        },
        {
          "data": {
            "application/vnd.synapse.widget-view+json": {
              "widget_id": "df3114fe-5034-4f04-b962-7496725ff3ee",
              "widget_type": "Synapse.DataFrame"
            },
            "text/plain": [
              "SynapseWidget(Synapse.DataFrame, df3114fe-5034-4f04-b962-7496725ff3ee)"
            ]
          },
          "metadata": {},
          "output_type": "display_data"
        }
      ],
      "source": [
        "productSales = df.select(\"Item\", \"Quantity\").groupBy(\"Item\").sum()\n",
        "display(productSales)"
      ]
    }
  ],
  "metadata": {
    "kernel_info": {
      "name": "synapse_pyspark"
    },
    "kernelspec": {
      "display_name": "Python 3.10.10 64-bit (microsoft store)",
      "language": "python",
      "name": "python3"
    },
    "language_info": {
      "name": "python",
      "version": "3.10.10"
    },
    "save_output": false,
    "synapse_widget": {
      "state": {
        "1455dd53-8762-47f0-a8bd-2b00df6e4109": {
          "persist_state": {
            "view": {
              "chartOptions": {
                "aggregationType": "sum",
                "categoryFieldKeys": [
                  "0"
                ],
                "chartType": "bar",
                "isStacked": false,
                "seriesFieldKeys": [
                  "1"
                ]
              },
              "tableOptions": {},
              "type": "details"
            }
          },
          "sync_state": {
            "isSummary": false,
            "language": "scala",
            "table": {
              "rows": [
                {
                  "0": "SO49171",
                  "1": "1",
                  "2": "2021-01-01",
                  "3": "Mariah Foster",
                  "4": "mariah21@adventure-works.com",
                  "5": "Road-250 Black, 48",
                  "6": "1",
                  "7": "2181.5625",
                  "8": "174.525"
                },
                {
                  "0": "SO49172",
                  "1": "1",
                  "2": "2021-01-01",
                  "3": "Brian Howard",
                  "4": "brian23@adventure-works.com",
                  "5": "Road-250 Red, 44",
                  "6": "1",
                  "7": "2443.35",
                  "8": "195.468"
                },
                {
                  "0": "SO49173",
                  "1": "1",
                  "2": "2021-01-01",
                  "3": "Linda Alvarez",
                  "4": "linda19@adventure-works.com",
                  "5": "Mountain-200 Silver, 38",
                  "6": "1",
                  "7": "2071.4197",
                  "8": "165.7136"
                },
                {
                  "0": "SO49174",
                  "1": "1",
                  "2": "2021-01-01",
                  "3": "Gina Hernandez",
                  "4": "gina4@adventure-works.com",
                  "5": "Mountain-200 Silver, 42",
                  "6": "1",
                  "7": "2071.4197",
                  "8": "165.7136"
                },
                {
                  "0": "SO49178",
                  "1": "1",
                  "2": "2021-01-01",
                  "3": "Beth Ruiz",
                  "4": "beth4@adventure-works.com",
                  "5": "Road-550-W Yellow, 44",
                  "6": "1",
                  "7": "1000.4375",
                  "8": "80.035"
                },
                {
                  "0": "SO49179",
                  "1": "1",
                  "2": "2021-01-01",
                  "3": "Evan Ward",
                  "4": "evan13@adventure-works.com",
                  "5": "Road-550-W Yellow, 38",
                  "6": "1",
                  "7": "1000.4375",
                  "8": "80.035"
                },
                {
                  "0": "SO49175",
                  "1": "1",
                  "2": "2021-01-01",
                  "3": "Margaret Guo",
                  "4": "margaret24@adventure-works.com",
                  "5": "Road-250 Red, 52",
                  "6": "1",
                  "7": "2443.35",
                  "8": "195.468"
                },
                {
                  "0": "SO49180",
                  "1": "1",
                  "2": "2021-01-01",
                  "3": "Mitchell Yuan",
                  "4": "mitchell6@adventure-works.com",
                  "5": "Road-650 Black, 58",
                  "6": "1",
                  "7": "782.99",
                  "8": "62.6392"
                },
                {
                  "0": "SO49176",
                  "1": "1",
                  "2": "2021-01-01",
                  "3": "Shawn Sharma",
                  "4": "shawn11@adventure-works.com",
                  "5": "Mountain-200 Silver, 46",
                  "6": "1",
                  "7": "2071.4197",
                  "8": "165.7136"
                },
                {
                  "0": "SO49177",
                  "1": "1",
                  "2": "2021-01-01",
                  "3": "Barbara Chande",
                  "4": "barbara44@adventure-works.com",
                  "5": "Mountain-200 Silver, 42",
                  "6": "1",
                  "7": "2071.4197",
                  "8": "165.7136"
                },
                {
                  "0": "SO49186",
                  "1": "1",
                  "2": "2021-01-02",
                  "3": "Cara Xu",
                  "4": "cara8@adventure-works.com",
                  "5": "Road-250 Red, 52",
                  "6": "1",
                  "7": "2443.35",
                  "8": "195.468"
                },
                {
                  "0": "SO49187",
                  "1": "1",
                  "2": "2021-01-02",
                  "3": "Lacey Liu",
                  "4": "lacey16@adventure-works.com",
                  "5": "Road-250 Black, 58",
                  "6": "1",
                  "7": "2181.5625",
                  "8": "174.525"
                },
                {
                  "0": "SO49190",
                  "1": "1",
                  "2": "2021-01-02",
                  "3": "Omar Zhu",
                  "4": "omar13@adventure-works.com",
                  "5": "Road-550-W Yellow, 40",
                  "6": "1",
                  "7": "1000.4375",
                  "8": "80.035"
                },
                {
                  "0": "SO49185",
                  "1": "1",
                  "2": "2021-01-02",
                  "3": "Cassandra Fernandez",
                  "4": "cassandra17@adventure-works.com",
                  "5": "Mountain-200 Black, 46",
                  "6": "1",
                  "7": "2049.0981",
                  "8": "163.9279"
                },
                {
                  "0": "SO49184",
                  "1": "1",
                  "2": "2021-01-02",
                  "3": "Monica Martinez",
                  "4": "monica17@adventure-works.com",
                  "5": "Mountain-200 Black, 46",
                  "6": "1",
                  "7": "2049.0981",
                  "8": "163.9279"
                },
                {
                  "0": "SO49189",
                  "1": "1",
                  "2": "2021-01-02",
                  "3": "Marie Gonzalez",
                  "4": "marie20@adventure-works.com",
                  "5": "Road-650 Black, 48",
                  "6": "1",
                  "7": "782.99",
                  "8": "62.6392"
                },
                {
                  "0": "SO49182",
                  "1": "1",
                  "2": "2021-01-02",
                  "3": "Alexandra Hall",
                  "4": "alexandra89@adventure-works.com",
                  "5": "Road-250 Red, 48",
                  "6": "1",
                  "7": "2443.35",
                  "8": "195.468"
                },
                {
                  "0": "SO49183",
                  "1": "1",
                  "2": "2021-01-02",
                  "3": "Alejandro Raji",
                  "4": "alejandro46@adventure-works.com",
                  "5": "Road-250 Red, 52",
                  "6": "1",
                  "7": "2443.35",
                  "8": "195.468"
                },
                {
                  "0": "SO49181",
                  "1": "1",
                  "2": "2021-01-02",
                  "3": "Derrick Jim�nez",
                  "4": "derrick5@adventure-works.com",
                  "5": "Road-250 Black, 48",
                  "6": "1",
                  "7": "2181.5625",
                  "8": "174.525"
                },
                {
                  "0": "SO49188",
                  "1": "1",
                  "2": "2021-01-02",
                  "3": "Erin Cox",
                  "4": "erin15@adventure-works.com",
                  "5": "Mountain-200 Black, 38",
                  "6": "1",
                  "7": "2049.0981",
                  "8": "163.9279"
                },
                {
                  "0": "SO49192",
                  "1": "1",
                  "2": "2021-01-03",
                  "3": "Eugene Sun",
                  "4": "eugene17@adventure-works.com",
                  "5": "Road-550-W Yellow, 44",
                  "6": "1",
                  "7": "1000.4375",
                  "8": "80.035"
                },
                {
                  "0": "SO49191",
                  "1": "1",
                  "2": "2021-01-03",
                  "3": "Benjamin Thompson",
                  "4": "benjamin52@adventure-works.com",
                  "5": "Road-550-W Yellow, 44",
                  "6": "1",
                  "7": "1000.4375",
                  "8": "80.035"
                },
                {
                  "0": "SO49195",
                  "1": "1",
                  "2": "2021-01-03",
                  "3": "Barry Malhotra",
                  "4": "barry5@adventure-works.com",
                  "5": "Road-650 Red, 58",
                  "6": "1",
                  "7": "782.99",
                  "8": "62.6392"
                },
                {
                  "0": "SO49194",
                  "1": "1",
                  "2": "2021-01-03",
                  "3": "Clayton Wagner",
                  "4": "clayton1@adventure-works.com",
                  "5": "Road-650 Black, 60",
                  "6": "1",
                  "7": "782.99",
                  "8": "62.6392"
                },
                {
                  "0": "SO49196",
                  "1": "1",
                  "2": "2021-01-03",
                  "3": "Katherine Perry",
                  "4": "katherine33@adventure-works.com",
                  "5": "Mountain-200 Silver, 42",
                  "6": "1",
                  "7": "2071.4197",
                  "8": "165.7136"
                },
                {
                  "0": "SO49198",
                  "1": "1",
                  "2": "2021-01-03",
                  "3": "Lori Alvarez",
                  "4": "lori7@adventure-works.com",
                  "5": "Road-650 Black, 52",
                  "6": "1",
                  "7": "782.99",
                  "8": "62.6392"
                },
                {
                  "0": "SO49199",
                  "1": "1",
                  "2": "2021-01-03",
                  "3": "Jillian Patel",
                  "4": "jillian3@adventure-works.com",
                  "5": "Road-650 Black, 62",
                  "6": "1",
                  "7": "782.99",
                  "8": "62.6392"
                },
                {
                  "0": "SO49193",
                  "1": "1",
                  "2": "2021-01-03",
                  "3": "Summer Rodriguez",
                  "4": "summer17@adventure-works.com",
                  "5": "Mountain-200 Black, 42",
                  "6": "1",
                  "7": "2049.0981",
                  "8": "163.9279"
                },
                {
                  "0": "SO49197",
                  "1": "1",
                  "2": "2021-01-03",
                  "3": "Oscar Flores",
                  "4": "oscar20@adventure-works.com",
                  "5": "Mountain-200 Black, 42",
                  "6": "1",
                  "7": "2049.0981",
                  "8": "163.9279"
                },
                {
                  "0": "SO49205",
                  "1": "1",
                  "2": "2021-01-04",
                  "3": "Rebekah Serrano",
                  "4": "rebekah36@adventure-works.com",
                  "5": "Mountain-200 Black, 38",
                  "6": "1",
                  "7": "2049.0981",
                  "8": "163.9279"
                },
                {
                  "0": "SO49204",
                  "1": "1",
                  "2": "2021-01-04",
                  "3": "Monique Blanco",
                  "4": "monique12@adventure-works.com",
                  "5": "Mountain-200 Silver, 38",
                  "6": "1",
                  "7": "2071.4197",
                  "8": "165.7136"
                },
                {
                  "0": "SO49212",
                  "1": "1",
                  "2": "2021-01-04",
                  "3": "Olivia Coleman",
                  "4": "olivia51@adventure-works.com",
                  "5": "Road-550-W Yellow, 44",
                  "6": "1",
                  "7": "1000.4375",
                  "8": "80.035"
                },
                {
                  "0": "SO49210",
                  "1": "1",
                  "2": "2021-01-04",
                  "3": "Timothy James",
                  "4": "timothy9@adventure-works.com",
                  "5": "Mountain-200 Silver, 46",
                  "6": "1",
                  "7": "2071.4197",
                  "8": "165.7136"
                },
                {
                  "0": "SO49203",
                  "1": "1",
                  "2": "2021-01-04",
                  "3": "Louis Ye",
                  "4": "louis3@adventure-works.com",
                  "5": "Road-650 Red, 52",
                  "6": "1",
                  "7": "782.99",
                  "8": "62.6392"
                },
                {
                  "0": "SO49201",
                  "1": "1",
                  "2": "2021-01-04",
                  "3": "Jaime Diaz",
                  "4": "jaime3@adventure-works.com",
                  "5": "Road-250 Red, 52",
                  "6": "1",
                  "7": "2443.35",
                  "8": "195.468"
                },
                {
                  "0": "SO49202",
                  "1": "1",
                  "2": "2021-01-04",
                  "3": "Audrey Gutierrez",
                  "4": "audrey12@adventure-works.com",
                  "5": "Road-250 Black, 48",
                  "6": "1",
                  "7": "2181.5625",
                  "8": "174.525"
                },
                {
                  "0": "SO49200",
                  "1": "1",
                  "2": "2021-01-04",
                  "3": "Blake Taylor",
                  "4": "blake8@adventure-works.com",
                  "5": "Road-250 Red, 44",
                  "6": "1",
                  "7": "2443.35",
                  "8": "195.468"
                },
                {
                  "0": "SO49215",
                  "1": "1",
                  "2": "2021-01-04",
                  "3": "Kathryn Deng",
                  "4": "kathryn1@adventure-works.com",
                  "5": "Road-650 Red, 62",
                  "6": "1",
                  "7": "782.99",
                  "8": "62.6392"
                },
                {
                  "0": "SO49213",
                  "1": "1",
                  "2": "2021-01-04",
                  "3": "Anne Martin",
                  "4": "anne1@adventure-works.com",
                  "5": "Road-550-W Yellow, 44",
                  "6": "1",
                  "7": "1000.4375",
                  "8": "80.035"
                },
                {
                  "0": "SO49209",
                  "1": "1",
                  "2": "2021-01-04",
                  "3": "Dana Suarez",
                  "4": "dana12@adventure-works.com",
                  "5": "Road-250 Red, 58",
                  "6": "1",
                  "7": "2181.5625",
                  "8": "174.525"
                },
                {
                  "0": "SO49208",
                  "1": "1",
                  "2": "2021-01-04",
                  "3": "Alexis Powell",
                  "4": "alexis31@adventure-works.com",
                  "5": "Road-250 Black, 48",
                  "6": "1",
                  "7": "2181.5625",
                  "8": "174.525"
                },
                {
                  "0": "SO49207",
                  "1": "1",
                  "2": "2021-01-04",
                  "3": "Jordan Roberts",
                  "4": "jordan58@adventure-works.com",
                  "5": "Road-250 Red, 48",
                  "6": "1",
                  "7": "2443.35",
                  "8": "195.468"
                },
                {
                  "0": "SO49206",
                  "1": "1",
                  "2": "2021-01-04",
                  "3": "Adam Powell",
                  "4": "adam6@adventure-works.com",
                  "5": "Road-250 Black, 48",
                  "6": "1",
                  "7": "2181.5625",
                  "8": "174.525"
                },
                {
                  "0": "SO49214",
                  "1": "1",
                  "2": "2021-01-04",
                  "3": "Bobby Ray",
                  "4": "bobby7@adventure-works.com",
                  "5": "Road-250 Black, 58",
                  "6": "1",
                  "7": "2181.5625",
                  "8": "174.525"
                },
                {
                  "0": "SO49216",
                  "1": "1",
                  "2": "2021-01-04",
                  "3": "Rafael Sun",
                  "4": "rafael14@adventure-works.com",
                  "5": "Road-650 Red, 44",
                  "6": "1",
                  "7": "782.99",
                  "8": "62.6392"
                },
                {
                  "0": "SO49211",
                  "1": "1",
                  "2": "2021-01-04",
                  "3": "Rachel Perry",
                  "4": "rachel55@adventure-works.com",
                  "5": "Mountain-200 Silver, 42",
                  "6": "1",
                  "7": "2071.4197",
                  "8": "165.7136"
                },
                {
                  "0": "SO49221",
                  "1": "1",
                  "2": "2021-01-05",
                  "3": "Brett Martinez",
                  "4": "brett17@adventure-works.com",
                  "5": "Road-250 Black, 58",
                  "6": "1",
                  "7": "2181.5625",
                  "8": "174.525"
                },
                {
                  "0": "SO49217",
                  "1": "1",
                  "2": "2021-01-05",
                  "3": "Russell Sharma",
                  "4": "russell12@adventure-works.com",
                  "5": "Road-250 Black, 52",
                  "6": "1",
                  "7": "2181.5625",
                  "8": "174.525"
                },
                {
                  "0": "SO49220",
                  "1": "1",
                  "2": "2021-01-05",
                  "3": "Arthur Chandra",
                  "4": "arthur4@adventure-works.com",
                  "5": "Mountain-200 Silver, 38",
                  "6": "1",
                  "7": "2071.4197",
                  "8": "165.7136"
                },
                {
                  "0": "SO49219",
                  "1": "1",
                  "2": "2021-01-05",
                  "3": "Priscilla Rai",
                  "4": "priscilla16@adventure-works.com",
                  "5": "Mountain-200 Black, 46",
                  "6": "1",
                  "7": "2049.0981",
                  "8": "163.9279"
                },
                {
                  "0": "SO49224",
                  "1": "1",
                  "2": "2021-01-05",
                  "3": "Sydney Sanders",
                  "4": "sydney22@adventure-works.com",
                  "5": "Mountain-200 Black, 38",
                  "6": "1",
                  "7": "2049.0981",
                  "8": "163.9279"
                },
                {
                  "0": "SO49222",
                  "1": "1",
                  "2": "2021-01-05",
                  "3": "Chloe Scott",
                  "4": "chloe11@adventure-works.com",
                  "5": "Mountain-200 Silver, 38",
                  "6": "1",
                  "7": "2071.4197",
                  "8": "165.7136"
                },
                {
                  "0": "SO49223",
                  "1": "1",
                  "2": "2021-01-05",
                  "3": "Jonathan Thompson",
                  "4": "jonathan69@adventure-works.com",
                  "5": "Mountain-200 Black, 42",
                  "6": "1",
                  "7": "2049.0981",
                  "8": "163.9279"
                },
                {
                  "0": "SO49218",
                  "1": "1",
                  "2": "2021-01-05",
                  "3": "Caitlin Rivera",
                  "4": "caitlin14@adventure-works.com",
                  "5": "Road-250 Black, 58",
                  "6": "1",
                  "7": "2181.5625",
                  "8": "174.525"
                },
                {
                  "0": "SO49227",
                  "1": "1",
                  "2": "2021-01-06",
                  "3": "Russell Jai",
                  "4": "russell14@adventure-works.com",
                  "5": "Road-250 Red, 48",
                  "6": "1",
                  "7": "2443.35",
                  "8": "195.468"
                },
                {
                  "0": "SO49229",
                  "1": "1",
                  "2": "2021-01-06",
                  "3": "Denise Martinez",
                  "4": "denise18@adventure-works.com",
                  "5": "Mountain-200 Silver, 46",
                  "6": "1",
                  "7": "2071.4197",
                  "8": "165.7136"
                },
                {
                  "0": "SO49234",
                  "1": "1",
                  "2": "2021-01-06",
                  "3": "Steven Bell",
                  "4": "steven23@adventure-works.com",
                  "5": "Road-650 Red, 48",
                  "6": "1",
                  "7": "782.99",
                  "8": "62.6392"
                },
                {
                  "0": "SO49232",
                  "1": "1",
                  "2": "2021-01-06",
                  "3": "Jason Allen",
                  "4": "jason50@adventure-works.com",
                  "5": "Road-650 Red, 58",
                  "6": "1",
                  "7": "782.99",
                  "8": "62.6392"
                },
                {
                  "0": "SO49233",
                  "1": "1",
                  "2": "2021-01-06",
                  "3": "Calvin Raji",
                  "4": "calvin20@adventure-works.com",
                  "5": "Road-650 Red, 62",
                  "6": "1",
                  "7": "782.99",
                  "8": "62.6392"
                },
                {
                  "0": "SO49235",
                  "1": "1",
                  "2": "2021-01-06",
                  "3": "Destiny Peterson",
                  "4": "destiny40@adventure-works.com",
                  "5": "Road-650 Red, 58",
                  "6": "1",
                  "7": "782.99",
                  "8": "62.6392"
                },
                {
                  "0": "SO49226",
                  "1": "1",
                  "2": "2021-01-06",
                  "3": "Bridget Andersen",
                  "4": "bridget15@adventure-works.com",
                  "5": "Road-250 Red, 52",
                  "6": "1",
                  "7": "2443.35",
                  "8": "195.468"
                },
                {
                  "0": "SO49225",
                  "1": "1",
                  "2": "2021-01-06",
                  "3": "Gilbert Guo",
                  "4": "gilbert15@adventure-works.com",
                  "5": "Road-250 Black, 48",
                  "6": "1",
                  "7": "2181.5625",
                  "8": "174.525"
                },
                {
                  "0": "SO49230",
                  "1": "1",
                  "2": "2021-01-06",
                  "3": "Taylor Washington",
                  "4": "taylor38@adventure-works.com",
                  "5": "Mountain-200 Black, 38",
                  "6": "1",
                  "7": "2049.0981",
                  "8": "163.9279"
                },
                {
                  "0": "SO49238",
                  "1": "1",
                  "2": "2021-01-06",
                  "3": "Krystal Zhou",
                  "4": "krystal8@adventure-works.com",
                  "5": "Road-250 Black, 58",
                  "6": "1",
                  "7": "2181.5625",
                  "8": "174.525"
                },
                {
                  "0": "SO49237",
                  "1": "1",
                  "2": "2021-01-06",
                  "3": "Mandy Lin",
                  "4": "mandy9@adventure-works.com",
                  "5": "Road-550-W Yellow, 42",
                  "6": "1",
                  "7": "1000.4375",
                  "8": "80.035"
                },
                {
                  "0": "SO49236",
                  "1": "1",
                  "2": "2021-01-06",
                  "3": "Edwin Sharma",
                  "4": "edwin32@adventure-works.com",
                  "5": "Road-550-W Yellow, 48",
                  "6": "1",
                  "7": "1000.4375",
                  "8": "80.035"
                },
                {
                  "0": "SO49231",
                  "1": "1",
                  "2": "2021-01-06",
                  "3": "Nathan Butler",
                  "4": "nathan10@adventure-works.com",
                  "5": "Mountain-200 Black, 46",
                  "6": "1",
                  "7": "2049.0981",
                  "8": "163.9279"
                },
                {
                  "0": "SO49228",
                  "1": "1",
                  "2": "2021-01-06",
                  "3": "Chloe Ross",
                  "4": "chloe70@adventure-works.com",
                  "5": "Mountain-200 Black, 42",
                  "6": "1",
                  "7": "2049.0981",
                  "8": "163.9279"
                },
                {
                  "0": "SO49245",
                  "1": "1",
                  "2": "2021-01-07",
                  "3": "Alberto Hernandez",
                  "4": "alberto5@adventure-works.com",
                  "5": "Road-550-W Yellow, 48",
                  "6": "1",
                  "7": "1000.4375",
                  "8": "80.035"
                },
                {
                  "0": "SO49246",
                  "1": "1",
                  "2": "2021-01-07",
                  "3": "Bruce Jim�nez",
                  "4": "bruce28@adventure-works.com",
                  "5": "Road-250 Black, 44",
                  "6": "1",
                  "7": "2181.5625",
                  "8": "174.525"
                },
                {
                  "0": "SO49242",
                  "1": "1",
                  "2": "2021-01-07",
                  "3": "Ronnie Yang",
                  "4": "ronnie4@adventure-works.com",
                  "5": "Road-250 Red, 44",
                  "6": "1",
                  "7": "2443.35",
                  "8": "195.468"
                },
                {
                  "0": "SO49244",
                  "1": "1",
                  "2": "2021-01-07",
                  "3": "Cody Stewart",
                  "4": "cody22@adventure-works.com",
                  "5": "Mountain-200 Black, 46",
                  "6": "1",
                  "7": "2049.0981",
                  "8": "163.9279"
                },
                {
                  "0": "SO49239",
                  "1": "1",
                  "2": "2021-01-07",
                  "3": "Roger Shen",
                  "4": "roger29@adventure-works.com",
                  "5": "Mountain-200 Silver, 42",
                  "6": "1",
                  "7": "2071.4197",
                  "8": "165.7136"
                },
                {
                  "0": "SO49240",
                  "1": "1",
                  "2": "2021-01-07",
                  "3": "Johnny Anand",
                  "4": "johnny23@adventure-works.com",
                  "5": "Mountain-200 Silver, 38",
                  "6": "1",
                  "7": "2071.4197",
                  "8": "165.7136"
                },
                {
                  "0": "SO49241",
                  "1": "1",
                  "2": "2021-01-07",
                  "3": "Samuel Diaz",
                  "4": "samuel21@adventure-works.com",
                  "5": "Mountain-200 Silver, 42",
                  "6": "1",
                  "7": "2071.4197",
                  "8": "165.7136"
                },
                {
                  "0": "SO49243",
                  "1": "1",
                  "2": "2021-01-07",
                  "3": "Kristi Sanchez",
                  "4": "kristi38@adventure-works.com",
                  "5": "Mountain-200 Black, 38",
                  "6": "1",
                  "7": "2049.0981",
                  "8": "163.9279"
                },
                {
                  "0": "SO49251",
                  "1": "1",
                  "2": "2021-01-08",
                  "3": "Sarah Gonzales",
                  "4": "sarah41@adventure-works.com",
                  "5": "Road-250 Black, 52",
                  "6": "1",
                  "7": "2181.5625",
                  "8": "174.525"
                },
                {
                  "0": "SO49256",
                  "1": "1",
                  "2": "2021-01-08",
                  "3": "Raquel Hernandez",
                  "4": "raquel2@adventure-works.com",
                  "5": "Mountain-200 Silver, 42",
                  "6": "1",
                  "7": "2071.4197",
                  "8": "165.7136"
                },
                {
                  "0": "SO49253",
                  "1": "1",
                  "2": "2021-01-08",
                  "3": "Emma Bradley",
                  "4": "emma31@adventure-works.com",
                  "5": "Mountain-200 Black, 42",
                  "6": "1",
                  "7": "2049.0981",
                  "8": "163.9279"
                },
                {
                  "0": "SO49254",
                  "1": "1",
                  "2": "2021-01-08",
                  "3": "Edwin Zheng",
                  "4": "edwin20@adventure-works.com",
                  "5": "Mountain-200 Black, 38",
                  "6": "1",
                  "7": "2049.0981",
                  "8": "163.9279"
                },
                {
                  "0": "SO49252",
                  "1": "1",
                  "2": "2021-01-08",
                  "3": "Brianna Sanchez",
                  "4": "brianna25@adventure-works.com",
                  "5": "Mountain-200 Silver, 38",
                  "6": "1",
                  "7": "2071.4197",
                  "8": "165.7136"
                },
                {
                  "0": "SO49250",
                  "1": "1",
                  "2": "2021-01-08",
                  "3": "Jeremy Rogers",
                  "4": "jeremy45@adventure-works.com",
                  "5": "Road-650 Black, 52",
                  "6": "1",
                  "7": "782.99",
                  "8": "62.6392"
                },
                {
                  "0": "SO49247",
                  "1": "1",
                  "2": "2021-01-08",
                  "3": "Kathleen Alvarez",
                  "4": "kathleen6@adventure-works.com",
                  "5": "Road-250 Red, 48",
                  "6": "1",
                  "7": "2443.35",
                  "8": "195.468"
                },
                {
                  "0": "SO49248",
                  "1": "1",
                  "2": "2021-01-08",
                  "3": "Jake Xu",
                  "4": "jake11@adventure-works.com",
                  "5": "Road-550-W Yellow, 44",
                  "6": "1",
                  "7": "1000.4375",
                  "8": "80.035"
                },
                {
                  "0": "SO49249",
                  "1": "1",
                  "2": "2021-01-08",
                  "3": "Tommy Raje",
                  "4": "tommy10@adventure-works.com",
                  "5": "Road-550-W Yellow, 42",
                  "6": "1",
                  "7": "1000.4375",
                  "8": "80.035"
                },
                {
                  "0": "SO49255",
                  "1": "1",
                  "2": "2021-01-08",
                  "3": "Jonathan Yang",
                  "4": "jonathan26@adventure-works.com",
                  "5": "Road-650 Red, 44",
                  "6": "1",
                  "7": "782.99",
                  "8": "62.6392"
                },
                {
                  "0": "SO49257",
                  "1": "1",
                  "2": "2021-01-08",
                  "3": "Amber Adams",
                  "4": "amber16@adventure-works.com",
                  "5": "Road-650 Red, 58",
                  "6": "1",
                  "7": "782.99",
                  "8": "62.6392"
                },
                {
                  "0": "SO49258",
                  "1": "1",
                  "2": "2021-01-09",
                  "3": "Valerie Zhou",
                  "4": "valerie10@adventure-works.com",
                  "5": "Road-250 Red, 44",
                  "6": "1",
                  "7": "2443.35",
                  "8": "195.468"
                },
                {
                  "0": "SO49262",
                  "1": "1",
                  "2": "2021-01-09",
                  "3": "Cedric Ye",
                  "4": "cedric10@adventure-works.com",
                  "5": "Road-650 Black, 58",
                  "6": "1",
                  "7": "782.99",
                  "8": "62.6392"
                },
                {
                  "0": "SO49263",
                  "1": "1",
                  "2": "2021-01-09",
                  "3": "Jose Shan",
                  "4": "jose25@adventure-works.com",
                  "5": "Road-650 Black, 52",
                  "6": "1",
                  "7": "782.99",
                  "8": "62.6392"
                },
                {
                  "0": "SO49265",
                  "1": "1",
                  "2": "2021-01-09",
                  "3": "Manuel Lopez",
                  "4": "manuel15@adventure-works.com",
                  "5": "Mountain-200 Silver, 46",
                  "6": "1",
                  "7": "2071.4197",
                  "8": "165.7136"
                },
                {
                  "0": "SO49266",
                  "1": "1",
                  "2": "2021-01-09",
                  "3": "Nathaniel Rivera",
                  "4": "nathaniel18@adventure-works.com",
                  "5": "Mountain-200 Black, 46",
                  "6": "1",
                  "7": "2049.0981",
                  "8": "163.9279"
                },
                {
                  "0": "SO49264",
                  "1": "1",
                  "2": "2021-01-09",
                  "3": "Cheryl Sanz",
                  "4": "cheryl23@adventure-works.com",
                  "5": "Mountain-200 Silver, 46",
                  "6": "1",
                  "7": "2071.4197",
                  "8": "165.7136"
                },
                {
                  "0": "SO49267",
                  "1": "1",
                  "2": "2021-01-09",
                  "3": "Javier Navarro",
                  "4": "javier4@adventure-works.com",
                  "5": "Mountain-200 Silver, 46",
                  "6": "1",
                  "7": "2071.4197",
                  "8": "165.7136"
                },
                {
                  "0": "SO49260",
                  "1": "1",
                  "2": "2021-01-09",
                  "3": "Brett Sanchez",
                  "4": "brett20@adventure-works.com",
                  "5": "Mountain-200 Black, 46",
                  "6": "1",
                  "7": "2049.0981",
                  "8": "163.9279"
                },
                {
                  "0": "SO49261",
                  "1": "1",
                  "2": "2021-01-09",
                  "3": "Linda Carlson",
                  "4": "linda33@adventure-works.com",
                  "5": "Mountain-200 Black, 42",
                  "6": "1",
                  "7": "2049.0981",
                  "8": "163.9279"
                },
                {
                  "0": "SO49268",
                  "1": "1",
                  "2": "2021-01-09",
                  "3": "Mackenzie James",
                  "4": "mackenzie6@adventure-works.com",
                  "5": "Mountain-200 Silver, 46",
                  "6": "1",
                  "7": "2071.4197",
                  "8": "165.7136"
                },
                {
                  "0": "SO49259",
                  "1": "1",
                  "2": "2021-01-09",
                  "3": "Walter Ramos",
                  "4": "walter10@adventure-works.com",
                  "5": "Mountain-200 Black, 42",
                  "6": "1",
                  "7": "2049.0981",
                  "8": "163.9279"
                },
                {
                  "0": "SO49271",
                  "1": "1",
                  "2": "2021-01-10",
                  "3": "Kevin Simmons",
                  "4": "kevin18@adventure-works.com",
                  "5": "Mountain-200 Silver, 42",
                  "6": "1",
                  "7": "2071.4197",
                  "8": "165.7136"
                },
                {
                  "0": "SO49272",
                  "1": "1",
                  "2": "2021-01-10",
                  "3": "Alejandro Kumar",
                  "4": "alejandro34@adventure-works.com",
                  "5": "Mountain-200 Black, 46",
                  "6": "1",
                  "7": "2049.0981",
                  "8": "163.9279"
                }
              ],
              "schema": [
                {
                  "key": "0",
                  "name": "SalesOrderNumber",
                  "type": "string"
                },
                {
                  "key": "1",
                  "name": "SalesOrderLineNumber",
                  "type": "int"
                },
                {
                  "key": "2",
                  "name": "OrderDate",
                  "type": "date"
                },
                {
                  "key": "3",
                  "name": "CustomerName",
                  "type": "string"
                },
                {
                  "key": "4",
                  "name": "Email",
                  "type": "string"
                },
                {
                  "key": "5",
                  "name": "Item",
                  "type": "string"
                },
                {
                  "key": "6",
                  "name": "Quantity",
                  "type": "int"
                },
                {
                  "key": "7",
                  "name": "UnitPrice",
                  "type": "float"
                },
                {
                  "key": "8",
                  "name": "Tax",
                  "type": "float"
                }
              ],
              "truncated": false
            }
          },
          "type": "Synapse.DataFrame"
        },
        "cd5cc632-e59b-49aa-a84c-2a1370a8df8a": {
          "persist_state": {
            "view": {
              "chartOptions": {
                "aggregationType": "count",
                "categoryFieldKeys": [
                  "0"
                ],
                "chartType": "bar",
                "isStacked": false,
                "seriesFieldKeys": [
                  "0"
                ]
              },
              "tableOptions": {},
              "type": "details"
            }
          },
          "sync_state": {
            "isSummary": false,
            "language": "scala",
            "table": {
              "rows": [
                {
                  "0": "Bridget Andersen",
                  "1": "bridget15@adventure-works.com"
                },
                {
                  "0": "Ricky Navarro",
                  "1": "ricky10@adventure-works.com"
                },
                {
                  "0": "Micah Xu",
                  "1": "micah23@adventure-works.com"
                },
                {
                  "0": "Briana Ashe",
                  "1": "briana4@adventure-works.com"
                },
                {
                  "0": "Ann Madan",
                  "1": "ann13@adventure-works.com"
                },
                {
                  "0": "Colleen Andersen",
                  "1": "colleen36@adventure-works.com"
                },
                {
                  "0": "Barbara Shen",
                  "1": "barbara33@adventure-works.com"
                },
                {
                  "0": "Bryant Raman",
                  "1": "bryant11@adventure-works.com"
                },
                {
                  "0": "Roger Wang",
                  "1": "roger6@adventure-works.com"
                },
                {
                  "0": "Evelyn Subram",
                  "1": "evelyn14@adventure-works.com"
                },
                {
                  "0": "Priscilla Yuan",
                  "1": "priscilla6@adventure-works.com"
                },
                {
                  "0": "Carolyn Rodriguez",
                  "1": "carolyn19@adventure-works.com"
                },
                {
                  "0": "Joan Hernandez",
                  "1": "joan15@adventure-works.com"
                },
                {
                  "0": "Brandon Jai",
                  "1": "brandon28@adventure-works.com"
                },
                {
                  "0": "Isaiah Howard",
                  "1": "isaiah10@adventure-works.com"
                },
                {
                  "0": "Robyn Gomez",
                  "1": "robyn0@adventure-works.com"
                },
                {
                  "0": "Carmen Martinez",
                  "1": "carmen2@adventure-works.com"
                },
                {
                  "0": "Adriana Sai",
                  "1": "adriana6@adventure-works.com"
                },
                {
                  "0": "Albert Navarro",
                  "1": "albert12@adventure-works.com"
                },
                {
                  "0": "Craig Navarro",
                  "1": "craig11@adventure-works.com"
                },
                {
                  "0": "Melinda Jimenez",
                  "1": "melinda2@adventure-works.com"
                },
                {
                  "0": "Ashlee Deng",
                  "1": "ashlee8@adventure-works.com"
                },
                {
                  "0": "Erika Carlson",
                  "1": "erika15@adventure-works.com"
                },
                {
                  "0": "Kaylee Collins",
                  "1": "kaylee22@adventure-works.com"
                },
                {
                  "0": "Lolan Song",
                  "1": "lolan1@adventure-works.com"
                },
                {
                  "0": "Rosa Wu",
                  "1": "rosa7@adventure-works.com"
                },
                {
                  "0": "Jeffery Chen",
                  "1": "jeffery2@adventure-works.com"
                },
                {
                  "0": "Erica Wang",
                  "1": "erica1@adventure-works.com"
                },
                {
                  "0": "Margaret Guo",
                  "1": "margaret24@adventure-works.com"
                },
                {
                  "0": "Richard Baker",
                  "1": "richard27@adventure-works.com"
                },
                {
                  "0": "Julio Romero",
                  "1": "julio9@adventure-works.com"
                },
                {
                  "0": "Jack Phillips",
                  "1": "jack41@adventure-works.com"
                },
                {
                  "0": "Max Ortega",
                  "1": "max20@adventure-works.com"
                },
                {
                  "0": "Hailey Perez",
                  "1": "hailey53@adventure-works.com"
                },
                {
                  "0": "Joy Dominguez",
                  "1": "joy14@adventure-works.com"
                },
                {
                  "0": "Yvonne Schleger",
                  "1": "yvonne2@adventure-works.com"
                },
                {
                  "0": "Barry Sai",
                  "1": "barry6@adventure-works.com"
                },
                {
                  "0": "Mario Moyer",
                  "1": "mario15@adventure-works.com"
                },
                {
                  "0": "Sara Murphy",
                  "1": "sara16@adventure-works.com"
                },
                {
                  "0": "Erik Rubio",
                  "1": "erik21@adventure-works.com"
                },
                {
                  "0": "Bradley Carson",
                  "1": "bradley18@adventure-works.com"
                },
                {
                  "0": "Lindsey Luo",
                  "1": "lindsey6@adventure-works.com"
                },
                {
                  "0": "Ricardo Raje",
                  "1": "ricardo14@adventure-works.com"
                },
                {
                  "0": "Susan Zhou",
                  "1": "susan18@adventure-works.com"
                },
                {
                  "0": "Theodore Ramos",
                  "1": "theodore18@adventure-works.com"
                },
                {
                  "0": "Randy Yang",
                  "1": "randy6@adventure-works.com"
                },
                {
                  "0": "Leslie Navarro",
                  "1": "leslie11@adventure-works.com"
                },
                {
                  "0": "Karla Chander",
                  "1": "karla17@adventure-works.com"
                },
                {
                  "0": "Colleen Zhao",
                  "1": "colleen10@adventure-works.com"
                },
                {
                  "0": "Karen Cai",
                  "1": "karen30@adventure-works.com"
                },
                {
                  "0": "Jasmine Thomas",
                  "1": "jasmine9@adventure-works.com"
                },
                {
                  "0": "Cara Xu",
                  "1": "cara8@adventure-works.com"
                },
                {
                  "0": "Marie Jimenez",
                  "1": "marie29@adventure-works.com"
                },
                {
                  "0": "Rafael Xu",
                  "1": "rafael28@adventure-works.com"
                },
                {
                  "0": "Kristine Gomez",
                  "1": "kristine2@adventure-works.com"
                },
                {
                  "0": "Logan Li",
                  "1": "logan26@adventure-works.com"
                },
                {
                  "0": "Jessica Bell",
                  "1": "jessica7@adventure-works.com"
                },
                {
                  "0": "Hailey Russell",
                  "1": "hailey40@adventure-works.com"
                },
                {
                  "0": "Jeffery Li",
                  "1": "jeffery3@adventure-works.com"
                },
                {
                  "0": "Jay Browning",
                  "1": "jay45@adventure-works.com"
                },
                {
                  "0": "Nelson Hernandez",
                  "1": "nelson4@adventure-works.com"
                },
                {
                  "0": "Alexander Walker",
                  "1": "alexander10@adventure-works.com"
                },
                {
                  "0": "Logan Lee",
                  "1": "logan54@adventure-works.com"
                },
                {
                  "0": "Diana Navarro",
                  "1": "diana9@adventure-works.com"
                },
                {
                  "0": "Luis Carter",
                  "1": "luis43@adventure-works.com"
                },
                {
                  "0": "Candace Sanchez",
                  "1": "candace18@adventure-works.com"
                },
                {
                  "0": "Luke Campbell",
                  "1": "luke38@adventure-works.com"
                },
                {
                  "0": "Stacy Ruiz",
                  "1": "stacy3@adventure-works.com"
                },
                {
                  "0": "Jerome Torres",
                  "1": "jerome10@adventure-works.com"
                },
                {
                  "0": "Adam Jai",
                  "1": "adam28@adventure-works.com"
                },
                {
                  "0": "Dennis Yang",
                  "1": "dennis6@adventure-works.com"
                },
                {
                  "0": "Tamara Yuan",
                  "1": "tamara18@adventure-works.com"
                },
                {
                  "0": "Andre Patel",
                  "1": "andre3@adventure-works.com"
                },
                {
                  "0": "Eddie Navarro",
                  "1": "eddie10@adventure-works.com"
                },
                {
                  "0": "Andrew Robinson",
                  "1": "andrew25@adventure-works.com"
                },
                {
                  "0": "Blake Mitchell",
                  "1": "blake38@adventure-works.com"
                },
                {
                  "0": "Colleen Huang",
                  "1": "colleen6@adventure-works.com"
                },
                {
                  "0": "Tabitha Torres",
                  "1": "tabitha32@adventure-works.com"
                },
                {
                  "0": "Jerry Luo",
                  "1": "jerry6@adventure-works.com"
                },
                {
                  "0": "Shaun Shan",
                  "1": "shaun11@adventure-works.com"
                },
                {
                  "0": "Vanessa Ross",
                  "1": "vanessa4@adventure-works.com"
                },
                {
                  "0": "Julian Wood",
                  "1": "julian3@adventure-works.com"
                },
                {
                  "0": "Carrie Alonso",
                  "1": "carrie8@adventure-works.com"
                },
                {
                  "0": "Wyatt Barnes",
                  "1": "wyatt54@adventure-works.com"
                },
                {
                  "0": "Keith Deng",
                  "1": "keith3@adventure-works.com"
                },
                {
                  "0": "Ruth Raman",
                  "1": "ruth16@adventure-works.com"
                },
                {
                  "0": "Marshall Chen",
                  "1": "marshall1@adventure-works.com"
                },
                {
                  "0": "Damien Liu",
                  "1": "damien3@adventure-works.com"
                },
                {
                  "0": "Whitney Patel",
                  "1": "whitney3@adventure-works.com"
                },
                {
                  "0": "Margaret Xu",
                  "1": "margaret18@adventure-works.com"
                },
                {
                  "0": "Robin Vazquez",
                  "1": "robin11@adventure-works.com"
                },
                {
                  "0": "Alejandro Raji",
                  "1": "alejandro46@adventure-works.com"
                },
                {
                  "0": "Candace Arun",
                  "1": "candace6@adventure-works.com"
                },
                {
                  "0": "Alexandria Gray",
                  "1": "alexandria29@adventure-works.com"
                },
                {
                  "0": "Jason Li",
                  "1": "jason24@adventure-works.com"
                },
                {
                  "0": "Melvin Rai",
                  "1": "melvin16@adventure-works.com"
                },
                {
                  "0": "Eduardo Robinson",
                  "1": "eduardo17@adventure-works.com"
                },
                {
                  "0": "Rebekah Moreno",
                  "1": "rebekah26@adventure-works.com"
                },
                {
                  "0": "Randy Huang",
                  "1": "randy7@adventure-works.com"
                },
                {
                  "0": "Kelly Flores",
                  "1": "kelly17@adventure-works.com"
                },
                {
                  "0": "Mario Pal",
                  "1": "mario10@adventure-works.com"
                },
                {
                  "0": "Daniel Harris",
                  "1": "daniel10@adventure-works.com"
                },
                {
                  "0": "Joe Alonso",
                  "1": "joe31@adventure-works.com"
                },
                {
                  "0": "Carlos Evans",
                  "1": "carlos26@adventure-works.com"
                },
                {
                  "0": "Margaret Zheng",
                  "1": "margaret26@adventure-works.com"
                },
                {
                  "0": "Linda Moreno",
                  "1": "linda21@adventure-works.com"
                },
                {
                  "0": "Jaime Diaz",
                  "1": "jaime3@adventure-works.com"
                },
                {
                  "0": "Blake Nelson",
                  "1": "blake36@adventure-works.com"
                },
                {
                  "0": "Raul Nara",
                  "1": "raul14@adventure-works.com"
                },
                {
                  "0": "Ronnie He",
                  "1": "ronnie16@adventure-works.com"
                },
                {
                  "0": "Madeline Hall",
                  "1": "madeline20@adventure-works.com"
                },
                {
                  "0": "Alexis Long",
                  "1": "alexis32@adventure-works.com"
                },
                {
                  "0": "Marc Vazquez",
                  "1": "marc18@adventure-works.com"
                },
                {
                  "0": "Corey Anand",
                  "1": "corey19@adventure-works.com"
                },
                {
                  "0": "Desiree Rubio",
                  "1": "desiree17@adventure-works.com"
                },
                {
                  "0": "Clinton Alvarez",
                  "1": "clinton1@adventure-works.com"
                },
                {
                  "0": "Gilbert Gao",
                  "1": "gilbert12@adventure-works.com"
                },
                {
                  "0": "Chloe Bryant",
                  "1": "chloe83@adventure-works.com"
                },
                {
                  "0": "Stanley Subram",
                  "1": "stanley14@adventure-works.com"
                },
                {
                  "0": "Olivia Garcia",
                  "1": "olivia15@adventure-works.com"
                },
                {
                  "0": "Lacey Gao",
                  "1": "lacey27@adventure-works.com"
                },
                {
                  "0": "Kelvin Shen",
                  "1": "kelvin44@adventure-works.com"
                },
                {
                  "0": "Brandy Fernandez",
                  "1": "brandy12@adventure-works.com"
                },
                {
                  "0": "Destiny Murphy",
                  "1": "destiny31@adventure-works.com"
                },
                {
                  "0": "Ricardo Sharma",
                  "1": "ricardo9@adventure-works.com"
                },
                {
                  "0": "Carolyn Diaz",
                  "1": "carolyn25@adventure-works.com"
                },
                {
                  "0": "Brianna Gray",
                  "1": "brianna42@adventure-works.com"
                },
                {
                  "0": "Robert Hill",
                  "1": "robert54@adventure-works.com"
                },
                {
                  "0": "Brandon Rodriguez",
                  "1": "brandon50@adventure-works.com"
                },
                {
                  "0": "Dawn Nara",
                  "1": "dawn41@adventure-works.com"
                },
                {
                  "0": "Rebecca Adams",
                  "1": "rebecca17@adventure-works.com"
                },
                {
                  "0": "Lindsey Lal",
                  "1": "lindsey9@adventure-works.com"
                },
                {
                  "0": "Jocelyn Price",
                  "1": "jocelyn0@adventure-works.com"
                }
              ],
              "schema": [
                {
                  "key": "0",
                  "name": "CustomerName",
                  "type": "string"
                },
                {
                  "key": "1",
                  "name": "Email",
                  "type": "string"
                }
              ],
              "truncated": false
            }
          },
          "type": "Synapse.DataFrame"
        },
        "df3114fe-5034-4f04-b962-7496725ff3ee": {
          "persist_state": {
            "view": {
              "chartOptions": {
                "aggregationType": "sum",
                "categoryFieldKeys": [
                  "0"
                ],
                "chartType": "bar",
                "isStacked": false,
                "seriesFieldKeys": [
                  "1"
                ]
              },
              "tableOptions": {},
              "type": "details"
            }
          },
          "sync_state": {
            "isSummary": false,
            "language": "scala",
            "table": {
              "rows": [
                {
                  "0": "Mountain-200 Black, 42",
                  "1": "388"
                },
                {
                  "0": "Touring-1000 Yellow, 46",
                  "1": "74"
                },
                {
                  "0": "Touring-1000 Blue, 54",
                  "1": "67"
                },
                {
                  "0": "Short-Sleeve Classic Jersey, S",
                  "1": "216"
                },
                {
                  "0": "Women's Mountain Shorts, S",
                  "1": "146"
                },
                {
                  "0": "Long-Sleeve Logo Jersey, L",
                  "1": "234"
                },
                {
                  "0": "Mountain-400-W Silver, 42",
                  "1": "59"
                },
                {
                  "0": "Racing Socks, M",
                  "1": "165"
                },
                {
                  "0": "Mountain-100 Silver, 42",
                  "1": "42"
                },
                {
                  "0": "Mountain-200 Silver, 42",
                  "1": "359"
                },
                {
                  "0": "Road-750 Black, 58",
                  "1": "170"
                },
                {
                  "0": "Half-Finger Gloves, L",
                  "1": "209"
                },
                {
                  "0": "Road-350-W Yellow, 44",
                  "1": "81"
                },
                {
                  "0": "Mountain-400-W Silver, 38",
                  "1": "68"
                },
                {
                  "0": "Mountain-100 Silver, 44",
                  "1": "49"
                },
                {
                  "0": "Mountain Bottle Cage",
                  "1": "1000"
                },
                {
                  "0": "Touring-1000 Blue, 46",
                  "1": "75"
                },
                {
                  "0": "Mountain-500 Silver, 42",
                  "1": "22"
                },
                {
                  "0": "HL Mountain Tire",
                  "1": "702"
                },
                {
                  "0": "Mountain-400-W Silver, 40",
                  "1": "61"
                },
                {
                  "0": "Bike Wash - Dissolver",
                  "1": "473"
                },
                {
                  "0": "Road-550-W Yellow, 40",
                  "1": "156"
                },
                {
                  "0": "Short-Sleeve Classic Jersey, XL",
                  "1": "185"
                },
                {
                  "0": "Mountain-500 Black, 52",
                  "1": "16"
                },
                {
                  "0": "Mountain-100 Silver, 38",
                  "1": "58"
                },
                {
                  "0": "Road-250 Red, 48",
                  "1": "162"
                },
                {
                  "0": "Mountain-400-W Silver, 46",
                  "1": "62"
                },
                {
                  "0": "Touring-3000 Blue, 50",
                  "1": "30"
                },
                {
                  "0": "Road-250 Red, 52",
                  "1": "133"
                },
                {
                  "0": "Water Bottle - 30 oz.",
                  "1": "2097"
                },
                {
                  "0": "Road-650 Red, 52",
                  "1": "61"
                },
                {
                  "0": "Road-250 Black, 52",
                  "1": "276"
                },
                {
                  "0": "Touring-3000 Blue, 44",
                  "1": "31"
                },
                {
                  "0": "Mountain-500 Silver, 52",
                  "1": "27"
                },
                {
                  "0": "Touring Tire",
                  "1": "437"
                },
                {
                  "0": "Classic Vest, L",
                  "1": "84"
                },
                {
                  "0": "Road-550-W Yellow, 48",
                  "1": "158"
                },
                {
                  "0": "AWC Logo Cap",
                  "1": "1063"
                },
                {
                  "0": "Touring-2000 Blue, 60",
                  "1": "40"
                },
                {
                  "0": "Patch Kit/8 Patches",
                  "1": "1621"
                },
                {
                  "0": "Mountain-500 Black, 42",
                  "1": "26"
                },
                {
                  "0": "ML Mountain Tire",
                  "1": "608"
                },
                {
                  "0": "HL Road Tire",
                  "1": "470"
                },
                {
                  "0": "Touring Tire Tube",
                  "1": "708"
                },
                {
                  "0": "Mountain-500 Silver, 44",
                  "1": "19"
                },
                {
                  "0": "Road-350-W Yellow, 48",
                  "1": "98"
                },
                {
                  "0": "Mountain-100 Black, 44",
                  "1": "60"
                },
                {
                  "0": "Half-Finger Gloves, M",
                  "1": "231"
                },
                {
                  "0": "Short-Sleeve Classic Jersey, L",
                  "1": "193"
                },
                {
                  "0": "Women's Mountain Shorts, L",
                  "1": "182"
                },
                {
                  "0": "Mountain-100 Black, 38",
                  "1": "49"
                },
                {
                  "0": "Road-650 Black, 60",
                  "1": "76"
                },
                {
                  "0": "Women's Mountain Shorts, M",
                  "1": "186"
                },
                {
                  "0": "Touring-3000 Blue, 58",
                  "1": "30"
                },
                {
                  "0": "Road-150 Red, 62",
                  "1": "336"
                },
                {
                  "0": "ML Road Tire",
                  "1": "460"
                },
                {
                  "0": "Touring-3000 Blue, 62",
                  "1": "24"
                },
                {
                  "0": "Road-650 Red, 48",
                  "1": "88"
                },
                {
                  "0": "Road-650 Black, 44",
                  "1": "63"
                },
                {
                  "0": "Road-250 Black, 44",
                  "1": "223"
                },
                {
                  "0": "All-Purpose Bike Stand",
                  "1": "135"
                },
                {
                  "0": "Touring-2000 Blue, 54",
                  "1": "44"
                },
                {
                  "0": "Half-Finger Gloves, S",
                  "1": "258"
                },
                {
                  "0": "Road-250 Red, 58",
                  "1": "256"
                },
                {
                  "0": "Road-150 Red, 44",
                  "1": "281"
                },
                {
                  "0": "Mountain-500 Black, 48",
                  "1": "22"
                },
                {
                  "0": "Classic Vest, M",
                  "1": "92"
                },
                {
                  "0": "Mountain-200 Silver, 38",
                  "1": "370"
                },
                {
                  "0": "Long-Sleeve Logo Jersey, M",
                  "1": "202"
                },
                {
                  "0": "Road-350-W Yellow, 40",
                  "1": "110"
                },
                {
                  "0": "Road-650 Red, 58",
                  "1": "74"
                },
                {
                  "0": "Long-Sleeve Logo Jersey, S",
                  "1": "186"
                },
                {
                  "0": "Sport-100 Helmet, Blue",
                  "1": "1015"
                },
                {
                  "0": "Touring-1000 Blue, 50",
                  "1": "73"
                },
                {
                  "0": "Road-250 Red, 44",
                  "1": "144"
                },
                {
                  "0": "Road-650 Black, 62",
                  "1": "65"
                },
                {
                  "0": "Road-250 Black, 58",
                  "1": "226"
                },
                {
                  "0": "Racing Socks, L",
                  "1": "135"
                },
                {
                  "0": "Touring-3000 Yellow, 58",
                  "1": "21"
                },
                {
                  "0": "Road-550-W Yellow, 44",
                  "1": "183"
                },
                {
                  "0": "Sport-100 Helmet, Black",
                  "1": "1041"
                },
                {
                  "0": "Touring-1000 Blue, 60",
                  "1": "66"
                },
                {
                  "0": "Touring-3000 Yellow, 62",
                  "1": "22"
                },
                {
                  "0": "Mountain-200 Black, 38",
                  "1": "366"
                },
                {
                  "0": "Mountain-200 Silver, 46",
                  "1": "371"
                },
                {
                  "0": "LL Mountain Tire",
                  "1": "429"
                },
                {
                  "0": "Mountain-500 Black, 44",
                  "1": "31"
                },
                {
                  "0": "Road Bottle Cage",
                  "1": "848"
                },
                {
                  "0": "Touring-1000 Yellow, 60",
                  "1": "67"
                },
                {
                  "0": "Road-650 Red, 60",
                  "1": "53"
                },
                {
                  "0": "Touring-3000 Blue, 54",
                  "1": "28"
                },
                {
                  "0": "Touring-3000 Yellow, 54",
                  "1": "26"
                },
                {
                  "0": "Road-650 Red, 62",
                  "1": "75"
                },
                {
                  "0": "Road-650 Black, 48",
                  "1": "60"
                },
                {
                  "0": "Road-650 Black, 52",
                  "1": "89"
                },
                {
                  "0": "Mountain-100 Black, 48",
                  "1": "57"
                },
                {
                  "0": "Touring-2000 Blue, 50",
                  "1": "50"
                },
                {
                  "0": "Short-Sleeve Classic Jersey, M",
                  "1": "220"
                },
                {
                  "0": "Touring-1000 Yellow, 50",
                  "1": "70"
                },
                {
                  "0": "Road-150 Red, 48",
                  "1": "337"
                },
                {
                  "0": "Road-750 Black, 48",
                  "1": "182"
                },
                {
                  "0": "Touring-2000 Blue, 46",
                  "1": "55"
                },
                {
                  "0": "Mountain-500 Silver, 48",
                  "1": "27"
                },
                {
                  "0": "Classic Vest, S",
                  "1": "80"
                },
                {
                  "0": "LL Road Tire",
                  "1": "522"
                },
                {
                  "0": "Road-750 Black, 52",
                  "1": "181"
                },
                {
                  "0": "Road-150 Red, 52",
                  "1": "302"
                },
                {
                  "0": "Mountain Tire Tube",
                  "1": "1581"
                },
                {
                  "0": "Touring-1000 Yellow, 54",
                  "1": "66"
                },
                {
                  "0": "Touring-3000 Yellow, 44",
                  "1": "24"
                },
                {
                  "0": "Road-150 Red, 56",
                  "1": "295"
                },
                {
                  "0": "Road-650 Black, 58",
                  "1": "76"
                },
                {
                  "0": "Road-350-W Yellow, 42",
                  "1": "96"
                },
                {
                  "0": "Mountain-500 Silver, 40",
                  "1": "16"
                },
                {
                  "0": "Mountain-200 Black, 46",
                  "1": "425"
                },
                {
                  "0": "Road-550-W Yellow, 42",
                  "1": "180"
                },
                {
                  "0": "Road-750 Black, 44",
                  "1": "181"
                },
                {
                  "0": "Mountain-500 Black, 40",
                  "1": "28"
                },
                {
                  "0": "Fender Set - Mountain",
                  "1": "1081"
                },
                {
                  "0": "Road-650 Red, 44",
                  "1": "72"
                },
                {
                  "0": "Touring-3000 Yellow, 50",
                  "1": "27"
                },
                {
                  "0": "Road-550-W Yellow, 38",
                  "1": "171"
                },
                {
                  "0": "Road Tire Tube",
                  "1": "1212"
                },
                {
                  "0": "Sport-100 Helmet, Red",
                  "1": "1096"
                },
                {
                  "0": "Mountain-100 Silver, 48",
                  "1": "36"
                },
                {
                  "0": "Hydration Pack - 70 oz.",
                  "1": "364"
                },
                {
                  "0": "Road-250 Black, 48",
                  "1": "240"
                },
                {
                  "0": "Mountain-100 Black, 42",
                  "1": "45"
                },
                {
                  "0": "Hitch Rack - 4-Bike",
                  "1": "155"
                },
                {
                  "0": "Long-Sleeve Logo Jersey, XL",
                  "1": "217"
                }
              ],
              "schema": [
                {
                  "key": "0",
                  "name": "Item",
                  "type": "string"
                },
                {
                  "key": "1",
                  "name": "sum(Quantity)",
                  "type": "bigint"
                }
              ],
              "truncated": false
            }
          },
          "type": "Synapse.DataFrame"
        },
        "f41a2626-5d92-4e3c-a05b-81fb1a8d5b47": {
          "persist_state": {
            "view": {
              "chartOptions": {
                "aggregationType": "count",
                "categoryFieldKeys": [
                  "0"
                ],
                "chartType": "bar",
                "isStacked": false,
                "seriesFieldKeys": [
                  "0"
                ]
              },
              "tableOptions": {},
              "type": "details"
            }
          },
          "sync_state": {
            "isSummary": false,
            "language": "scala",
            "table": {
              "rows": [
                {
                  "0": "SO49171",
                  "1": "1",
                  "2": "2021-01-01",
                  "3": "Mariah Foster",
                  "4": "mariah21@adventure-works.com",
                  "5": "Road-250 Black, 48",
                  "6": "1",
                  "7": "2181.5625",
                  "8": "174.525"
                },
                {
                  "0": "SO49172",
                  "1": "1",
                  "2": "2021-01-01",
                  "3": "Brian Howard",
                  "4": "brian23@adventure-works.com",
                  "5": "Road-250 Red, 44",
                  "6": "1",
                  "7": "2443.35",
                  "8": "195.468"
                },
                {
                  "0": "SO49173",
                  "1": "1",
                  "2": "2021-01-01",
                  "3": "Linda Alvarez",
                  "4": "linda19@adventure-works.com",
                  "5": "Mountain-200 Silver, 38",
                  "6": "1",
                  "7": "2071.4196",
                  "8": "165.7136"
                },
                {
                  "0": "SO49174",
                  "1": "1",
                  "2": "2021-01-01",
                  "3": "Gina Hernandez",
                  "4": "gina4@adventure-works.com",
                  "5": "Mountain-200 Silver, 42",
                  "6": "1",
                  "7": "2071.4196",
                  "8": "165.7136"
                },
                {
                  "0": "SO49178",
                  "1": "1",
                  "2": "2021-01-01",
                  "3": "Beth Ruiz",
                  "4": "beth4@adventure-works.com",
                  "5": "Road-550-W Yellow, 44",
                  "6": "1",
                  "7": "1000.4375",
                  "8": "80.035"
                },
                {
                  "0": "SO49179",
                  "1": "1",
                  "2": "2021-01-01",
                  "3": "Evan Ward",
                  "4": "evan13@adventure-works.com",
                  "5": "Road-550-W Yellow, 38",
                  "6": "1",
                  "7": "1000.4375",
                  "8": "80.035"
                },
                {
                  "0": "SO49175",
                  "1": "1",
                  "2": "2021-01-01",
                  "3": "Margaret Guo",
                  "4": "margaret24@adventure-works.com",
                  "5": "Road-250 Red, 52",
                  "6": "1",
                  "7": "2443.35",
                  "8": "195.468"
                },
                {
                  "0": "SO49180",
                  "1": "1",
                  "2": "2021-01-01",
                  "3": "Mitchell Yuan",
                  "4": "mitchell6@adventure-works.com",
                  "5": "Road-650 Black, 58",
                  "6": "1",
                  "7": "782.99",
                  "8": "62.6392"
                },
                {
                  "0": "SO49176",
                  "1": "1",
                  "2": "2021-01-01",
                  "3": "Shawn Sharma",
                  "4": "shawn11@adventure-works.com",
                  "5": "Mountain-200 Silver, 46",
                  "6": "1",
                  "7": "2071.4196",
                  "8": "165.7136"
                },
                {
                  "0": "SO49177",
                  "1": "1",
                  "2": "2021-01-01",
                  "3": "Barbara Chande",
                  "4": "barbara44@adventure-works.com",
                  "5": "Mountain-200 Silver, 42",
                  "6": "1",
                  "7": "2071.4196",
                  "8": "165.7136"
                },
                {
                  "0": "SO49186",
                  "1": "1",
                  "2": "2021-01-02",
                  "3": "Cara Xu",
                  "4": "cara8@adventure-works.com",
                  "5": "Road-250 Red, 52",
                  "6": "1",
                  "7": "2443.35",
                  "8": "195.468"
                },
                {
                  "0": "SO49187",
                  "1": "1",
                  "2": "2021-01-02",
                  "3": "Lacey Liu",
                  "4": "lacey16@adventure-works.com",
                  "5": "Road-250 Black, 58",
                  "6": "1",
                  "7": "2181.5625",
                  "8": "174.525"
                },
                {
                  "0": "SO49190",
                  "1": "1",
                  "2": "2021-01-02",
                  "3": "Omar Zhu",
                  "4": "omar13@adventure-works.com",
                  "5": "Road-550-W Yellow, 40",
                  "6": "1",
                  "7": "1000.4375",
                  "8": "80.035"
                },
                {
                  "0": "SO49185",
                  "1": "1",
                  "2": "2021-01-02",
                  "3": "Cassandra Fernandez",
                  "4": "cassandra17@adventure-works.com",
                  "5": "Mountain-200 Black, 46",
                  "6": "1",
                  "7": "2049.0982",
                  "8": "163.9279"
                },
                {
                  "0": "SO49184",
                  "1": "1",
                  "2": "2021-01-02",
                  "3": "Monica Martinez",
                  "4": "monica17@adventure-works.com",
                  "5": "Mountain-200 Black, 46",
                  "6": "1",
                  "7": "2049.0982",
                  "8": "163.9279"
                },
                {
                  "0": "SO49189",
                  "1": "1",
                  "2": "2021-01-02",
                  "3": "Marie Gonzalez",
                  "4": "marie20@adventure-works.com",
                  "5": "Road-650 Black, 48",
                  "6": "1",
                  "7": "782.99",
                  "8": "62.6392"
                },
                {
                  "0": "SO49182",
                  "1": "1",
                  "2": "2021-01-02",
                  "3": "Alexandra Hall",
                  "4": "alexandra89@adventure-works.com",
                  "5": "Road-250 Red, 48",
                  "6": "1",
                  "7": "2443.35",
                  "8": "195.468"
                },
                {
                  "0": "SO49183",
                  "1": "1",
                  "2": "2021-01-02",
                  "3": "Alejandro Raji",
                  "4": "alejandro46@adventure-works.com",
                  "5": "Road-250 Red, 52",
                  "6": "1",
                  "7": "2443.35",
                  "8": "195.468"
                },
                {
                  "0": "SO49181",
                  "1": "1",
                  "2": "2021-01-02",
                  "3": "Derrick Jim�nez",
                  "4": "derrick5@adventure-works.com",
                  "5": "Road-250 Black, 48",
                  "6": "1",
                  "7": "2181.5625",
                  "8": "174.525"
                },
                {
                  "0": "SO49188",
                  "1": "1",
                  "2": "2021-01-02",
                  "3": "Erin Cox",
                  "4": "erin15@adventure-works.com",
                  "5": "Mountain-200 Black, 38",
                  "6": "1",
                  "7": "2049.0982",
                  "8": "163.9279"
                },
                {
                  "0": "SO49192",
                  "1": "1",
                  "2": "2021-01-03",
                  "3": "Eugene Sun",
                  "4": "eugene17@adventure-works.com",
                  "5": "Road-550-W Yellow, 44",
                  "6": "1",
                  "7": "1000.4375",
                  "8": "80.035"
                },
                {
                  "0": "SO49191",
                  "1": "1",
                  "2": "2021-01-03",
                  "3": "Benjamin Thompson",
                  "4": "benjamin52@adventure-works.com",
                  "5": "Road-550-W Yellow, 44",
                  "6": "1",
                  "7": "1000.4375",
                  "8": "80.035"
                },
                {
                  "0": "SO49195",
                  "1": "1",
                  "2": "2021-01-03",
                  "3": "Barry Malhotra",
                  "4": "barry5@adventure-works.com",
                  "5": "Road-650 Red, 58",
                  "6": "1",
                  "7": "782.99",
                  "8": "62.6392"
                },
                {
                  "0": "SO49194",
                  "1": "1",
                  "2": "2021-01-03",
                  "3": "Clayton Wagner",
                  "4": "clayton1@adventure-works.com",
                  "5": "Road-650 Black, 60",
                  "6": "1",
                  "7": "782.99",
                  "8": "62.6392"
                },
                {
                  "0": "SO49196",
                  "1": "1",
                  "2": "2021-01-03",
                  "3": "Katherine Perry",
                  "4": "katherine33@adventure-works.com",
                  "5": "Mountain-200 Silver, 42",
                  "6": "1",
                  "7": "2071.4196",
                  "8": "165.7136"
                },
                {
                  "0": "SO49198",
                  "1": "1",
                  "2": "2021-01-03",
                  "3": "Lori Alvarez",
                  "4": "lori7@adventure-works.com",
                  "5": "Road-650 Black, 52",
                  "6": "1",
                  "7": "782.99",
                  "8": "62.6392"
                },
                {
                  "0": "SO49199",
                  "1": "1",
                  "2": "2021-01-03",
                  "3": "Jillian Patel",
                  "4": "jillian3@adventure-works.com",
                  "5": "Road-650 Black, 62",
                  "6": "1",
                  "7": "782.99",
                  "8": "62.6392"
                },
                {
                  "0": "SO49193",
                  "1": "1",
                  "2": "2021-01-03",
                  "3": "Summer Rodriguez",
                  "4": "summer17@adventure-works.com",
                  "5": "Mountain-200 Black, 42",
                  "6": "1",
                  "7": "2049.0982",
                  "8": "163.9279"
                },
                {
                  "0": "SO49197",
                  "1": "1",
                  "2": "2021-01-03",
                  "3": "Oscar Flores",
                  "4": "oscar20@adventure-works.com",
                  "5": "Mountain-200 Black, 42",
                  "6": "1",
                  "7": "2049.0982",
                  "8": "163.9279"
                },
                {
                  "0": "SO49205",
                  "1": "1",
                  "2": "2021-01-04",
                  "3": "Rebekah Serrano",
                  "4": "rebekah36@adventure-works.com",
                  "5": "Mountain-200 Black, 38",
                  "6": "1",
                  "7": "2049.0982",
                  "8": "163.9279"
                },
                {
                  "0": "SO49204",
                  "1": "1",
                  "2": "2021-01-04",
                  "3": "Monique Blanco",
                  "4": "monique12@adventure-works.com",
                  "5": "Mountain-200 Silver, 38",
                  "6": "1",
                  "7": "2071.4196",
                  "8": "165.7136"
                },
                {
                  "0": "SO49212",
                  "1": "1",
                  "2": "2021-01-04",
                  "3": "Olivia Coleman",
                  "4": "olivia51@adventure-works.com",
                  "5": "Road-550-W Yellow, 44",
                  "6": "1",
                  "7": "1000.4375",
                  "8": "80.035"
                },
                {
                  "0": "SO49210",
                  "1": "1",
                  "2": "2021-01-04",
                  "3": "Timothy James",
                  "4": "timothy9@adventure-works.com",
                  "5": "Mountain-200 Silver, 46",
                  "6": "1",
                  "7": "2071.4196",
                  "8": "165.7136"
                },
                {
                  "0": "SO49203",
                  "1": "1",
                  "2": "2021-01-04",
                  "3": "Louis Ye",
                  "4": "louis3@adventure-works.com",
                  "5": "Road-650 Red, 52",
                  "6": "1",
                  "7": "782.99",
                  "8": "62.6392"
                },
                {
                  "0": "SO49201",
                  "1": "1",
                  "2": "2021-01-04",
                  "3": "Jaime Diaz",
                  "4": "jaime3@adventure-works.com",
                  "5": "Road-250 Red, 52",
                  "6": "1",
                  "7": "2443.35",
                  "8": "195.468"
                },
                {
                  "0": "SO49202",
                  "1": "1",
                  "2": "2021-01-04",
                  "3": "Audrey Gutierrez",
                  "4": "audrey12@adventure-works.com",
                  "5": "Road-250 Black, 48",
                  "6": "1",
                  "7": "2181.5625",
                  "8": "174.525"
                },
                {
                  "0": "SO49200",
                  "1": "1",
                  "2": "2021-01-04",
                  "3": "Blake Taylor",
                  "4": "blake8@adventure-works.com",
                  "5": "Road-250 Red, 44",
                  "6": "1",
                  "7": "2443.35",
                  "8": "195.468"
                },
                {
                  "0": "SO49215",
                  "1": "1",
                  "2": "2021-01-04",
                  "3": "Kathryn Deng",
                  "4": "kathryn1@adventure-works.com",
                  "5": "Road-650 Red, 62",
                  "6": "1",
                  "7": "782.99",
                  "8": "62.6392"
                },
                {
                  "0": "SO49213",
                  "1": "1",
                  "2": "2021-01-04",
                  "3": "Anne Martin",
                  "4": "anne1@adventure-works.com",
                  "5": "Road-550-W Yellow, 44",
                  "6": "1",
                  "7": "1000.4375",
                  "8": "80.035"
                },
                {
                  "0": "SO49209",
                  "1": "1",
                  "2": "2021-01-04",
                  "3": "Dana Suarez",
                  "4": "dana12@adventure-works.com",
                  "5": "Road-250 Red, 58",
                  "6": "1",
                  "7": "2181.5625",
                  "8": "174.525"
                },
                {
                  "0": "SO49208",
                  "1": "1",
                  "2": "2021-01-04",
                  "3": "Alexis Powell",
                  "4": "alexis31@adventure-works.com",
                  "5": "Road-250 Black, 48",
                  "6": "1",
                  "7": "2181.5625",
                  "8": "174.525"
                },
                {
                  "0": "SO49207",
                  "1": "1",
                  "2": "2021-01-04",
                  "3": "Jordan Roberts",
                  "4": "jordan58@adventure-works.com",
                  "5": "Road-250 Red, 48",
                  "6": "1",
                  "7": "2443.35",
                  "8": "195.468"
                },
                {
                  "0": "SO49206",
                  "1": "1",
                  "2": "2021-01-04",
                  "3": "Adam Powell",
                  "4": "adam6@adventure-works.com",
                  "5": "Road-250 Black, 48",
                  "6": "1",
                  "7": "2181.5625",
                  "8": "174.525"
                },
                {
                  "0": "SO49214",
                  "1": "1",
                  "2": "2021-01-04",
                  "3": "Bobby Ray",
                  "4": "bobby7@adventure-works.com",
                  "5": "Road-250 Black, 58",
                  "6": "1",
                  "7": "2181.5625",
                  "8": "174.525"
                },
                {
                  "0": "SO49216",
                  "1": "1",
                  "2": "2021-01-04",
                  "3": "Rafael Sun",
                  "4": "rafael14@adventure-works.com",
                  "5": "Road-650 Red, 44",
                  "6": "1",
                  "7": "782.99",
                  "8": "62.6392"
                },
                {
                  "0": "SO49211",
                  "1": "1",
                  "2": "2021-01-04",
                  "3": "Rachel Perry",
                  "4": "rachel55@adventure-works.com",
                  "5": "Mountain-200 Silver, 42",
                  "6": "1",
                  "7": "2071.4196",
                  "8": "165.7136"
                },
                {
                  "0": "SO49221",
                  "1": "1",
                  "2": "2021-01-05",
                  "3": "Brett Martinez",
                  "4": "brett17@adventure-works.com",
                  "5": "Road-250 Black, 58",
                  "6": "1",
                  "7": "2181.5625",
                  "8": "174.525"
                },
                {
                  "0": "SO49217",
                  "1": "1",
                  "2": "2021-01-05",
                  "3": "Russell Sharma",
                  "4": "russell12@adventure-works.com",
                  "5": "Road-250 Black, 52",
                  "6": "1",
                  "7": "2181.5625",
                  "8": "174.525"
                },
                {
                  "0": "SO49220",
                  "1": "1",
                  "2": "2021-01-05",
                  "3": "Arthur Chandra",
                  "4": "arthur4@adventure-works.com",
                  "5": "Mountain-200 Silver, 38",
                  "6": "1",
                  "7": "2071.4196",
                  "8": "165.7136"
                },
                {
                  "0": "SO49219",
                  "1": "1",
                  "2": "2021-01-05",
                  "3": "Priscilla Rai",
                  "4": "priscilla16@adventure-works.com",
                  "5": "Mountain-200 Black, 46",
                  "6": "1",
                  "7": "2049.0982",
                  "8": "163.9279"
                },
                {
                  "0": "SO49224",
                  "1": "1",
                  "2": "2021-01-05",
                  "3": "Sydney Sanders",
                  "4": "sydney22@adventure-works.com",
                  "5": "Mountain-200 Black, 38",
                  "6": "1",
                  "7": "2049.0982",
                  "8": "163.9279"
                },
                {
                  "0": "SO49222",
                  "1": "1",
                  "2": "2021-01-05",
                  "3": "Chloe Scott",
                  "4": "chloe11@adventure-works.com",
                  "5": "Mountain-200 Silver, 38",
                  "6": "1",
                  "7": "2071.4196",
                  "8": "165.7136"
                },
                {
                  "0": "SO49223",
                  "1": "1",
                  "2": "2021-01-05",
                  "3": "Jonathan Thompson",
                  "4": "jonathan69@adventure-works.com",
                  "5": "Mountain-200 Black, 42",
                  "6": "1",
                  "7": "2049.0982",
                  "8": "163.9279"
                },
                {
                  "0": "SO49218",
                  "1": "1",
                  "2": "2021-01-05",
                  "3": "Caitlin Rivera",
                  "4": "caitlin14@adventure-works.com",
                  "5": "Road-250 Black, 58",
                  "6": "1",
                  "7": "2181.5625",
                  "8": "174.525"
                },
                {
                  "0": "SO49227",
                  "1": "1",
                  "2": "2021-01-06",
                  "3": "Russell Jai",
                  "4": "russell14@adventure-works.com",
                  "5": "Road-250 Red, 48",
                  "6": "1",
                  "7": "2443.35",
                  "8": "195.468"
                },
                {
                  "0": "SO49229",
                  "1": "1",
                  "2": "2021-01-06",
                  "3": "Denise Martinez",
                  "4": "denise18@adventure-works.com",
                  "5": "Mountain-200 Silver, 46",
                  "6": "1",
                  "7": "2071.4196",
                  "8": "165.7136"
                },
                {
                  "0": "SO49234",
                  "1": "1",
                  "2": "2021-01-06",
                  "3": "Steven Bell",
                  "4": "steven23@adventure-works.com",
                  "5": "Road-650 Red, 48",
                  "6": "1",
                  "7": "782.99",
                  "8": "62.6392"
                },
                {
                  "0": "SO49232",
                  "1": "1",
                  "2": "2021-01-06",
                  "3": "Jason Allen",
                  "4": "jason50@adventure-works.com",
                  "5": "Road-650 Red, 58",
                  "6": "1",
                  "7": "782.99",
                  "8": "62.6392"
                },
                {
                  "0": "SO49233",
                  "1": "1",
                  "2": "2021-01-06",
                  "3": "Calvin Raji",
                  "4": "calvin20@adventure-works.com",
                  "5": "Road-650 Red, 62",
                  "6": "1",
                  "7": "782.99",
                  "8": "62.6392"
                },
                {
                  "0": "SO49235",
                  "1": "1",
                  "2": "2021-01-06",
                  "3": "Destiny Peterson",
                  "4": "destiny40@adventure-works.com",
                  "5": "Road-650 Red, 58",
                  "6": "1",
                  "7": "782.99",
                  "8": "62.6392"
                },
                {
                  "0": "SO49226",
                  "1": "1",
                  "2": "2021-01-06",
                  "3": "Bridget Andersen",
                  "4": "bridget15@adventure-works.com",
                  "5": "Road-250 Red, 52",
                  "6": "1",
                  "7": "2443.35",
                  "8": "195.468"
                },
                {
                  "0": "SO49225",
                  "1": "1",
                  "2": "2021-01-06",
                  "3": "Gilbert Guo",
                  "4": "gilbert15@adventure-works.com",
                  "5": "Road-250 Black, 48",
                  "6": "1",
                  "7": "2181.5625",
                  "8": "174.525"
                },
                {
                  "0": "SO49230",
                  "1": "1",
                  "2": "2021-01-06",
                  "3": "Taylor Washington",
                  "4": "taylor38@adventure-works.com",
                  "5": "Mountain-200 Black, 38",
                  "6": "1",
                  "7": "2049.0982",
                  "8": "163.9279"
                },
                {
                  "0": "SO49238",
                  "1": "1",
                  "2": "2021-01-06",
                  "3": "Krystal Zhou",
                  "4": "krystal8@adventure-works.com",
                  "5": "Road-250 Black, 58",
                  "6": "1",
                  "7": "2181.5625",
                  "8": "174.525"
                },
                {
                  "0": "SO49237",
                  "1": "1",
                  "2": "2021-01-06",
                  "3": "Mandy Lin",
                  "4": "mandy9@adventure-works.com",
                  "5": "Road-550-W Yellow, 42",
                  "6": "1",
                  "7": "1000.4375",
                  "8": "80.035"
                },
                {
                  "0": "SO49236",
                  "1": "1",
                  "2": "2021-01-06",
                  "3": "Edwin Sharma",
                  "4": "edwin32@adventure-works.com",
                  "5": "Road-550-W Yellow, 48",
                  "6": "1",
                  "7": "1000.4375",
                  "8": "80.035"
                },
                {
                  "0": "SO49231",
                  "1": "1",
                  "2": "2021-01-06",
                  "3": "Nathan Butler",
                  "4": "nathan10@adventure-works.com",
                  "5": "Mountain-200 Black, 46",
                  "6": "1",
                  "7": "2049.0982",
                  "8": "163.9279"
                },
                {
                  "0": "SO49228",
                  "1": "1",
                  "2": "2021-01-06",
                  "3": "Chloe Ross",
                  "4": "chloe70@adventure-works.com",
                  "5": "Mountain-200 Black, 42",
                  "6": "1",
                  "7": "2049.0982",
                  "8": "163.9279"
                },
                {
                  "0": "SO49245",
                  "1": "1",
                  "2": "2021-01-07",
                  "3": "Alberto Hernandez",
                  "4": "alberto5@adventure-works.com",
                  "5": "Road-550-W Yellow, 48",
                  "6": "1",
                  "7": "1000.4375",
                  "8": "80.035"
                },
                {
                  "0": "SO49246",
                  "1": "1",
                  "2": "2021-01-07",
                  "3": "Bruce Jim�nez",
                  "4": "bruce28@adventure-works.com",
                  "5": "Road-250 Black, 44",
                  "6": "1",
                  "7": "2181.5625",
                  "8": "174.525"
                },
                {
                  "0": "SO49242",
                  "1": "1",
                  "2": "2021-01-07",
                  "3": "Ronnie Yang",
                  "4": "ronnie4@adventure-works.com",
                  "5": "Road-250 Red, 44",
                  "6": "1",
                  "7": "2443.35",
                  "8": "195.468"
                },
                {
                  "0": "SO49244",
                  "1": "1",
                  "2": "2021-01-07",
                  "3": "Cody Stewart",
                  "4": "cody22@adventure-works.com",
                  "5": "Mountain-200 Black, 46",
                  "6": "1",
                  "7": "2049.0982",
                  "8": "163.9279"
                },
                {
                  "0": "SO49239",
                  "1": "1",
                  "2": "2021-01-07",
                  "3": "Roger Shen",
                  "4": "roger29@adventure-works.com",
                  "5": "Mountain-200 Silver, 42",
                  "6": "1",
                  "7": "2071.4196",
                  "8": "165.7136"
                },
                {
                  "0": "SO49240",
                  "1": "1",
                  "2": "2021-01-07",
                  "3": "Johnny Anand",
                  "4": "johnny23@adventure-works.com",
                  "5": "Mountain-200 Silver, 38",
                  "6": "1",
                  "7": "2071.4196",
                  "8": "165.7136"
                },
                {
                  "0": "SO49241",
                  "1": "1",
                  "2": "2021-01-07",
                  "3": "Samuel Diaz",
                  "4": "samuel21@adventure-works.com",
                  "5": "Mountain-200 Silver, 42",
                  "6": "1",
                  "7": "2071.4196",
                  "8": "165.7136"
                },
                {
                  "0": "SO49243",
                  "1": "1",
                  "2": "2021-01-07",
                  "3": "Kristi Sanchez",
                  "4": "kristi38@adventure-works.com",
                  "5": "Mountain-200 Black, 38",
                  "6": "1",
                  "7": "2049.0982",
                  "8": "163.9279"
                },
                {
                  "0": "SO49251",
                  "1": "1",
                  "2": "2021-01-08",
                  "3": "Sarah Gonzales",
                  "4": "sarah41@adventure-works.com",
                  "5": "Road-250 Black, 52",
                  "6": "1",
                  "7": "2181.5625",
                  "8": "174.525"
                },
                {
                  "0": "SO49256",
                  "1": "1",
                  "2": "2021-01-08",
                  "3": "Raquel Hernandez",
                  "4": "raquel2@adventure-works.com",
                  "5": "Mountain-200 Silver, 42",
                  "6": "1",
                  "7": "2071.4196",
                  "8": "165.7136"
                },
                {
                  "0": "SO49253",
                  "1": "1",
                  "2": "2021-01-08",
                  "3": "Emma Bradley",
                  "4": "emma31@adventure-works.com",
                  "5": "Mountain-200 Black, 42",
                  "6": "1",
                  "7": "2049.0982",
                  "8": "163.9279"
                },
                {
                  "0": "SO49254",
                  "1": "1",
                  "2": "2021-01-08",
                  "3": "Edwin Zheng",
                  "4": "edwin20@adventure-works.com",
                  "5": "Mountain-200 Black, 38",
                  "6": "1",
                  "7": "2049.0982",
                  "8": "163.9279"
                },
                {
                  "0": "SO49252",
                  "1": "1",
                  "2": "2021-01-08",
                  "3": "Brianna Sanchez",
                  "4": "brianna25@adventure-works.com",
                  "5": "Mountain-200 Silver, 38",
                  "6": "1",
                  "7": "2071.4196",
                  "8": "165.7136"
                },
                {
                  "0": "SO49250",
                  "1": "1",
                  "2": "2021-01-08",
                  "3": "Jeremy Rogers",
                  "4": "jeremy45@adventure-works.com",
                  "5": "Road-650 Black, 52",
                  "6": "1",
                  "7": "782.99",
                  "8": "62.6392"
                },
                {
                  "0": "SO49247",
                  "1": "1",
                  "2": "2021-01-08",
                  "3": "Kathleen Alvarez",
                  "4": "kathleen6@adventure-works.com",
                  "5": "Road-250 Red, 48",
                  "6": "1",
                  "7": "2443.35",
                  "8": "195.468"
                },
                {
                  "0": "SO49248",
                  "1": "1",
                  "2": "2021-01-08",
                  "3": "Jake Xu",
                  "4": "jake11@adventure-works.com",
                  "5": "Road-550-W Yellow, 44",
                  "6": "1",
                  "7": "1000.4375",
                  "8": "80.035"
                },
                {
                  "0": "SO49249",
                  "1": "1",
                  "2": "2021-01-08",
                  "3": "Tommy Raje",
                  "4": "tommy10@adventure-works.com",
                  "5": "Road-550-W Yellow, 42",
                  "6": "1",
                  "7": "1000.4375",
                  "8": "80.035"
                },
                {
                  "0": "SO49255",
                  "1": "1",
                  "2": "2021-01-08",
                  "3": "Jonathan Yang",
                  "4": "jonathan26@adventure-works.com",
                  "5": "Road-650 Red, 44",
                  "6": "1",
                  "7": "782.99",
                  "8": "62.6392"
                },
                {
                  "0": "SO49257",
                  "1": "1",
                  "2": "2021-01-08",
                  "3": "Amber Adams",
                  "4": "amber16@adventure-works.com",
                  "5": "Road-650 Red, 58",
                  "6": "1",
                  "7": "782.99",
                  "8": "62.6392"
                },
                {
                  "0": "SO49258",
                  "1": "1",
                  "2": "2021-01-09",
                  "3": "Valerie Zhou",
                  "4": "valerie10@adventure-works.com",
                  "5": "Road-250 Red, 44",
                  "6": "1",
                  "7": "2443.35",
                  "8": "195.468"
                },
                {
                  "0": "SO49262",
                  "1": "1",
                  "2": "2021-01-09",
                  "3": "Cedric Ye",
                  "4": "cedric10@adventure-works.com",
                  "5": "Road-650 Black, 58",
                  "6": "1",
                  "7": "782.99",
                  "8": "62.6392"
                },
                {
                  "0": "SO49263",
                  "1": "1",
                  "2": "2021-01-09",
                  "3": "Jose Shan",
                  "4": "jose25@adventure-works.com",
                  "5": "Road-650 Black, 52",
                  "6": "1",
                  "7": "782.99",
                  "8": "62.6392"
                },
                {
                  "0": "SO49265",
                  "1": "1",
                  "2": "2021-01-09",
                  "3": "Manuel Lopez",
                  "4": "manuel15@adventure-works.com",
                  "5": "Mountain-200 Silver, 46",
                  "6": "1",
                  "7": "2071.4196",
                  "8": "165.7136"
                },
                {
                  "0": "SO49266",
                  "1": "1",
                  "2": "2021-01-09",
                  "3": "Nathaniel Rivera",
                  "4": "nathaniel18@adventure-works.com",
                  "5": "Mountain-200 Black, 46",
                  "6": "1",
                  "7": "2049.0982",
                  "8": "163.9279"
                },
                {
                  "0": "SO49264",
                  "1": "1",
                  "2": "2021-01-09",
                  "3": "Cheryl Sanz",
                  "4": "cheryl23@adventure-works.com",
                  "5": "Mountain-200 Silver, 46",
                  "6": "1",
                  "7": "2071.4196",
                  "8": "165.7136"
                },
                {
                  "0": "SO49267",
                  "1": "1",
                  "2": "2021-01-09",
                  "3": "Javier Navarro",
                  "4": "javier4@adventure-works.com",
                  "5": "Mountain-200 Silver, 46",
                  "6": "1",
                  "7": "2071.4196",
                  "8": "165.7136"
                },
                {
                  "0": "SO49260",
                  "1": "1",
                  "2": "2021-01-09",
                  "3": "Brett Sanchez",
                  "4": "brett20@adventure-works.com",
                  "5": "Mountain-200 Black, 46",
                  "6": "1",
                  "7": "2049.0982",
                  "8": "163.9279"
                },
                {
                  "0": "SO49261",
                  "1": "1",
                  "2": "2021-01-09",
                  "3": "Linda Carlson",
                  "4": "linda33@adventure-works.com",
                  "5": "Mountain-200 Black, 42",
                  "6": "1",
                  "7": "2049.0982",
                  "8": "163.9279"
                },
                {
                  "0": "SO49268",
                  "1": "1",
                  "2": "2021-01-09",
                  "3": "Mackenzie James",
                  "4": "mackenzie6@adventure-works.com",
                  "5": "Mountain-200 Silver, 46",
                  "6": "1",
                  "7": "2071.4196",
                  "8": "165.7136"
                },
                {
                  "0": "SO49259",
                  "1": "1",
                  "2": "2021-01-09",
                  "3": "Walter Ramos",
                  "4": "walter10@adventure-works.com",
                  "5": "Mountain-200 Black, 42",
                  "6": "1",
                  "7": "2049.0982",
                  "8": "163.9279"
                },
                {
                  "0": "SO49271",
                  "1": "1",
                  "2": "2021-01-10",
                  "3": "Kevin Simmons",
                  "4": "kevin18@adventure-works.com",
                  "5": "Mountain-200 Silver, 42",
                  "6": "1",
                  "7": "2071.4196",
                  "8": "165.7136"
                },
                {
                  "0": "SO49272",
                  "1": "1",
                  "2": "2021-01-10",
                  "3": "Alejandro Kumar",
                  "4": "alejandro34@adventure-works.com",
                  "5": "Mountain-200 Black, 46",
                  "6": "1",
                  "7": "2049.0982",
                  "8": "163.9279"
                }
              ],
              "schema": [
                {
                  "key": "0",
                  "name": "_c0",
                  "type": "string"
                },
                {
                  "key": "1",
                  "name": "_c1",
                  "type": "string"
                },
                {
                  "key": "2",
                  "name": "_c2",
                  "type": "string"
                },
                {
                  "key": "3",
                  "name": "_c3",
                  "type": "string"
                },
                {
                  "key": "4",
                  "name": "_c4",
                  "type": "string"
                },
                {
                  "key": "5",
                  "name": "_c5",
                  "type": "string"
                },
                {
                  "key": "6",
                  "name": "_c6",
                  "type": "string"
                },
                {
                  "key": "7",
                  "name": "_c7",
                  "type": "string"
                },
                {
                  "key": "8",
                  "name": "_c8",
                  "type": "string"
                }
              ],
              "truncated": false
            }
          },
          "type": "Synapse.DataFrame"
        }
      },
      "version": "0.1"
    },
    "vscode": {
      "interpreter": {
        "hash": "f9ed328f70eb7d7907e99ec9175888dfd245ae8b933109fd34effba20de7265f"
      }
    }
  },
  "nbformat": 4,
  "nbformat_minor": 2
}
