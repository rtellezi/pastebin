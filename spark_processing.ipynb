{
  "cells": [
    {
      "cell_type": "markdown",
      "source": [
        "## Use Spark to explore data"
      ],
      "metadata": {
        "nteract": {
          "transient": {
            "deleting": false
          }
        }
      }
    },
    {
      "cell_type": "code",
      "source": [
        "%%pyspark\r\n",
        "df = spark.read.load('abfss://files@datalakesfmo6v9.dfs.core.windows.net/sales/orders/*.csv', format='csv'\r\n",
        "## If header exists uncomment line below\r\n",
        "##, header=True\r\n",
        ")\r\n",
        "display(df.limit(100))"
      ],
      "outputs": [],
      "execution_count": null,
      "metadata": {
        "jupyter": {
          "source_hidden": false,
          "outputs_hidden": false
        },
        "nteract": {
          "transient": {
            "deleting": false
          }
        },
        "microsoft": {
          "language": "python"
        }
      }
    },
    {
      "cell_type": "code",
      "source": [
        "%%pyspark\r\n",
        "from pyspark.sql.types import *\r\n",
        "from pyspark.sql.functions import *\r\n",
        "\r\n",
        "orderSchema = StructType([\r\n",
        "    StructField(\"SalesOrderNumber\", StringType()),\r\n",
        "    StructField(\"SalesOrderLineNumber\", IntegerType()),\r\n",
        "    StructField(\"OrderDate\", DateType()),\r\n",
        "    StructField(\"CustomerName\", StringType()),\r\n",
        "    StructField(\"Email\", StringType()),\r\n",
        "    StructField(\"Item\", StringType()),\r\n",
        "    StructField(\"Quantity\", IntegerType()),\r\n",
        "    StructField(\"UnitPrice\", FloatType()),\r\n",
        "    StructField(\"Tax\", FloatType())\r\n",
        "    ])\r\n",
        "\r\n",
        "df = spark.read.load('abfss://files@datalakesfmo6v9.dfs.core.windows.net/sales/orders/*.csv', format='csv', schema=orderSchema)\r\n",
        "display(df.limit(100))"
      ],
      "outputs": [
        {
          "output_type": "display_data",
          "data": {
            "application/vnd.livy.statement-meta+json": {
              "spark_pool": "sparksfmo6v9",
              "session_id": "0",
              "statement_id": 5,
              "state": "finished",
              "livy_statement_state": "available",
              "queued_time": "2023-04-30T20:36:43.4600846Z",
              "session_start_time": null,
              "execution_start_time": "2023-04-30T20:36:43.6245893Z",
              "execution_finish_time": "2023-04-30T20:36:44.8358823Z",
              "spark_jobs": null,
              "parent_msg_id": "3f58c00f-d204-4196-a5d7-b63fd9658172"
            },
            "text/plain": "StatementMeta(sparksfmo6v9, 0, 5, Finished, Available)"
          },
          "metadata": {}
        },
        {
          "output_type": "display_data",
          "data": {
            "application/vnd.synapse.widget-view+json": {
              "widget_id": "1455dd53-8762-47f0-a8bd-2b00df6e4109",
              "widget_type": "Synapse.DataFrame"
            },
            "text/plain": "SynapseWidget(Synapse.DataFrame, 1455dd53-8762-47f0-a8bd-2b00df6e4109)"
          },
          "metadata": {}
        }
      ],
      "execution_count": 4,
      "metadata": {
        "jupyter": {
          "source_hidden": false,
          "outputs_hidden": false
        },
        "nteract": {
          "transient": {
            "deleting": false
          }
        },
        "microsoft": {
          "language": "python"
        },
        "collapsed": false
      }
    },
    {
      "cell_type": "code",
      "source": [
        "df.printSchema()"
      ],
      "outputs": [
        {
          "output_type": "display_data",
          "data": {
            "application/vnd.livy.statement-meta+json": {
              "spark_pool": "sparksfmo6v9",
              "session_id": "0",
              "statement_id": 6,
              "state": "finished",
              "livy_statement_state": "available",
              "queued_time": "2023-04-30T20:38:01.7154919Z",
              "session_start_time": null,
              "execution_start_time": "2023-04-30T20:38:01.9028444Z",
              "execution_finish_time": "2023-04-30T20:38:02.0913758Z",
              "spark_jobs": null,
              "parent_msg_id": "d88837ce-fdda-4bd6-abd7-e1005283febc"
            },
            "text/plain": "StatementMeta(sparksfmo6v9, 0, 6, Finished, Available)"
          },
          "metadata": {}
        },
        {
          "output_type": "stream",
          "name": "stdout",
          "text": [
            "root\n |-- SalesOrderNumber: string (nullable = true)\n |-- SalesOrderLineNumber: integer (nullable = true)\n |-- OrderDate: date (nullable = true)\n |-- CustomerName: string (nullable = true)\n |-- Email: string (nullable = true)\n |-- Item: string (nullable = true)\n |-- Quantity: integer (nullable = true)\n |-- UnitPrice: float (nullable = true)\n |-- Tax: float (nullable = true)\n\n"
          ]
        }
      ],
      "execution_count": 5,
      "metadata": {
        "jupyter": {
          "source_hidden": false,
          "outputs_hidden": false
        },
        "nteract": {
          "transient": {
            "deleting": false
          }
        }
      }
    },
    {
      "cell_type": "code",
      "source": [
        "customers = df.select(\"CustomerName\", \"Email\").where(df['Item']=='Road-250 Red, 52')\r\n",
        "print(customers.count())\r\n",
        "print(customers.distinct().count())\r\n",
        "display(customers.distinct())"
      ],
      "outputs": [
        {
          "output_type": "display_data",
          "data": {
            "application/vnd.livy.statement-meta+json": {
              "spark_pool": "sparksfmo6v9",
              "session_id": "0",
              "statement_id": 9,
              "state": "finished",
              "livy_statement_state": "available",
              "queued_time": "2023-04-30T20:46:21.4568699Z",
              "session_start_time": null,
              "execution_start_time": "2023-04-30T20:46:21.6041441Z",
              "execution_finish_time": "2023-04-30T20:46:25.7874312Z",
              "spark_jobs": null,
              "parent_msg_id": "eda3bd9d-6fa8-45b4-8dee-252cf54e32f4"
            },
            "text/plain": "StatementMeta(sparksfmo6v9, 0, 9, Finished, Available)"
          },
          "metadata": {}
        },
        {
          "output_type": "stream",
          "name": "stdout",
          "text": [
            "133\n133\n"
          ]
        },
        {
          "output_type": "display_data",
          "data": {
            "application/vnd.synapse.widget-view+json": {
              "widget_id": "cd5cc632-e59b-49aa-a84c-2a1370a8df8a",
              "widget_type": "Synapse.DataFrame"
            },
            "text/plain": "SynapseWidget(Synapse.DataFrame, cd5cc632-e59b-49aa-a84c-2a1370a8df8a)"
          },
          "metadata": {}
        }
      ],
      "execution_count": 8,
      "metadata": {
        "jupyter": {
          "source_hidden": false,
          "outputs_hidden": false
        },
        "nteract": {
          "transient": {
            "deleting": false
          }
        },
        "collapsed": false
      }
    },
    {
      "cell_type": "code",
      "source": [
        "productSales = df.select(\"Item\", \"Quantity\").groupBy(\"Item\").sum()\r\n",
        "display(productSales)"
      ],
      "outputs": [
        {
          "output_type": "display_data",
          "data": {
            "application/vnd.livy.statement-meta+json": {
              "spark_pool": "sparksfmo6v9",
              "session_id": "0",
              "statement_id": 8,
              "state": "finished",
              "livy_statement_state": "available",
              "queued_time": "2023-04-30T20:45:46.9397397Z",
              "session_start_time": null,
              "execution_start_time": "2023-04-30T20:45:47.1243925Z",
              "execution_finish_time": "2023-04-30T20:45:50.0815588Z",
              "spark_jobs": null,
              "parent_msg_id": "5a972a59-632b-4d70-b653-da079e8f5d8f"
            },
            "text/plain": "StatementMeta(sparksfmo6v9, 0, 8, Finished, Available)"
          },
          "metadata": {}
        },
        {
          "output_type": "display_data",
          "data": {
            "application/vnd.synapse.widget-view+json": {
              "widget_id": "df3114fe-5034-4f04-b962-7496725ff3ee",
              "widget_type": "Synapse.DataFrame"
            },
            "text/plain": "SynapseWidget(Synapse.DataFrame, df3114fe-5034-4f04-b962-7496725ff3ee)"
          },
          "metadata": {}
        }
      ],
      "execution_count": 7,
      "metadata": {
        "jupyter": {
          "source_hidden": false,
          "outputs_hidden": false
        },
        "nteract": {
          "transient": {
            "deleting": false
          }
        },
        "collapsed": false
      }
    },
    {
      "cell_type": "markdown",
      "source": [
        "## Query data using Spark SQL\r\n",
        "[Spark SQL, DataFrames and Datasets Guide](https://spark.apache.org/docs/2.2.0/sql-programming-guide.html)\r\n"
      ],
      "metadata": {
        "nteract": {
          "transient": {
            "deleting": false
          }
        }
      }
    },
    {
      "cell_type": "code",
      "source": [
        "df.createOrReplaceTempView(\"salesorders\")\r\n",
        "\r\n",
        "spark_df = spark.sql(\"SELECT * FROM salesorders\")\r\n",
        "display(spark_df)"
      ],
      "outputs": [
        {
          "output_type": "display_data",
          "data": {
            "application/vnd.livy.statement-meta+json": {
              "spark_pool": "sparksfmo6v9",
              "session_id": "0",
              "statement_id": 10,
              "state": "finished",
              "livy_statement_state": "available",
              "queued_time": "2023-04-30T20:57:24.9344955Z",
              "session_start_time": null,
              "execution_start_time": "2023-04-30T20:57:25.1533845Z",
              "execution_finish_time": "2023-04-30T20:57:34.09317Z",
              "spark_jobs": null,
              "parent_msg_id": "e6c36913-7532-4885-8f1e-e4cc2e37c663"
            },
            "text/plain": "StatementMeta(sparksfmo6v9, 0, 10, Finished, Available)"
          },
          "metadata": {}
        },
        {
          "output_type": "display_data",
          "data": {
            "application/vnd.synapse.widget-view+json": {
              "widget_id": "ce915826-3f01-438f-b67e-5fbc788aeade",
              "widget_type": "Synapse.DataFrame"
            },
            "text/plain": "SynapseWidget(Synapse.DataFrame, ce915826-3f01-438f-b67e-5fbc788aeade)"
          },
          "metadata": {}
        }
      ],
      "execution_count": 9,
      "metadata": {
        "jupyter": {
          "source_hidden": false,
          "outputs_hidden": false
        },
        "nteract": {
          "transient": {
            "deleting": false
          }
        },
        "collapsed": false
      }
    },
    {
      "cell_type": "code",
      "source": [
        "%%sql\r\n",
        "SELECT YEAR(OrderDate) AS OrderYear,\r\n",
        "       SUM((UnitPrice * Quantity) + Tax) AS GrossRevenue\r\n",
        "FROM salesorders\r\n",
        "GROUP BY YEAR(OrderDate)\r\n",
        "ORDER BY OrderYear;"
      ],
      "outputs": [
        {
          "output_type": "display_data",
          "data": {
            "application/vnd.livy.statement-meta+json": {
              "spark_pool": "sparksfmo6v9",
              "session_id": "0",
              "statement_id": 11,
              "state": "finished",
              "livy_statement_state": "available",
              "queued_time": "2023-04-30T21:02:02.5895021Z",
              "session_start_time": null,
              "execution_start_time": "2023-04-30T21:02:02.7386139Z",
              "execution_finish_time": "2023-04-30T21:02:05.6446916Z",
              "spark_jobs": null,
              "parent_msg_id": "2409ca71-7a24-486e-869f-9a40bd4bc446"
            },
            "text/plain": "StatementMeta(sparksfmo6v9, 0, 11, Finished, Available)"
          },
          "metadata": {}
        },
        {
          "output_type": "execute_result",
          "execution_count": 10,
          "data": {
            "application/vnd.synapse.sparksql-result+json": {
              "schema": {
                "type": "struct",
                "fields": [
                  {
                    "name": "OrderYear",
                    "type": "integer",
                    "nullable": true,
                    "metadata": {}
                  },
                  {
                    "name": "GrossRevenue",
                    "type": "double",
                    "nullable": true,
                    "metadata": {}
                  }
                ]
              },
              "data": [
                [
                  2019,
                  4172169.969970703
                ],
                [
                  2020,
                  6882259.268127441
                ],
                [
                  2021,
                  11547835.291696548
                ]
              ]
            },
            "text/plain": "<Spark SQL result set with 3 rows and 2 fields>"
          },
          "metadata": {}
        }
      ],
      "execution_count": 10,
      "metadata": {
        "jupyter": {
          "source_hidden": false,
          "outputs_hidden": false
        },
        "nteract": {
          "transient": {
            "deleting": false
          }
        },
        "microsoft": {
          "language": "sparksql"
        },
        "collapsed": false
      }
    },
    {
      "cell_type": "code",
      "source": [
        "%%sql\r\n",
        "SELECT * FROM salesorders"
      ],
      "outputs": [
        {
          "output_type": "display_data",
          "data": {
            "application/vnd.livy.statement-meta+json": {
              "spark_pool": "sparksfmo6v9",
              "session_id": "0",
              "statement_id": 12,
              "state": "finished",
              "livy_statement_state": "available",
              "queued_time": "2023-04-30T21:03:43.1993275Z",
              "session_start_time": null,
              "execution_start_time": "2023-04-30T21:03:43.3410813Z",
              "execution_finish_time": "2023-04-30T21:03:44.551373Z",
              "spark_jobs": null,
              "parent_msg_id": "c7c50ef3-7630-4f0b-beb0-d9ad16064608"
            },
            "text/plain": "StatementMeta(sparksfmo6v9, 0, 12, Finished, Available)"
          },
          "metadata": {}
        },
        {
          "output_type": "execute_result",
          "execution_count": 11,
          "data": {
            "application/vnd.synapse.sparksql-result+json": {
              "schema": {
                "type": "struct",
                "fields": [
                  {
                    "name": "SalesOrderNumber",
                    "type": "string",
                    "nullable": true,
                    "metadata": {}
                  },
                  {
                    "name": "SalesOrderLineNumber",
                    "type": "integer",
                    "nullable": true,
                    "metadata": {}
                  },
                  {
                    "name": "OrderDate",
                    "type": "date",
                    "nullable": true,
                    "metadata": {}
                  },
                  {
                    "name": "CustomerName",
                    "type": "string",
                    "nullable": true,
                    "metadata": {}
                  },
                  {
                    "name": "Email",
                    "type": "string",
                    "nullable": true,
                    "metadata": {}
                  },
                  {
                    "name": "Item",
                    "type": "string",
                    "nullable": true,
                    "metadata": {}
                  },
                  {
                    "name": "Quantity",
                    "type": "integer",
                    "nullable": true,
                    "metadata": {}
                  },
                  {
                    "name": "UnitPrice",
                    "type": "float",
                    "nullable": true,
                    "metadata": {}
                  },
                  {
                    "name": "Tax",
                    "type": "float",
                    "nullable": true,
                    "metadata": {}
                  }
                ]
              },
              "data": [
                [
                  "SO49171",
                  1,
                  "2021-01-01",
                  "Mariah Foster",
                  "mariah21@adventure-works.com",
                  "Road-250 Black, 48",
                  1,
                  2181.5625,
                  174.52499389648438
                ],
                [
                  "SO49172",
                  1,
                  "2021-01-01",
                  "Brian Howard",
                  "brian23@adventure-works.com",
                  "Road-250 Red, 44",
                  1,
                  2443.35009765625,
                  195.46800231933594
                ],
                [
                  "SO49173",
                  1,
                  "2021-01-01",
                  "Linda Alvarez",
                  "linda19@adventure-works.com",
                  "Mountain-200 Silver, 38",
                  1,
                  2071.419677734375,
                  165.71359252929688
                ],
                [
                  "SO49174",
                  1,
                  "2021-01-01",
                  "Gina Hernandez",
                  "gina4@adventure-works.com",
                  "Mountain-200 Silver, 42",
                  1,
                  2071.419677734375,
                  165.71359252929688
                ],
                [
                  "SO49178",
                  1,
                  "2021-01-01",
                  "Beth Ruiz",
                  "beth4@adventure-works.com",
                  "Road-550-W Yellow, 44",
                  1,
                  1000.4375,
                  80.03500366210938
                ],
                [
                  "SO49179",
                  1,
                  "2021-01-01",
                  "Evan Ward",
                  "evan13@adventure-works.com",
                  "Road-550-W Yellow, 38",
                  1,
                  1000.4375,
                  80.03500366210938
                ],
                [
                  "SO49175",
                  1,
                  "2021-01-01",
                  "Margaret Guo",
                  "margaret24@adventure-works.com",
                  "Road-250 Red, 52",
                  1,
                  2443.35009765625,
                  195.46800231933594
                ],
                [
                  "SO49180",
                  1,
                  "2021-01-01",
                  "Mitchell Yuan",
                  "mitchell6@adventure-works.com",
                  "Road-650 Black, 58",
                  1,
                  782.989990234375,
                  62.639198303222656
                ],
                [
                  "SO49176",
                  1,
                  "2021-01-01",
                  "Shawn Sharma",
                  "shawn11@adventure-works.com",
                  "Mountain-200 Silver, 46",
                  1,
                  2071.419677734375,
                  165.71359252929688
                ],
                [
                  "SO49177",
                  1,
                  "2021-01-01",
                  "Barbara Chande",
                  "barbara44@adventure-works.com",
                  "Mountain-200 Silver, 42",
                  1,
                  2071.419677734375,
                  165.71359252929688
                ],
                [
                  "SO49186",
                  1,
                  "2021-01-02",
                  "Cara Xu",
                  "cara8@adventure-works.com",
                  "Road-250 Red, 52",
                  1,
                  2443.35009765625,
                  195.46800231933594
                ],
                [
                  "SO49187",
                  1,
                  "2021-01-02",
                  "Lacey Liu",
                  "lacey16@adventure-works.com",
                  "Road-250 Black, 58",
                  1,
                  2181.5625,
                  174.52499389648438
                ],
                [
                  "SO49190",
                  1,
                  "2021-01-02",
                  "Omar Zhu",
                  "omar13@adventure-works.com",
                  "Road-550-W Yellow, 40",
                  1,
                  1000.4375,
                  80.03500366210938
                ],
                [
                  "SO49185",
                  1,
                  "2021-01-02",
                  "Cassandra Fernandez",
                  "cassandra17@adventure-works.com",
                  "Mountain-200 Black, 46",
                  1,
                  2049.09814453125,
                  163.9279022216797
                ],
                [
                  "SO49184",
                  1,
                  "2021-01-02",
                  "Monica Martinez",
                  "monica17@adventure-works.com",
                  "Mountain-200 Black, 46",
                  1,
                  2049.09814453125,
                  163.9279022216797
                ],
                [
                  "SO49189",
                  1,
                  "2021-01-02",
                  "Marie Gonzalez",
                  "marie20@adventure-works.com",
                  "Road-650 Black, 48",
                  1,
                  782.989990234375,
                  62.639198303222656
                ],
                [
                  "SO49182",
                  1,
                  "2021-01-02",
                  "Alexandra Hall",
                  "alexandra89@adventure-works.com",
                  "Road-250 Red, 48",
                  1,
                  2443.35009765625,
                  195.46800231933594
                ],
                [
                  "SO49183",
                  1,
                  "2021-01-02",
                  "Alejandro Raji",
                  "alejandro46@adventure-works.com",
                  "Road-250 Red, 52",
                  1,
                  2443.35009765625,
                  195.46800231933594
                ],
                [
                  "SO49181",
                  1,
                  "2021-01-02",
                  "Derrick Jim�nez",
                  "derrick5@adventure-works.com",
                  "Road-250 Black, 48",
                  1,
                  2181.5625,
                  174.52499389648438
                ],
                [
                  "SO49188",
                  1,
                  "2021-01-02",
                  "Erin Cox",
                  "erin15@adventure-works.com",
                  "Mountain-200 Black, 38",
                  1,
                  2049.09814453125,
                  163.9279022216797
                ],
                [
                  "SO49192",
                  1,
                  "2021-01-03",
                  "Eugene Sun",
                  "eugene17@adventure-works.com",
                  "Road-550-W Yellow, 44",
                  1,
                  1000.4375,
                  80.03500366210938
                ],
                [
                  "SO49191",
                  1,
                  "2021-01-03",
                  "Benjamin Thompson",
                  "benjamin52@adventure-works.com",
                  "Road-550-W Yellow, 44",
                  1,
                  1000.4375,
                  80.03500366210938
                ],
                [
                  "SO49195",
                  1,
                  "2021-01-03",
                  "Barry Malhotra",
                  "barry5@adventure-works.com",
                  "Road-650 Red, 58",
                  1,
                  782.989990234375,
                  62.639198303222656
                ],
                [
                  "SO49194",
                  1,
                  "2021-01-03",
                  "Clayton Wagner",
                  "clayton1@adventure-works.com",
                  "Road-650 Black, 60",
                  1,
                  782.989990234375,
                  62.639198303222656
                ],
                [
                  "SO49196",
                  1,
                  "2021-01-03",
                  "Katherine Perry",
                  "katherine33@adventure-works.com",
                  "Mountain-200 Silver, 42",
                  1,
                  2071.419677734375,
                  165.71359252929688
                ],
                [
                  "SO49198",
                  1,
                  "2021-01-03",
                  "Lori Alvarez",
                  "lori7@adventure-works.com",
                  "Road-650 Black, 52",
                  1,
                  782.989990234375,
                  62.639198303222656
                ],
                [
                  "SO49199",
                  1,
                  "2021-01-03",
                  "Jillian Patel",
                  "jillian3@adventure-works.com",
                  "Road-650 Black, 62",
                  1,
                  782.989990234375,
                  62.639198303222656
                ],
                [
                  "SO49193",
                  1,
                  "2021-01-03",
                  "Summer Rodriguez",
                  "summer17@adventure-works.com",
                  "Mountain-200 Black, 42",
                  1,
                  2049.09814453125,
                  163.9279022216797
                ],
                [
                  "SO49197",
                  1,
                  "2021-01-03",
                  "Oscar Flores",
                  "oscar20@adventure-works.com",
                  "Mountain-200 Black, 42",
                  1,
                  2049.09814453125,
                  163.9279022216797
                ],
                [
                  "SO49205",
                  1,
                  "2021-01-04",
                  "Rebekah Serrano",
                  "rebekah36@adventure-works.com",
                  "Mountain-200 Black, 38",
                  1,
                  2049.09814453125,
                  163.9279022216797
                ],
                [
                  "SO49204",
                  1,
                  "2021-01-04",
                  "Monique Blanco",
                  "monique12@adventure-works.com",
                  "Mountain-200 Silver, 38",
                  1,
                  2071.419677734375,
                  165.71359252929688
                ],
                [
                  "SO49212",
                  1,
                  "2021-01-04",
                  "Olivia Coleman",
                  "olivia51@adventure-works.com",
                  "Road-550-W Yellow, 44",
                  1,
                  1000.4375,
                  80.03500366210938
                ],
                [
                  "SO49210",
                  1,
                  "2021-01-04",
                  "Timothy James",
                  "timothy9@adventure-works.com",
                  "Mountain-200 Silver, 46",
                  1,
                  2071.419677734375,
                  165.71359252929688
                ],
                [
                  "SO49203",
                  1,
                  "2021-01-04",
                  "Louis Ye",
                  "louis3@adventure-works.com",
                  "Road-650 Red, 52",
                  1,
                  782.989990234375,
                  62.639198303222656
                ],
                [
                  "SO49201",
                  1,
                  "2021-01-04",
                  "Jaime Diaz",
                  "jaime3@adventure-works.com",
                  "Road-250 Red, 52",
                  1,
                  2443.35009765625,
                  195.46800231933594
                ],
                [
                  "SO49202",
                  1,
                  "2021-01-04",
                  "Audrey Gutierrez",
                  "audrey12@adventure-works.com",
                  "Road-250 Black, 48",
                  1,
                  2181.5625,
                  174.52499389648438
                ],
                [
                  "SO49200",
                  1,
                  "2021-01-04",
                  "Blake Taylor",
                  "blake8@adventure-works.com",
                  "Road-250 Red, 44",
                  1,
                  2443.35009765625,
                  195.46800231933594
                ],
                [
                  "SO49215",
                  1,
                  "2021-01-04",
                  "Kathryn Deng",
                  "kathryn1@adventure-works.com",
                  "Road-650 Red, 62",
                  1,
                  782.989990234375,
                  62.639198303222656
                ],
                [
                  "SO49213",
                  1,
                  "2021-01-04",
                  "Anne Martin",
                  "anne1@adventure-works.com",
                  "Road-550-W Yellow, 44",
                  1,
                  1000.4375,
                  80.03500366210938
                ],
                [
                  "SO49209",
                  1,
                  "2021-01-04",
                  "Dana Suarez",
                  "dana12@adventure-works.com",
                  "Road-250 Red, 58",
                  1,
                  2181.5625,
                  174.52499389648438
                ],
                [
                  "SO49208",
                  1,
                  "2021-01-04",
                  "Alexis Powell",
                  "alexis31@adventure-works.com",
                  "Road-250 Black, 48",
                  1,
                  2181.5625,
                  174.52499389648438
                ],
                [
                  "SO49207",
                  1,
                  "2021-01-04",
                  "Jordan Roberts",
                  "jordan58@adventure-works.com",
                  "Road-250 Red, 48",
                  1,
                  2443.35009765625,
                  195.46800231933594
                ],
                [
                  "SO49206",
                  1,
                  "2021-01-04",
                  "Adam Powell",
                  "adam6@adventure-works.com",
                  "Road-250 Black, 48",
                  1,
                  2181.5625,
                  174.52499389648438
                ],
                [
                  "SO49214",
                  1,
                  "2021-01-04",
                  "Bobby Ray",
                  "bobby7@adventure-works.com",
                  "Road-250 Black, 58",
                  1,
                  2181.5625,
                  174.52499389648438
                ],
                [
                  "SO49216",
                  1,
                  "2021-01-04",
                  "Rafael Sun",
                  "rafael14@adventure-works.com",
                  "Road-650 Red, 44",
                  1,
                  782.989990234375,
                  62.639198303222656
                ],
                [
                  "SO49211",
                  1,
                  "2021-01-04",
                  "Rachel Perry",
                  "rachel55@adventure-works.com",
                  "Mountain-200 Silver, 42",
                  1,
                  2071.419677734375,
                  165.71359252929688
                ],
                [
                  "SO49221",
                  1,
                  "2021-01-05",
                  "Brett Martinez",
                  "brett17@adventure-works.com",
                  "Road-250 Black, 58",
                  1,
                  2181.5625,
                  174.52499389648438
                ],
                [
                  "SO49217",
                  1,
                  "2021-01-05",
                  "Russell Sharma",
                  "russell12@adventure-works.com",
                  "Road-250 Black, 52",
                  1,
                  2181.5625,
                  174.52499389648438
                ],
                [
                  "SO49220",
                  1,
                  "2021-01-05",
                  "Arthur Chandra",
                  "arthur4@adventure-works.com",
                  "Mountain-200 Silver, 38",
                  1,
                  2071.419677734375,
                  165.71359252929688
                ],
                [
                  "SO49219",
                  1,
                  "2021-01-05",
                  "Priscilla Rai",
                  "priscilla16@adventure-works.com",
                  "Mountain-200 Black, 46",
                  1,
                  2049.09814453125,
                  163.9279022216797
                ],
                [
                  "SO49224",
                  1,
                  "2021-01-05",
                  "Sydney Sanders",
                  "sydney22@adventure-works.com",
                  "Mountain-200 Black, 38",
                  1,
                  2049.09814453125,
                  163.9279022216797
                ],
                [
                  "SO49222",
                  1,
                  "2021-01-05",
                  "Chloe Scott",
                  "chloe11@adventure-works.com",
                  "Mountain-200 Silver, 38",
                  1,
                  2071.419677734375,
                  165.71359252929688
                ],
                [
                  "SO49223",
                  1,
                  "2021-01-05",
                  "Jonathan Thompson",
                  "jonathan69@adventure-works.com",
                  "Mountain-200 Black, 42",
                  1,
                  2049.09814453125,
                  163.9279022216797
                ],
                [
                  "SO49218",
                  1,
                  "2021-01-05",
                  "Caitlin Rivera",
                  "caitlin14@adventure-works.com",
                  "Road-250 Black, 58",
                  1,
                  2181.5625,
                  174.52499389648438
                ],
                [
                  "SO49227",
                  1,
                  "2021-01-06",
                  "Russell Jai",
                  "russell14@adventure-works.com",
                  "Road-250 Red, 48",
                  1,
                  2443.35009765625,
                  195.46800231933594
                ],
                [
                  "SO49229",
                  1,
                  "2021-01-06",
                  "Denise Martinez",
                  "denise18@adventure-works.com",
                  "Mountain-200 Silver, 46",
                  1,
                  2071.419677734375,
                  165.71359252929688
                ],
                [
                  "SO49234",
                  1,
                  "2021-01-06",
                  "Steven Bell",
                  "steven23@adventure-works.com",
                  "Road-650 Red, 48",
                  1,
                  782.989990234375,
                  62.639198303222656
                ],
                [
                  "SO49232",
                  1,
                  "2021-01-06",
                  "Jason Allen",
                  "jason50@adventure-works.com",
                  "Road-650 Red, 58",
                  1,
                  782.989990234375,
                  62.639198303222656
                ],
                [
                  "SO49233",
                  1,
                  "2021-01-06",
                  "Calvin Raji",
                  "calvin20@adventure-works.com",
                  "Road-650 Red, 62",
                  1,
                  782.989990234375,
                  62.639198303222656
                ],
                [
                  "SO49235",
                  1,
                  "2021-01-06",
                  "Destiny Peterson",
                  "destiny40@adventure-works.com",
                  "Road-650 Red, 58",
                  1,
                  782.989990234375,
                  62.639198303222656
                ],
                [
                  "SO49226",
                  1,
                  "2021-01-06",
                  "Bridget Andersen",
                  "bridget15@adventure-works.com",
                  "Road-250 Red, 52",
                  1,
                  2443.35009765625,
                  195.46800231933594
                ],
                [
                  "SO49225",
                  1,
                  "2021-01-06",
                  "Gilbert Guo",
                  "gilbert15@adventure-works.com",
                  "Road-250 Black, 48",
                  1,
                  2181.5625,
                  174.52499389648438
                ],
                [
                  "SO49230",
                  1,
                  "2021-01-06",
                  "Taylor Washington",
                  "taylor38@adventure-works.com",
                  "Mountain-200 Black, 38",
                  1,
                  2049.09814453125,
                  163.9279022216797
                ],
                [
                  "SO49238",
                  1,
                  "2021-01-06",
                  "Krystal Zhou",
                  "krystal8@adventure-works.com",
                  "Road-250 Black, 58",
                  1,
                  2181.5625,
                  174.52499389648438
                ],
                [
                  "SO49237",
                  1,
                  "2021-01-06",
                  "Mandy Lin",
                  "mandy9@adventure-works.com",
                  "Road-550-W Yellow, 42",
                  1,
                  1000.4375,
                  80.03500366210938
                ],
                [
                  "SO49236",
                  1,
                  "2021-01-06",
                  "Edwin Sharma",
                  "edwin32@adventure-works.com",
                  "Road-550-W Yellow, 48",
                  1,
                  1000.4375,
                  80.03500366210938
                ],
                [
                  "SO49231",
                  1,
                  "2021-01-06",
                  "Nathan Butler",
                  "nathan10@adventure-works.com",
                  "Mountain-200 Black, 46",
                  1,
                  2049.09814453125,
                  163.9279022216797
                ],
                [
                  "SO49228",
                  1,
                  "2021-01-06",
                  "Chloe Ross",
                  "chloe70@adventure-works.com",
                  "Mountain-200 Black, 42",
                  1,
                  2049.09814453125,
                  163.9279022216797
                ],
                [
                  "SO49245",
                  1,
                  "2021-01-07",
                  "Alberto Hernandez",
                  "alberto5@adventure-works.com",
                  "Road-550-W Yellow, 48",
                  1,
                  1000.4375,
                  80.03500366210938
                ],
                [
                  "SO49246",
                  1,
                  "2021-01-07",
                  "Bruce Jim�nez",
                  "bruce28@adventure-works.com",
                  "Road-250 Black, 44",
                  1,
                  2181.5625,
                  174.52499389648438
                ],
                [
                  "SO49242",
                  1,
                  "2021-01-07",
                  "Ronnie Yang",
                  "ronnie4@adventure-works.com",
                  "Road-250 Red, 44",
                  1,
                  2443.35009765625,
                  195.46800231933594
                ],
                [
                  "SO49244",
                  1,
                  "2021-01-07",
                  "Cody Stewart",
                  "cody22@adventure-works.com",
                  "Mountain-200 Black, 46",
                  1,
                  2049.09814453125,
                  163.9279022216797
                ],
                [
                  "SO49239",
                  1,
                  "2021-01-07",
                  "Roger Shen",
                  "roger29@adventure-works.com",
                  "Mountain-200 Silver, 42",
                  1,
                  2071.419677734375,
                  165.71359252929688
                ],
                [
                  "SO49240",
                  1,
                  "2021-01-07",
                  "Johnny Anand",
                  "johnny23@adventure-works.com",
                  "Mountain-200 Silver, 38",
                  1,
                  2071.419677734375,
                  165.71359252929688
                ],
                [
                  "SO49241",
                  1,
                  "2021-01-07",
                  "Samuel Diaz",
                  "samuel21@adventure-works.com",
                  "Mountain-200 Silver, 42",
                  1,
                  2071.419677734375,
                  165.71359252929688
                ],
                [
                  "SO49243",
                  1,
                  "2021-01-07",
                  "Kristi Sanchez",
                  "kristi38@adventure-works.com",
                  "Mountain-200 Black, 38",
                  1,
                  2049.09814453125,
                  163.9279022216797
                ],
                [
                  "SO49251",
                  1,
                  "2021-01-08",
                  "Sarah Gonzales",
                  "sarah41@adventure-works.com",
                  "Road-250 Black, 52",
                  1,
                  2181.5625,
                  174.52499389648438
                ],
                [
                  "SO49256",
                  1,
                  "2021-01-08",
                  "Raquel Hernandez",
                  "raquel2@adventure-works.com",
                  "Mountain-200 Silver, 42",
                  1,
                  2071.419677734375,
                  165.71359252929688
                ],
                [
                  "SO49253",
                  1,
                  "2021-01-08",
                  "Emma Bradley",
                  "emma31@adventure-works.com",
                  "Mountain-200 Black, 42",
                  1,
                  2049.09814453125,
                  163.9279022216797
                ],
                [
                  "SO49254",
                  1,
                  "2021-01-08",
                  "Edwin Zheng",
                  "edwin20@adventure-works.com",
                  "Mountain-200 Black, 38",
                  1,
                  2049.09814453125,
                  163.9279022216797
                ],
                [
                  "SO49252",
                  1,
                  "2021-01-08",
                  "Brianna Sanchez",
                  "brianna25@adventure-works.com",
                  "Mountain-200 Silver, 38",
                  1,
                  2071.419677734375,
                  165.71359252929688
                ],
                [
                  "SO49250",
                  1,
                  "2021-01-08",
                  "Jeremy Rogers",
                  "jeremy45@adventure-works.com",
                  "Road-650 Black, 52",
                  1,
                  782.989990234375,
                  62.639198303222656
                ],
                [
                  "SO49247",
                  1,
                  "2021-01-08",
                  "Kathleen Alvarez",
                  "kathleen6@adventure-works.com",
                  "Road-250 Red, 48",
                  1,
                  2443.35009765625,
                  195.46800231933594
                ],
                [
                  "SO49248",
                  1,
                  "2021-01-08",
                  "Jake Xu",
                  "jake11@adventure-works.com",
                  "Road-550-W Yellow, 44",
                  1,
                  1000.4375,
                  80.03500366210938
                ],
                [
                  "SO49249",
                  1,
                  "2021-01-08",
                  "Tommy Raje",
                  "tommy10@adventure-works.com",
                  "Road-550-W Yellow, 42",
                  1,
                  1000.4375,
                  80.03500366210938
                ],
                [
                  "SO49255",
                  1,
                  "2021-01-08",
                  "Jonathan Yang",
                  "jonathan26@adventure-works.com",
                  "Road-650 Red, 44",
                  1,
                  782.989990234375,
                  62.639198303222656
                ],
                [
                  "SO49257",
                  1,
                  "2021-01-08",
                  "Amber Adams",
                  "amber16@adventure-works.com",
                  "Road-650 Red, 58",
                  1,
                  782.989990234375,
                  62.639198303222656
                ],
                [
                  "SO49258",
                  1,
                  "2021-01-09",
                  "Valerie Zhou",
                  "valerie10@adventure-works.com",
                  "Road-250 Red, 44",
                  1,
                  2443.35009765625,
                  195.46800231933594
                ],
                [
                  "SO49262",
                  1,
                  "2021-01-09",
                  "Cedric Ye",
                  "cedric10@adventure-works.com",
                  "Road-650 Black, 58",
                  1,
                  782.989990234375,
                  62.639198303222656
                ],
                [
                  "SO49263",
                  1,
                  "2021-01-09",
                  "Jose Shan",
                  "jose25@adventure-works.com",
                  "Road-650 Black, 52",
                  1,
                  782.989990234375,
                  62.639198303222656
                ],
                [
                  "SO49265",
                  1,
                  "2021-01-09",
                  "Manuel Lopez",
                  "manuel15@adventure-works.com",
                  "Mountain-200 Silver, 46",
                  1,
                  2071.419677734375,
                  165.71359252929688
                ],
                [
                  "SO49266",
                  1,
                  "2021-01-09",
                  "Nathaniel Rivera",
                  "nathaniel18@adventure-works.com",
                  "Mountain-200 Black, 46",
                  1,
                  2049.09814453125,
                  163.9279022216797
                ],
                [
                  "SO49264",
                  1,
                  "2021-01-09",
                  "Cheryl Sanz",
                  "cheryl23@adventure-works.com",
                  "Mountain-200 Silver, 46",
                  1,
                  2071.419677734375,
                  165.71359252929688
                ],
                [
                  "SO49267",
                  1,
                  "2021-01-09",
                  "Javier Navarro",
                  "javier4@adventure-works.com",
                  "Mountain-200 Silver, 46",
                  1,
                  2071.419677734375,
                  165.71359252929688
                ],
                [
                  "SO49260",
                  1,
                  "2021-01-09",
                  "Brett Sanchez",
                  "brett20@adventure-works.com",
                  "Mountain-200 Black, 46",
                  1,
                  2049.09814453125,
                  163.9279022216797
                ],
                [
                  "SO49261",
                  1,
                  "2021-01-09",
                  "Linda Carlson",
                  "linda33@adventure-works.com",
                  "Mountain-200 Black, 42",
                  1,
                  2049.09814453125,
                  163.9279022216797
                ],
                [
                  "SO49268",
                  1,
                  "2021-01-09",
                  "Mackenzie James",
                  "mackenzie6@adventure-works.com",
                  "Mountain-200 Silver, 46",
                  1,
                  2071.419677734375,
                  165.71359252929688
                ],
                [
                  "SO49259",
                  1,
                  "2021-01-09",
                  "Walter Ramos",
                  "walter10@adventure-works.com",
                  "Mountain-200 Black, 42",
                  1,
                  2049.09814453125,
                  163.9279022216797
                ],
                [
                  "SO49271",
                  1,
                  "2021-01-10",
                  "Kevin Simmons",
                  "kevin18@adventure-works.com",
                  "Mountain-200 Silver, 42",
                  1,
                  2071.419677734375,
                  165.71359252929688
                ],
                [
                  "SO49272",
                  1,
                  "2021-01-10",
                  "Alejandro Kumar",
                  "alejandro34@adventure-works.com",
                  "Mountain-200 Black, 46",
                  1,
                  2049.09814453125,
                  163.9279022216797
                ],
                [
                  "SO49269",
                  1,
                  "2021-01-10",
                  "Jada Rogers",
                  "jada11@adventure-works.com",
                  "Road-250 Black, 44",
                  1,
                  2181.5625,
                  174.52499389648438
                ],
                [
                  "SO49273",
                  1,
                  "2021-01-10",
                  "Nicole Ward",
                  "nicole39@adventure-works.com",
                  "Mountain-200 Silver, 38",
                  1,
                  2071.419677734375,
                  165.71359252929688
                ],
                [
                  "SO49274",
                  1,
                  "2021-01-10",
                  "Jennifer Ramirez",
                  "jennifer69@adventure-works.com",
                  "Mountain-200 Black, 46",
                  1,
                  2049.09814453125,
                  163.9279022216797
                ],
                [
                  "SO49275",
                  1,
                  "2021-01-10",
                  "Curtis Zheng",
                  "curtis16@adventure-works.com",
                  "Road-250 Red, 44",
                  1,
                  2443.35009765625,
                  195.46800231933594
                ],
                [
                  "SO49270",
                  1,
                  "2021-01-10",
                  "Melinda Gutierrez",
                  "melinda6@adventure-works.com",
                  "Mountain-200 Silver, 38",
                  1,
                  2071.419677734375,
                  165.71359252929688
                ],
                [
                  "SO49276",
                  1,
                  "2021-01-11",
                  "Wesley He",
                  "wesley18@adventure-works.com",
                  "Road-250 Black, 58",
                  1,
                  2181.5625,
                  174.52499389648438
                ],
                [
                  "SO49279",
                  1,
                  "2021-01-11",
                  "Tanya Ramos",
                  "tanya14@adventure-works.com",
                  "Mountain-200 Black, 46",
                  1,
                  2049.09814453125,
                  163.9279022216797
                ],
                [
                  "SO49278",
                  1,
                  "2021-01-11",
                  "Madison Foster",
                  "madison28@adventure-works.com",
                  "Mountain-200 Black, 38",
                  1,
                  2049.09814453125,
                  163.9279022216797
                ],
                [
                  "SO49277",
                  1,
                  "2021-01-11",
                  "Nathan Hill",
                  "nathan42@adventure-works.com",
                  "Mountain-200 Silver, 38",
                  1,
                  2071.419677734375,
                  165.71359252929688
                ],
                [
                  "SO49287",
                  1,
                  "2021-01-12",
                  "Rebekah Garcia",
                  "rebekah14@adventure-works.com",
                  "Mountain-200 Silver, 46",
                  1,
                  2071.419677734375,
                  165.71359252929688
                ],
                [
                  "SO49282",
                  1,
                  "2021-01-12",
                  "Ricardo Kumar",
                  "ricardo7@adventure-works.com",
                  "Mountain-200 Black, 46",
                  1,
                  2049.09814453125,
                  163.9279022216797
                ],
                [
                  "SO49288",
                  1,
                  "2021-01-12",
                  "Isaac Cook",
                  "isaac21@adventure-works.com",
                  "Mountain-200 Silver, 42",
                  1,
                  2071.419677734375,
                  165.71359252929688
                ],
                [
                  "SO49283",
                  1,
                  "2021-01-12",
                  "Latasha Romero",
                  "latasha9@adventure-works.com",
                  "Mountain-200 Silver, 38",
                  1,
                  2071.419677734375,
                  165.71359252929688
                ],
                [
                  "SO49280",
                  1,
                  "2021-01-12",
                  "Ronnie Ma",
                  "ronnie14@adventure-works.com",
                  "Road-250 Red, 44",
                  1,
                  2443.35009765625,
                  195.46800231933594
                ],
                [
                  "SO49281",
                  1,
                  "2021-01-12",
                  "Tanya Blanco",
                  "tanya12@adventure-works.com",
                  "Road-650 Black, 52",
                  1,
                  782.989990234375,
                  62.639198303222656
                ],
                [
                  "SO49284",
                  1,
                  "2021-01-12",
                  "Tanya Munoz",
                  "tanya3@adventure-works.com",
                  "Road-250 Black, 48",
                  1,
                  2181.5625,
                  174.52499389648438
                ],
                [
                  "SO49285",
                  1,
                  "2021-01-12",
                  "Robert Henderson",
                  "robert18@adventure-works.com",
                  "Mountain-200 Silver, 46",
                  1,
                  2071.419677734375,
                  165.71359252929688
                ],
                [
                  "SO49286",
                  1,
                  "2021-01-12",
                  "Chloe Turner",
                  "chloe2@adventure-works.com",
                  "Mountain-200 Silver, 38",
                  1,
                  2071.419677734375,
                  165.71359252929688
                ],
                [
                  "SO49289",
                  1,
                  "2021-01-12",
                  "Stacey She",
                  "stacey24@adventure-works.com",
                  "Road-650 Red, 52",
                  1,
                  782.989990234375,
                  62.639198303222656
                ],
                [
                  "SO49299",
                  1,
                  "2021-01-13",
                  "Rafael Nath",
                  "rafael42@adventure-works.com",
                  "Road-250 Black, 52",
                  1,
                  2181.5625,
                  174.52499389648438
                ],
                [
                  "SO49291",
                  1,
                  "2021-01-13",
                  "Bridget Raje",
                  "bridget16@adventure-works.com",
                  "Road-550-W Yellow, 44",
                  1,
                  1000.4375,
                  80.03500366210938
                ],
                [
                  "SO49292",
                  1,
                  "2021-01-13",
                  "Joe Patel",
                  "joe7@adventure-works.com",
                  "Road-550-W Yellow, 48",
                  1,
                  1000.4375,
                  80.03500366210938
                ],
                [
                  "SO49290",
                  1,
                  "2021-01-13",
                  "Jenny Zeng",
                  "jenny24@adventure-works.com",
                  "Road-250 Red, 48",
                  1,
                  2443.35009765625,
                  195.46800231933594
                ],
                [
                  "SO49298",
                  1,
                  "2021-01-13",
                  "Jenny Tang",
                  "jenny27@adventure-works.com",
                  "Mountain-200 Silver, 46",
                  1,
                  2071.419677734375,
                  165.71359252929688
                ],
                [
                  "SO49300",
                  1,
                  "2021-01-13",
                  "Roberto Gill",
                  "roberto14@adventure-works.com",
                  "Road-550-W Yellow, 40",
                  1,
                  1000.4375,
                  80.03500366210938
                ],
                [
                  "SO49294",
                  1,
                  "2021-01-13",
                  "Mariah Russell",
                  "mariah24@adventure-works.com",
                  "Road-250 Red, 44",
                  1,
                  2443.35009765625,
                  195.46800231933594
                ],
                [
                  "SO49297",
                  1,
                  "2021-01-13",
                  "Lacey Zhang",
                  "lacey12@adventure-works.com",
                  "Mountain-200 Black, 38",
                  1,
                  2049.09814453125,
                  163.9279022216797
                ],
                [
                  "SO49296",
                  1,
                  "2021-01-13",
                  "Thomas Moore",
                  "thomas69@adventure-works.com",
                  "Mountain-200 Silver, 46",
                  1,
                  2071.419677734375,
                  165.71359252929688
                ],
                [
                  "SO49293",
                  1,
                  "2021-01-13",
                  "Felicia Blanco",
                  "felicia15@adventure-works.com",
                  "Mountain-200 Black, 38",
                  1,
                  2049.09814453125,
                  163.9279022216797
                ],
                [
                  "SO49295",
                  1,
                  "2021-01-13",
                  "Casey Kumar",
                  "casey8@adventure-works.com",
                  "Mountain-200 Black, 46",
                  1,
                  2049.09814453125,
                  163.9279022216797
                ],
                [
                  "SO49307",
                  1,
                  "2021-01-14",
                  "Jack Li",
                  "jack27@adventure-works.com",
                  "Mountain-200 Black, 38",
                  1,
                  2049.09814453125,
                  163.9279022216797
                ],
                [
                  "SO49308",
                  1,
                  "2021-01-14",
                  "Ian Harris",
                  "ian13@adventure-works.com",
                  "Mountain-200 Silver, 38",
                  1,
                  2071.419677734375,
                  165.71359252929688
                ],
                [
                  "SO49306",
                  1,
                  "2021-01-14",
                  "Rachel Taylor",
                  "rachel11@adventure-works.com",
                  "Road-250 Black, 44",
                  1,
                  2181.5625,
                  174.52499389648438
                ],
                [
                  "SO49305",
                  1,
                  "2021-01-14",
                  "Mya Butler",
                  "mya14@adventure-works.com",
                  "Road-250 Red, 58",
                  1,
                  2181.5625,
                  174.52499389648438
                ],
                [
                  "SO49309",
                  1,
                  "2021-01-14",
                  "Mario Rai",
                  "mario16@adventure-works.com",
                  "Road-550-W Yellow, 38",
                  1,
                  1000.4375,
                  80.03500366210938
                ],
                [
                  "SO49303",
                  1,
                  "2021-01-14",
                  "Franklin Xu",
                  "franklin23@adventure-works.com",
                  "Road-250 Black, 52",
                  1,
                  2181.5625,
                  174.52499389648438
                ],
                [
                  "SO49310",
                  1,
                  "2021-01-14",
                  "Megan Rivera",
                  "megan37@adventure-works.com",
                  "Road-650 Black, 62",
                  1,
                  782.989990234375,
                  62.639198303222656
                ],
                [
                  "SO49302",
                  1,
                  "2021-01-14",
                  "Ann Lopez",
                  "ann21@adventure-works.com",
                  "Road-250 Red, 58",
                  1,
                  2181.5625,
                  174.52499389648438
                ],
                [
                  "SO49301",
                  1,
                  "2021-01-14",
                  "Kristi Sai",
                  "kristi22@adventure-works.com",
                  "Road-250 Black, 52",
                  1,
                  2181.5625,
                  174.52499389648438
                ],
                [
                  "SO49304",
                  1,
                  "2021-01-14",
                  "Kelsey Rai",
                  "kelsey16@adventure-works.com",
                  "Road-550-W Yellow, 38",
                  1,
                  1000.4375,
                  80.03500366210938
                ],
                [
                  "SO49311",
                  1,
                  "2021-01-14",
                  "Derek Chande",
                  "derek13@adventure-works.com",
                  "Road-650 Black, 60",
                  1,
                  782.989990234375,
                  62.639198303222656
                ],
                [
                  "SO49312",
                  1,
                  "2021-01-15",
                  "Xavier Anderson",
                  "xavier7@adventure-works.com",
                  "Road-250 Red, 48",
                  1,
                  2443.35009765625,
                  195.46800231933594
                ],
                [
                  "SO49317",
                  1,
                  "2021-01-15",
                  "Ian King",
                  "ian25@adventure-works.com",
                  "Road-550-W Yellow, 38",
                  1,
                  1000.4375,
                  80.03500366210938
                ],
                [
                  "SO49314",
                  1,
                  "2021-01-15",
                  "Robyn Munoz",
                  "robyn5@adventure-works.com",
                  "Mountain-200 Black, 46",
                  1,
                  2049.09814453125,
                  163.9279022216797
                ],
                [
                  "SO49315",
                  1,
                  "2021-01-15",
                  "Stacey Yang",
                  "stacey5@adventure-works.com",
                  "Mountain-200 Black, 46",
                  1,
                  2049.09814453125,
                  163.9279022216797
                ],
                [
                  "SO49313",
                  1,
                  "2021-01-15",
                  "Nathan Wang",
                  "nathan21@adventure-works.com",
                  "Mountain-200 Black, 38",
                  1,
                  2049.09814453125,
                  163.9279022216797
                ],
                [
                  "SO49316",
                  1,
                  "2021-01-15",
                  "Pedro Mu�oz",
                  "pedro28@adventure-works.com",
                  "Road-250 Black, 58",
                  1,
                  2181.5625,
                  174.52499389648438
                ],
                [
                  "SO49320",
                  1,
                  "2021-01-15",
                  "Naomi Ruiz",
                  "naomi2@adventure-works.com",
                  "Road-250 Black, 44",
                  1,
                  2181.5625,
                  174.52499389648438
                ],
                [
                  "SO49319",
                  1,
                  "2021-01-15",
                  "Patricia Perez",
                  "patricia22@adventure-works.com",
                  "Road-550-W Yellow, 44",
                  1,
                  1000.4375,
                  80.03500366210938
                ],
                [
                  "SO49322",
                  1,
                  "2021-01-15",
                  "Candice Cai",
                  "candice5@adventure-works.com",
                  "Road-650 Red, 48",
                  1,
                  782.989990234375,
                  62.639198303222656
                ],
                [
                  "SO49321",
                  1,
                  "2021-01-15",
                  "Taylor Flores",
                  "taylor37@adventure-works.com",
                  "Mountain-200 Silver, 46",
                  1,
                  2071.419677734375,
                  165.71359252929688
                ],
                [
                  "SO49318",
                  1,
                  "2021-01-15",
                  "Emily Davis",
                  "emily5@adventure-works.com",
                  "Road-650 Black, 58",
                  1,
                  782.989990234375,
                  62.639198303222656
                ],
                [
                  "SO49325",
                  1,
                  "2021-01-16",
                  "Christy Ye",
                  "christy9@adventure-works.com",
                  "Mountain-200 Silver, 46",
                  1,
                  2071.419677734375,
                  165.71359252929688
                ],
                [
                  "SO49323",
                  1,
                  "2021-01-16",
                  "Shannon Torres",
                  "shannon33@adventure-works.com",
                  "Mountain-200 Black, 46",
                  1,
                  2049.09814453125,
                  163.9279022216797
                ],
                [
                  "SO49324",
                  1,
                  "2021-01-16",
                  "Ruth Suri",
                  "ruth6@adventure-works.com",
                  "Mountain-200 Silver, 38",
                  1,
                  2071.419677734375,
                  165.71359252929688
                ],
                [
                  "SO49326",
                  1,
                  "2021-01-16",
                  "Hunter Garcia",
                  "hunter48@adventure-works.com",
                  "Mountain-200 Black, 42",
                  1,
                  2049.09814453125,
                  163.9279022216797
                ],
                [
                  "SO49328",
                  1,
                  "2021-01-17",
                  "Casey Nara",
                  "casey18@adventure-works.com",
                  "Road-250 Black, 44",
                  1,
                  2181.5625,
                  174.52499389648438
                ],
                [
                  "SO49329",
                  1,
                  "2021-01-17",
                  "Stephanie King",
                  "stephanie64@adventure-works.com",
                  "Road-550-W Yellow, 44",
                  1,
                  1000.4375,
                  80.03500366210938
                ],
                [
                  "SO49327",
                  1,
                  "2021-01-17",
                  "Darryl Ye",
                  "darryl9@adventure-works.com",
                  "Road-250 Red, 48",
                  1,
                  2443.35009765625,
                  195.46800231933594
                ],
                [
                  "SO49330",
                  1,
                  "2021-01-17",
                  "Jill Suarez",
                  "jill27@adventure-works.com",
                  "Mountain-200 Silver, 42",
                  1,
                  2071.419677734375,
                  165.71359252929688
                ],
                [
                  "SO49331",
                  1,
                  "2021-01-17",
                  "Jacquelyn Gutierrez",
                  "jacquelyn11@adventure-works.com",
                  "Mountain-200 Black, 38",
                  1,
                  2049.09814453125,
                  163.9279022216797
                ],
                [
                  "SO49332",
                  1,
                  "2021-01-17",
                  "Patrick Sands",
                  "patrick4@adventure-works.com",
                  "Mountain-200 Silver, 38",
                  1,
                  2071.419677734375,
                  165.71359252929688
                ],
                [
                  "SO49334",
                  1,
                  "2021-01-17",
                  "Brandon Ross",
                  "brandon1@adventure-works.com",
                  "Mountain-200 Black, 42",
                  1,
                  2049.09814453125,
                  163.9279022216797
                ],
                [
                  "SO49333",
                  1,
                  "2021-01-17",
                  "Lisa Huang",
                  "lisa9@adventure-works.com",
                  "Mountain-200 Silver, 42",
                  1,
                  2071.419677734375,
                  165.71359252929688
                ],
                [
                  "SO49338",
                  1,
                  "2021-01-17",
                  "Alisha Guo",
                  "alisha18@adventure-works.com",
                  "Road-250 Red, 48",
                  1,
                  2443.35009765625,
                  195.46800231933594
                ],
                [
                  "SO49336",
                  1,
                  "2021-01-17",
                  "Steve Liu",
                  "steve8@adventure-works.com",
                  "Road-250 Black, 52",
                  1,
                  2181.5625,
                  174.52499389648438
                ],
                [
                  "SO49335",
                  1,
                  "2021-01-17",
                  "Jenny Kumar",
                  "jenny31@adventure-works.com",
                  "Road-250 Black, 48",
                  1,
                  2181.5625,
                  174.52499389648438
                ],
                [
                  "SO49337",
                  1,
                  "2021-01-17",
                  "Jade Kelly",
                  "jade1@adventure-works.com",
                  "Mountain-200 Black, 46",
                  1,
                  2049.09814453125,
                  163.9279022216797
                ],
                [
                  "SO49347",
                  1,
                  "2021-01-18",
                  "Darren Munoz",
                  "darren29@adventure-works.com",
                  "Road-250 Red, 48",
                  1,
                  2443.35009765625,
                  195.46800231933594
                ],
                [
                  "SO49348",
                  1,
                  "2021-01-18",
                  "Francis Serrano",
                  "francis14@adventure-works.com",
                  "Road-250 Red, 48",
                  1,
                  2443.35009765625,
                  195.46800231933594
                ],
                [
                  "SO49345",
                  1,
                  "2021-01-18",
                  "Ricky Alonso",
                  "ricky8@adventure-works.com",
                  "Mountain-200 Black, 46",
                  1,
                  2049.09814453125,
                  163.9279022216797
                ],
                [
                  "SO49344",
                  1,
                  "2021-01-18",
                  "Wyatt Mitchell",
                  "wyatt40@adventure-works.com",
                  "Mountain-200 Silver, 38",
                  1,
                  2071.419677734375,
                  165.71359252929688
                ],
                [
                  "SO49343",
                  1,
                  "2021-01-18",
                  "Melinda Torres",
                  "melinda7@adventure-works.com",
                  "Mountain-200 Silver, 46",
                  1,
                  2071.419677734375,
                  165.71359252929688
                ],
                [
                  "SO49346",
                  1,
                  "2021-01-18",
                  "Karl Kumar",
                  "karl8@adventure-works.com",
                  "Mountain-200 Black, 46",
                  1,
                  2049.09814453125,
                  163.9279022216797
                ],
                [
                  "SO49342",
                  1,
                  "2021-01-18",
                  "Jillian Fernandez",
                  "jillian16@adventure-works.com",
                  "Mountain-200 Silver, 46",
                  1,
                  2071.419677734375,
                  165.71359252929688
                ],
                [
                  "SO49341",
                  1,
                  "2021-01-18",
                  "Jill Ashe",
                  "jill12@adventure-works.com",
                  "Road-550-W Yellow, 38",
                  1,
                  1000.4375,
                  80.03500366210938
                ],
                [
                  "SO49339",
                  1,
                  "2021-01-18",
                  "Shane Sanchez",
                  "shane23@adventure-works.com",
                  "Road-250 Red, 44",
                  1,
                  2443.35009765625,
                  195.46800231933594
                ],
                [
                  "SO49340",
                  1,
                  "2021-01-18",
                  "Tyrone Rubio",
                  "tyrone20@adventure-works.com",
                  "Road-250 Black, 48",
                  1,
                  2181.5625,
                  174.52499389648438
                ],
                [
                  "SO49350",
                  1,
                  "2021-01-18",
                  "Cassidy Wood",
                  "cassidy2@adventure-works.com",
                  "Road-650 Red, 52",
                  1,
                  782.989990234375,
                  62.639198303222656
                ],
                [
                  "SO49349",
                  1,
                  "2021-01-18",
                  "Angel Brooks",
                  "angel0@adventure-works.com",
                  "Mountain-200 Black, 42",
                  1,
                  2049.09814453125,
                  163.9279022216797
                ],
                [
                  "SO49351",
                  1,
                  "2021-01-18",
                  "Austin Alexander",
                  "austin15@adventure-works.com",
                  "Road-650 Red, 48",
                  1,
                  782.989990234375,
                  62.639198303222656
                ],
                [
                  "SO49361",
                  1,
                  "2021-01-19",
                  "Mandy Chen",
                  "mandy3@adventure-works.com",
                  "Road-250 Black, 44",
                  1,
                  2181.5625,
                  174.52499389648438
                ],
                [
                  "SO49352",
                  1,
                  "2021-01-19",
                  "Morgan Smith",
                  "morgan23@adventure-works.com",
                  "Road-250 Black, 48",
                  1,
                  2181.5625,
                  174.52499389648438
                ],
                [
                  "SO49353",
                  1,
                  "2021-01-19",
                  "Brian Sanchez",
                  "brian29@adventure-works.com",
                  "Road-650 Red, 62",
                  1,
                  782.989990234375,
                  62.639198303222656
                ],
                [
                  "SO49359",
                  1,
                  "2021-01-19",
                  "Xavier Turner",
                  "xavier37@adventure-works.com",
                  "Road-550-W Yellow, 42",
                  1,
                  1000.4375,
                  80.03500366210938
                ],
                [
                  "SO49355",
                  1,
                  "2021-01-19",
                  "Ruben Suarez",
                  "ruben42@adventure-works.com",
                  "Mountain-200 Black, 46",
                  1,
                  2049.09814453125,
                  163.9279022216797
                ],
                [
                  "SO49354",
                  1,
                  "2021-01-19",
                  "Brandon Lal",
                  "brandon26@adventure-works.com",
                  "Road-250 Black, 44",
                  1,
                  2181.5625,
                  174.52499389648438
                ],
                [
                  "SO49356",
                  1,
                  "2021-01-19",
                  "Bruce Lopez",
                  "bruce16@adventure-works.com",
                  "Road-250 Red, 48",
                  1,
                  2443.35009765625,
                  195.46800231933594
                ],
                [
                  "SO49357",
                  1,
                  "2021-01-19",
                  "Justin Martin",
                  "justin42@adventure-works.com",
                  "Road-250 Black, 52",
                  1,
                  2181.5625,
                  174.52499389648438
                ],
                [
                  "SO49360",
                  1,
                  "2021-01-19",
                  "Gabriella Perez",
                  "gabriella35@adventure-works.com",
                  "Mountain-200 Black, 38",
                  1,
                  2049.09814453125,
                  163.9279022216797
                ],
                [
                  "SO49358",
                  1,
                  "2021-01-19",
                  "Dakota Russell",
                  "dakota16@adventure-works.com",
                  "Mountain-200 Silver, 46",
                  1,
                  2071.419677734375,
                  165.71359252929688
                ],
                [
                  "SO49366",
                  1,
                  "2021-01-20",
                  "Kathryn Jai",
                  "kathryn10@adventure-works.com",
                  "Road-250 Black, 52",
                  1,
                  2181.5625,
                  174.52499389648438
                ],
                [
                  "SO49365",
                  1,
                  "2021-01-20",
                  "Kendra Munoz",
                  "kendra7@adventure-works.com",
                  "Road-250 Red, 44",
                  1,
                  2443.35009765625,
                  195.46800231933594
                ],
                [
                  "SO49364",
                  1,
                  "2021-01-20",
                  "Katie Nath",
                  "katie21@adventure-works.com",
                  "Road-250 Black, 58",
                  1,
                  2181.5625,
                  174.52499389648438
                ],
                [
                  "SO49370",
                  1,
                  "2021-01-20",
                  "Ebony Hernandez",
                  "ebony26@adventure-works.com",
                  "Road-250 Black, 58",
                  1,
                  2181.5625,
                  174.52499389648438
                ],
                [
                  "SO49363",
                  1,
                  "2021-01-20",
                  "Madison Clark",
                  "madison20@adventure-works.com",
                  "Mountain-200 Black, 42",
                  1,
                  2049.09814453125,
                  163.9279022216797
                ],
                [
                  "SO49362",
                  1,
                  "2021-01-20",
                  "Micheal Rubio",
                  "micheal17@adventure-works.com",
                  "Mountain-200 Black, 38",
                  1,
                  2049.09814453125,
                  163.9279022216797
                ],
                [
                  "SO49369",
                  1,
                  "2021-01-20",
                  "Tyler Lewis",
                  "tyler21@adventure-works.com",
                  "Road-650 Black, 52",
                  1,
                  782.989990234375,
                  62.639198303222656
                ],
                [
                  "SO49368",
                  1,
                  "2021-01-20",
                  "Lucas Ramirez",
                  "lucas79@adventure-works.com",
                  "Road-650 Red, 62",
                  1,
                  782.989990234375,
                  62.639198303222656
                ],
                [
                  "SO49367",
                  1,
                  "2021-01-20",
                  "Yolanda Rai",
                  "yolanda16@adventure-works.com",
                  "Mountain-200 Black, 46",
                  1,
                  2049.09814453125,
                  163.9279022216797
                ],
                [
                  "SO49371",
                  1,
                  "2021-01-20",
                  "Joanna Serrano",
                  "joanna15@adventure-works.com",
                  "Road-650 Red, 48",
                  1,
                  782.989990234375,
                  62.639198303222656
                ],
                [
                  "SO49380",
                  1,
                  "2021-01-21",
                  "Andrea Baker",
                  "andrea38@adventure-works.com",
                  "Road-650 Black, 62",
                  1,
                  782.989990234375,
                  62.639198303222656
                ],
                [
                  "SO49381",
                  1,
                  "2021-01-21",
                  "Ivan Lopez",
                  "ivan13@adventure-works.com",
                  "Road-650 Black, 58",
                  1,
                  782.989990234375,
                  62.639198303222656
                ],
                [
                  "SO49372",
                  1,
                  "2021-01-21",
                  "Bianca Liang",
                  "bianca13@adventure-works.com",
                  "Road-250 Red, 48",
                  1,
                  2443.35009765625,
                  195.46800231933594
                ],
                [
                  "SO49373",
                  1,
                  "2021-01-21",
                  "Deanna Hernandez",
                  "deanna29@adventure-works.com",
                  "Road-550-W Yellow, 40",
                  1,
                  1000.4375,
                  80.03500366210938
                ],
                [
                  "SO49374",
                  1,
                  "2021-01-21",
                  "Laura Li",
                  "laura10@adventure-works.com",
                  "Road-650 Black, 58",
                  1,
                  782.989990234375,
                  62.639198303222656
                ],
                [
                  "SO49376",
                  1,
                  "2021-01-21",
                  "Shane Gonzalez",
                  "shane21@adventure-works.com",
                  "Mountain-200 Silver, 42",
                  1,
                  2071.419677734375,
                  165.71359252929688
                ],
                [
                  "SO49375",
                  1,
                  "2021-01-21",
                  "Preston Raman",
                  "preston11@adventure-works.com",
                  "Mountain-200 Silver, 42",
                  1,
                  2071.419677734375,
                  165.71359252929688
                ],
                [
                  "SO49377",
                  1,
                  "2021-01-21",
                  "Rosa Chen",
                  "rosa2@adventure-works.com",
                  "Road-250 Red, 58",
                  1,
                  2181.5625,
                  174.52499389648438
                ],
                [
                  "SO49382",
                  1,
                  "2021-01-21",
                  "Jessie Romero",
                  "jessie15@adventure-works.com",
                  "Road-550-W Yellow, 40",
                  1,
                  1000.4375,
                  80.03500366210938
                ],
                [
                  "SO49383",
                  1,
                  "2021-01-21",
                  "Meredith Rana",
                  "meredith10@adventure-works.com",
                  "Road-550-W Yellow, 40",
                  1,
                  1000.4375,
                  80.03500366210938
                ],
                [
                  "SO49378",
                  1,
                  "2021-01-21",
                  "Charles Brown",
                  "charles7@adventure-works.com",
                  "Mountain-200 Black, 42",
                  1,
                  2049.09814453125,
                  163.9279022216797
                ],
                [
                  "SO49379",
                  1,
                  "2021-01-21",
                  "Jennifer Rodriguez",
                  "jennifer47@adventure-works.com",
                  "Mountain-200 Black, 42",
                  1,
                  2049.09814453125,
                  163.9279022216797
                ],
                [
                  "SO49384",
                  1,
                  "2021-01-21",
                  "Lydia Patel",
                  "lydia2@adventure-works.com",
                  "Mountain-200 Silver, 42",
                  1,
                  2071.419677734375,
                  165.71359252929688
                ],
                [
                  "SO49394",
                  1,
                  "2021-01-22",
                  "Derrick Rubio",
                  "derrick19@adventure-works.com",
                  "Road-250 Black, 58",
                  1,
                  2181.5625,
                  174.52499389648438
                ],
                [
                  "SO49393",
                  1,
                  "2021-01-22",
                  "Casey Alonso",
                  "casey32@adventure-works.com",
                  "Road-250 Black, 48",
                  1,
                  2181.5625,
                  174.52499389648438
                ],
                [
                  "SO49395",
                  1,
                  "2021-01-22",
                  "Donna Pal",
                  "donna11@adventure-works.com",
                  "Road-250 Red, 48",
                  1,
                  2443.35009765625,
                  195.46800231933594
                ],
                [
                  "SO49388",
                  1,
                  "2021-01-22",
                  "Crystal Zeng",
                  "crystal1@adventure-works.com",
                  "Mountain-200 Silver, 46",
                  1,
                  2071.419677734375,
                  165.71359252929688
                ],
                [
                  "SO49392",
                  1,
                  "2021-01-22",
                  "Melody Jimenez",
                  "melody6@adventure-works.com",
                  "Mountain-200 Black, 46",
                  1,
                  2049.09814453125,
                  163.9279022216797
                ],
                [
                  "SO49391",
                  1,
                  "2021-01-22",
                  "Adam Lal",
                  "adam25@adventure-works.com",
                  "Road-250 Black, 58",
                  1,
                  2181.5625,
                  174.52499389648438
                ],
                [
                  "SO49389",
                  1,
                  "2021-01-22",
                  "Jerry Andersen",
                  "jerry14@adventure-works.com",
                  "Road-650 Black, 60",
                  1,
                  782.989990234375,
                  62.639198303222656
                ],
                [
                  "SO49390",
                  1,
                  "2021-01-22",
                  "Marcus Robinson",
                  "marcus19@adventure-works.com",
                  "Road-650 Black, 60",
                  1,
                  782.989990234375,
                  62.639198303222656
                ],
                [
                  "SO49385",
                  1,
                  "2021-01-22",
                  "Renee Hernandez",
                  "renee3@adventure-works.com",
                  "Road-250 Black, 48",
                  1,
                  2181.5625,
                  174.52499389648438
                ],
                [
                  "SO49386",
                  1,
                  "2021-01-22",
                  "Seth Sanchez",
                  "seth88@adventure-works.com",
                  "Road-250 Black, 44",
                  1,
                  2181.5625,
                  174.52499389648438
                ],
                [
                  "SO49387",
                  1,
                  "2021-01-22",
                  "Jarrod Mehta",
                  "jarrod14@adventure-works.com",
                  "Road-250 Red, 48",
                  1,
                  2443.35009765625,
                  195.46800231933594
                ],
                [
                  "SO49397",
                  1,
                  "2021-01-23",
                  "Kaylee Gray",
                  "kaylee4@adventure-works.com",
                  "Road-650 Red, 58",
                  1,
                  782.989990234375,
                  62.639198303222656
                ],
                [
                  "SO49396",
                  1,
                  "2021-01-23",
                  "Carlos Evans",
                  "carlos26@adventure-works.com",
                  "Road-250 Red, 52",
                  1,
                  2443.35009765625,
                  195.46800231933594
                ],
                [
                  "SO49398",
                  1,
                  "2021-01-23",
                  "Valerie Huang",
                  "valerie7@adventure-works.com",
                  "Road-650 Red, 52",
                  1,
                  782.989990234375,
                  62.639198303222656
                ],
                [
                  "SO49404",
                  1,
                  "2021-01-24",
                  "Rachael Lopez",
                  "rachael15@adventure-works.com",
                  "Road-250 Black, 52",
                  1,
                  2181.5625,
                  174.52499389648438
                ],
                [
                  "SO49399",
                  1,
                  "2021-01-24",
                  "Randall Ortega",
                  "randall24@adventure-works.com",
                  "Road-650 Black, 44",
                  1,
                  782.989990234375,
                  62.639198303222656
                ],
                [
                  "SO49408",
                  1,
                  "2021-01-24",
                  "Jordan Scott",
                  "jordan69@adventure-works.com",
                  "Road-650 Red, 60",
                  1,
                  782.989990234375,
                  62.639198303222656
                ],
                [
                  "SO49401",
                  1,
                  "2021-01-24",
                  "Jay Nicholls",
                  "jay39@adventure-works.com",
                  "Road-250 Red, 48",
                  1,
                  2443.35009765625,
                  195.46800231933594
                ],
                [
                  "SO49400",
                  1,
                  "2021-01-24",
                  "Theodore Rowe",
                  "theodore22@adventure-works.com",
                  "Road-250 Black, 44",
                  1,
                  2181.5625,
                  174.52499389648438
                ],
                [
                  "SO49405",
                  1,
                  "2021-01-24",
                  "Bailey Carter",
                  "bailey30@adventure-works.com",
                  "Mountain-200 Black, 42",
                  1,
                  2049.09814453125,
                  163.9279022216797
                ],
                [
                  "SO49409",
                  1,
                  "2021-01-24",
                  "Johnny Raje",
                  "johnny15@adventure-works.com",
                  "Mountain-200 Black, 38",
                  1,
                  2049.09814453125,
                  163.9279022216797
                ],
                [
                  "SO49407",
                  1,
                  "2021-01-24",
                  "Isabella Baker",
                  "isabella47@adventure-works.com",
                  "Road-550-W Yellow, 48",
                  1,
                  1000.4375,
                  80.03500366210938
                ],
                [
                  "SO49402",
                  1,
                  "2021-01-24",
                  "Kevin Coleman",
                  "kevin9@adventure-works.com",
                  "Mountain-200 Silver, 38",
                  1,
                  2071.419677734375,
                  165.71359252929688
                ],
                [
                  "SO49403",
                  1,
                  "2021-01-24",
                  "Shaun Chapman",
                  "shaun17@adventure-works.com",
                  "Mountain-200 Black, 46",
                  1,
                  2049.09814453125,
                  163.9279022216797
                ],
                [
                  "SO49406",
                  1,
                  "2021-01-24",
                  "Victoria Peterson",
                  "victoria41@adventure-works.com",
                  "Mountain-200 Silver, 42",
                  1,
                  2071.419677734375,
                  165.71359252929688
                ],
                [
                  "SO49420",
                  1,
                  "2021-01-25",
                  "Seth Green",
                  "seth32@adventure-works.com",
                  "Road-550-W Yellow, 48",
                  1,
                  1000.4375,
                  80.03500366210938
                ],
                [
                  "SO49418",
                  1,
                  "2021-01-25",
                  "Lawrence Sanz",
                  "lawrence19@adventure-works.com",
                  "Mountain-200 Silver, 38",
                  1,
                  2071.419677734375,
                  165.71359252929688
                ],
                [
                  "SO49417",
                  1,
                  "2021-01-25",
                  "Jesse Sanchez",
                  "jesse18@adventure-works.com",
                  "Mountain-200 Black, 46",
                  1,
                  2049.09814453125,
                  163.9279022216797
                ],
                [
                  "SO49416",
                  1,
                  "2021-01-25",
                  "Tonya Tang",
                  "tonya4@adventure-works.com",
                  "Road-650 Black, 48",
                  1,
                  782.989990234375,
                  62.639198303222656
                ],
                [
                  "SO49413",
                  1,
                  "2021-01-25",
                  "Robin Ortega",
                  "robin17@adventure-works.com",
                  "Road-250 Red, 48",
                  1,
                  2443.35009765625,
                  195.46800231933594
                ],
                [
                  "SO49414",
                  1,
                  "2021-01-25",
                  "Samantha Bennett",
                  "samantha26@adventure-works.com",
                  "Road-250 Red, 44",
                  1,
                  2443.35009765625,
                  195.46800231933594
                ],
                [
                  "SO49415",
                  1,
                  "2021-01-25",
                  "Priscilla Yuan",
                  "priscilla6@adventure-works.com",
                  "Road-250 Red, 52",
                  1,
                  2443.35009765625,
                  195.46800231933594
                ],
                [
                  "SO49412",
                  1,
                  "2021-01-25",
                  "Roberto Vazquez",
                  "roberto15@adventure-works.com",
                  "Road-250 Black, 44",
                  1,
                  2181.5625,
                  174.52499389648438
                ],
                [
                  "SO49410",
                  1,
                  "2021-01-25",
                  "Eddie Dominguez",
                  "eddie13@adventure-works.com",
                  "Road-250 Red, 48",
                  1,
                  2443.35009765625,
                  195.46800231933594
                ],
                [
                  "SO49411",
                  1,
                  "2021-01-25",
                  "Todd Wang",
                  "todd3@adventure-works.com",
                  "Road-250 Red, 44",
                  1,
                  2443.35009765625,
                  195.46800231933594
                ],
                [
                  "SO49419",
                  1,
                  "2021-01-25",
                  "Ashlee Luo",
                  "ashlee13@adventure-works.com",
                  "Road-250 Red, 44",
                  1,
                  2443.35009765625,
                  195.46800231933594
                ],
                [
                  "SO49421",
                  1,
                  "2021-01-25",
                  "Jorge Gao",
                  "jorge17@adventure-works.com",
                  "Road-250 Black, 58",
                  1,
                  2181.5625,
                  174.52499389648438
                ],
                [
                  "SO49422",
                  1,
                  "2021-01-25",
                  "Karla Chander",
                  "karla17@adventure-works.com",
                  "Road-250 Red, 52",
                  1,
                  2443.35009765625,
                  195.46800231933594
                ],
                [
                  "SO49424",
                  1,
                  "2021-01-25",
                  "Donald Lopez",
                  "donald18@adventure-works.com",
                  "Road-650 Black, 52",
                  1,
                  782.989990234375,
                  62.639198303222656
                ],
                [
                  "SO49423",
                  1,
                  "2021-01-25",
                  "Ashlee Beck",
                  "ashlee4@adventure-works.com",
                  "Road-650 Red, 52",
                  1,
                  782.989990234375,
                  62.639198303222656
                ],
                [
                  "SO49425",
                  1,
                  "2021-01-26",
                  "Molly Madan",
                  "molly7@adventure-works.com",
                  "Road-250 Red, 48",
                  1,
                  2443.35009765625,
                  195.46800231933594
                ],
                [
                  "SO49430",
                  1,
                  "2021-01-26",
                  "Luis Lal",
                  "luis29@adventure-works.com",
                  "Road-650 Red, 44",
                  1,
                  782.989990234375,
                  62.639198303222656
                ],
                [
                  "SO49431",
                  1,
                  "2021-01-26",
                  "Morgan Brooks",
                  "morgan67@adventure-works.com",
                  "Road-650 Black, 58",
                  1,
                  782.989990234375,
                  62.639198303222656
                ],
                [
                  "SO49426",
                  1,
                  "2021-01-26",
                  "Melinda Carlson",
                  "melinda13@adventure-works.com",
                  "Road-650 Red, 60",
                  1,
                  782.989990234375,
                  62.639198303222656
                ],
                [
                  "SO49427",
                  1,
                  "2021-01-26",
                  "Paula Dominguez",
                  "paula15@adventure-works.com",
                  "Road-650 Black, 44",
                  1,
                  782.989990234375,
                  62.639198303222656
                ],
                [
                  "SO49429",
                  1,
                  "2021-01-26",
                  "Eddie Vazquez",
                  "eddie15@adventure-works.com",
                  "Mountain-200 Black, 42",
                  1,
                  2049.09814453125,
                  163.9279022216797
                ],
                [
                  "SO49428",
                  1,
                  "2021-01-26",
                  "Jonathan Clark",
                  "jonathan73@adventure-works.com",
                  "Road-250 Red, 44",
                  1,
                  2443.35009765625,
                  195.46800231933594
                ],
                [
                  "SO49434",
                  1,
                  "2021-01-27",
                  "Dalton Collins",
                  "dalton45@adventure-works.com",
                  "Road-550-W Yellow, 38",
                  1,
                  1000.4375,
                  80.03500366210938
                ],
                [
                  "SO49432",
                  1,
                  "2021-01-27",
                  "Walter Navarro",
                  "walter3@adventure-works.com",
                  "Road-250 Black, 44",
                  1,
                  2181.5625,
                  174.52499389648438
                ],
                [
                  "SO49433",
                  1,
                  "2021-01-27",
                  "Misty Raje",
                  "misty15@adventure-works.com",
                  "Road-250 Black, 44",
                  1,
                  2181.5625,
                  174.52499389648438
                ],
                [
                  "SO49435",
                  1,
                  "2021-01-28",
                  "Jenny Lal",
                  "jenny32@adventure-works.com",
                  "Road-250 Black, 52",
                  1,
                  2181.5625,
                  174.52499389648438
                ],
                [
                  "SO49442",
                  1,
                  "2021-01-28",
                  "Marshall Jai",
                  "marshall32@adventure-works.com",
                  "Road-650 Black, 60",
                  1,
                  782.989990234375,
                  62.639198303222656
                ],
                [
                  "SO49437",
                  1,
                  "2021-01-28",
                  "Ricardo Andersen",
                  "ricardo13@adventure-works.com",
                  "Road-650 Red, 52",
                  1,
                  782.989990234375,
                  62.639198303222656
                ],
                [
                  "SO49436",
                  1,
                  "2021-01-28",
                  "Kyle Young",
                  "kyle44@adventure-works.com",
                  "Road-650 Red, 60",
                  1,
                  782.989990234375,
                  62.639198303222656
                ],
                [
                  "SO49438",
                  1,
                  "2021-01-28",
                  "Kristine Dominguez",
                  "kristine13@adventure-works.com",
                  "Mountain-200 Silver, 46",
                  1,
                  2071.419677734375,
                  165.71359252929688
                ],
                [
                  "SO49439",
                  1,
                  "2021-01-28",
                  "Stacey Li",
                  "stacey3@adventure-works.com",
                  "Mountain-200 Silver, 46",
                  1,
                  2071.419677734375,
                  165.71359252929688
                ],
                [
                  "SO49440",
                  1,
                  "2021-01-28",
                  "Franklin Lal",
                  "franklin26@adventure-works.com",
                  "Mountain-200 Black, 42",
                  1,
                  2049.09814453125,
                  163.9279022216797
                ],
                [
                  "SO49441",
                  1,
                  "2021-01-28",
                  "Carol Long",
                  "carol6@adventure-works.com",
                  "Mountain-200 Black, 38",
                  1,
                  2049.09814453125,
                  163.9279022216797
                ],
                [
                  "SO49553",
                  1,
                  "2021-01-29",
                  "April Beck",
                  "april16@adventure-works.com",
                  "Mountain-200 Silver, 42",
                  1,
                  2071.419677734375,
                  165.71359252929688
                ],
                [
                  "SO49552",
                  1,
                  "2021-01-29",
                  "Colleen Anand",
                  "colleen45@adventure-works.com",
                  "Mountain-200 Black, 38",
                  1,
                  2049.09814453125,
                  163.9279022216797
                ],
                [
                  "SO49551",
                  1,
                  "2021-01-29",
                  "Chad Luo",
                  "chad7@adventure-works.com",
                  "Road-650 Black, 58",
                  1,
                  782.989990234375,
                  62.639198303222656
                ],
                [
                  "SO49550",
                  1,
                  "2021-01-29",
                  "Marshall Luo",
                  "marshall27@adventure-works.com",
                  "Road-650 Red, 48",
                  1,
                  782.989990234375,
                  62.639198303222656
                ],
                [
                  "SO49549",
                  1,
                  "2021-01-29",
                  "Alicia Sharma",
                  "alicia7@adventure-works.com",
                  "Road-550-W Yellow, 38",
                  1,
                  1000.4375,
                  80.03500366210938
                ],
                [
                  "SO49554",
                  1,
                  "2021-01-29",
                  "Garrett Rogers",
                  "garrett24@adventure-works.com",
                  "Road-650 Black, 62",
                  1,
                  782.989990234375,
                  62.639198303222656
                ],
                [
                  "SO49555",
                  1,
                  "2021-01-29",
                  "Jenny Ye",
                  "jenny12@adventure-works.com",
                  "Road-550-W Yellow, 44",
                  1,
                  1000.4375,
                  80.03500366210938
                ],
                [
                  "SO49556",
                  1,
                  "2021-01-29",
                  "Henry Perez",
                  "henry22@adventure-works.com",
                  "Road-650 Black, 44",
                  1,
                  782.989990234375,
                  62.639198303222656
                ],
                [
                  "SO49557",
                  1,
                  "2021-01-29",
                  "Summer Patel",
                  "summer3@adventure-works.com",
                  "Road-650 Black, 60",
                  1,
                  782.989990234375,
                  62.639198303222656
                ],
                [
                  "SO49568",
                  1,
                  "2021-01-30",
                  "Warren Kumar",
                  "warren16@adventure-works.com",
                  "Road-250 Black, 48",
                  1,
                  2181.5625,
                  174.52499389648438
                ],
                [
                  "SO49566",
                  1,
                  "2021-01-30",
                  "Kyle Mitchell",
                  "kyle40@adventure-works.com",
                  "Road-650 Black, 58",
                  1,
                  782.989990234375,
                  62.639198303222656
                ],
                [
                  "SO49558",
                  1,
                  "2021-01-30",
                  "Christy Beck",
                  "christy38@adventure-works.com",
                  "Road-650 Black, 58",
                  1,
                  782.989990234375,
                  62.639198303222656
                ],
                [
                  "SO49565",
                  1,
                  "2021-01-30",
                  "Deb Foster",
                  "deb9@adventure-works.com",
                  "Mountain-200 Silver, 46",
                  1,
                  2071.419677734375,
                  165.71359252929688
                ],
                [
                  "SO49567",
                  1,
                  "2021-01-30",
                  "Derrick Ruiz",
                  "derrick2@adventure-works.com",
                  "Mountain-200 Silver, 46",
                  1,
                  2071.419677734375,
                  165.71359252929688
                ],
                [
                  "SO49562",
                  1,
                  "2021-01-30",
                  "Gina Romero",
                  "gina9@adventure-works.com",
                  "Mountain-200 Silver, 42",
                  1,
                  2071.419677734375,
                  165.71359252929688
                ],
                [
                  "SO49560",
                  1,
                  "2021-01-30",
                  "Spencer Diaz",
                  "spencer24@adventure-works.com",
                  "Road-250 Black, 48",
                  1,
                  2181.5625,
                  174.52499389648438
                ],
                [
                  "SO49561",
                  1,
                  "2021-01-30",
                  "Veronica Chandra",
                  "veronica2@adventure-works.com",
                  "Mountain-200 Black, 38",
                  1,
                  2049.09814453125,
                  163.9279022216797
                ],
                [
                  "SO49564",
                  1,
                  "2021-01-30",
                  "Xavier Mitchell",
                  "xavier34@adventure-works.com",
                  "Road-550-W Yellow, 44",
                  1,
                  1000.4375,
                  80.03500366210938
                ],
                [
                  "SO49559",
                  1,
                  "2021-01-30",
                  "Savannah Mitchell",
                  "savannah33@adventure-works.com",
                  "Road-250 Red, 48",
                  1,
                  2443.35009765625,
                  195.46800231933594
                ],
                [
                  "SO49563",
                  1,
                  "2021-01-30",
                  "Justin Clark",
                  "justin47@adventure-works.com",
                  "Mountain-200 Silver, 42",
                  1,
                  2071.419677734375,
                  165.71359252929688
                ],
                [
                  "SO49570",
                  1,
                  "2021-01-31",
                  "Leonard Anand",
                  "leonard24@adventure-works.com",
                  "Mountain-200 Black, 38",
                  1,
                  2049.09814453125,
                  163.9279022216797
                ],
                [
                  "SO49571",
                  1,
                  "2021-01-31",
                  "Kristi Rodriguez",
                  "kristi37@adventure-works.com",
                  "Mountain-200 Black, 38",
                  1,
                  2049.09814453125,
                  163.9279022216797
                ],
                [
                  "SO49569",
                  1,
                  "2021-01-31",
                  "Kathryn Xie",
                  "kathryn3@adventure-works.com",
                  "Road-250 Red, 58",
                  1,
                  2181.5625,
                  174.52499389648438
                ],
                [
                  "SO49573",
                  1,
                  "2021-01-31",
                  "Alison Anand",
                  "alison23@adventure-works.com",
                  "Road-250 Red, 58",
                  1,
                  2181.5625,
                  174.52499389648438
                ],
                [
                  "SO49572",
                  1,
                  "2021-01-31",
                  "Alexa Stewart",
                  "alexa21@adventure-works.com",
                  "Mountain-200 Silver, 38",
                  1,
                  2071.419677734375,
                  165.71359252929688
                ],
                [
                  "SO49574",
                  1,
                  "2021-01-31",
                  "Alvin Li",
                  "alvin4@adventure-works.com",
                  "Road-650 Red, 58",
                  1,
                  782.989990234375,
                  62.639198303222656
                ],
                [
                  "SO49575",
                  1,
                  "2021-02-01",
                  "Ricardo Raje",
                  "ricardo14@adventure-works.com",
                  "Road-250 Red, 52",
                  1,
                  2443.35009765625,
                  195.46800231933594
                ],
                [
                  "SO49576",
                  1,
                  "2021-02-01",
                  "Kristopher Sai",
                  "kristopher6@adventure-works.com",
                  "Road-250 Black, 58",
                  1,
                  2181.5625,
                  174.52499389648438
                ],
                [
                  "SO49577",
                  1,
                  "2021-02-01",
                  "Rachel Rodriguez",
                  "rachel23@adventure-works.com",
                  "Road-250 Black, 52",
                  1,
                  2181.5625,
                  174.52499389648438
                ],
                [
                  "SO49578",
                  1,
                  "2021-02-01",
                  "Joanna Ramos",
                  "joanna16@adventure-works.com",
                  "Road-550-W Yellow, 48",
                  1,
                  1000.4375,
                  80.03500366210938
                ],
                [
                  "SO49579",
                  1,
                  "2021-02-01",
                  "Sydney Thomas",
                  "sydney74@adventure-works.com",
                  "Mountain-200 Black, 38",
                  1,
                  2049.09814453125,
                  163.9279022216797
                ],
                [
                  "SO49580",
                  1,
                  "2021-02-01",
                  "Alisha Chen",
                  "alisha2@adventure-works.com",
                  "Mountain-200 Black, 38",
                  1,
                  2049.09814453125,
                  163.9279022216797
                ],
                [
                  "SO49588",
                  1,
                  "2021-02-02",
                  "Heidi Mehta",
                  "heidi16@adventure-works.com",
                  "Mountain-200 Silver, 42",
                  1,
                  2071.419677734375,
                  165.71359252929688
                ],
                [
                  "SO49589",
                  1,
                  "2021-02-02",
                  "Nina Lal",
                  "nina9@adventure-works.com",
                  "Mountain-200 Black, 46",
                  1,
                  2049.09814453125,
                  163.9279022216797
                ],
                [
                  "SO49587",
                  1,
                  "2021-02-02",
                  "Ruben Vazquez",
                  "ruben38@adventure-works.com",
                  "Mountain-200 Silver, 46",
                  1,
                  2071.419677734375,
                  165.71359252929688
                ],
                [
                  "SO49584",
                  1,
                  "2021-02-02",
                  "Robyn Ruiz",
                  "robyn1@adventure-works.com",
                  "Road-250 Red, 44",
                  1,
                  2443.35009765625,
                  195.46800231933594
                ],
                [
                  "SO49585",
                  1,
                  "2021-02-02",
                  "Rachel Reed",
                  "rachel31@adventure-works.com",
                  "Mountain-200 Black, 46",
                  1,
                  2049.09814453125,
                  163.9279022216797
                ],
                [
                  "SO49586",
                  1,
                  "2021-02-02",
                  "Kathleen Vazquez",
                  "kathleen16@adventure-works.com",
                  "Mountain-200 Silver, 38",
                  1,
                  2071.419677734375,
                  165.71359252929688
                ],
                [
                  "SO49590",
                  1,
                  "2021-02-02",
                  "Alexis Patterson",
                  "alexis33@adventure-works.com",
                  "Mountain-200 Black, 42",
                  1,
                  2049.09814453125,
                  163.9279022216797
                ],
                [
                  "SO49581",
                  1,
                  "2021-02-02",
                  "Heidi Kapoor",
                  "heidi3@adventure-works.com",
                  "Road-250 Red, 48",
                  1,
                  2443.35009765625,
                  195.46800231933594
                ],
                [
                  "SO49582",
                  1,
                  "2021-02-02",
                  "Glenn Wang",
                  "glenn2@adventure-works.com",
                  "Road-250 Black, 52",
                  1,
                  2181.5625,
                  174.52499389648438
                ],
                [
                  "SO49583",
                  1,
                  "2021-02-02",
                  "Warren Raje",
                  "warren3@adventure-works.com",
                  "Road-250 Black, 52",
                  1,
                  2181.5625,
                  174.52499389648438
                ],
                [
                  "SO49592",
                  1,
                  "2021-02-02",
                  "Hailey Morris",
                  "hailey1@adventure-works.com",
                  "Road-650 Red, 44",
                  1,
                  782.989990234375,
                  62.639198303222656
                ],
                [
                  "SO49593",
                  1,
                  "2021-02-02",
                  "Angel Young",
                  "angel40@adventure-works.com",
                  "Road-650 Red, 44",
                  1,
                  782.989990234375,
                  62.639198303222656
                ],
                [
                  "SO49597",
                  1,
                  "2021-02-02",
                  "Arthur Raman",
                  "arthur14@adventure-works.com",
                  "Road-250 Red, 44",
                  1,
                  2443.35009765625,
                  195.46800231933594
                ],
                [
                  "SO49594",
                  1,
                  "2021-02-02",
                  "Julio Jimenez",
                  "julio5@adventure-works.com",
                  "Road-250 Black, 58",
                  1,
                  2181.5625,
                  174.52499389648438
                ],
                [
                  "SO49596",
                  1,
                  "2021-02-02",
                  "Devin Campbell",
                  "devin39@adventure-works.com",
                  "Road-250 Black, 58",
                  1,
                  2181.5625,
                  174.52499389648438
                ],
                [
                  "SO49595",
                  1,
                  "2021-02-02",
                  "Mason Ramirez",
                  "mason8@adventure-works.com",
                  "Road-550-W Yellow, 40",
                  1,
                  1000.4375,
                  80.03500366210938
                ],
                [
                  "SO49591",
                  1,
                  "2021-02-02",
                  "Marissa Ross",
                  "marissa2@adventure-works.com",
                  "Mountain-200 Silver, 38",
                  1,
                  2071.419677734375,
                  165.71359252929688
                ],
                [
                  "SO49603",
                  1,
                  "2021-02-03",
                  "Grace Murphy",
                  "grace31@adventure-works.com",
                  "Road-250 Red, 44",
                  1,
                  2443.35009765625,
                  195.46800231933594
                ],
                [
                  "SO49598",
                  1,
                  "2021-02-03",
                  "Brandy Rana",
                  "brandy7@adventure-works.com",
                  "Road-250 Black, 48",
                  1,
                  2181.5625,
                  174.52499389648438
                ],
                [
                  "SO49602",
                  1,
                  "2021-02-03",
                  "Alexander Robinson",
                  "alexander22@adventure-works.com",
                  "Road-650 Red, 52",
                  1,
                  782.989990234375,
                  62.639198303222656
                ],
                [
                  "SO49599",
                  1,
                  "2021-02-03",
                  "Donald Patel",
                  "donald5@adventure-works.com",
                  "Road-250 Red, 44",
                  1,
                  2443.35009765625,
                  195.46800231933594
                ],
                [
                  "SO49600",
                  1,
                  "2021-02-03",
                  "Alexa Cooper",
                  "alexa16@adventure-works.com",
                  "Road-550-W Yellow, 38",
                  1,
                  1000.4375,
                  80.03500366210938
                ],
                [
                  "SO49601",
                  1,
                  "2021-02-03",
                  "Darren Blanco",
                  "darren38@adventure-works.com",
                  "Road-550-W Yellow, 48",
                  1,
                  1000.4375,
                  80.03500366210938
                ],
                [
                  "SO49609",
                  1,
                  "2021-02-04",
                  "Courtney Green",
                  "courtney11@adventure-works.com",
                  "Road-550-W Yellow, 44",
                  1,
                  1000.4375,
                  80.03500366210938
                ],
                [
                  "SO49608",
                  1,
                  "2021-02-04",
                  "Jon He",
                  "jon39@adventure-works.com",
                  "Mountain-200 Silver, 46",
                  1,
                  2071.419677734375,
                  165.71359252929688
                ],
                [
                  "SO49607",
                  1,
                  "2021-02-04",
                  "Logan Carter",
                  "logan36@adventure-works.com",
                  "Mountain-200 Silver, 38",
                  1,
                  2071.419677734375,
                  165.71359252929688
                ],
                [
                  "SO49611",
                  1,
                  "2021-02-04",
                  "Zoe Bailey",
                  "zoe14@adventure-works.com",
                  "Road-650 Black, 52",
                  1,
                  782.989990234375,
                  62.639198303222656
                ],
                [
                  "SO49604",
                  1,
                  "2021-02-04",
                  "Ricky Navarro",
                  "ricky10@adventure-works.com",
                  "Road-250 Red, 52",
                  1,
                  2443.35009765625,
                  195.46800231933594
                ],
                [
                  "SO49606",
                  1,
                  "2021-02-04",
                  "Jacqueline Kelly",
                  "jacqueline26@adventure-works.com",
                  "Road-650 Black, 62",
                  1,
                  782.989990234375,
                  62.639198303222656
                ],
                [
                  "SO49612",
                  1,
                  "2021-02-04",
                  "Jill Ramos",
                  "jill25@adventure-works.com",
                  "Road-650 Black, 44",
                  1,
                  782.989990234375,
                  62.639198303222656
                ],
                [
                  "SO49605",
                  1,
                  "2021-02-04",
                  "Michele Arun",
                  "michele62@adventure-works.com",
                  "Road-550-W Yellow, 38",
                  1,
                  1000.4375,
                  80.03500366210938
                ],
                [
                  "SO49610",
                  1,
                  "2021-02-04",
                  "Sean Perez",
                  "sean35@adventure-works.com",
                  "Mountain-200 Black, 38",
                  1,
                  2049.09814453125,
                  163.9279022216797
                ],
                [
                  "SO49615",
                  1,
                  "2021-02-05",
                  "Omar Ye",
                  "omar9@adventure-works.com",
                  "Road-650 Red, 44",
                  1,
                  782.989990234375,
                  62.639198303222656
                ],
                [
                  "SO49614",
                  1,
                  "2021-02-05",
                  "Arthur Jim�nez",
                  "arthur29@adventure-works.com",
                  "Road-650 Black, 52",
                  1,
                  782.989990234375,
                  62.639198303222656
                ],
                [
                  "SO49613",
                  1,
                  "2021-02-05",
                  "Danny Gutierrez",
                  "danny12@adventure-works.com",
                  "Road-250 Black, 48",
                  1,
                  2181.5625,
                  174.52499389648438
                ],
                [
                  "SO49616",
                  1,
                  "2021-02-05",
                  "Priscilla Tang",
                  "priscilla3@adventure-works.com",
                  "Mountain-200 Silver, 38",
                  1,
                  2071.419677734375,
                  165.71359252929688
                ],
                [
                  "SO49618",
                  1,
                  "2021-02-05",
                  "Byron Ramos",
                  "byron11@adventure-works.com",
                  "Mountain-200 Silver, 38",
                  1,
                  2071.419677734375,
                  165.71359252929688
                ],
                [
                  "SO49619",
                  1,
                  "2021-02-05",
                  "Jessie Alvarez",
                  "jessie2@adventure-works.com",
                  "Mountain-200 Black, 46",
                  1,
                  2049.09814453125,
                  163.9279022216797
                ],
                [
                  "SO49621",
                  1,
                  "2021-02-05",
                  "Alex Scott",
                  "alex44@adventure-works.com",
                  "Mountain-200 Silver, 38",
                  1,
                  2071.419677734375,
                  165.71359252929688
                ],
                [
                  "SO49620",
                  1,
                  "2021-02-05",
                  "Joe Perez",
                  "joe23@adventure-works.com",
                  "Mountain-200 Silver, 46",
                  1,
                  2071.419677734375,
                  165.71359252929688
                ],
                [
                  "SO49622",
                  1,
                  "2021-02-05",
                  "Joe Martin",
                  "joe24@adventure-works.com",
                  "Mountain-200 Silver, 38",
                  1,
                  2071.419677734375,
                  165.71359252929688
                ],
                [
                  "SO49626",
                  1,
                  "2021-02-05",
                  "Arturo Raji",
                  "arturo45@adventure-works.com",
                  "Road-250 Black, 52",
                  1,
                  2181.5625,
                  174.52499389648438
                ],
                [
                  "SO49624",
                  1,
                  "2021-02-05",
                  "Suzanne Cai",
                  "suzanne22@adventure-works.com",
                  "Road-550-W Yellow, 38",
                  1,
                  1000.4375,
                  80.03500366210938
                ],
                [
                  "SO49625",
                  1,
                  "2021-02-05",
                  "Colin Andersen",
                  "colin36@adventure-works.com",
                  "Road-550-W Yellow, 38",
                  1,
                  1000.4375,
                  80.03500366210938
                ],
                [
                  "SO49623",
                  1,
                  "2021-02-05",
                  "Tristan Patterson",
                  "tristan11@adventure-works.com",
                  "Mountain-200 Silver, 46",
                  1,
                  2071.419677734375,
                  165.71359252929688
                ],
                [
                  "SO49617",
                  1,
                  "2021-02-05",
                  "Tommy Tang",
                  "tommy2@adventure-works.com",
                  "Mountain-200 Black, 38",
                  1,
                  2049.09814453125,
                  163.9279022216797
                ],
                [
                  "SO49630",
                  1,
                  "2021-02-06",
                  "Marvin Alvarez",
                  "marvin5@adventure-works.com",
                  "Road-250 Black, 48",
                  1,
                  2181.5625,
                  174.52499389648438
                ],
                [
                  "SO49631",
                  1,
                  "2021-02-06",
                  "Frank Ruiz",
                  "frank32@adventure-works.com",
                  "Mountain-200 Silver, 42",
                  1,
                  2071.419677734375,
                  165.71359252929688
                ],
                [
                  "SO49627",
                  1,
                  "2021-02-06",
                  "Luis Coleman",
                  "luis4@adventure-works.com",
                  "Mountain-200 Black, 38",
                  1,
                  2049.09814453125,
                  163.9279022216797
                ],
                [
                  "SO49629",
                  1,
                  "2021-02-06",
                  "Nathaniel Murphy",
                  "nathaniel16@adventure-works.com",
                  "Road-650 Red, 62",
                  1,
                  782.989990234375,
                  62.639198303222656
                ],
                [
                  "SO49628",
                  1,
                  "2021-02-06",
                  "Randy Zhu",
                  "randy16@adventure-works.com",
                  "Mountain-200 Black, 46",
                  1,
                  2049.09814453125,
                  163.9279022216797
                ],
                [
                  "SO49632",
                  1,
                  "2021-02-07",
                  "Preston Lopez",
                  "preston15@adventure-works.com",
                  "Road-650 Black, 60",
                  1,
                  782.989990234375,
                  62.639198303222656
                ],
                [
                  "SO49634",
                  1,
                  "2021-02-07",
                  "Taylor Barnes",
                  "taylor28@adventure-works.com",
                  "Mountain-200 Black, 42",
                  1,
                  2049.09814453125,
                  163.9279022216797
                ],
                [
                  "SO49636",
                  1,
                  "2021-02-07",
                  "Crystal Yang",
                  "crystal7@adventure-works.com",
                  "Road-250 Red, 48",
                  1,
                  2443.35009765625,
                  195.46800231933594
                ],
                [
                  "SO49635",
                  1,
                  "2021-02-07",
                  "Kaitlyn Gonzales",
                  "kaitlyn84@adventure-works.com",
                  "Mountain-200 Silver, 46",
                  1,
                  2071.419677734375,
                  165.71359252929688
                ],
                [
                  "SO49633",
                  1,
                  "2021-02-07",
                  "Haley Simmons",
                  "haley34@adventure-works.com",
                  "Road-250 Black, 44",
                  1,
                  2181.5625,
                  174.52499389648438
                ],
                [
                  "SO49643",
                  1,
                  "2021-02-08",
                  "Peter Deng",
                  "peter9@adventure-works.com",
                  "Road-250 Black, 48",
                  1,
                  2181.5625,
                  174.52499389648438
                ],
                [
                  "SO49641",
                  1,
                  "2021-02-08",
                  "Melody Suarez",
                  "melody19@adventure-works.com",
                  "Mountain-200 Black, 38",
                  1,
                  2049.09814453125,
                  163.9279022216797
                ],
                [
                  "SO49642",
                  1,
                  "2021-02-08",
                  "Jermaine Chandra",
                  "jermaine1@adventure-works.com",
                  "Mountain-200 Silver, 46",
                  1,
                  2071.419677734375,
                  165.71359252929688
                ],
                [
                  "SO49640",
                  1,
                  "2021-02-08",
                  "Levi Suri",
                  "levi0@adventure-works.com",
                  "Mountain-200 Black, 46",
                  1,
                  2049.09814453125,
                  163.9279022216797
                ],
                [
                  "SO49638",
                  1,
                  "2021-02-08",
                  "Misty Luo",
                  "misty7@adventure-works.com",
                  "Road-550-W Yellow, 42",
                  1,
                  1000.4375,
                  80.03500366210938
                ],
                [
                  "SO49639",
                  1,
                  "2021-02-08",
                  "Allen Martinez",
                  "allen16@adventure-works.com",
                  "Road-650 Red, 48",
                  1,
                  782.989990234375,
                  62.639198303222656
                ],
                [
                  "SO49637",
                  1,
                  "2021-02-08",
                  "Joe Romero",
                  "joe32@adventure-works.com",
                  "Road-250 Black, 52",
                  1,
                  2181.5625,
                  174.52499389648438
                ],
                [
                  "SO49644",
                  1,
                  "2021-02-08",
                  "Cristina Shen",
                  "cristina2@adventure-works.com",
                  "Road-650 Red, 44",
                  1,
                  782.989990234375,
                  62.639198303222656
                ],
                [
                  "SO49647",
                  1,
                  "2021-02-09",
                  "Randall Romero",
                  "randall10@adventure-works.com",
                  "Road-250 Red, 44",
                  1,
                  2443.35009765625,
                  195.46800231933594
                ],
                [
                  "SO49646",
                  1,
                  "2021-02-09",
                  "Chase Gray",
                  "chase6@adventure-works.com",
                  "Road-250 Black, 58",
                  1,
                  2181.5625,
                  174.52499389648438
                ],
                [
                  "SO49657",
                  1,
                  "2021-02-09",
                  "Kaitlin Martinez",
                  "kaitlin16@adventure-works.com",
                  "Road-650 Black, 48",
                  1,
                  782.989990234375,
                  62.639198303222656
                ],
                [
                  "SO49658",
                  1,
                  "2021-02-09",
                  "Xavier Young",
                  "xavier23@adventure-works.com",
                  "Road-650 Black, 62",
                  1,
                  782.989990234375,
                  62.639198303222656
                ],
                [
                  "SO49645",
                  1,
                  "2021-02-09",
                  "Susan Zhou",
                  "susan18@adventure-works.com",
                  "Road-250 Red, 52",
                  1,
                  2443.35009765625,
                  195.46800231933594
                ],
                [
                  "SO49648",
                  1,
                  "2021-02-09",
                  "Jack Perez",
                  "jack38@adventure-works.com",
                  "Road-550-W Yellow, 40",
                  1,
                  1000.4375,
                  80.03500366210938
                ],
                [
                  "SO49649",
                  1,
                  "2021-02-09",
                  "Luke Nelson",
                  "luke41@adventure-works.com",
                  "Road-650 Red, 44",
                  1,
                  782.989990234375,
                  62.639198303222656
                ],
                [
                  "SO49659",
                  1,
                  "2021-02-09",
                  "Morgan Bailey",
                  "morgan54@adventure-works.com",
                  "Mountain-200 Silver, 38",
                  1,
                  2071.419677734375,
                  165.71359252929688
                ],
                [
                  "SO49654",
                  1,
                  "2021-02-09",
                  "Tamara She",
                  "tamara12@adventure-works.com",
                  "Mountain-200 Black, 38",
                  1,
                  2049.09814453125,
                  163.9279022216797
                ],
                [
                  "SO49651",
                  1,
                  "2021-02-09",
                  "Leslie Gill",
                  "leslie14@adventure-works.com",
                  "Mountain-200 Silver, 38",
                  1,
                  2071.419677734375,
                  165.71359252929688
                ],
                [
                  "SO49652",
                  1,
                  "2021-02-09",
                  "Deanna Weber",
                  "deanna7@adventure-works.com",
                  "Mountain-200 Black, 46",
                  1,
                  2049.09814453125,
                  163.9279022216797
                ],
                [
                  "SO49653",
                  1,
                  "2021-02-09",
                  "Warren Liu",
                  "warren21@adventure-works.com",
                  "Mountain-200 Silver, 38",
                  1,
                  2071.419677734375,
                  165.71359252929688
                ],
                [
                  "SO49650",
                  1,
                  "2021-02-09",
                  "Leonard Nath",
                  "leonard20@adventure-works.com",
                  "Mountain-200 Black, 42",
                  1,
                  2049.09814453125,
                  163.9279022216797
                ],
                [
                  "SO49661",
                  1,
                  "2021-02-09",
                  "Bradley Carson",
                  "bradley18@adventure-works.com",
                  "Road-250 Red, 52",
                  1,
                  2443.35009765625,
                  195.46800231933594
                ],
                [
                  "SO49660",
                  1,
                  "2021-02-09",
                  "Christy Tang",
                  "christy23@adventure-works.com",
                  "Road-250 Red, 58",
                  1,
                  2181.5625,
                  174.52499389648438
                ],
                [
                  "SO49663",
                  1,
                  "2021-02-09",
                  "Alisha Goel",
                  "alisha44@adventure-works.com",
                  "Road-650 Black, 44",
                  1,
                  782.989990234375,
                  62.639198303222656
                ],
                [
                  "SO49662",
                  1,
                  "2021-02-09",
                  "Grant Shen",
                  "grant4@adventure-works.com",
                  "Road-650 Red, 52",
                  1,
                  782.989990234375,
                  62.639198303222656
                ],
                [
                  "SO49656",
                  1,
                  "2021-02-09",
                  "Kevin Perry",
                  "kevin10@adventure-works.com",
                  "Mountain-200 Black, 46",
                  1,
                  2049.09814453125,
                  163.9279022216797
                ],
                [
                  "SO49655",
                  1,
                  "2021-02-09",
                  "Natalie Lewis",
                  "natalie88@adventure-works.com",
                  "Mountain-200 Silver, 46",
                  1,
                  2071.419677734375,
                  165.71359252929688
                ],
                [
                  "SO49670",
                  1,
                  "2021-02-10",
                  "Richard Lee",
                  "richard16@adventure-works.com",
                  "Road-250 Black, 52",
                  1,
                  2181.5625,
                  174.52499389648438
                ],
                [
                  "SO49667",
                  1,
                  "2021-02-10",
                  "Willie Rai",
                  "willie37@adventure-works.com",
                  "Mountain-200 Silver, 42",
                  1,
                  2071.419677734375,
                  165.71359252929688
                ],
                [
                  "SO49668",
                  1,
                  "2021-02-10",
                  "Meredith Subram",
                  "meredith12@adventure-works.com",
                  "Mountain-200 Black, 46",
                  1,
                  2049.09814453125,
                  163.9279022216797
                ],
                [
                  "SO49666",
                  1,
                  "2021-02-10",
                  "Derek Xie",
                  "derek3@adventure-works.com",
                  "Mountain-200 Black, 46",
                  1,
                  2049.09814453125,
                  163.9279022216797
                ],
                [
                  "SO49664",
                  1,
                  "2021-02-10",
                  "Renee Gutierrez",
                  "renee10@adventure-works.com",
                  "Road-250 Red, 44",
                  1,
                  2443.35009765625,
                  195.46800231933594
                ],
                [
                  "SO49669",
                  1,
                  "2021-02-10",
                  "Nathan Campbell",
                  "nathan36@adventure-works.com",
                  "Mountain-200 Silver, 38",
                  1,
                  2071.419677734375,
                  165.71359252929688
                ],
                [
                  "SO49665",
                  1,
                  "2021-02-10",
                  "J�sus Navarro",
                  "j�sus9@adventure-works.com",
                  "Mountain-200 Black, 42",
                  1,
                  2049.09814453125,
                  163.9279022216797
                ],
                [
                  "SO49671",
                  1,
                  "2021-02-11",
                  "Dennis Zhou",
                  "dennis10@adventure-works.com",
                  "Road-250 Black, 44",
                  1,
                  2181.5625,
                  174.52499389648438
                ],
                [
                  "SO49672",
                  1,
                  "2021-02-11",
                  "Ebony Sai",
                  "ebony5@adventure-works.com",
                  "Road-250 Black, 58",
                  1,
                  2181.5625,
                  174.52499389648438
                ],
                [
                  "SO49673",
                  1,
                  "2021-02-11",
                  "Aimee Wang",
                  "aimee1@adventure-works.com",
                  "Road-650 Red, 62",
                  1,
                  782.989990234375,
                  62.639198303222656
                ],
                [
                  "SO49674",
                  1,
                  "2021-02-11",
                  "Nathan Scott",
                  "nathan43@adventure-works.com",
                  "Road-250 Red, 48",
                  1,
                  2443.35009765625,
                  195.46800231933594
                ],
                [
                  "SO49677",
                  1,
                  "2021-02-11",
                  "Louis Gao",
                  "louis9@adventure-works.com",
                  "Mountain-200 Black, 38",
                  1,
                  2049.09814453125,
                  163.9279022216797
                ],
                [
                  "SO49676",
                  1,
                  "2021-02-11",
                  "Joy Gomez",
                  "joy2@adventure-works.com",
                  "Mountain-200 Silver, 46",
                  1,
                  2071.419677734375,
                  165.71359252929688
                ],
                [
                  "SO49675",
                  1,
                  "2021-02-11",
                  "Lisa Cai",
                  "lisa24@adventure-works.com",
                  "Mountain-200 Black, 42",
                  1,
                  2049.09814453125,
                  163.9279022216797
                ],
                [
                  "SO49678",
                  1,
                  "2021-02-11",
                  "Jason Ross",
                  "jason2@adventure-works.com",
                  "Mountain-200 Black, 38",
                  1,
                  2049.09814453125,
                  163.9279022216797
                ],
                [
                  "SO49679",
                  1,
                  "2021-02-11",
                  "Katherine Butler",
                  "katherine40@adventure-works.com",
                  "Road-650 Red, 48",
                  1,
                  782.989990234375,
                  62.639198303222656
                ],
                [
                  "SO49681",
                  1,
                  "2021-02-12",
                  "Jennifer Carter",
                  "jennifer12@adventure-works.com",
                  "Road-250 Black, 58",
                  1,
                  2181.5625,
                  174.52499389648438
                ],
                [
                  "SO49682",
                  1,
                  "2021-02-12",
                  "Morgan Long",
                  "morgan79@adventure-works.com",
                  "Mountain-200 Silver, 46",
                  1,
                  2071.419677734375,
                  165.71359252929688
                ],
                [
                  "SO49680",
                  1,
                  "2021-02-12",
                  "Jeffery Li",
                  "jeffery3@adventure-works.com",
                  "Road-250 Red, 52",
                  1,
                  2443.35009765625,
                  195.46800231933594
                ],
                [
                  "SO49684",
                  1,
                  "2021-02-12",
                  "Randy Yang",
                  "randy6@adventure-works.com",
                  "Road-250 Red, 52",
                  1,
                  2443.35009765625,
                  195.46800231933594
                ],
                [
                  "SO49683",
                  1,
                  "2021-02-12",
                  "Rachel Thompson",
                  "rachel18@adventure-works.com",
                  "Mountain-200 Silver, 46",
                  1,
                  2071.419677734375,
                  165.71359252929688
                ],
                [
                  "SO49690",
                  1,
                  "2021-02-13",
                  "Monique Munoz",
                  "monique3@adventure-works.com",
                  "Road-250 Black, 48",
                  1,
                  2181.5625,
                  174.52499389648438
                ],
                [
                  "SO49691",
                  1,
                  "2021-02-13",
                  "Cynthia Sanchez",
                  "cynthia26@adventure-works.com",
                  "Road-250 Black, 44",
                  1,
                  2181.5625,
                  174.52499389648438
                ],
                [
                  "SO49685",
                  1,
                  "2021-02-13",
                  "Ebony Srini",
                  "ebony8@adventure-works.com",
                  "Road-250 Black, 44",
                  1,
                  2181.5625,
                  174.52499389648438
                ],
                [
                  "SO49687",
                  1,
                  "2021-02-13",
                  "Melanie Sanders",
                  "melanie14@adventure-works.com",
                  "Road-250 Red, 58",
                  1,
                  2181.5625,
                  174.52499389648438
                ],
                [
                  "SO49686",
                  1,
                  "2021-02-13",
                  "Leonard Xu",
                  "leonard6@adventure-works.com",
                  "Road-250 Black, 52",
                  1,
                  2181.5625,
                  174.52499389648438
                ],
                [
                  "SO49689",
                  1,
                  "2021-02-13",
                  "Paula Ruiz",
                  "paula4@adventure-works.com",
                  "Road-550-W Yellow, 38",
                  1,
                  1000.4375,
                  80.03500366210938
                ],
                [
                  "SO49688",
                  1,
                  "2021-02-13",
                  "Nichole Andersen",
                  "nichole13@adventure-works.com",
                  "Mountain-200 Black, 46",
                  1,
                  2049.09814453125,
                  163.9279022216797
                ],
                [
                  "SO49696",
                  1,
                  "2021-02-14",
                  "Colin Tang",
                  "colin27@adventure-works.com",
                  "Mountain-200 Silver, 46",
                  1,
                  2071.419677734375,
                  165.71359252929688
                ],
                [
                  "SO49697",
                  1,
                  "2021-02-14",
                  "Jay Gonzalez",
                  "jay25@adventure-works.com",
                  "Mountain-200 Black, 38",
                  1,
                  2049.09814453125,
                  163.9279022216797
                ],
                [
                  "SO49695",
                  1,
                  "2021-02-14",
                  "Heather Wang",
                  "heather1@adventure-works.com",
                  "Mountain-200 Black, 46",
                  1,
                  2049.09814453125,
                  163.9279022216797
                ],
                [
                  "SO49692",
                  1,
                  "2021-02-14",
                  "Marie Rodriguez",
                  "marie21@adventure-works.com",
                  "Road-250 Black, 48",
                  1,
                  2181.5625,
                  174.52499389648438
                ],
                [
                  "SO49694",
                  1,
                  "2021-02-14",
                  "Nina Black",
                  "nina20@adventure-works.com",
                  "Road-250 Red, 44",
                  1,
                  2443.35009765625,
                  195.46800231933594
                ],
                [
                  "SO49693",
                  1,
                  "2021-02-14",
                  "Alvin Xu",
                  "alvin12@adventure-works.com",
                  "Road-250 Red, 48",
                  1,
                  2443.35009765625,
                  195.46800231933594
                ],
                [
                  "SO49698",
                  1,
                  "2021-02-14",
                  "Angel Perez",
                  "angel25@adventure-works.com",
                  "Mountain-200 Silver, 42",
                  1,
                  2071.419677734375,
                  165.71359252929688
                ],
                [
                  "SO49700",
                  1,
                  "2021-02-14",
                  "Sandra Guo",
                  "sandra25@adventure-works.com",
                  "Road-250 Black, 48",
                  1,
                  2181.5625,
                  174.52499389648438
                ],
                [
                  "SO49699",
                  1,
                  "2021-02-14",
                  "Terrence Rai",
                  "terrence18@adventure-works.com",
                  "Road-550-W Yellow, 38",
                  1,
                  1000.4375,
                  80.03500366210938
                ],
                [
                  "SO49714",
                  1,
                  "2021-02-15",
                  "Neil Dominguez",
                  "neil12@adventure-works.com",
                  "Road-250 Black, 48",
                  1,
                  2181.5625,
                  174.52499389648438
                ],
                [
                  "SO49713",
                  1,
                  "2021-02-15",
                  "Adam Campbell",
                  "adam37@adventure-works.com",
                  "Mountain-200 Silver, 42",
                  1,
                  2071.419677734375,
                  165.71359252929688
                ],
                [
                  "SO49706",
                  1,
                  "2021-02-15",
                  "Grant Xie",
                  "grant5@adventure-works.com",
                  "Road-550-W Yellow, 40",
                  1,
                  1000.4375,
                  80.03500366210938
                ],
                [
                  "SO49704",
                  1,
                  "2021-02-15",
                  "Colin Zhou",
                  "colin9@adventure-works.com",
                  "Road-250 Black, 52",
                  1,
                  2181.5625,
                  174.52499389648438
                ],
                [
                  "SO49701",
                  1,
                  "2021-02-15",
                  "Virginia Prasad",
                  "virginia11@adventure-works.com",
                  "Road-250 Red, 44",
                  1,
                  2443.35009765625,
                  195.46800231933594
                ],
                [
                  "SO49703",
                  1,
                  "2021-02-15",
                  "Omar Wang",
                  "omar1@adventure-works.com",
                  "Road-250 Black, 44",
                  1,
                  2181.5625,
                  174.52499389648438
                ],
                [
                  "SO49705",
                  1,
                  "2021-02-15",
                  "Stanley Subram",
                  "stanley14@adventure-works.com",
                  "Road-250 Red, 52",
                  1,
                  2443.35009765625,
                  195.46800231933594
                ],
                [
                  "SO49702",
                  1,
                  "2021-02-15",
                  "Jay Suri",
                  "jay6@adventure-works.com",
                  "Road-250 Black, 48",
                  1,
                  2181.5625,
                  174.52499389648438
                ],
                [
                  "SO49708",
                  1,
                  "2021-02-15",
                  "Willie Zhu",
                  "willie12@adventure-works.com",
                  "Mountain-200 Silver, 38",
                  1,
                  2071.419677734375,
                  165.71359252929688
                ],
                [
                  "SO49710",
                  1,
                  "2021-02-15",
                  "Marie Ramos",
                  "marie41@adventure-works.com",
                  "Mountain-200 Black, 46",
                  1,
                  2049.09814453125,
                  163.9279022216797
                ],
                [
                  "SO49709",
                  1,
                  "2021-02-15",
                  "Colin He",
                  "colin19@adventure-works.com",
                  "Mountain-200 Silver, 38",
                  1,
                  2071.419677734375,
                  165.71359252929688
                ],
                [
                  "SO49707",
                  1,
                  "2021-02-15",
                  "Robert Martin",
                  "robert73@adventure-works.com",
                  "Road-250 Red, 58",
                  1,
                  2181.5625,
                  174.52499389648438
                ],
                [
                  "SO49711",
                  1,
                  "2021-02-15",
                  "Micah Wang",
                  "micah11@adventure-works.com",
                  "Mountain-200 Black, 46",
                  1,
                  2049.09814453125,
                  163.9279022216797
                ],
                [
                  "SO49712",
                  1,
                  "2021-02-15",
                  "Spencer Flores",
                  "spencer14@adventure-works.com",
                  "Mountain-200 Black, 42",
                  1,
                  2049.09814453125,
                  163.9279022216797
                ],
                [
                  "SO49715",
                  1,
                  "2021-02-15",
                  "Tabitha Prasad",
                  "tabitha7@adventure-works.com",
                  "Road-650 Red, 62",
                  1,
                  782.989990234375,
                  62.639198303222656
                ],
                [
                  "SO49723",
                  1,
                  "2021-02-16",
                  "Anna Brooks",
                  "anna23@adventure-works.com",
                  "Road-550-W Yellow, 44",
                  1,
                  1000.4375,
                  80.03500366210938
                ],
                [
                  "SO49722",
                  1,
                  "2021-02-16",
                  "Karl Lal",
                  "karl9@adventure-works.com",
                  "Mountain-200 Silver, 38",
                  1,
                  2071.419677734375,
                  165.71359252929688
                ],
                [
                  "SO49720",
                  1,
                  "2021-02-16",
                  "Angel Richardson",
                  "angel9@adventure-works.com",
                  "Mountain-200 Black, 38",
                  1,
                  2049.09814453125,
                  163.9279022216797
                ],
                [
                  "SO49721",
                  1,
                  "2021-02-16",
                  "Audrey Ruiz",
                  "audrey3@adventure-works.com",
                  "Mountain-200 Silver, 46",
                  1,
                  2071.419677734375,
                  165.71359252929688
                ],
                [
                  "SO49717",
                  1,
                  "2021-02-16",
                  "Terrence Anand",
                  "terrence23@adventure-works.com",
                  "Road-250 Red, 44",
                  1,
                  2443.35009765625,
                  195.46800231933594
                ],
                [
                  "SO49716",
                  1,
                  "2021-02-16",
                  "Jerome Serrano",
                  "jerome15@adventure-works.com",
                  "Road-250 Black, 52",
                  1,
                  2181.5625,
                  174.52499389648438
                ],
                [
                  "SO49719",
                  1,
                  "2021-02-16",
                  "Kara Raji",
                  "kara19@adventure-works.com",
                  "Road-650 Red, 44",
                  1,
                  782.989990234375,
                  62.639198303222656
                ],
                [
                  "SO49718",
                  1,
                  "2021-02-16",
                  "April She",
                  "april0@adventure-works.com",
                  "Road-550-W Yellow, 44",
                  1,
                  1000.4375,
                  80.03500366210938
                ],
                [
                  "SO49725",
                  1,
                  "2021-02-16",
                  "Randy Huang",
                  "randy7@adventure-works.com",
                  "Road-250 Red, 52",
                  1,
                  2443.35009765625,
                  195.46800231933594
                ],
                [
                  "SO49726",
                  1,
                  "2021-02-16",
                  "Jerome Gomez",
                  "jerome1@adventure-works.com",
                  "Road-550-W Yellow, 38",
                  1,
                  1000.4375,
                  80.03500366210938
                ],
                [
                  "SO49727",
                  1,
                  "2021-02-16",
                  "Arianna Ross",
                  "arianna4@adventure-works.com",
                  "Road-650 Red, 62",
                  1,
                  782.989990234375,
                  62.639198303222656
                ],
                [
                  "SO49724",
                  1,
                  "2021-02-16",
                  "Jennifer Allen",
                  "jennifer26@adventure-works.com",
                  "Mountain-200 Silver, 46",
                  1,
                  2071.419677734375,
                  165.71359252929688
                ],
                [
                  "SO49737",
                  1,
                  "2021-02-17",
                  "Micah Gao",
                  "micah2@adventure-works.com",
                  "Road-550-W Yellow, 42",
                  1,
                  1000.4375,
                  80.03500366210938
                ],
                [
                  "SO49729",
                  1,
                  "2021-02-17",
                  "Shawna Raje",
                  "shawna15@adventure-works.com",
                  "Road-550-W Yellow, 44",
                  1,
                  1000.4375,
                  80.03500366210938
                ],
                [
                  "SO49730",
                  1,
                  "2021-02-17",
                  "Ruben Hernandez",
                  "ruben27@adventure-works.com",
                  "Road-650 Black, 44",
                  1,
                  782.989990234375,
                  62.639198303222656
                ],
                [
                  "SO49728",
                  1,
                  "2021-02-17",
                  "Terry Deng",
                  "terry4@adventure-works.com",
                  "Road-250 Red, 44",
                  1,
                  2443.35009765625,
                  195.46800231933594
                ],
                [
                  "SO49736",
                  1,
                  "2021-02-17",
                  "Hailey Barnes",
                  "hailey24@adventure-works.com",
                  "Road-650 Red, 52",
                  1,
                  782.989990234375,
                  62.639198303222656
                ],
                [
                  "SO49735",
                  1,
                  "2021-02-17",
                  "Morgan Ward",
                  "morgan60@adventure-works.com",
                  "Road-650 Black, 52",
                  1,
                  782.989990234375,
                  62.639198303222656
                ],
                [
                  "SO49733",
                  1,
                  "2021-02-17",
                  "Antonio Flores",
                  "antonio12@adventure-works.com",
                  "Mountain-200 Black, 42",
                  1,
                  2049.09814453125,
                  163.9279022216797
                ],
                [
                  "SO49732",
                  1,
                  "2021-02-17",
                  "Lydia Fernandez",
                  "lydia14@adventure-works.com",
                  "Mountain-200 Silver, 46",
                  1,
                  2071.419677734375,
                  165.71359252929688
                ],
                [
                  "SO49734",
                  1,
                  "2021-02-17",
                  "Lauren Howard",
                  "lauren12@adventure-works.com",
                  "Mountain-200 Black, 46",
                  1,
                  2049.09814453125,
                  163.9279022216797
                ],
                [
                  "SO49738",
                  1,
                  "2021-02-17",
                  "Mallory Serrano",
                  "mallory3@adventure-works.com",
                  "Road-650 Black, 48",
                  1,
                  782.989990234375,
                  62.639198303222656
                ],
                [
                  "SO49731",
                  1,
                  "2021-02-17",
                  "Bradley Chande",
                  "bradley17@adventure-works.com",
                  "Mountain-200 Black, 42",
                  1,
                  2049.09814453125,
                  163.9279022216797
                ],
                [
                  "SO49741",
                  1,
                  "2021-02-18",
                  "Cory Mehta",
                  "cory12@adventure-works.com",
                  "Road-550-W Yellow, 48",
                  1,
                  1000.4375,
                  80.03500366210938
                ],
                [
                  "SO49740",
                  1,
                  "2021-02-18",
                  "Jon Zeng",
                  "jon42@adventure-works.com",
                  "Mountain-200 Silver, 42",
                  1,
                  2071.419677734375,
                  165.71359252929688
                ],
                [
                  "SO49739",
                  1,
                  "2021-02-18",
                  "Isabella Brooks",
                  "isabella8@adventure-works.com",
                  "Road-250 Black, 52",
                  1,
                  2181.5625,
                  174.52499389648438
                ],
                [
                  "SO49743",
                  1,
                  "2021-02-18",
                  "Rachael Fernandez",
                  "rachael14@adventure-works.com",
                  "Road-250 Red, 44",
                  1,
                  2443.35009765625,
                  195.46800231933594
                ],
                [
                  "SO49742",
                  1,
                  "2021-02-18",
                  "Zachary Jones",
                  "zachary33@adventure-works.com",
                  "Road-650 Red, 52",
                  1,
                  782.989990234375,
                  62.639198303222656
                ],
                [
                  "SO49748",
                  1,
                  "2021-02-19",
                  "Kaylee Watson",
                  "kaylee6@adventure-works.com",
                  "Road-550-W Yellow, 48",
                  1,
                  1000.4375,
                  80.03500366210938
                ],
                [
                  "SO49747",
                  1,
                  "2021-02-19",
                  "Lucas Miller",
                  "lucas19@adventure-works.com",
                  "Mountain-200 Silver, 46",
                  1,
                  2071.419677734375,
                  165.71359252929688
                ],
                [
                  "SO49744",
                  1,
                  "2021-02-19",
                  "Dalton Anderson",
                  "dalton9@adventure-works.com",
                  "Road-550-W Yellow, 48",
                  1,
                  1000.4375,
                  80.03500366210938
                ],
                [
                  "SO49745",
                  1,
                  "2021-02-19",
                  "Meagan Fernandez",
                  "meagan15@adventure-works.com",
                  "Road-550-W Yellow, 44",
                  1,
                  1000.4375,
                  80.03500366210938
                ],
                [
                  "SO49749",
                  1,
                  "2021-02-19",
                  "Candice Zimmerman",
                  "candice3@adventure-works.com",
                  "Road-650 Red, 44",
                  1,
                  782.989990234375,
                  62.639198303222656
                ],
                [
                  "SO49750",
                  1,
                  "2021-02-19",
                  "Evan Rivera",
                  "evan18@adventure-works.com",
                  "Road-650 Red, 48",
                  1,
                  782.989990234375,
                  62.639198303222656
                ],
                [
                  "SO49746",
                  1,
                  "2021-02-19",
                  "Clayton Zhang",
                  "clayton0@adventure-works.com",
                  "Mountain-200 Black, 38",
                  1,
                  2049.09814453125,
                  163.9279022216797
                ],
                [
                  "SO49751",
                  1,
                  "2021-02-20",
                  "Kellie Gutierrez",
                  "kellie9@adventure-works.com",
                  "Road-250 Red, 44",
                  1,
                  2443.35009765625,
                  195.46800231933594
                ],
                [
                  "SO49752",
                  1,
                  "2021-02-20",
                  "Larry Munoz",
                  "larry9@adventure-works.com",
                  "Mountain-200 Black, 42",
                  1,
                  2049.09814453125,
                  163.9279022216797
                ],
                [
                  "SO49755",
                  1,
                  "2021-02-20",
                  "Brendan Shen",
                  "brendan2@adventure-works.com",
                  "Mountain-200 Black, 46",
                  1,
                  2049.09814453125,
                  163.9279022216797
                ],
                [
                  "SO49754",
                  1,
                  "2021-02-20",
                  "Briana Ramos",
                  "briana14@adventure-works.com",
                  "Mountain-200 Black, 42",
                  1,
                  2049.09814453125,
                  163.9279022216797
                ],
                [
                  "SO49753",
                  1,
                  "2021-02-20",
                  "Arthur Prasad",
                  "arthur11@adventure-works.com",
                  "Mountain-200 Black, 38",
                  1,
                  2049.09814453125,
                  163.9279022216797
                ],
                [
                  "SO49756",
                  1,
                  "2021-02-20",
                  "Ross Arun",
                  "ross6@adventure-works.com",
                  "Road-250 Red, 58",
                  1,
                  2181.5625,
                  174.52499389648438
                ],
                [
                  "SO49759",
                  1,
                  "2021-02-21",
                  "Richard Foster",
                  "richard71@adventure-works.com",
                  "Road-550-W Yellow, 48",
                  1,
                  1000.4375,
                  80.03500366210938
                ],
                [
                  "SO49757",
                  1,
                  "2021-02-21",
                  "Warren Chander",
                  "warren5@adventure-works.com",
                  "Road-250 Black, 58",
                  1,
                  2181.5625,
                  174.52499389648438
                ],
                [
                  "SO49758",
                  1,
                  "2021-02-21",
                  "Brandi Romero",
                  "brandi9@adventure-works.com",
                  "Road-650 Red, 52",
                  1,
                  782.989990234375,
                  62.639198303222656
                ],
                [
                  "SO49760",
                  1,
                  "2021-02-21",
                  "Connor Adams",
                  "connor44@adventure-works.com",
                  "Mountain-200 Black, 38",
                  1,
                  2049.09814453125,
                  163.9279022216797
                ],
                [
                  "SO49761",
                  1,
                  "2021-02-21",
                  "Connor Collins",
                  "connor31@adventure-works.com",
                  "Road-650 Black, 44",
                  1,
                  782.989990234375,
                  62.639198303222656
                ],
                [
                  "SO49762",
                  1,
                  "2021-02-22",
                  "Cheryl Vazquez",
                  "cheryl17@adventure-works.com",
                  "Road-250 Red, 44",
                  1,
                  2443.35009765625,
                  195.46800231933594
                ],
                [
                  "SO49763",
                  1,
                  "2021-02-22",
                  "Jerry She",
                  "jerry0@adventure-works.com",
                  "Mountain-200 Silver, 46",
                  1,
                  2071.419677734375,
                  165.71359252929688
                ],
                [
                  "SO49764",
                  1,
                  "2021-02-22",
                  "Abigail Richardson",
                  "abigail14@adventure-works.com",
                  "Mountain-200 Silver, 46",
                  1,
                  2071.419677734375,
                  165.71359252929688
                ],
                [
                  "SO49765",
                  1,
                  "2021-02-22",
                  "Sean Kelly",
                  "sean9@adventure-works.com",
                  "Mountain-200 Silver, 42",
                  1,
                  2071.419677734375,
                  165.71359252929688
                ],
                [
                  "SO49767",
                  1,
                  "2021-02-23",
                  "Tara Goel",
                  "tara20@adventure-works.com",
                  "Mountain-200 Silver, 46",
                  1,
                  2071.419677734375,
                  165.71359252929688
                ],
                [
                  "SO49771",
                  1,
                  "2021-02-23",
                  "Brianna Powell",
                  "brianna54@adventure-works.com",
                  "Road-650 Black, 52",
                  1,
                  782.989990234375,
                  62.639198303222656
                ],
                [
                  "SO49766",
                  1,
                  "2021-02-23",
                  "Allison Adams",
                  "allison38@adventure-works.com",
                  "Road-650 Red, 48",
                  1,
                  782.989990234375,
                  62.639198303222656
                ],
                [
                  "SO49772",
                  1,
                  "2021-02-23",
                  "Abigail Washington",
                  "abigail38@adventure-works.com",
                  "Road-250 Black, 58",
                  1,
                  2181.5625,
                  174.52499389648438
                ],
                [
                  "SO49769",
                  1,
                  "2021-02-23",
                  "Miguel Martin",
                  "miguel14@adventure-works.com",
                  "Mountain-200 Silver, 46",
                  1,
                  2071.419677734375,
                  165.71359252929688
                ],
                [
                  "SO49768",
                  1,
                  "2021-02-23",
                  "Chloe Brooks",
                  "chloe63@adventure-works.com",
                  "Mountain-200 Black, 42",
                  1,
                  2049.09814453125,
                  163.9279022216797
                ],
                [
                  "SO49770",
                  1,
                  "2021-02-23",
                  "Jennifer Coleman",
                  "jennifer80@adventure-works.com",
                  "Road-650 Black, 52",
                  1,
                  782.989990234375,
                  62.639198303222656
                ],
                [
                  "SO49773",
                  1,
                  "2021-02-23",
                  "Randall Alvarez",
                  "randall6@adventure-works.com",
                  "Road-650 Black, 52",
                  1,
                  782.989990234375,
                  62.639198303222656
                ],
                [
                  "SO49775",
                  1,
                  "2021-02-24",
                  "Larry Alvarez",
                  "larry6@adventure-works.com",
                  "Mountain-200 Silver, 38",
                  1,
                  2071.419677734375,
                  165.71359252929688
                ],
                [
                  "SO49774",
                  1,
                  "2021-02-24",
                  "Lori Dominguez",
                  "lori14@adventure-works.com",
                  "Mountain-200 Black, 38",
                  1,
                  2049.09814453125,
                  163.9279022216797
                ],
                [
                  "SO49776",
                  1,
                  "2021-02-24",
                  "Ashley Coleman",
                  "ashley32@adventure-works.com",
                  "Road-650 Red, 52",
                  1,
                  782.989990234375,
                  62.639198303222656
                ],
                [
                  "SO49777",
                  1,
                  "2021-02-24",
                  "Maria Mitchell",
                  "maria54@adventure-works.com",
                  "Road-650 Black, 60",
                  1,
                  782.989990234375,
                  62.639198303222656
                ],
                [
                  "SO49784",
                  1,
                  "2021-02-25",
                  "Crystal Li",
                  "crystal5@adventure-works.com",
                  "Mountain-200 Black, 46",
                  1,
                  2049.09814453125,
                  163.9279022216797
                ],
                [
                  "SO49785",
                  1,
                  "2021-02-25",
                  "Olivia Alexander",
                  "olivia64@adventure-works.com",
                  "Mountain-200 Black, 38",
                  1,
                  2049.09814453125,
                  163.9279022216797
                ],
                [
                  "SO49781",
                  1,
                  "2021-02-25",
                  "Lori Suarez",
                  "lori19@adventure-works.com",
                  "Mountain-200 Black, 46",
                  1,
                  2049.09814453125,
                  163.9279022216797
                ],
                [
                  "SO49782",
                  1,
                  "2021-02-25",
                  "Sheila Serrano",
                  "sheila15@adventure-works.com",
                  "Road-650 Red, 62",
                  1,
                  782.989990234375,
                  62.639198303222656
                ],
                [
                  "SO49783",
                  1,
                  "2021-02-25",
                  "Nicolas Nara",
                  "nicolas15@adventure-works.com",
                  "Road-650 Black, 52",
                  1,
                  782.989990234375,
                  62.639198303222656
                ],
                [
                  "SO49780",
                  1,
                  "2021-02-25",
                  "Ricardo Lal",
                  "ricardo8@adventure-works.com",
                  "Road-250 Black, 44",
                  1,
                  2181.5625,
                  174.52499389648438
                ],
                [
                  "SO49779",
                  1,
                  "2021-02-25",
                  "Jacqueline James",
                  "jacqueline32@adventure-works.com",
                  "Road-250 Red, 48",
                  1,
                  2443.35009765625,
                  195.46800231933594
                ],
                [
                  "SO49778",
                  1,
                  "2021-02-25",
                  "Cheryl Jim�nez",
                  "cheryl7@adventure-works.com",
                  "Road-250 Red, 48",
                  1,
                  2443.35009765625,
                  195.46800231933594
                ],
                [
                  "SO49787",
                  1,
                  "2021-02-25",
                  "Naomi Ramos",
                  "naomi18@adventure-works.com",
                  "Road-250 Red, 44",
                  1,
                  2443.35009765625,
                  195.46800231933594
                ],
                [
                  "SO49788",
                  1,
                  "2021-02-25",
                  "Bonnie Chande",
                  "bonnie21@adventure-works.com",
                  "Road-250 Red, 44",
                  1,
                  2443.35009765625,
                  195.46800231933594
                ],
                [
                  "SO49789",
                  1,
                  "2021-02-25",
                  "Thomas Harris",
                  "thomas75@adventure-works.com",
                  "Road-250 Black, 44",
                  1,
                  2181.5625,
                  174.52499389648438
                ],
                [
                  "SO49786",
                  1,
                  "2021-02-25",
                  "Elizabeth Brown",
                  "elizabeth8@adventure-works.com",
                  "Mountain-200 Black, 46",
                  1,
                  2049.09814453125,
                  163.9279022216797
                ],
                [
                  "SO49790",
                  1,
                  "2021-02-25",
                  "Damien Zhang",
                  "damien0@adventure-works.com",
                  "Road-650 Red, 48",
                  1,
                  782.989990234375,
                  62.639198303222656
                ],
                [
                  "SO49800",
                  1,
                  "2021-02-26",
                  "C�sar Raman",
                  "c�sar11@adventure-works.com",
                  "Road-250 Black, 48",
                  1,
                  2181.5625,
                  174.52499389648438
                ],
                [
                  "SO49799",
                  1,
                  "2021-02-26",
                  "Raymond Subram",
                  "raymond15@adventure-works.com",
                  "Road-250 Black, 48",
                  1,
                  2181.5625,
                  174.52499389648438
                ],
                [
                  "SO49798",
                  1,
                  "2021-02-26",
                  "Christine Luo",
                  "christine3@adventure-works.com",
                  "Road-250 Black, 48",
                  1,
                  2181.5625,
                  174.52499389648438
                ],
                [
                  "SO49796",
                  1,
                  "2021-02-26",
                  "Kaitlyn James",
                  "kaitlyn63@adventure-works.com",
                  "Road-650 Black, 62",
                  1,
                  782.989990234375,
                  62.639198303222656
                ],
                [
                  "SO49797",
                  1,
                  "2021-02-26",
                  "Aaron Hayes",
                  "aaron22@adventure-works.com",
                  "Road-650 Red, 48",
                  1,
                  782.989990234375,
                  62.639198303222656
                ],
                [
                  "SO49791",
                  1,
                  "2021-02-26",
                  "Diana Navarro",
                  "diana9@adventure-works.com",
                  "Road-250 Red, 52",
                  1,
                  2443.35009765625,
                  195.46800231933594
                ],
                [
                  "SO49792",
                  1,
                  "2021-02-26",
                  "Marie Vance",
                  "marie8@adventure-works.com",
                  "Road-650 Black, 52",
                  1,
                  782.989990234375,
                  62.639198303222656
                ],
                [
                  "SO49794",
                  1,
                  "2021-02-26",
                  "Bryan Kelly",
                  "bryan5@adventure-works.com",
                  "Mountain-200 Silver, 38",
                  1,
                  2071.419677734375,
                  165.71359252929688
                ],
                [
                  "SO49793",
                  1,
                  "2021-02-26",
                  "Cristina Lal",
                  "cristina8@adventure-works.com",
                  "Mountain-200 Silver, 38",
                  1,
                  2071.419677734375,
                  165.71359252929688
                ],
                [
                  "SO49795",
                  1,
                  "2021-02-26",
                  "Alexandra Martin",
                  "alexandra78@adventure-works.com",
                  "Mountain-200 Silver, 42",
                  1,
                  2071.419677734375,
                  165.71359252929688
                ],
                [
                  "SO49808",
                  1,
                  "2021-02-27",
                  "Omar Nath",
                  "omar39@adventure-works.com",
                  "Mountain-200 Silver, 42",
                  1,
                  2071.419677734375,
                  165.71359252929688
                ],
                [
                  "SO49806",
                  1,
                  "2021-02-27",
                  "Jacquelyn Jimenez",
                  "jacquelyn5@adventure-works.com",
                  "Mountain-200 Black, 46",
                  1,
                  2049.09814453125,
                  163.9279022216797
                ],
                [
                  "SO49807",
                  1,
                  "2021-02-27",
                  "Evelyn Perez",
                  "evelyn21@adventure-works.com",
                  "Mountain-200 Silver, 46",
                  1,
                  2071.419677734375,
                  165.71359252929688
                ],
                [
                  "SO49805",
                  1,
                  "2021-02-27",
                  "Kristine Hernandez",
                  "kristine5@adventure-works.com",
                  "Mountain-200 Black, 42",
                  1,
                  2049.09814453125,
                  163.9279022216797
                ],
                [
                  "SO49801",
                  1,
                  "2021-02-27",
                  "Colin Wu",
                  "colin7@adventure-works.com",
                  "Road-250 Black, 48",
                  1,
                  2181.5625,
                  174.52499389648438
                ],
                [
                  "SO49803",
                  1,
                  "2021-02-27",
                  "Micah Xu",
                  "micah23@adventure-works.com",
                  "Road-250 Red, 52",
                  1,
                  2443.35009765625,
                  195.46800231933594
                ],
                [
                  "SO49802",
                  1,
                  "2021-02-27",
                  "Tabitha Torres",
                  "tabitha32@adventure-works.com",
                  "Road-250 Red, 52",
                  1,
                  2443.35009765625,
                  195.46800231933594
                ],
                [
                  "SO49809",
                  1,
                  "2021-02-27",
                  "Carl Yuan",
                  "carl6@adventure-works.com",
                  "Road-250 Red, 44",
                  1,
                  2443.35009765625,
                  195.46800231933594
                ],
                [
                  "SO49810",
                  1,
                  "2021-02-27",
                  "Sandra Lin",
                  "sandra14@adventure-works.com",
                  "Road-550-W Yellow, 48",
                  1,
                  1000.4375,
                  80.03500366210938
                ],
                [
                  "SO49804",
                  1,
                  "2021-02-27",
                  "Ian Baker",
                  "ian31@adventure-works.com",
                  "Road-250 Black, 52",
                  1,
                  2181.5625,
                  174.52499389648438
                ],
                [
                  "SO49820",
                  1,
                  "2021-02-28",
                  "Gilbert Li",
                  "gilbert2@adventure-works.com",
                  "Road-250 Red, 58",
                  1,
                  2181.5625,
                  174.52499389648438
                ],
                [
                  "SO49818",
                  1,
                  "2021-02-28",
                  "Roger Goel",
                  "roger47@adventure-works.com",
                  "Road-250 Black, 52",
                  1,
                  2181.5625,
                  174.52499389648438
                ],
                [
                  "SO49819",
                  1,
                  "2021-02-28",
                  "Drew Shan",
                  "drew11@adventure-works.com",
                  "Road-250 Red, 44",
                  1,
                  2443.35009765625,
                  195.46800231933594
                ],
                [
                  "SO49811",
                  1,
                  "2021-02-28",
                  "Ronnie Xu",
                  "ronnie10@adventure-works.com",
                  "Road-250 Black, 48",
                  1,
                  2181.5625,
                  174.52499389648438
                ],
                [
                  "SO49813",
                  1,
                  "2021-02-28",
                  "Eugene Guo",
                  "eugene22@adventure-works.com",
                  "Road-250 Black, 58",
                  1,
                  2181.5625,
                  174.52499389648438
                ],
                [
                  "SO49812",
                  1,
                  "2021-02-28",
                  "Alyssa Bradley",
                  "alyssa31@adventure-works.com",
                  "Road-250 Red, 44",
                  1,
                  2443.35009765625,
                  195.46800231933594
                ],
                [
                  "SO49816",
                  1,
                  "2021-02-28",
                  "David Yang",
                  "david59@adventure-works.com",
                  "Road-550-W Yellow, 44",
                  1,
                  1000.4375,
                  80.03500366210938
                ],
                [
                  "SO49814",
                  1,
                  "2021-02-28",
                  "Shaun Raji",
                  "shaun21@adventure-works.com",
                  "Mountain-200 Silver, 46",
                  1,
                  2071.419677734375,
                  165.71359252929688
                ],
                [
                  "SO49817",
                  1,
                  "2021-02-28",
                  "Chase Watson",
                  "chase1@adventure-works.com",
                  "Mountain-200 Silver, 42",
                  1,
                  2071.419677734375,
                  165.71359252929688
                ],
                [
                  "SO49815",
                  1,
                  "2021-02-28",
                  "Janelle Garcia",
                  "janelle11@adventure-works.com",
                  "Mountain-200 Black, 46",
                  1,
                  2049.09814453125,
                  163.9279022216797
                ],
                [
                  "SO49902",
                  1,
                  "2021-03-01",
                  "Cory Sai",
                  "cory4@adventure-works.com",
                  "Mountain-200 Silver, 38",
                  1,
                  2071.419677734375,
                  165.71359252929688
                ],
                [
                  "SO49903",
                  1,
                  "2021-03-01",
                  "Taylor Anderson",
                  "taylor57@adventure-works.com",
                  "Road-650 Red, 48",
                  1,
                  782.989990234375,
                  62.639198303222656
                ],
                [
                  "SO49904",
                  1,
                  "2021-03-01",
                  "Maurice Xie",
                  "maurice3@adventure-works.com",
                  "Road-650 Black, 48",
                  1,
                  782.989990234375,
                  62.639198303222656
                ],
                [
                  "SO49900",
                  1,
                  "2021-03-01",
                  "Billy Torres",
                  "billy13@adventure-works.com",
                  "Road-250 Black, 58",
                  1,
                  2181.5625,
                  174.52499389648438
                ],
                [
                  "SO49896",
                  1,
                  "2021-03-01",
                  "Jay Torres",
                  "jay41@adventure-works.com",
                  "Road-250 Black, 48",
                  1,
                  2181.5625,
                  174.52499389648438
                ],
                [
                  "SO49897",
                  1,
                  "2021-03-01",
                  "Kari Raman",
                  "kari12@adventure-works.com",
                  "Road-250 Red, 58",
                  1,
                  2181.5625,
                  174.52499389648438
                ],
                [
                  "SO49899",
                  1,
                  "2021-03-01",
                  "Alejandro She",
                  "alejandro26@adventure-works.com",
                  "Road-250 Red, 44",
                  1,
                  2443.35009765625,
                  195.46800231933594
                ],
                [
                  "SO49898",
                  1,
                  "2021-03-01",
                  "Mario Pal",
                  "mario10@adventure-works.com",
                  "Road-250 Red, 52",
                  1,
                  2443.35009765625,
                  195.46800231933594
                ],
                [
                  "SO49895",
                  1,
                  "2021-03-01",
                  "Kari Dominguez",
                  "kari33@adventure-works.com",
                  "Road-250 Black, 44",
                  1,
                  2181.5625,
                  174.52499389648438
                ],
                [
                  "SO49901",
                  1,
                  "2021-03-01",
                  "Troy Lopez",
                  "troy18@adventure-works.com",
                  "Road-650 Red, 52",
                  1,
                  782.989990234375,
                  62.639198303222656
                ],
                [
                  "SO49905",
                  1,
                  "2021-03-01",
                  "Heidi Rodriguez",
                  "heidi22@adventure-works.com",
                  "Road-550-W Yellow, 42",
                  1,
                  1000.4375,
                  80.03500366210938
                ],
                [
                  "SO49918",
                  1,
                  "2021-03-02",
                  "Gary Gill",
                  "gary24@adventure-works.com",
                  "Road-550-W Yellow, 42",
                  1,
                  1000.4375,
                  80.03500366210938
                ],
                [
                  "SO49917",
                  1,
                  "2021-03-02",
                  "Gina Gill",
                  "gina14@adventure-works.com",
                  "Road-250 Black, 58",
                  1,
                  2181.5625,
                  174.52499389648438
                ],
                [
                  "SO49907",
                  1,
                  "2021-03-02",
                  "Vanessa Coleman",
                  "vanessa6@adventure-works.com",
                  "Mountain-200 Black, 42",
                  1,
                  2049.09814453125,
                  163.9279022216797
                ],
                [
                  "SO49909",
                  1,
                  "2021-03-02",
                  "Fernando Mitchell",
                  "fernando36@adventure-works.com",
                  "Road-250 Red, 44",
                  1,
                  2443.35009765625,
                  195.46800231933594
                ],
                [
                  "SO49916",
                  1,
                  "2021-03-02",
                  "Crystal Lu",
                  "crystal12@adventure-works.com",
                  "Mountain-200 Silver, 46",
                  1,
                  2071.419677734375,
                  165.71359252929688
                ],
                [
                  "SO49915",
                  1,
                  "2021-03-02",
                  "Kelvin Wang",
                  "kelvin21@adventure-works.com",
                  "Mountain-200 Silver, 42",
                  1,
                  2071.419677734375,
                  165.71359252929688
                ],
                [
                  "SO49912",
                  1,
                  "2021-03-02",
                  "Jonathan Evans",
                  "jonathan30@adventure-works.com",
                  "Mountain-200 Silver, 46",
                  1,
                  2071.419677734375,
                  165.71359252929688
                ],
                [
                  "SO49913",
                  1,
                  "2021-03-02",
                  "Tasha Shan",
                  "tasha11@adventure-works.com",
                  "Mountain-200 Black, 38",
                  1,
                  2049.09814453125,
                  163.9279022216797
                ],
                [
                  "SO49914",
                  1,
                  "2021-03-02",
                  "Josue Diaz",
                  "josue0@adventure-works.com",
                  "Mountain-200 Silver, 46",
                  1,
                  2071.419677734375,
                  165.71359252929688
                ],
                [
                  "SO49910",
                  1,
                  "2021-03-02",
                  "Elijah Hernandez",
                  "elijah45@adventure-works.com",
                  "Road-250 Red, 58",
                  1,
                  2181.5625,
                  174.52499389648438
                ],
                [
                  "SO49911",
                  1,
                  "2021-03-02",
                  "Raul Kumar",
                  "raul7@adventure-works.com",
                  "Mountain-200 Black, 38",
                  1,
                  2049.09814453125,
                  163.9279022216797
                ],
                [
                  "SO49906",
                  1,
                  "2021-03-02",
                  "Daniel Miller",
                  "daniel24@adventure-works.com",
                  "Mountain-200 Black, 42",
                  1,
                  2049.09814453125,
                  163.9279022216797
                ],
                [
                  "SO49908",
                  1,
                  "2021-03-02",
                  "Jesse Wright",
                  "jesse45@adventure-works.com",
                  "Mountain-200 Black, 38",
                  1,
                  2049.09814453125,
                  163.9279022216797
                ],
                [
                  "SO49921",
                  1,
                  "2021-03-03",
                  "Andrea Kelly",
                  "andrea3@adventure-works.com",
                  "Road-250 Black, 58",
                  1,
                  2181.5625,
                  174.52499389648438
                ],
                [
                  "SO49922",
                  1,
                  "2021-03-03",
                  "Destiny Jones",
                  "destiny3@adventure-works.com",
                  "Mountain-200 Black, 42",
                  1,
                  2049.09814453125,
                  163.9279022216797
                ],
                [
                  "SO49919",
                  1,
                  "2021-03-03",
                  "Eduardo Taylor",
                  "eduardo7@adventure-works.com",
                  "Road-250 Red, 58",
                  1,
                  2181.5625,
                  174.52499389648438
                ],
                [
                  "SO49920",
                  1,
                  "2021-03-03",
                  "Lance Rubio",
                  "lance21@adventure-works.com",
                  "Road-550-W Yellow, 44",
                  1,
                  1000.4375,
                  80.03500366210938
                ],
                [
                  "SO49923",
                  1,
                  "2021-03-03",
                  "Virginia Lopez",
                  "virginia19@adventure-works.com",
                  "Road-650 Red, 44",
                  1,
                  782.989990234375,
                  62.639198303222656
                ],
                [
                  "SO49928",
                  1,
                  "2021-03-04",
                  "Connor Hill",
                  "connor43@adventure-works.com",
                  "Road-650 Red, 58",
                  1,
                  782.989990234375,
                  62.639198303222656
                ],
                [
                  "SO49924",
                  1,
                  "2021-03-04",
                  "Juan Ward",
                  "juan22@adventure-works.com",
                  "Mountain-200 Black, 46",
                  1,
                  2049.09814453125,
                  163.9279022216797
                ],
                [
                  "SO49927",
                  1,
                  "2021-03-04",
                  "Ricky Moreno",
                  "ricky6@adventure-works.com",
                  "Road-550-W Yellow, 44",
                  1,
                  1000.4375,
                  80.03500366210938
                ],
                [
                  "SO49933",
                  1,
                  "2021-03-04",
                  "Zachary Miller",
                  "zachary35@adventure-works.com",
                  "Mountain-200 Silver, 38",
                  1,
                  2071.419677734375,
                  165.71359252929688
                ],
                [
                  "SO49931",
                  1,
                  "2021-03-04",
                  "Joe Moreno",
                  "joe30@adventure-works.com",
                  "Road-650 Red, 52",
                  1,
                  782.989990234375,
                  62.639198303222656
                ],
                [
                  "SO49925",
                  1,
                  "2021-03-04",
                  "Sergio Suri",
                  "sergio0@adventure-works.com",
                  "Road-250 Black, 52",
                  1,
                  2181.5625,
                  174.52499389648438
                ],
                [
                  "SO49926",
                  1,
                  "2021-03-04",
                  "Theodore Ramos",
                  "theodore18@adventure-works.com",
                  "Road-250 Red, 52",
                  1,
                  2443.35009765625,
                  195.46800231933594
                ],
                [
                  "SO49932",
                  1,
                  "2021-03-04",
                  "Rebecca Young",
                  "rebecca25@adventure-works.com",
                  "Road-550-W Yellow, 40",
                  1,
                  1000.4375,
                  80.03500366210938
                ],
                [
                  "SO49930",
                  1,
                  "2021-03-04",
                  "Reginald Romero",
                  "reginald16@adventure-works.com",
                  "Mountain-200 Black, 42",
                  1,
                  2049.09814453125,
                  163.9279022216797
                ],
                [
                  "SO49929",
                  1,
                  "2021-03-04",
                  "Deanna Gutierrez",
                  "deanna37@adventure-works.com",
                  "Mountain-200 Black, 42",
                  1,
                  2049.09814453125,
                  163.9279022216797
                ],
                [
                  "SO49934",
                  1,
                  "2021-03-04",
                  "Melvin Chander",
                  "melvin14@adventure-works.com",
                  "Road-250 Black, 58",
                  1,
                  2181.5625,
                  174.52499389648438
                ],
                [
                  "SO49935",
                  1,
                  "2021-03-04",
                  "Mackenzie King",
                  "mackenzie40@adventure-works.com",
                  "Road-650 Red, 58",
                  1,
                  782.989990234375,
                  62.639198303222656
                ],
                [
                  "SO49945",
                  1,
                  "2021-03-05",
                  "Deanna Lopez",
                  "deanna20@adventure-works.com",
                  "Road-550-W Yellow, 48",
                  1,
                  1000.4375,
                  80.03500366210938
                ],
                [
                  "SO49939",
                  1,
                  "2021-03-05",
                  "Gary Vazquez",
                  "gary25@adventure-works.com",
                  "Mountain-200 Black, 42",
                  1,
                  2049.09814453125,
                  163.9279022216797
                ],
                [
                  "SO49940",
                  1,
                  "2021-03-05",
                  "Evelyn Gonzalez",
                  "evelyn19@adventure-works.com",
                  "Mountain-200 Silver, 42",
                  1,
                  2071.419677734375,
                  165.71359252929688
                ],
                [
                  "SO49941",
                  1,
                  "2021-03-05",
                  "Latasha Gutierrez",
                  "latasha11@adventure-works.com",
                  "Mountain-200 Silver, 46",
                  1,
                  2071.419677734375,
                  165.71359252929688
                ],
                [
                  "SO49942",
                  1,
                  "2021-03-05",
                  "Brandon Brown",
                  "brandon42@adventure-works.com",
                  "Road-550-W Yellow, 42",
                  1,
                  1000.4375,
                  80.03500366210938
                ],
                [
                  "SO49943",
                  1,
                  "2021-03-05",
                  "Ernest Lu",
                  "ernest11@adventure-works.com",
                  "Road-550-W Yellow, 40",
                  1,
                  1000.4375,
                  80.03500366210938
                ],
                [
                  "SO49944",
                  1,
                  "2021-03-05",
                  "Kurt Raje",
                  "kurt14@adventure-works.com",
                  "Mountain-200 Silver, 42",
                  1,
                  2071.419677734375,
                  165.71359252929688
                ],
                [
                  "SO49938",
                  1,
                  "2021-03-05",
                  "Karen Yang",
                  "karen14@adventure-works.com",
                  "Road-550-W Yellow, 42",
                  1,
                  1000.4375,
                  80.03500366210938
                ],
                [
                  "SO49936",
                  1,
                  "2021-03-05",
                  "Jose Taylor",
                  "jose69@adventure-works.com",
                  "Mountain-200 Black, 42",
                  1,
                  2049.09814453125,
                  163.9279022216797
                ],
                [
                  "SO49937",
                  1,
                  "2021-03-05",
                  "Jessica Flores",
                  "jessica37@adventure-works.com",
                  "Mountain-200 Black, 38",
                  1,
                  2049.09814453125,
                  163.9279022216797
                ],
                [
                  "SO49947",
                  1,
                  "2021-03-06",
                  "Bryant Martinez",
                  "bryant17@adventure-works.com",
                  "Road-550-W Yellow, 42",
                  1,
                  1000.4375,
                  80.03500366210938
                ],
                [
                  "SO49946",
                  1,
                  "2021-03-06",
                  "Trisha She",
                  "trisha17@adventure-works.com",
                  "Road-250 Red, 58",
                  1,
                  2181.5625,
                  174.52499389648438
                ],
                [
                  "SO49949",
                  1,
                  "2021-03-06",
                  "Ashley Johnson",
                  "ashley1@adventure-works.com",
                  "Road-550-W Yellow, 44",
                  1,
                  1000.4375,
                  80.03500366210938
                ],
                [
                  "SO49948",
                  1,
                  "2021-03-06",
                  "Randy Liu",
                  "randy5@adventure-works.com",
                  "Mountain-200 Black, 46",
                  1,
                  2049.09814453125,
                  163.9279022216797
                ],
                [
                  "SO49950",
                  1,
                  "2021-03-06",
                  "Micah Guo",
                  "micah5@adventure-works.com",
                  "Road-250 Red, 58",
                  1,
                  2181.5625,
                  174.52499389648438
                ],
                [
                  "SO49958",
                  1,
                  "2021-03-07",
                  "Lacey Zhu",
                  "lacey26@adventure-works.com",
                  "Road-250 Red, 44",
                  1,
                  2443.35009765625,
                  195.46800231933594
                ],
                [
                  "SO49960",
                  1,
                  "2021-03-07",
                  "Jesse Howard",
                  "jesse11@adventure-works.com",
                  "Road-250 Black, 48",
                  1,
                  2181.5625,
                  174.52499389648438
                ],
                [
                  "SO49959",
                  1,
                  "2021-03-07",
                  "Colin Zhao",
                  "colin11@adventure-works.com",
                  "Road-250 Red, 44",
                  1,
                  2443.35009765625,
                  195.46800231933594
                ],
                [
                  "SO49957",
                  1,
                  "2021-03-07",
                  "Donald Sara",
                  "donald12@adventure-works.com",
                  "Road-550-W Yellow, 44",
                  1,
                  1000.4375,
                  80.03500366210938
                ],
                [
                  "SO49956",
                  1,
                  "2021-03-07",
                  "Suzanne Zhu",
                  "suzanne15@adventure-works.com",
                  "Road-550-W Yellow, 44",
                  1,
                  1000.4375,
                  80.03500366210938
                ],
                [
                  "SO49954",
                  1,
                  "2021-03-07",
                  "Deanna Serrano",
                  "deanna43@adventure-works.com",
                  "Mountain-200 Black, 42",
                  1,
                  2049.09814453125,
                  163.9279022216797
                ],
                [
                  "SO49955",
                  1,
                  "2021-03-07",
                  "Meghan Moreno",
                  "meghan6@adventure-works.com",
                  "Mountain-200 Black, 42",
                  1,
                  2049.09814453125,
                  163.9279022216797
                ],
                [
                  "SO49953",
                  1,
                  "2021-03-07",
                  "Briana Martin",
                  "briana0@adventure-works.com",
                  "Mountain-200 Black, 42",
                  1,
                  2049.09814453125,
                  163.9279022216797
                ],
                [
                  "SO49952",
                  1,
                  "2021-03-07",
                  "Natalie Peterson",
                  "natalie17@adventure-works.com",
                  "Road-650 Black, 58",
                  1,
                  782.989990234375,
                  62.639198303222656
                ],
                [
                  "SO49951",
                  1,
                  "2021-03-07",
                  "Tyrone Ramos",
                  "tyrone16@adventure-works.com",
                  "Mountain-200 Black, 42",
                  1,
                  2049.09814453125,
                  163.9279022216797
                ],
                [
                  "SO49961",
                  1,
                  "2021-03-07",
                  "Cynthia Weber",
                  "cynthia8@adventure-works.com",
                  "Road-650 Red, 44",
                  1,
                  782.989990234375,
                  62.639198303222656
                ],
                [
                  "SO49969",
                  1,
                  "2021-03-08",
                  "Victoria Walker",
                  "victoria22@adventure-works.com",
                  "Road-650 Red, 44",
                  1,
                  782.989990234375,
                  62.639198303222656
                ],
                [
                  "SO49970",
                  1,
                  "2021-03-08",
                  "Kelly Coleman",
                  "kelly10@adventure-works.com",
                  "Road-650 Red, 44",
                  1,
                  782.989990234375,
                  62.639198303222656
                ],
                [
                  "SO49972",
                  1,
                  "2021-03-08",
                  "Kenneth Luo",
                  "kenneth6@adventure-works.com",
                  "Mountain-200 Silver, 46",
                  1,
                  2071.419677734375,
                  165.71359252929688
                ],
                [
                  "SO49971",
                  1,
                  "2021-03-08",
                  "Colleen Luo",
                  "colleen30@adventure-works.com",
                  "Mountain-200 Black, 38",
                  1,
                  2049.09814453125,
                  163.9279022216797
                ],
                [
                  "SO49964",
                  1,
                  "2021-03-08",
                  "Bryan Bell",
                  "bryan14@adventure-works.com",
                  "Road-250 Black, 52",
                  1,
                  2181.5625,
                  174.52499389648438
                ],
                [
                  "SO49963",
                  1,
                  "2021-03-08",
                  "Logan Lee",
                  "logan54@adventure-works.com",
                  "Road-250 Red, 52",
                  1,
                  2443.35009765625,
                  195.46800231933594
                ],
                [
                  "SO49965",
                  1,
                  "2021-03-08",
                  "Lindsey Pal",
                  "lindsey13@adventure-works.com",
                  "Road-650 Black, 48",
                  1,
                  782.989990234375,
                  62.639198303222656
                ],
                [
                  "SO49968",
                  1,
                  "2021-03-08",
                  "Alejandro Ye",
                  "alejandro12@adventure-works.com",
                  "Mountain-200 Silver, 42",
                  1,
                  2071.419677734375,
                  165.71359252929688
                ],
                [
                  "SO49966",
                  1,
                  "2021-03-08",
                  "Rosa Lin",
                  "rosa8@adventure-works.com",
                  "Mountain-200 Silver, 38",
                  1,
                  2071.419677734375,
                  165.71359252929688
                ],
                [
                  "SO49967",
                  1,
                  "2021-03-08",
                  "Meredith Dominguez",
                  "meredith36@adventure-works.com",
                  "Mountain-200 Silver, 42",
                  1,
                  2071.419677734375,
                  165.71359252929688
                ],
                [
                  "SO49974",
                  1,
                  "2021-03-08",
                  "Jake Lin",
                  "jake8@adventure-works.com",
                  "Road-250 Red, 58",
                  1,
                  2181.5625,
                  174.52499389648438
                ],
                [
                  "SO49973",
                  1,
                  "2021-03-08",
                  "Lacey Wang",
                  "lacey13@adventure-works.com",
                  "Road-250 Black, 58",
                  1,
                  2181.5625,
                  174.52499389648438
                ],
                [
                  "SO49962",
                  1,
                  "2021-03-08",
                  "Christian Wang",
                  "christian11@adventure-works.com",
                  "Mountain-200 Black, 38",
                  1,
                  2049.09814453125,
                  163.9279022216797
                ],
                [
                  "SO49984",
                  1,
                  "2021-03-09",
                  "Raymond Rana",
                  "raymond13@adventure-works.com",
                  "Road-550-W Yellow, 40",
                  1,
                  1000.4375,
                  80.03500366210938
                ],
                [
                  "SO49978",
                  1,
                  "2021-03-09",
                  "Clarence Andersen",
                  "clarence28@adventure-works.com",
                  "Mountain-200 Silver, 38",
                  1,
                  2071.419677734375,
                  165.71359252929688
                ],
                [
                  "SO49979",
                  1,
                  "2021-03-09",
                  "Philip Diaz",
                  "philip2@adventure-works.com",
                  "Mountain-200 Silver, 38",
                  1,
                  2071.419677734375,
                  165.71359252929688
                ],
                [
                  "SO49981",
                  1,
                  "2021-03-09",
                  "Meredith Suarez",
                  "meredith43@adventure-works.com",
                  "Mountain-200 Black, 46",
                  1,
                  2049.09814453125,
                  163.9279022216797
                ],
                [
                  "SO49980",
                  1,
                  "2021-03-09",
                  "Tommy Jai",
                  "tommy8@adventure-works.com",
                  "Mountain-200 Black, 38",
                  1,
                  2049.09814453125,
                  163.9279022216797
                ],
                [
                  "SO49982",
                  1,
                  "2021-03-09",
                  "Carrie Schmidt",
                  "carrie17@adventure-works.com",
                  "Road-550-W Yellow, 40",
                  1,
                  1000.4375,
                  80.03500366210938
                ],
                [
                  "SO49977",
                  1,
                  "2021-03-09",
                  "Isabelle Butler",
                  "isabelle13@adventure-works.com",
                  "Road-250 Black, 52",
                  1,
                  2181.5625,
                  174.52499389648438
                ],
                [
                  "SO49976",
                  1,
                  "2021-03-09",
                  "Courtney Evans",
                  "courtney0@adventure-works.com",
                  "Road-250 Black, 48",
                  1,
                  2181.5625,
                  174.52499389648438
                ],
                [
                  "SO49975",
                  1,
                  "2021-03-09",
                  "Lindsey Lal",
                  "lindsey9@adventure-works.com",
                  "Road-250 Red, 52",
                  1,
                  2443.35009765625,
                  195.46800231933594
                ],
                [
                  "SO49983",
                  1,
                  "2021-03-09",
                  "Jay Rubio",
                  "jay51@adventure-works.com",
                  "Mountain-200 Silver, 46",
                  1,
                  2071.419677734375,
                  165.71359252929688
                ],
                [
                  "SO49990",
                  1,
                  "2021-03-10",
                  "Jillian Suri",
                  "jillian1@adventure-works.com",
                  "Mountain-200 Silver, 46",
                  1,
                  2071.419677734375,
                  165.71359252929688
                ],
                [
                  "SO49987",
                  1,
                  "2021-03-10",
                  "Deanna Gonzalez",
                  "deanna22@adventure-works.com",
                  "Mountain-200 Black, 46",
                  1,
                  2049.09814453125,
                  163.9279022216797
                ],
                [
                  "SO49988",
                  1,
                  "2021-03-10",
                  "Erika Suarez",
                  "erika16@adventure-works.com",
                  "Mountain-200 Black, 46",
                  1,
                  2049.09814453125,
                  163.9279022216797
                ],
                [
                  "SO49989",
                  1,
                  "2021-03-10",
                  "Roger Ma",
                  "roger20@adventure-works.com",
                  "Mountain-200 Black, 38",
                  1,
                  2049.09814453125,
                  163.9279022216797
                ],
                [
                  "SO49986",
                  1,
                  "2021-03-10",
                  "Amber Roberts",
                  "amber3@adventure-works.com",
                  "Mountain-200 Black, 46",
                  1,
                  2049.09814453125,
                  163.9279022216797
                ],
                [
                  "SO49985",
                  1,
                  "2021-03-10",
                  "Dennis She",
                  "dennis25@adventure-works.com",
                  "Mountain-200 Black, 42",
                  1,
                  2049.09814453125,
                  163.9279022216797
                ],
                [
                  "SO49999",
                  1,
                  "2021-03-11",
                  "Justin Jackson",
                  "justin31@adventure-works.com",
                  "Road-550-W Yellow, 42",
                  1,
                  1000.4375,
                  80.03500366210938
                ],
                [
                  "SO49998",
                  1,
                  "2021-03-11",
                  "Marc Schmidt",
                  "marc24@adventure-works.com",
                  "Mountain-200 Black, 46",
                  1,
                  2049.09814453125,
                  163.9279022216797
                ],
                [
                  "SO49996",
                  1,
                  "2021-03-11",
                  "Donald Mehta",
                  "donald15@adventure-works.com",
                  "Mountain-200 Black, 46",
                  1,
                  2049.09814453125,
                  163.9279022216797
                ],
                [
                  "SO49997",
                  1,
                  "2021-03-11",
                  "Diana Ruiz",
                  "diana1@adventure-works.com",
                  "Mountain-200 Silver, 46",
                  1,
                  2071.419677734375,
                  165.71359252929688
                ],
                [
                  "SO49995",
                  1,
                  "2021-03-11",
                  "Jaclyn Tang",
                  "jaclyn27@adventure-works.com",
                  "Road-650 Red, 52",
                  1,
                  782.989990234375,
                  62.639198303222656
                ],
                [
                  "SO50001",
                  1,
                  "2021-03-11",
                  "Michele Raji",
                  "michele22@adventure-works.com",
                  "Mountain-200 Silver, 38",
                  1,
                  2071.419677734375,
                  165.71359252929688
                ],
                [
                  "SO49993",
                  1,
                  "2021-03-11",
                  "Jake She",
                  "jake21@adventure-works.com",
                  "Road-250 Red, 48",
                  1,
                  2443.35009765625,
                  195.46800231933594
                ],
                [
                  "SO49994",
                  1,
                  "2021-03-11",
                  "Alejandro Guo",
                  "alejandro21@adventure-works.com",
                  "Road-250 Black, 58",
                  1,
                  2181.5625,
                  174.52499389648438
                ],
                [
                  "SO50002",
                  1,
                  "2021-03-11",
                  "Jaime Hernandez",
                  "jaime4@adventure-works.com",
                  "Road-250 Red, 44",
                  1,
                  2443.35009765625,
                  195.46800231933594
                ],
                [
                  "SO49992",
                  1,
                  "2021-03-11",
                  "Dalton Cooper",
                  "dalton79@adventure-works.com",
                  "Mountain-200 Black, 38",
                  1,
                  2049.09814453125,
                  163.9279022216797
                ],
                [
                  "SO49991",
                  1,
                  "2021-03-11",
                  "Isaiah Roberts",
                  "isaiah27@adventure-works.com",
                  "Mountain-200 Silver, 46",
                  1,
                  2071.419677734375,
                  165.71359252929688
                ],
                [
                  "SO50000",
                  1,
                  "2021-03-11",
                  "Regina Gonzalez",
                  "regina17@adventure-works.com",
                  "Mountain-200 Silver, 38",
                  1,
                  2071.419677734375,
                  165.71359252929688
                ],
                [
                  "SO50003",
                  1,
                  "2021-03-11",
                  "Warren Raji",
                  "warren12@adventure-works.com",
                  "Road-650 Black, 62",
                  1,
                  782.989990234375,
                  62.639198303222656
                ],
                [
                  "SO50010",
                  1,
                  "2021-03-12",
                  "Jarrod Chandra",
                  "jarrod2@adventure-works.com",
                  "Road-250 Red, 48",
                  1,
                  2443.35009765625,
                  195.46800231933594
                ],
                [
                  "SO50009",
                  1,
                  "2021-03-12",
                  "Drew Chander",
                  "drew17@adventure-works.com",
                  "Road-550-W Yellow, 48",
                  1,
                  1000.4375,
                  80.03500366210938
                ],
                [
                  "SO50005",
                  1,
                  "2021-03-12",
                  "Jaime Yuan",
                  "jaime30@adventure-works.com",
                  "Road-250 Red, 58",
                  1,
                  2181.5625,
                  174.52499389648438
                ],
                [
                  "SO50007",
                  1,
                  "2021-03-12",
                  "Rosa Huang",
                  "rosa6@adventure-works.com",
                  "Mountain-200 Silver, 42",
                  1,
                  2071.419677734375,
                  165.71359252929688
                ],
                [
                  "SO50008",
                  1,
                  "2021-03-12",
                  "Abby Raman",
                  "abby9@adventure-works.com",
                  "Mountain-200 Silver, 46",
                  1,
                  2071.419677734375,
                  165.71359252929688
                ],
                [
                  "SO50006",
                  1,
                  "2021-03-12",
                  "Arthur Sai",
                  "arthur8@adventure-works.com",
                  "Road-650 Black, 58",
                  1,
                  782.989990234375,
                  62.639198303222656
                ],
                [
                  "SO50004",
                  1,
                  "2021-03-12",
                  "Amanda Young",
                  "amanda68@adventure-works.com",
                  "Mountain-200 Silver, 42",
                  1,
                  2071.419677734375,
                  165.71359252929688
                ],
                [
                  "SO50018",
                  1,
                  "2021-03-13",
                  "Jackson Alexander",
                  "jackson21@adventure-works.com",
                  "Road-650 Red, 58",
                  1,
                  782.989990234375,
                  62.639198303222656
                ],
                [
                  "SO50016",
                  1,
                  "2021-03-13",
                  "Jaime Moreno",
                  "jaime7@adventure-works.com",
                  "Road-650 Black, 58",
                  1,
                  782.989990234375,
                  62.639198303222656
                ],
                [
                  "SO50017",
                  1,
                  "2021-03-13",
                  "Walter Munoz",
                  "walter20@adventure-works.com",
                  "Road-650 Red, 44",
                  1,
                  782.989990234375,
                  62.639198303222656
                ],
                [
                  "SO50015",
                  1,
                  "2021-03-13",
                  "Anibal Sousa",
                  "anibal1@adventure-works.com",
                  "Road-550-W Yellow, 38",
                  1,
                  1000.4375,
                  80.03500366210938
                ],
                [
                  "SO50026",
                  1,
                  "2021-03-13",
                  "Shawna Black",
                  "shawna19@adventure-works.com",
                  "Mountain-200 Silver, 46",
                  1,
                  2071.419677734375,
                  165.71359252929688
                ],
                [
                  "SO50023",
                  1,
                  "2021-03-13",
                  "Claudia McDonald",
                  "claudia3@adventure-works.com",
                  "Road-650 Black, 48",
                  1,
                  782.989990234375,
                  62.639198303222656
                ],
                [
                  "SO50014",
                  1,
                  "2021-03-13",
                  "Monique Suarez",
                  "monique15@adventure-works.com",
                  "Road-250 Red, 48",
                  1,
                  2443.35009765625,
                  195.46800231933594
                ],
                [
                  "SO50013",
                  1,
                  "2021-03-13",
                  "Lisa Lin",
                  "lisa11@adventure-works.com",
                  "Road-250 Black, 58",
                  1,
                  2181.5625,
                  174.52499389648438
                ],
                [
                  "SO50020",
                  1,
                  "2021-03-13",
                  "Melinda Rubio",
                  "melinda15@adventure-works.com",
                  "Mountain-200 Black, 46",
                  1,
                  2049.09814453125,
                  163.9279022216797
                ],
                [
                  "SO50021",
                  1,
                  "2021-03-13",
                  "Dominique Fernandez",
                  "dominique13@adventure-works.com",
                  "Mountain-200 Black, 46",
                  1,
                  2049.09814453125,
                  163.9279022216797
                ],
                [
                  "SO50022",
                  1,
                  "2021-03-13",
                  "Arthur Romero",
                  "arthur33@adventure-works.com",
                  "Mountain-200 Black, 38",
                  1,
                  2049.09814453125,
                  163.9279022216797
                ],
                [
                  "SO50025",
                  1,
                  "2021-03-13",
                  "Marissa Wood",
                  "marissa0@adventure-works.com",
                  "Road-550-W Yellow, 44",
                  1,
                  1000.4375,
                  80.03500366210938
                ],
                [
                  "SO50027",
                  1,
                  "2021-03-13",
                  "Martha Wang",
                  "martha1@adventure-works.com",
                  "Road-250 Red, 58",
                  1,
                  2181.5625,
                  174.52499389648438
                ],
                [
                  "SO50028",
                  1,
                  "2021-03-13",
                  "Monique Sanz",
                  "monique16@adventure-works.com",
                  "Road-250 Black, 58",
                  1,
                  2181.5625,
                  174.52499389648438
                ],
                [
                  "SO50011",
                  1,
                  "2021-03-13",
                  "Ram Thirunavukkarasu",
                  "ram1@adventure-works.com",
                  "Mountain-200 Black, 38",
                  1,
                  2049.09814453125,
                  163.9279022216797
                ],
                [
                  "SO50012",
                  1,
                  "2021-03-13",
                  "Xavier Rivera",
                  "xavier74@adventure-works.com",
                  "Mountain-200 Black, 38",
                  1,
                  2049.09814453125,
                  163.9279022216797
                ],
                [
                  "SO50024",
                  1,
                  "2021-03-13",
                  "Richard Sanchez",
                  "richard98@adventure-works.com",
                  "Road-650 Red, 48",
                  1,
                  782.989990234375,
                  62.639198303222656
                ],
                [
                  "SO50019",
                  1,
                  "2021-03-13",
                  "Michelle Watson",
                  "michelle2@adventure-works.com",
                  "Road-250 Black, 48",
                  1,
                  2181.5625,
                  174.52499389648438
                ],
                [
                  "SO50035",
                  1,
                  "2021-03-14",
                  "Latasha Ortega",
                  "latasha22@adventure-works.com",
                  "Road-250 Black, 44",
                  1,
                  2181.5625,
                  174.52499389648438
                ],
                [
                  "SO50032",
                  1,
                  "2021-03-14",
                  "Hailey Mitchell",
                  "hailey52@adventure-works.com",
                  "Road-250 Red, 48",
                  1,
                  2443.35009765625,
                  195.46800231933594
                ],
                [
                  "SO50033",
                  1,
                  "2021-03-14",
                  "Deborah Xie",
                  "deborah7@adventure-works.com",
                  "Mountain-200 Silver, 46",
                  1,
                  2071.419677734375,
                  165.71359252929688
                ],
                [
                  "SO50034",
                  1,
                  "2021-03-14",
                  "Jennifer Patterson",
                  "jennifer84@adventure-works.com",
                  "Mountain-200 Silver, 42",
                  1,
                  2071.419677734375,
                  165.71359252929688
                ],
                [
                  "SO50031",
                  1,
                  "2021-03-14",
                  "Jay Rana",
                  "jay18@adventure-works.com",
                  "Road-650 Black, 52",
                  1,
                  782.989990234375,
                  62.639198303222656
                ],
                [
                  "SO50030",
                  1,
                  "2021-03-14",
                  "Gabriel Jenkins",
                  "gabriel3@adventure-works.com",
                  "Mountain-200 Silver, 38",
                  1,
                  2071.419677734375,
                  165.71359252929688
                ],
                [
                  "SO50029",
                  1,
                  "2021-03-14",
                  "Robert Perez",
                  "robert46@adventure-works.com",
                  "Mountain-200 Silver, 46",
                  1,
                  2071.419677734375,
                  165.71359252929688
                ],
                [
                  "SO50041",
                  1,
                  "2021-03-15",
                  "Luis Shan",
                  "luis31@adventure-works.com",
                  "Road-650 Black, 48",
                  1,
                  782.989990234375,
                  62.639198303222656
                ],
                [
                  "SO50042",
                  1,
                  "2021-03-15",
                  "Xavier Brooks",
                  "xavier67@adventure-works.com",
                  "Road-650 Red, 44",
                  1,
                  782.989990234375,
                  62.639198303222656
                ],
                [
                  "SO50037",
                  1,
                  "2021-03-15",
                  "Julie Pal",
                  "julie17@adventure-works.com",
                  "Road-250 Black, 58",
                  1,
                  2181.5625,
                  174.52499389648438
                ],
                [
                  "SO50039",
                  1,
                  "2021-03-15",
                  "Ramon She",
                  "ramon21@adventure-works.com",
                  "Road-250 Red, 48",
                  1,
                  2443.35009765625,
                  195.46800231933594
                ],
                [
                  "SO50038",
                  1,
                  "2021-03-15",
                  "Mayra Patel",
                  "mayra2@adventure-works.com",
                  "Road-250 Black, 58",
                  1,
                  2181.5625,
                  174.52499389648438
                ],
                [
                  "SO50043",
                  1,
                  "2021-03-15",
                  "James Anderson",
                  "james82@adventure-works.com",
                  "Road-550-W Yellow, 42",
                  1,
                  1000.4375,
                  80.03500366210938
                ],
                [
                  "SO50040",
                  1,
                  "2021-03-15",
                  "Joel Gonzalez",
                  "joel17@adventure-works.com",
                  "Mountain-200 Silver, 42",
                  1,
                  2071.419677734375,
                  165.71359252929688
                ],
                [
                  "SO50044",
                  1,
                  "2021-03-15",
                  "Grant Raje",
                  "grant16@adventure-works.com",
                  "Road-250 Red, 44",
                  1,
                  2443.35009765625,
                  195.46800231933594
                ],
                [
                  "SO50036",
                  1,
                  "2021-03-15",
                  "Sophia Roberts",
                  "sophia2@adventure-works.com",
                  "Mountain-200 Silver, 46",
                  1,
                  2071.419677734375,
                  165.71359252929688
                ],
                [
                  "SO50045",
                  1,
                  "2021-03-15",
                  "Erica Zeng",
                  "erica21@adventure-works.com",
                  "Road-650 Red, 44",
                  1,
                  782.989990234375,
                  62.639198303222656
                ],
                [
                  "SO50050",
                  1,
                  "2021-03-16",
                  "Jay Mehta",
                  "jay20@adventure-works.com",
                  "Mountain-200 Silver, 46",
                  1,
                  2071.419677734375,
                  165.71359252929688
                ],
                [
                  "SO50049",
                  1,
                  "2021-03-16",
                  "Rafael Wu",
                  "rafael7@adventure-works.com",
                  "Mountain-200 Silver, 42",
                  1,
                  2071.419677734375,
                  165.71359252929688
                ],
                [
                  "SO50046",
                  1,
                  "2021-03-16",
                  "Raul Nara",
                  "raul14@adventure-works.com",
                  "Road-250 Red, 52",
                  1,
                  2443.35009765625,
                  195.46800231933594
                ],
                [
                  "SO50047",
                  1,
                  "2021-03-16",
                  "Arthur Madan",
                  "arthur9@adventure-works.com",
                  "Road-250 Black, 48",
                  1,
                  2181.5625,
                  174.52499389648438
                ],
                [
                  "SO50051",
                  1,
                  "2021-03-16",
                  "Wesley Yang",
                  "wesley5@adventure-works.com",
                  "Mountain-200 Silver, 46",
                  1,
                  2071.419677734375,
                  165.71359252929688
                ],
                [
                  "SO50048",
                  1,
                  "2021-03-16",
                  "Briana Sandoval",
                  "briana17@adventure-works.com",
                  "Road-550-W Yellow, 48",
                  1,
                  1000.4375,
                  80.03500366210938
                ],
                [
                  "SO50052",
                  1,
                  "2021-03-16",
                  "Marcus Mitchell",
                  "marcus39@adventure-works.com",
                  "Mountain-200 Silver, 38",
                  1,
                  2071.419677734375,
                  165.71359252929688
                ],
                [
                  "SO50055",
                  1,
                  "2021-03-17",
                  "Jessica Gray",
                  "jessica18@adventure-works.com",
                  "Road-550-W Yellow, 40",
                  1,
                  1000.4375,
                  80.03500366210938
                ],
                [
                  "SO50060",
                  1,
                  "2021-03-17",
                  "Karl Shen",
                  "karl2@adventure-works.com",
                  "Mountain-200 Black, 46",
                  1,
                  2049.09814453125,
                  163.9279022216797
                ],
                [
                  "SO50056",
                  1,
                  "2021-03-17",
                  "Haley Gray",
                  "haley15@adventure-works.com",
                  "Road-650 Red, 62",
                  1,
                  782.989990234375,
                  62.639198303222656
                ],
                [
                  "SO50057",
                  1,
                  "2021-03-17",
                  "Rebecca Green",
                  "rebecca16@adventure-works.com",
                  "Road-650 Red, 60",
                  1,
                  782.989990234375,
                  62.639198303222656
                ],
                [
                  "SO50054",
                  1,
                  "2021-03-17",
                  "Leah Liang",
                  "leah13@adventure-works.com",
                  "Road-250 Red, 48",
                  1,
                  2443.35009765625,
                  195.46800231933594
                ],
                [
                  "SO50053",
                  1,
                  "2021-03-17",
                  "Stacy Hernandez",
                  "stacy5@adventure-works.com",
                  "Road-250 Red, 58",
                  1,
                  2181.5625,
                  174.52499389648438
                ],
                [
                  "SO50065",
                  1,
                  "2021-03-17",
                  "Valerie Hu",
                  "valerie22@adventure-works.com",
                  "Mountain-200 Black, 38",
                  1,
                  2049.09814453125,
                  163.9279022216797
                ],
                [
                  "SO50059",
                  1,
                  "2021-03-17",
                  "William Davis",
                  "william21@adventure-works.com",
                  "Road-550-W Yellow, 42",
                  1,
                  1000.4375,
                  80.03500366210938
                ],
                [
                  "SO50058",
                  1,
                  "2021-03-17",
                  "Rachel Wilson",
                  "rachel9@adventure-works.com",
                  "Road-550-W Yellow, 38",
                  1,
                  1000.4375,
                  80.03500366210938
                ],
                [
                  "SO50061",
                  1,
                  "2021-03-17",
                  "Renee Alonso",
                  "renee7@adventure-works.com",
                  "Road-250 Black, 52",
                  1,
                  2181.5625,
                  174.52499389648438
                ],
                [
                  "SO50062",
                  1,
                  "2021-03-17",
                  "Jessie Hernandez",
                  "jessie1@adventure-works.com",
                  "Road-250 Black, 44",
                  1,
                  2181.5625,
                  174.52499389648438
                ],
                [
                  "SO50063",
                  1,
                  "2021-03-17",
                  "Lacey Luo",
                  "lacey40@adventure-works.com",
                  "Road-250 Red, 58",
                  1,
                  2181.5625,
                  174.52499389648438
                ],
                [
                  "SO50066",
                  1,
                  "2021-03-17",
                  "Amy Zeng",
                  "amy29@adventure-works.com",
                  "Road-250 Black, 52",
                  1,
                  2181.5625,
                  174.52499389648438
                ],
                [
                  "SO50064",
                  1,
                  "2021-03-17",
                  "Leonard Shen",
                  "leonard3@adventure-works.com",
                  "Road-250 Black, 52",
                  1,
                  2181.5625,
                  174.52499389648438
                ],
                [
                  "SO50067",
                  1,
                  "2021-03-17",
                  "Krystal Ye",
                  "krystal9@adventure-works.com",
                  "Road-650 Black, 48",
                  1,
                  782.989990234375,
                  62.639198303222656
                ],
                [
                  "SO50068",
                  1,
                  "2021-03-17",
                  "Marshall Hu",
                  "marshall18@adventure-works.com",
                  "Road-650 Black, 44",
                  1,
                  782.989990234375,
                  62.639198303222656
                ],
                [
                  "SO50077",
                  1,
                  "2021-03-18",
                  "Anne Serrano",
                  "anne18@adventure-works.com",
                  "Road-250 Red, 44",
                  1,
                  2443.35009765625,
                  195.46800231933594
                ],
                [
                  "SO50076",
                  1,
                  "2021-03-18",
                  "Lydia Martinez",
                  "lydia16@adventure-works.com",
                  "Road-250 Black, 58",
                  1,
                  2181.5625,
                  174.52499389648438
                ],
                [
                  "SO50078",
                  1,
                  "2021-03-18",
                  "Jay Browning",
                  "jay45@adventure-works.com",
                  "Road-250 Red, 52",
                  1,
                  2443.35009765625,
                  195.46800231933594
                ],
                [
                  "SO50079",
                  1,
                  "2021-03-18",
                  "Jaclyn Xu",
                  "jaclyn13@adventure-works.com",
                  "Road-250 Black, 58",
                  1,
                  2181.5625,
                  174.52499389648438
                ],
                [
                  "SO50072",
                  1,
                  "2021-03-18",
                  "Derek She",
                  "derek1@adventure-works.com",
                  "Mountain-200 Black, 46",
                  1,
                  2049.09814453125,
                  163.9279022216797
                ],
                [
                  "SO50071",
                  1,
                  "2021-03-18",
                  "Evelyn Malhotra",
                  "evelyn5@adventure-works.com",
                  "Mountain-200 Black, 46",
                  1,
                  2049.09814453125,
                  163.9279022216797
                ],
                [
                  "SO50070",
                  1,
                  "2021-03-18",
                  "Jamie Xu",
                  "jamie15@adventure-works.com",
                  "Mountain-200 Black, 38",
                  1,
                  2049.09814453125,
                  163.9279022216797
                ],
                [
                  "SO50069",
                  1,
                  "2021-03-18",
                  "Alisha Ma",
                  "alisha16@adventure-works.com",
                  "Road-250 Red, 58",
                  1,
                  2181.5625,
                  174.52499389648438
                ],
                [
                  "SO50073",
                  1,
                  "2021-03-18",
                  "Sriniwa Narayanan",
                  "sriniwa0@adventure-works.com",
                  "Road-650 Black, 44",
                  1,
                  782.989990234375,
                  62.639198303222656
                ],
                [
                  "SO50075",
                  1,
                  "2021-03-18",
                  "Jermaine Martinez",
                  "jermaine16@adventure-works.com",
                  "Mountain-200 Silver, 46",
                  1,
                  2071.419677734375,
                  165.71359252929688
                ],
                [
                  "SO50074",
                  1,
                  "2021-03-18",
                  "Jermaine Prasad",
                  "jermaine7@adventure-works.com",
                  "Mountain-200 Silver, 46",
                  1,
                  2071.419677734375,
                  165.71359252929688
                ],
                [
                  "SO50083",
                  1,
                  "2021-03-19",
                  "Bridget Nath",
                  "bridget20@adventure-works.com",
                  "Road-650 Black, 58",
                  1,
                  782.989990234375,
                  62.639198303222656
                ],
                [
                  "SO50081",
                  1,
                  "2021-03-19",
                  "Geoffrey Ashe",
                  "geoffrey6@adventure-works.com",
                  "Road-650 Black, 48",
                  1,
                  782.989990234375,
                  62.639198303222656
                ],
                [
                  "SO50082",
                  1,
                  "2021-03-19",
                  "Edwin Lal",
                  "edwin31@adventure-works.com",
                  "Road-650 Red, 62",
                  1,
                  782.989990234375,
                  62.639198303222656
                ],
                [
                  "SO50084",
                  1,
                  "2021-03-19",
                  "Alexandra Collins",
                  "alexandra46@adventure-works.com",
                  "Mountain-200 Black, 46",
                  1,
                  2049.09814453125,
                  163.9279022216797
                ],
                [
                  "SO50086",
                  1,
                  "2021-03-19",
                  "Keith Chander",
                  "keith19@adventure-works.com",
                  "Road-250 Red, 44",
                  1,
                  2443.35009765625,
                  195.46800231933594
                ],
                [
                  "SO50085",
                  1,
                  "2021-03-19",
                  "Teresa Gomez",
                  "teresa2@adventure-works.com",
                  "Road-250 Black, 44",
                  1,
                  2181.5625,
                  174.52499389648438
                ],
                [
                  "SO50080",
                  1,
                  "2021-03-19",
                  "Noah Simmons",
                  "noah12@adventure-works.com",
                  "Mountain-200 Silver, 42",
                  1,
                  2071.419677734375,
                  165.71359252929688
                ],
                [
                  "SO50092",
                  1,
                  "2021-03-20",
                  "Shannon Liang",
                  "shannon15@adventure-works.com",
                  "Mountain-200 Silver, 42",
                  1,
                  2071.419677734375,
                  165.71359252929688
                ],
                [
                  "SO50087",
                  1,
                  "2021-03-20",
                  "Caleb Powell",
                  "caleb5@adventure-works.com",
                  "Mountain-200 Black, 38",
                  1,
                  2049.09814453125,
                  163.9279022216797
                ],
                [
                  "SO50091",
                  1,
                  "2021-03-20",
                  "Gregory Pal",
                  "gregory15@adventure-works.com",
                  "Road-650 Black, 60",
                  1,
                  782.989990234375,
                  62.639198303222656
                ],
                [
                  "SO50090",
                  1,
                  "2021-03-20",
                  "Maria Price",
                  "maria23@adventure-works.com",
                  "Road-650 Red, 44",
                  1,
                  782.989990234375,
                  62.639198303222656
                ],
                [
                  "SO50095",
                  1,
                  "2021-03-20",
                  "Drew Tang",
                  "drew4@adventure-works.com",
                  "Mountain-200 Black, 46",
                  1,
                  2049.09814453125,
                  163.9279022216797
                ],
                [
                  "SO50094",
                  1,
                  "2021-03-20",
                  "Mathew Hernandez",
                  "mathew0@adventure-works.com",
                  "Mountain-200 Silver, 38",
                  1,
                  2071.419677734375,
                  165.71359252929688
                ],
                [
                  "SO50093",
                  1,
                  "2021-03-20",
                  "Blake Evans",
                  "blake45@adventure-works.com",
                  "Road-650 Red, 58",
                  1,
                  782.989990234375,
                  62.639198303222656
                ],
                [
                  "SO50088",
                  1,
                  "2021-03-20",
                  "Xavier Edwards",
                  "xavier41@adventure-works.com",
                  "Road-250 Black, 58",
                  1,
                  2181.5625,
                  174.52499389648438
                ],
                [
                  "SO50089",
                  1,
                  "2021-03-20",
                  "Kari Prasad",
                  "kari10@adventure-works.com",
                  "Road-550-W Yellow, 48",
                  1,
                  1000.4375,
                  80.03500366210938
                ],
                [
                  "SO50096",
                  1,
                  "2021-03-21",
                  "Armando Diaz",
                  "armando3@adventure-works.com",
                  "Road-250 Black, 52",
                  1,
                  2181.5625,
                  174.52499389648438
                ],
                [
                  "SO50098",
                  1,
                  "2021-03-21",
                  "Caleb Wright",
                  "caleb48@adventure-works.com",
                  "Road-650 Red, 52",
                  1,
                  782.989990234375,
                  62.639198303222656
                ],
                [
                  "SO50099",
                  1,
                  "2021-03-21",
                  "Oscar Henderson",
                  "oscar13@adventure-works.com",
                  "Road-650 Red, 58",
                  1,
                  782.989990234375,
                  62.639198303222656
                ],
                [
                  "SO50097",
                  1,
                  "2021-03-21",
                  "Yolanda Simpson",
                  "yolanda2@adventure-works.com",
                  "Road-650 Red, 60",
                  1,
                  782.989990234375,
                  62.639198303222656
                ],
                [
                  "SO50100",
                  1,
                  "2021-03-21",
                  "Maria Hall",
                  "maria64@adventure-works.com",
                  "Road-550-W Yellow, 42",
                  1,
                  1000.4375,
                  80.03500366210938
                ],
                [
                  "SO50104",
                  1,
                  "2021-03-22",
                  "Jacob Rodriguez",
                  "jacob16@adventure-works.com",
                  "Road-550-W Yellow, 42",
                  1,
                  1000.4375,
                  80.03500366210938
                ],
                [
                  "SO50102",
                  1,
                  "2021-03-22",
                  "Richard Baker",
                  "richard27@adventure-works.com",
                  "Road-250 Red, 52",
                  1,
                  2443.35009765625,
                  195.46800231933594
                ],
                [
                  "SO50103",
                  1,
                  "2021-03-22",
                  "Danielle Ward",
                  "danielle14@adventure-works.com",
                  "Road-650 Red, 60",
                  1,
                  782.989990234375,
                  62.639198303222656
                ],
                [
                  "SO50101",
                  1,
                  "2021-03-22",
                  "Diana Rubio",
                  "diana20@adventure-works.com",
                  "Road-250 Red, 48",
                  1,
                  2443.35009765625,
                  195.46800231933594
                ],
                [
                  "SO50105",
                  1,
                  "2021-03-22",
                  "Randy Gao",
                  "randy17@adventure-works.com",
                  "Road-550-W Yellow, 48",
                  1,
                  1000.4375,
                  80.03500366210938
                ],
                [
                  "SO50106",
                  1,
                  "2021-03-22",
                  "Micheal Gutierrez",
                  "micheal6@adventure-works.com",
                  "Road-650 Black, 52",
                  1,
                  782.989990234375,
                  62.639198303222656
                ],
                [
                  "SO50111",
                  1,
                  "2021-03-23",
                  "Carmen Suri",
                  "carmen4@adventure-works.com",
                  "Road-250 Black, 52",
                  1,
                  2181.5625,
                  174.52499389648438
                ],
                [
                  "SO50109",
                  1,
                  "2021-03-23",
                  "Lindsey Kumar",
                  "lindsey8@adventure-works.com",
                  "Road-250 Black, 44",
                  1,
                  2181.5625,
                  174.52499389648438
                ],
                [
                  "SO50108",
                  1,
                  "2021-03-23",
                  "Kate Raje",
                  "kate11@adventure-works.com",
                  "Road-250 Black, 44",
                  1,
                  2181.5625,
                  174.52499389648438
                ],
                [
                  "SO50110",
                  1,
                  "2021-03-23",
                  "Dale She",
                  "dale0@adventure-works.com",
                  "Road-650 Red, 62",
                  1,
                  782.989990234375,
                  62.639198303222656
                ],
                [
                  "SO50107",
                  1,
                  "2021-03-23",
                  "Theodore Jimenez",
                  "theodore6@adventure-works.com",
                  "Mountain-200 Black, 42",
                  1,
                  2049.09814453125,
                  163.9279022216797
                ],
                [
                  "SO50112",
                  1,
                  "2021-03-23",
                  "Roberto Dominguez",
                  "roberto13@adventure-works.com",
                  "Road-650 Red, 48",
                  1,
                  782.989990234375,
                  62.639198303222656
                ],
                [
                  "SO50118",
                  1,
                  "2021-03-24",
                  "Franklin Zheng",
                  "franklin17@adventure-works.com",
                  "Road-650 Red, 58",
                  1,
                  782.989990234375,
                  62.639198303222656
                ],
                [
                  "SO50117",
                  1,
                  "2021-03-24",
                  "Omar Rai",
                  "omar38@adventure-works.com",
                  "Road-250 Black, 48",
                  1,
                  2181.5625,
                  174.52499389648438
                ],
                [
                  "SO50116",
                  1,
                  "2021-03-24",
                  "Clayton Li",
                  "clayton3@adventure-works.com",
                  "Road-250 Black, 52",
                  1,
                  2181.5625,
                  174.52499389648438
                ],
                [
                  "SO50115",
                  1,
                  "2021-03-24",
                  "Terrance Garcia",
                  "terrance12@adventure-works.com",
                  "Road-250 Black, 44",
                  1,
                  2181.5625,
                  174.52499389648438
                ],
                [
                  "SO50122",
                  1,
                  "2021-03-24",
                  "Megan Brown",
                  "megan7@adventure-works.com",
                  "Road-650 Black, 48",
                  1,
                  782.989990234375,
                  62.639198303222656
                ],
                [
                  "SO50123",
                  1,
                  "2021-03-24",
                  "Jos� Miller",
                  "jos�64@adventure-works.com",
                  "Road-650 Red, 52",
                  1,
                  782.989990234375,
                  62.639198303222656
                ],
                [
                  "SO50125",
                  1,
                  "2021-03-24",
                  "Frank Romero",
                  "frank16@adventure-works.com",
                  "Mountain-200 Black, 38",
                  1,
                  2049.09814453125,
                  163.9279022216797
                ],
                [
                  "SO50121",
                  1,
                  "2021-03-24",
                  "Bryant Perez",
                  "bryant20@adventure-works.com",
                  "Mountain-200 Silver, 42",
                  1,
                  2071.419677734375,
                  165.71359252929688
                ],
                [
                  "SO50126",
                  1,
                  "2021-03-24",
                  "Derek Kumar",
                  "derek7@adventure-works.com",
                  "Mountain-200 Silver, 46",
                  1,
                  2071.419677734375,
                  165.71359252929688
                ],
                [
                  "SO50119",
                  1,
                  "2021-03-24",
                  "Misty Xie",
                  "misty4@adventure-works.com",
                  "Road-250 Black, 52",
                  1,
                  2181.5625,
                  174.52499389648438
                ],
                [
                  "SO50120",
                  1,
                  "2021-03-24",
                  "George Lopez",
                  "george23@adventure-works.com",
                  "Mountain-200 Silver, 38",
                  1,
                  2071.419677734375,
                  165.71359252929688
                ],
                [
                  "SO50127",
                  1,
                  "2021-03-24",
                  "Marie Jimenez",
                  "marie29@adventure-works.com",
                  "Road-250 Red, 52",
                  1,
                  2443.35009765625,
                  195.46800231933594
                ],
                [
                  "SO50113",
                  1,
                  "2021-03-24",
                  "Robert Li",
                  "robert38@adventure-works.com",
                  "Mountain-200 Black, 38",
                  1,
                  2049.09814453125,
                  163.9279022216797
                ],
                [
                  "SO50124",
                  1,
                  "2021-03-24",
                  "Alexander Thompson",
                  "alexander19@adventure-works.com",
                  "Mountain-200 Silver, 38",
                  1,
                  2071.419677734375,
                  165.71359252929688
                ],
                [
                  "SO50114",
                  1,
                  "2021-03-24",
                  "Caleb Lopez",
                  "caleb49@adventure-works.com",
                  "Mountain-200 Silver, 46",
                  1,
                  2071.419677734375,
                  165.71359252929688
                ],
                [
                  "SO50140",
                  1,
                  "2021-03-25",
                  "Luke Kumar",
                  "luke17@adventure-works.com",
                  "Road-250 Red, 44",
                  1,
                  2443.35009765625,
                  195.46800231933594
                ],
                [
                  "SO50141",
                  1,
                  "2021-03-25",
                  "Robyn Blanco",
                  "robyn12@adventure-works.com",
                  "Road-250 Red, 48",
                  1,
                  2443.35009765625,
                  195.46800231933594
                ],
                [
                  "SO50135",
                  1,
                  "2021-03-25",
                  "Jaime Raji",
                  "jaime44@adventure-works.com",
                  "Mountain-200 Silver, 42",
                  1,
                  2071.419677734375,
                  165.71359252929688
                ],
                [
                  "SO50134",
                  1,
                  "2021-03-25",
                  "Tabitha Alvarez",
                  "tabitha24@adventure-works.com",
                  "Mountain-200 Silver, 42",
                  1,
                  2071.419677734375,
                  165.71359252929688
                ],
                [
                  "SO50138",
                  1,
                  "2021-03-25",
                  "Rachel Patterson",
                  "rachel58@adventure-works.com",
                  "Road-550-W Yellow, 48",
                  1,
                  1000.4375,
                  80.03500366210938
                ],
                [
                  "SO50133",
                  1,
                  "2021-03-25",
                  "Robin Ramos",
                  "robin13@adventure-works.com",
                  "Mountain-200 Black, 46",
                  1,
                  2049.09814453125,
                  163.9279022216797
                ],
                [
                  "SO50139",
                  1,
                  "2021-03-25",
                  "Deanna Srini",
                  "deanna12@adventure-works.com",
                  "Mountain-200 Silver, 38",
                  1,
                  2071.419677734375,
                  165.71359252929688
                ],
                [
                  "SO50136",
                  1,
                  "2021-03-25",
                  "Mackenzie Carter",
                  "mackenzie32@adventure-works.com",
                  "Road-650 Red, 58",
                  1,
                  782.989990234375,
                  62.639198303222656
                ],
                [
                  "SO50137",
                  1,
                  "2021-03-25",
                  "Isabel Price",
                  "isabel0@adventure-works.com",
                  "Road-650 Black, 48",
                  1,
                  782.989990234375,
                  62.639198303222656
                ],
                [
                  "SO50129",
                  1,
                  "2021-03-25",
                  "Kristina Patel",
                  "kristina3@adventure-works.com",
                  "Road-250 Black, 58",
                  1,
                  2181.5625,
                  174.52499389648438
                ],
                [
                  "SO50132",
                  1,
                  "2021-03-25",
                  "Jamie Vazquez",
                  "jamie36@adventure-works.com",
                  "Road-650 Black, 62",
                  1,
                  782.989990234375,
                  62.639198303222656
                ],
                [
                  "SO50131",
                  1,
                  "2021-03-25",
                  "Brian Stewart",
                  "brian34@adventure-works.com",
                  "Road-650 Red, 44",
                  1,
                  782.989990234375,
                  62.639198303222656
                ],
                [
                  "SO50130",
                  1,
                  "2021-03-25",
                  "Briana Romero",
                  "briana9@adventure-works.com",
                  "Road-550-W Yellow, 40",
                  1,
                  1000.4375,
                  80.03500366210938
                ],
                [
                  "SO50128",
                  1,
                  "2021-03-25",
                  "Emily Bryant",
                  "emily43@adventure-works.com",
                  "Mountain-200 Silver, 38",
                  1,
                  2071.419677734375,
                  165.71359252929688
                ],
                [
                  "SO50142",
                  1,
                  "2021-03-25",
                  "Jon Chen",
                  "jon21@adventure-works.com",
                  "Road-650 Red, 60",
                  1,
                  782.989990234375,
                  62.639198303222656
                ],
                [
                  "SO50145",
                  1,
                  "2021-03-26",
                  "Adrian Sanders",
                  "adrian4@adventure-works.com",
                  "Road-550-W Yellow, 44",
                  1,
                  1000.4375,
                  80.03500366210938
                ],
                [
                  "SO50144",
                  1,
                  "2021-03-26",
                  "Katie Yuan",
                  "katie9@adventure-works.com",
                  "Road-550-W Yellow, 48",
                  1,
                  1000.4375,
                  80.03500366210938
                ],
                [
                  "SO50148",
                  1,
                  "2021-03-26",
                  "Maria Diaz",
                  "maria43@adventure-works.com",
                  "Road-650 Red, 48",
                  1,
                  782.989990234375,
                  62.639198303222656
                ],
                [
                  "SO50149",
                  1,
                  "2021-03-26",
                  "Meagan Raman",
                  "meagan12@adventure-works.com",
                  "Mountain-200 Silver, 42",
                  1,
                  2071.419677734375,
                  165.71359252929688
                ],
                [
                  "SO50146",
                  1,
                  "2021-03-26",
                  "Carol Washington",
                  "carol19@adventure-works.com",
                  "Road-250 Black, 52",
                  1,
                  2181.5625,
                  174.52499389648438
                ],
                [
                  "SO50150",
                  1,
                  "2021-03-26",
                  "Ramon He",
                  "ramon16@adventure-works.com",
                  "Road-650 Black, 44",
                  1,
                  782.989990234375,
                  62.639198303222656
                ],
                [
                  "SO50151",
                  1,
                  "2021-03-26",
                  "Edwin Li",
                  "edwin3@adventure-works.com",
                  "Road-650 Black, 60",
                  1,
                  782.989990234375,
                  62.639198303222656
                ],
                [
                  "SO50143",
                  1,
                  "2021-03-26",
                  "Erin Murphy",
                  "erin19@adventure-works.com",
                  "Mountain-200 Black, 42",
                  1,
                  2049.09814453125,
                  163.9279022216797
                ],
                [
                  "SO50147",
                  1,
                  "2021-03-26",
                  "Stephanie Ward",
                  "stephanie18@adventure-works.com",
                  "Road-650 Red, 58",
                  1,
                  782.989990234375,
                  62.639198303222656
                ],
                [
                  "SO50154",
                  1,
                  "2021-03-27",
                  "Natalie Thompson",
                  "natalie83@adventure-works.com",
                  "Road-250 Black, 44",
                  1,
                  2181.5625,
                  174.52499389648438
                ],
                [
                  "SO50155",
                  1,
                  "2021-03-27",
                  "Jeffery Zheng",
                  "jeffery19@adventure-works.com",
                  "Mountain-200 Silver, 46",
                  1,
                  2071.419677734375,
                  165.71359252929688
                ],
                [
                  "SO50156",
                  1,
                  "2021-03-27",
                  "Cedric Yang",
                  "cedric5@adventure-works.com",
                  "Mountain-200 Black, 38",
                  1,
                  2049.09814453125,
                  163.9279022216797
                ],
                [
                  "SO50158",
                  1,
                  "2021-03-27",
                  "Raul Rai",
                  "raul15@adventure-works.com",
                  "Mountain-200 Silver, 38",
                  1,
                  2071.419677734375,
                  165.71359252929688
                ],
                [
                  "SO50157",
                  1,
                  "2021-03-27",
                  "Brendan Andersen",
                  "brendan11@adventure-works.com",
                  "Mountain-200 Silver, 46",
                  1,
                  2071.419677734375,
                  165.71359252929688
                ],
                [
                  "SO50160",
                  1,
                  "2021-03-27",
                  "Hailey Richardson",
                  "hailey10@adventure-works.com",
                  "Road-650 Red, 58",
                  1,
                  782.989990234375,
                  62.639198303222656
                ],
                [
                  "SO50152",
                  1,
                  "2021-03-27",
                  "Luis Parker",
                  "luis33@adventure-works.com",
                  "Road-250 Red, 58",
                  1,
                  2181.5625,
                  174.52499389648438
                ],
                [
                  "SO50153",
                  1,
                  "2021-03-27",
                  "Gina Gutierrez",
                  "gina11@adventure-works.com",
                  "Road-650 Black, 60",
                  1,
                  782.989990234375,
                  62.639198303222656
                ],
                [
                  "SO50159",
                  1,
                  "2021-03-27",
                  "Gilbert Gao",
                  "gilbert12@adventure-works.com",
                  "Road-250 Red, 52",
                  1,
                  2443.35009765625,
                  195.46800231933594
                ],
                [
                  "SO50161",
                  1,
                  "2021-03-27",
                  "George Sara",
                  "george16@adventure-works.com",
                  "Road-250 Black, 52",
                  1,
                  2181.5625,
                  174.52499389648438
                ],
                [
                  "SO50162",
                  1,
                  "2021-03-27",
                  "Krista Hernandez",
                  "krista4@adventure-works.com",
                  "Road-650 Red, 58",
                  1,
                  782.989990234375,
                  62.639198303222656
                ],
                [
                  "SO50170",
                  1,
                  "2021-03-28",
                  "Alan Shen",
                  "alan3@adventure-works.com",
                  "Road-250 Red, 58",
                  1,
                  2181.5625,
                  174.52499389648438
                ],
                [
                  "SO50166",
                  1,
                  "2021-03-28",
                  "Krista Alvarez",
                  "krista5@adventure-works.com",
                  "Road-550-W Yellow, 42",
                  1,
                  1000.4375,
                  80.03500366210938
                ],
                [
                  "SO50164",
                  1,
                  "2021-03-28",
                  "Valerie Zhang",
                  "valerie1@adventure-works.com",
                  "Road-250 Black, 52",
                  1,
                  2181.5625,
                  174.52499389648438
                ],
                [
                  "SO50165",
                  1,
                  "2021-03-28",
                  "Valerie Zeng",
                  "valerie24@adventure-works.com",
                  "Road-250 Black, 58",
                  1,
                  2181.5625,
                  174.52499389648438
                ],
                [
                  "SO50169",
                  1,
                  "2021-03-28",
                  "Michele Goel",
                  "michele20@adventure-works.com",
                  "Mountain-200 Silver, 46",
                  1,
                  2071.419677734375,
                  165.71359252929688
                ],
                [
                  "SO50168",
                  1,
                  "2021-03-28",
                  "Dana Moreno",
                  "dana22@adventure-works.com",
                  "Mountain-200 Silver, 46",
                  1,
                  2071.419677734375,
                  165.71359252929688
                ],
                [
                  "SO50167",
                  1,
                  "2021-03-28",
                  "Christian Henderson",
                  "christian19@adventure-works.com",
                  "Road-250 Red, 58",
                  1,
                  2181.5625,
                  174.52499389648438
                ],
                [
                  "SO50163",
                  1,
                  "2021-03-28",
                  "Virginia Vance",
                  "virginia5@adventure-works.com",
                  "Mountain-200 Silver, 42",
                  1,
                  2071.419677734375,
                  165.71359252929688
                ],
                [
                  "SO50172",
                  1,
                  "2021-03-29",
                  "Crystal Lin",
                  "crystal10@adventure-works.com",
                  "Road-550-W Yellow, 40",
                  1,
                  1000.4375,
                  80.03500366210938
                ],
                [
                  "SO50176",
                  1,
                  "2021-03-29",
                  "Marie Martinez",
                  "marie19@adventure-works.com",
                  "Road-250 Red, 58",
                  1,
                  2181.5625,
                  174.52499389648438
                ],
                [
                  "SO50171",
                  1,
                  "2021-03-29",
                  "Edwin Shen",
                  "edwin24@adventure-works.com",
                  "Road-250 Black, 48",
                  1,
                  2181.5625,
                  174.52499389648438
                ],
                [
                  "SO50174",
                  1,
                  "2021-03-29",
                  "Manuel Srini",
                  "manuel7@adventure-works.com",
                  "Road-250 Black, 44",
                  1,
                  2181.5625,
                  174.52499389648438
                ],
                [
                  "SO50175",
                  1,
                  "2021-03-29",
                  "Clifford Sara",
                  "clifford10@adventure-works.com",
                  "Road-250 Red, 58",
                  1,
                  2181.5625,
                  174.52499389648438
                ],
                [
                  "SO50173",
                  1,
                  "2021-03-29",
                  "Clarence Yang",
                  "clarence41@adventure-works.com",
                  "Road-550-W Yellow, 42",
                  1,
                  1000.4375,
                  80.03500366210938
                ],
                [
                  "SO50177",
                  1,
                  "2021-03-29",
                  "Elijah Shan",
                  "elijah5@adventure-works.com",
                  "Road-650 Red, 60",
                  1,
                  782.989990234375,
                  62.639198303222656
                ],
                [
                  "SO50187",
                  1,
                  "2021-03-30",
                  "Colleen Shan",
                  "colleen34@adventure-works.com",
                  "Mountain-200 Black, 42",
                  1,
                  2049.09814453125,
                  163.9279022216797
                ],
                [
                  "SO50180",
                  1,
                  "2021-03-30",
                  "Armando Alvarez",
                  "armando5@adventure-works.com",
                  "Road-250 Red, 48",
                  1,
                  2443.35009765625,
                  195.46800231933594
                ],
                [
                  "SO50179",
                  1,
                  "2021-03-30",
                  "Nathan Martin",
                  "nathan72@adventure-works.com",
                  "Road-250 Black, 52",
                  1,
                  2181.5625,
                  174.52499389648438
                ],
                [
                  "SO50181",
                  1,
                  "2021-03-30",
                  "Dana Jim�nez",
                  "dana21@adventure-works.com",
                  "Road-550-W Yellow, 42",
                  1,
                  1000.4375,
                  80.03500366210938
                ],
                [
                  "SO50182",
                  1,
                  "2021-03-30",
                  "Frank Jimenez",
                  "frank36@adventure-works.com",
                  "Road-650 Red, 62",
                  1,
                  782.989990234375,
                  62.639198303222656
                ],
                [
                  "SO50183",
                  1,
                  "2021-03-30",
                  "Christy Hu",
                  "christy18@adventure-works.com",
                  "Road-650 Red, 48",
                  1,
                  782.989990234375,
                  62.639198303222656
                ],
                [
                  "SO50186",
                  1,
                  "2021-03-30",
                  "Nicole Blue",
                  "nicole51@adventure-works.com",
                  "Road-550-W Yellow, 42",
                  1,
                  1000.4375,
                  80.03500366210938
                ],
                [
                  "SO50185",
                  1,
                  "2021-03-30",
                  "Audrey Blanco",
                  "audrey17@adventure-works.com",
                  "Mountain-200 Black, 42",
                  1,
                  2049.09814453125,
                  163.9279022216797
                ],
                [
                  "SO50184",
                  1,
                  "2021-03-30",
                  "Melody Munoz",
                  "melody8@adventure-works.com",
                  "Mountain-200 Black, 42",
                  1,
                  2049.09814453125,
                  163.9279022216797
                ],
                [
                  "SO50178",
                  1,
                  "2021-03-30",
                  "Rebekah Sara",
                  "rebekah10@adventure-works.com",
                  "Mountain-200 Silver, 42",
                  1,
                  2071.419677734375,
                  165.71359252929688
                ],
                [
                  "SO50188",
                  1,
                  "2021-03-30",
                  "Trevor Powell",
                  "trevor8@adventure-works.com",
                  "Road-650 Red, 48",
                  1,
                  782.989990234375,
                  62.639198303222656
                ],
                [
                  "SO50328",
                  1,
                  "2021-03-31",
                  "Linda Navarro",
                  "linda25@adventure-works.com",
                  "Mountain-200 Silver, 46",
                  1,
                  2071.419677734375,
                  165.71359252929688
                ],
                [
                  "SO50329",
                  1,
                  "2021-03-31",
                  "Nancy Schmidt",
                  "nancy13@adventure-works.com",
                  "Mountain-200 Silver, 42",
                  1,
                  2071.419677734375,
                  165.71359252929688
                ],
                [
                  "SO50327",
                  1,
                  "2021-03-31",
                  "Mackenzie Ward",
                  "mackenzie10@adventure-works.com",
                  "Road-650 Black, 52",
                  1,
                  782.989990234375,
                  62.639198303222656
                ],
                [
                  "SO50326",
                  1,
                  "2021-03-31",
                  "Mariah Brooks",
                  "mariah1@adventure-works.com",
                  "Mountain-200 Silver, 42",
                  1,
                  2071.419677734375,
                  165.71359252929688
                ],
                [
                  "SO50324",
                  1,
                  "2021-03-31",
                  "Jeremiah Griffin",
                  "jeremiah36@adventure-works.com",
                  "Road-250 Black, 52",
                  1,
                  2181.5625,
                  174.52499389648438
                ],
                [
                  "SO50333",
                  1,
                  "2021-03-31",
                  "Ruben Raman",
                  "ruben13@adventure-works.com",
                  "Mountain-200 Silver, 38",
                  1,
                  2071.419677734375,
                  165.71359252929688
                ],
                [
                  "SO50330",
                  1,
                  "2021-03-31",
                  "Pamela Srini",
                  "pamela11@adventure-works.com",
                  "Road-650 Red, 60",
                  1,
                  782.989990234375,
                  62.639198303222656
                ],
                [
                  "SO50335",
                  1,
                  "2021-03-31",
                  "Edgar Gonzalez",
                  "edgar19@adventure-works.com",
                  "Mountain-200 Silver, 46",
                  1,
                  2071.419677734375,
                  165.71359252929688
                ],
                [
                  "SO50334",
                  1,
                  "2021-03-31",
                  "Andre Sanchez",
                  "andre19@adventure-works.com",
                  "Mountain-200 Black, 42",
                  1,
                  2049.09814453125,
                  163.9279022216797
                ],
                [
                  "SO50331",
                  1,
                  "2021-03-31",
                  "Alex Cox",
                  "alex14@adventure-works.com",
                  "Road-650 Red, 48",
                  1,
                  782.989990234375,
                  62.639198303222656
                ],
                [
                  "SO50332",
                  1,
                  "2021-03-31",
                  "Tamara Kumar",
                  "tamara19@adventure-works.com",
                  "Road-550-W Yellow, 42",
                  1,
                  1000.4375,
                  80.03500366210938
                ],
                [
                  "SO50325",
                  1,
                  "2021-03-31",
                  "Bobby Mehta",
                  "bobby10@adventure-works.com",
                  "Mountain-200 Silver, 46",
                  1,
                  2071.419677734375,
                  165.71359252929688
                ],
                [
                  "SO50323",
                  1,
                  "2021-03-31",
                  "Miranda Hayes",
                  "miranda23@adventure-works.com",
                  "Mountain-200 Silver, 46",
                  1,
                  2071.419677734375,
                  165.71359252929688
                ],
                [
                  "SO50344",
                  1,
                  "2021-04-01",
                  "Grace Lewis",
                  "grace20@adventure-works.com",
                  "Road-650 Black, 62",
                  1,
                  782.989990234375,
                  62.639198303222656
                ],
                [
                  "SO50340",
                  1,
                  "2021-04-01",
                  "Brandi Diaz",
                  "brandi3@adventure-works.com",
                  "Road-250 Black, 58",
                  1,
                  2181.5625,
                  174.52499389648438
                ],
                [
                  "SO50346",
                  1,
                  "2021-04-01",
                  "Alvin Ye",
                  "alvin9@adventure-works.com",
                  "Mountain-200 Silver, 42",
                  1,
                  2071.419677734375,
                  165.71359252929688
                ],
                [
                  "SO50345",
                  1,
                  "2021-04-01",
                  "Yolanda Bhat",
                  "yolanda19@adventure-works.com",
                  "Mountain-200 Silver, 42",
                  1,
                  2071.419677734375,
                  165.71359252929688
                ],
                [
                  "SO50339",
                  1,
                  "2021-04-01",
                  "Alisha He",
                  "alisha19@adventure-works.com",
                  "Road-250 Black, 58",
                  1,
                  2181.5625,
                  174.52499389648438
                ],
                [
                  "SO50338",
                  1,
                  "2021-04-01",
                  "Jocelyn Washington",
                  "jocelyn14@adventure-works.com",
                  "Road-250 Black, 52",
                  1,
                  2181.5625,
                  174.52499389648438
                ],
                [
                  "SO50337",
                  1,
                  "2021-04-01",
                  "Julia Bell",
                  "julia51@adventure-works.com",
                  "Mountain-200 Black, 38",
                  1,
                  2049.09814453125,
                  163.9279022216797
                ],
                [
                  "SO50336",
                  1,
                  "2021-04-01",
                  "Bryan Cox",
                  "bryan11@adventure-works.com",
                  "Mountain-200 Black, 46",
                  1,
                  2049.09814453125,
                  163.9279022216797
                ],
                [
                  "SO50342",
                  1,
                  "2021-04-01",
                  "Steven Morris",
                  "steven28@adventure-works.com",
                  "Mountain-200 Black, 42",
                  1,
                  2049.09814453125,
                  163.9279022216797
                ],
                [
                  "SO50341",
                  1,
                  "2021-04-01",
                  "Anna Long",
                  "anna34@adventure-works.com",
                  "Mountain-200 Silver, 46",
                  1,
                  2071.419677734375,
                  165.71359252929688
                ],
                [
                  "SO50343",
                  1,
                  "2021-04-01",
                  "Kaitlyn Garcia",
                  "kaitlyn39@adventure-works.com",
                  "Road-250 Black, 52",
                  1,
                  2181.5625,
                  174.52499389648438
                ],
                [
                  "SO50350",
                  1,
                  "2021-04-02",
                  "Francis Hernandez",
                  "francis1@adventure-works.com",
                  "Road-650 Black, 52",
                  1,
                  782.989990234375,
                  62.639198303222656
                ],
                [
                  "SO50348",
                  1,
                  "2021-04-02",
                  "Dana Rubio",
                  "dana14@adventure-works.com",
                  "Road-550-W Yellow, 38",
                  1,
                  1000.4375,
                  80.03500366210938
                ],
                [
                  "SO50349",
                  1,
                  "2021-04-02",
                  "Alvin Beck",
                  "alvin41@adventure-works.com",
                  "Road-550-W Yellow, 38",
                  1,
                  1000.4375,
                  80.03500366210938
                ],
                [
                  "SO50361",
                  1,
                  "2021-04-02",
                  "Renee Torres",
                  "renee11@adventure-works.com",
                  "Road-550-W Yellow, 44",
                  1,
                  1000.4375,
                  80.03500366210938
                ],
                [
                  "SO50355",
                  1,
                  "2021-04-02",
                  "Shannon Wu",
                  "shannon7@adventure-works.com",
                  "Mountain-200 Silver, 38",
                  1,
                  2071.419677734375,
                  165.71359252929688
                ],
                [
                  "SO50356",
                  1,
                  "2021-04-02",
                  "Josue Dominguez",
                  "josue1@adventure-works.com",
                  "Mountain-200 Silver, 42",
                  1,
                  2071.419677734375,
                  165.71359252929688
                ],
                [
                  "SO50357",
                  1,
                  "2021-04-02",
                  "Omar Raji",
                  "omar42@adventure-works.com",
                  "Mountain-200 Silver, 38",
                  1,
                  2071.419677734375,
                  165.71359252929688
                ],
                [
                  "SO50351",
                  1,
                  "2021-04-02",
                  "Garrett Sanchez",
                  "garrett22@adventure-works.com",
                  "Road-650 Black, 62",
                  1,
                  782.989990234375,
                  62.639198303222656
                ],
                [
                  "SO50352",
                  1,
                  "2021-04-02",
                  "Angela Hughes",
                  "angela14@adventure-works.com",
                  "Road-650 Black, 60",
                  1,
                  782.989990234375,
                  62.639198303222656
                ],
                [
                  "SO50353",
                  1,
                  "2021-04-02",
                  "Jon Tang",
                  "jon44@adventure-works.com",
                  "Road-550-W Yellow, 42",
                  1,
                  1000.4375,
                  80.03500366210938
                ],
                [
                  "SO50354",
                  1,
                  "2021-04-02",
                  "Benjamin Walker",
                  "benjamin38@adventure-works.com",
                  "Road-550-W Yellow, 38",
                  1,
                  1000.4375,
                  80.03500366210938
                ],
                [
                  "SO50359",
                  1,
                  "2021-04-02",
                  "Shaun Shan",
                  "shaun11@adventure-works.com",
                  "Road-250 Red, 52",
                  1,
                  2443.35009765625,
                  195.46800231933594
                ],
                [
                  "SO50360",
                  1,
                  "2021-04-02",
                  "Tasha Rai",
                  "tasha18@adventure-works.com",
                  "Road-250 Red, 44",
                  1,
                  2443.35009765625,
                  195.46800231933594
                ],
                [
                  "SO50347",
                  1,
                  "2021-04-02",
                  "Jackson Shan",
                  "jackson4@adventure-works.com",
                  "Mountain-200 Silver, 46",
                  1,
                  2071.419677734375,
                  165.71359252929688
                ],
                [
                  "SO50358",
                  1,
                  "2021-04-02",
                  "Ann Sai",
                  "ann11@adventure-works.com",
                  "Road-650 Black, 58",
                  1,
                  782.989990234375,
                  62.639198303222656
                ],
                [
                  "SO50365",
                  1,
                  "2021-04-03",
                  "Wyatt Barnes",
                  "wyatt54@adventure-works.com",
                  "Road-250 Red, 52",
                  1,
                  2443.35009765625,
                  195.46800231933594
                ],
                [
                  "SO50369",
                  1,
                  "2021-04-03",
                  "Cara Gao",
                  "cara10@adventure-works.com",
                  "Mountain-200 Silver, 38",
                  1,
                  2071.419677734375,
                  165.71359252929688
                ],
                [
                  "SO50368",
                  1,
                  "2021-04-03",
                  "Kristopher Malhotra",
                  "kristopher5@adventure-works.com",
                  "Mountain-200 Black, 46",
                  1,
                  2049.09814453125,
                  163.9279022216797
                ],
                [
                  "SO50370",
                  1,
                  "2021-04-03",
                  "David Jenkins",
                  "david39@adventure-works.com",
                  "Road-250 Black, 52",
                  1,
                  2181.5625,
                  174.52499389648438
                ],
                [
                  "SO50364",
                  1,
                  "2021-04-03",
                  "Katie Sharma",
                  "katie12@adventure-works.com",
                  "Road-650 Red, 62",
                  1,
                  782.989990234375,
                  62.639198303222656
                ],
                [
                  "SO50363",
                  1,
                  "2021-04-03",
                  "Aaron Kumar",
                  "aaron28@adventure-works.com",
                  "Mountain-200 Black, 38",
                  1,
                  2049.09814453125,
                  163.9279022216797
                ],
                [
                  "SO50362",
                  1,
                  "2021-04-03",
                  "Julia Evans",
                  "julia2@adventure-works.com",
                  "Mountain-200 Black, 46",
                  1,
                  2049.09814453125,
                  163.9279022216797
                ],
                [
                  "SO50366",
                  1,
                  "2021-04-03",
                  "Andrew Johnson",
                  "andrew10@adventure-works.com",
                  "Road-250 Red, 48",
                  1,
                  2443.35009765625,
                  195.46800231933594
                ],
                [
                  "SO50367",
                  1,
                  "2021-04-03",
                  "Jessica Russell",
                  "jessica44@adventure-works.com",
                  "Road-550-W Yellow, 38",
                  1,
                  1000.4375,
                  80.03500366210938
                ],
                [
                  "SO50377",
                  1,
                  "2021-04-04",
                  "Wesley Liu",
                  "wesley4@adventure-works.com",
                  "Road-650 Black, 58",
                  1,
                  782.989990234375,
                  62.639198303222656
                ],
                [
                  "SO50378",
                  1,
                  "2021-04-04",
                  "Roger Chande",
                  "roger42@adventure-works.com",
                  "Road-650 Red, 58",
                  1,
                  782.989990234375,
                  62.639198303222656
                ],
                [
                  "SO50375",
                  1,
                  "2021-04-04",
                  "Carlos Scott",
                  "carlos43@adventure-works.com",
                  "Road-550-W Yellow, 38",
                  1,
                  1000.4375,
                  80.03500366210938
                ],
                [
                  "SO50376",
                  1,
                  "2021-04-04",
                  "Noah Long",
                  "noah6@adventure-works.com",
                  "Road-550-W Yellow, 42",
                  1,
                  1000.4375,
                  80.03500366210938
                ],
                [
                  "SO50374",
                  1,
                  "2021-04-04",
                  "Alejandro Zhao",
                  "alejandro13@adventure-works.com",
                  "Road-550-W Yellow, 40",
                  1,
                  1000.4375,
                  80.03500366210938
                ],
                [
                  "SO50381",
                  1,
                  "2021-04-04",
                  "Patricia Suri",
                  "patricia5@adventure-works.com",
                  "Mountain-200 Silver, 46",
                  1,
                  2071.419677734375,
                  165.71359252929688
                ],
                [
                  "SO50382",
                  1,
                  "2021-04-04",
                  "Darren Srini",
                  "darren11@adventure-works.com",
                  "Mountain-200 Black, 42",
                  1,
                  2049.09814453125,
                  163.9279022216797
                ],
                [
                  "SO50371",
                  1,
                  "2021-04-04",
                  "Jermaine Rodriguez",
                  "jermaine18@adventure-works.com",
                  "Road-250 Black, 44",
                  1,
                  2181.5625,
                  174.52499389648438
                ],
                [
                  "SO50379",
                  1,
                  "2021-04-04",
                  "Raymond Malhotra",
                  "raymond6@adventure-works.com",
                  "Mountain-200 Black, 38",
                  1,
                  2049.09814453125,
                  163.9279022216797
                ],
                [
                  "SO50380",
                  1,
                  "2021-04-04",
                  "Jordan Turner",
                  "jordan59@adventure-works.com",
                  "Mountain-200 Silver, 46",
                  1,
                  2071.419677734375,
                  165.71359252929688
                ],
                [
                  "SO50373",
                  1,
                  "2021-04-04",
                  "Candice Ma",
                  "candice22@adventure-works.com",
                  "Mountain-200 Black, 38",
                  1,
                  2049.09814453125,
                  163.9279022216797
                ],
                [
                  "SO50383",
                  1,
                  "2021-04-04",
                  "Gilbert Andersen",
                  "gilbert34@adventure-works.com",
                  "Road-650 Red, 44",
                  1,
                  782.989990234375,
                  62.639198303222656
                ],
                [
                  "SO50384",
                  1,
                  "2021-04-04",
                  "Carolyn Srini",
                  "carolyn8@adventure-works.com",
                  "Road-650 Black, 48",
                  1,
                  782.989990234375,
                  62.639198303222656
                ],
                [
                  "SO50372",
                  1,
                  "2021-04-04",
                  "Trinity Howard",
                  "trinity11@adventure-works.com",
                  "Mountain-200 Black, 38",
                  1,
                  2049.09814453125,
                  163.9279022216797
                ],
                [
                  "SO50389",
                  1,
                  "2021-04-05",
                  "Reginald Ramos",
                  "reginald3@adventure-works.com",
                  "Mountain-200 Black, 46",
                  1,
                  2049.09814453125,
                  163.9279022216797
                ],
                [
                  "SO50390",
                  1,
                  "2021-04-05",
                  "Carly Xie",
                  "carly2@adventure-works.com",
                  "Mountain-200 Silver, 38",
                  1,
                  2071.419677734375,
                  165.71359252929688
                ],
                [
                  "SO50395",
                  1,
                  "2021-04-05",
                  "Brian Cox",
                  "brian22@adventure-works.com",
                  "Road-550-W Yellow, 40",
                  1,
                  1000.4375,
                  80.03500366210938
                ],
                [
                  "SO50393",
                  1,
                  "2021-04-05",
                  "Roberto Ruiz",
                  "roberto1@adventure-works.com",
                  "Road-650 Black, 60",
                  1,
                  782.989990234375,
                  62.639198303222656
                ],
                [
                  "SO50397",
                  1,
                  "2021-04-05",
                  "Kristy Alvarez",
                  "kristy5@adventure-works.com",
                  "Mountain-200 Black, 42",
                  1,
                  2049.09814453125,
                  163.9279022216797
                ],
                [
                  "SO50398",
                  1,
                  "2021-04-05",
                  "Javier Gill",
                  "javier8@adventure-works.com",
                  "Mountain-200 Black, 42",
                  1,
                  2049.09814453125,
                  163.9279022216797
                ],
                [
                  "SO50392",
                  1,
                  "2021-04-05",
                  "Robert Diaz",
                  "robert33@adventure-works.com",
                  "Road-650 Red, 48",
                  1,
                  782.989990234375,
                  62.639198303222656
                ],
                [
                  "SO50391",
                  1,
                  "2021-04-05",
                  "Taylor Bryant",
                  "taylor42@adventure-works.com",
                  "Road-650 Black, 62",
                  1,
                  782.989990234375,
                  62.639198303222656
                ],
                [
                  "SO50396",
                  1,
                  "2021-04-05",
                  "Mason Evans",
                  "mason21@adventure-works.com",
                  "Mountain-200 Black, 46",
                  1,
                  2049.09814453125,
                  163.9279022216797
                ],
                [
                  "SO50386",
                  1,
                  "2021-04-05",
                  "Steven Watson",
                  "steven10@adventure-works.com",
                  "Road-250 Black, 44",
                  1,
                  2181.5625,
                  174.52499389648438
                ],
                [
                  "SO50399",
                  1,
                  "2021-04-05",
                  "Meghan Alonso",
                  "meghan8@adventure-works.com",
                  "Road-250 Black, 58",
                  1,
                  2181.5625,
                  174.52499389648438
                ],
                [
                  "SO50394",
                  1,
                  "2021-04-05",
                  "Richard Thomas",
                  "richard51@adventure-works.com",
                  "Road-650 Black, 58",
                  1,
                  782.989990234375,
                  62.639198303222656
                ],
                [
                  "SO50387",
                  1,
                  "2021-04-05",
                  "Faith Griffin",
                  "faith20@adventure-works.com",
                  "Mountain-200 Silver, 42",
                  1,
                  2071.419677734375,
                  165.71359252929688
                ],
                [
                  "SO50385",
                  1,
                  "2021-04-05",
                  "Christian Flores",
                  "christian27@adventure-works.com",
                  "Mountain-200 Silver, 46",
                  1,
                  2071.419677734375,
                  165.71359252929688
                ],
                [
                  "SO50388",
                  1,
                  "2021-04-05",
                  "Riley Gonzales",
                  "riley14@adventure-works.com",
                  "Mountain-200 Silver, 38",
                  1,
                  2071.419677734375,
                  165.71359252929688
                ],
                [
                  "SO50407",
                  1,
                  "2021-04-06",
                  "Cesar Kapoor",
                  "cesar1@adventure-works.com",
                  "Road-250 Red, 58",
                  1,
                  2181.5625,
                  174.52499389648438
                ],
                [
                  "SO50408",
                  1,
                  "2021-04-06",
                  "Ebony Prasad",
                  "ebony9@adventure-works.com",
                  "Road-250 Black, 44",
                  1,
                  2181.5625,
                  174.52499389648438
                ],
                [
                  "SO50401",
                  1,
                  "2021-04-06",
                  "Franklin He",
                  "franklin16@adventure-works.com",
                  "Road-250 Red, 58",
                  1,
                  2181.5625,
                  174.52499389648438
                ],
                [
                  "SO50400",
                  1,
                  "2021-04-06",
                  "Brent Zhang",
                  "brent0@adventure-works.com",
                  "Road-250 Red, 44",
                  1,
                  2443.35009765625,
                  195.46800231933594
                ],
                [
                  "SO50406",
                  1,
                  "2021-04-06",
                  "Calvin Rai",
                  "calvin16@adventure-works.com",
                  "Mountain-200 Black, 42",
                  1,
                  2049.09814453125,
                  163.9279022216797
                ],
                [
                  "SO50403",
                  1,
                  "2021-04-06",
                  "Gilbert Zeng",
                  "gilbert20@adventure-works.com",
                  "Road-650 Red, 58",
                  1,
                  782.989990234375,
                  62.639198303222656
                ],
                [
                  "SO50402",
                  1,
                  "2021-04-06",
                  "Ethan Winston",
                  "ethan21@adventure-works.com",
                  "Mountain-200 Black, 46",
                  1,
                  2049.09814453125,
                  163.9279022216797
                ],
                [
                  "SO50405",
                  1,
                  "2021-04-06",
                  "Tyler Moore",
                  "tyler14@adventure-works.com",
                  "Road-550-W Yellow, 44",
                  1,
                  1000.4375,
                  80.03500366210938
                ],
                [
                  "SO50404",
                  1,
                  "2021-04-06",
                  "Edward Patterson",
                  "edward59@adventure-works.com",
                  "Mountain-200 Black, 38",
                  1,
                  2049.09814453125,
                  163.9279022216797
                ],
                [
                  "SO50417",
                  1,
                  "2021-04-07",
                  "Lacey Zheng",
                  "lacey32@adventure-works.com",
                  "Mountain-200 Black, 38",
                  1,
                  2049.09814453125,
                  163.9279022216797
                ],
                [
                  "SO50416",
                  1,
                  "2021-04-07",
                  "Latoya Xu",
                  "latoya4@adventure-works.com",
                  "Mountain-200 Black, 46",
                  1,
                  2049.09814453125,
                  163.9279022216797
                ],
                [
                  "SO50419",
                  1,
                  "2021-04-07",
                  "Jesse Scott",
                  "jesse37@adventure-works.com",
                  "Road-550-W Yellow, 44",
                  1,
                  1000.4375,
                  80.03500366210938
                ],
                [
                  "SO50415",
                  1,
                  "2021-04-07",
                  "Isaiah Richardson",
                  "isaiah8@adventure-works.com",
                  "Road-650 Red, 60",
                  1,
                  782.989990234375,
                  62.639198303222656
                ],
                [
                  "SO50414",
                  1,
                  "2021-04-07",
                  "Jacqueline Howard",
                  "jacqueline35@adventure-works.com",
                  "Road-550-W Yellow, 44",
                  1,
                  1000.4375,
                  80.03500366210938
                ],
                [
                  "SO50422",
                  1,
                  "2021-04-07",
                  "Ebony Martin",
                  "ebony22@adventure-works.com",
                  "Mountain-200 Silver, 38",
                  1,
                  2071.419677734375,
                  165.71359252929688
                ],
                [
                  "SO50418",
                  1,
                  "2021-04-07",
                  "Haley Cooper",
                  "haley9@adventure-works.com",
                  "Road-650 Red, 52",
                  1,
                  782.989990234375,
                  62.639198303222656
                ],
                [
                  "SO50421",
                  1,
                  "2021-04-07",
                  "Roger She",
                  "roger27@adventure-works.com",
                  "Mountain-200 Black, 38",
                  1,
                  2049.09814453125,
                  163.9279022216797
                ],
                [
                  "SO50409",
                  1,
                  "2021-04-07",
                  "Reginald Suarez",
                  "reginald5@adventure-works.com",
                  "Road-250 Red, 58",
                  1,
                  2181.5625,
                  174.52499389648438
                ],
                [
                  "SO50410",
                  1,
                  "2021-04-07",
                  "Blake Diaz",
                  "blake69@adventure-works.com",
                  "Road-250 Black, 52",
                  1,
                  2181.5625,
                  174.52499389648438
                ],
                [
                  "SO50411",
                  1,
                  "2021-04-07",
                  "Deanna Chandra",
                  "deanna5@adventure-works.com",
                  "Road-250 Black, 58",
                  1,
                  2181.5625,
                  174.52499389648438
                ],
                [
                  "SO50423",
                  1,
                  "2021-04-07",
                  "Carolyn Diaz",
                  "carolyn25@adventure-works.com",
                  "Road-250 Red, 52",
                  1,
                  2443.35009765625,
                  195.46800231933594
                ],
                [
                  "SO50420",
                  1,
                  "2021-04-07",
                  "Natalie Gonzalez",
                  "natalie60@adventure-works.com",
                  "Road-550-W Yellow, 44",
                  1,
                  1000.4375,
                  80.03500366210938
                ],
                [
                  "SO50413",
                  1,
                  "2021-04-07",
                  "Marcus Miller",
                  "marcus6@adventure-works.com",
                  "Mountain-200 Silver, 42",
                  1,
                  2071.419677734375,
                  165.71359252929688
                ],
                [
                  "SO50412",
                  1,
                  "2021-04-07",
                  "Latasha Serrano",
                  "latasha16@adventure-works.com",
                  "Mountain-200 Black, 38",
                  1,
                  2049.09814453125,
                  163.9279022216797
                ],
                [
                  "SO50430",
                  1,
                  "2021-04-08",
                  "Shane Suri",
                  "shane4@adventure-works.com",
                  "Road-550-W Yellow, 44",
                  1,
                  1000.4375,
                  80.03500366210938
                ],
                [
                  "SO50431",
                  1,
                  "2021-04-08",
                  "Leslie Navarro",
                  "leslie11@adventure-works.com",
                  "Road-250 Red, 52",
                  1,
                  2443.35009765625,
                  195.46800231933594
                ],
                [
                  "SO50427",
                  1,
                  "2021-04-08",
                  "Damien Lu",
                  "damien9@adventure-works.com",
                  "Road-650 Black, 60",
                  1,
                  782.989990234375,
                  62.639198303222656
                ],
                [
                  "SO50424",
                  1,
                  "2021-04-08",
                  "Mathew Dominguez",
                  "mathew8@adventure-works.com",
                  "Road-250 Black, 52",
                  1,
                  2181.5625,
                  174.52499389648438
                ],
                [
                  "SO50426",
                  1,
                  "2021-04-08",
                  "Alexandra Rodriguez",
                  "alexandra84@adventure-works.com",
                  "Mountain-200 Silver, 42",
                  1,
                  2071.419677734375,
                  165.71359252929688
                ],
                [
                  "SO50429",
                  1,
                  "2021-04-08",
                  "Jennifer Peterson",
                  "jennifer68@adventure-works.com",
                  "Road-550-W Yellow, 44",
                  1,
                  1000.4375,
                  80.03500366210938
                ],
                [
                  "SO50428",
                  1,
                  "2021-04-08",
                  "Hannah Barnes",
                  "hannah26@adventure-works.com",
                  "Road-550-W Yellow, 38",
                  1,
                  1000.4375,
                  80.03500366210938
                ],
                [
                  "SO50425",
                  1,
                  "2021-04-08",
                  "Mindy Chander",
                  "mindy20@adventure-works.com",
                  "Mountain-200 Black, 42",
                  1,
                  2049.09814453125,
                  163.9279022216797
                ],
                [
                  "SO50434",
                  1,
                  "2021-04-09",
                  "Caroline Simmons",
                  "caroline16@adventure-works.com",
                  "Road-250 Black, 48",
                  1,
                  2181.5625,
                  174.52499389648438
                ],
                [
                  "SO50435",
                  1,
                  "2021-04-09",
                  "Mandar Samant",
                  "mandar2@adventure-works.com",
                  "Mountain-200 Silver, 46",
                  1,
                  2071.419677734375,
                  165.71359252929688
                ],
                [
                  "SO50433",
                  1,
                  "2021-04-09",
                  "Melody Carlson",
                  "melody18@adventure-works.com",
                  "Road-650 Red, 44",
                  1,
                  782.989990234375,
                  62.639198303222656
                ],
                [
                  "SO50437",
                  1,
                  "2021-04-09",
                  "Dawn He",
                  "dawn20@adventure-works.com",
                  "Mountain-200 Black, 38",
                  1,
                  2049.09814453125,
                  163.9279022216797
                ],
                [
                  "SO50432",
                  1,
                  "2021-04-09",
                  "Tommy Yuan",
                  "tommy3@adventure-works.com",
                  "Road-250 Black, 52",
                  1,
                  2181.5625,
                  174.52499389648438
                ],
                [
                  "SO50436",
                  1,
                  "2021-04-09",
                  "Kristine Gutierrez",
                  "kristine12@adventure-works.com",
                  "Road-550-W Yellow, 42",
                  1,
                  1000.4375,
                  80.03500366210938
                ],
                [
                  "SO50446",
                  1,
                  "2021-04-10",
                  "Priscilla Deng",
                  "priscilla1@adventure-works.com",
                  "Road-550-W Yellow, 44",
                  1,
                  1000.4375,
                  80.03500366210938
                ],
                [
                  "SO50438",
                  1,
                  "2021-04-10",
                  "Alfredo Rubio",
                  "alfredo22@adventure-works.com",
                  "Road-250 Red, 58",
                  1,
                  2181.5625,
                  174.52499389648438
                ],
                [
                  "SO50447",
                  1,
                  "2021-04-10",
                  "Faith Barnes",
                  "faith3@adventure-works.com",
                  "Mountain-200 Black, 46",
                  1,
                  2049.09814453125,
                  163.9279022216797
                ],
                [
                  "SO50448",
                  1,
                  "2021-04-10",
                  "Clayton Chen",
                  "clayton2@adventure-works.com",
                  "Mountain-200 Black, 38",
                  1,
                  2049.09814453125,
                  163.9279022216797
                ],
                [
                  "SO50449",
                  1,
                  "2021-04-10",
                  "Geoffrey Raman",
                  "geoffrey10@adventure-works.com",
                  "Mountain-200 Silver, 38",
                  1,
                  2071.419677734375,
                  165.71359252929688
                ],
                [
                  "SO50441",
                  1,
                  "2021-04-10",
                  "Robin Gutierrez",
                  "robin7@adventure-works.com",
                  "Road-650 Red, 60",
                  1,
                  782.989990234375,
                  62.639198303222656
                ],
                [
                  "SO50439",
                  1,
                  "2021-04-10",
                  "Elijah Carter",
                  "elijah38@adventure-works.com",
                  "Mountain-200 Black, 42",
                  1,
                  2049.09814453125,
                  163.9279022216797
                ],
                [
                  "SO50440",
                  1,
                  "2021-04-10",
                  "Felicia Carlson",
                  "felicia17@adventure-works.com",
                  "Road-550-W Yellow, 38",
                  1,
                  1000.4375,
                  80.03500366210938
                ],
                [
                  "SO50444",
                  1,
                  "2021-04-10",
                  "Gabrielle Gonzales",
                  "gabrielle39@adventure-works.com",
                  "Road-550-W Yellow, 48",
                  1,
                  1000.4375,
                  80.03500366210938
                ],
                [
                  "SO50442",
                  1,
                  "2021-04-10",
                  "Kelli Cai",
                  "kelli21@adventure-works.com",
                  "Mountain-200 Silver, 38",
                  1,
                  2071.419677734375,
                  165.71359252929688
                ],
                [
                  "SO50443",
                  1,
                  "2021-04-10",
                  "Katrina Becker",
                  "katrina19@adventure-works.com",
                  "Mountain-200 Black, 46",
                  1,
                  2049.09814453125,
                  163.9279022216797
                ],
                [
                  "SO50445",
                  1,
                  "2021-04-10",
                  "David Powell",
                  "david41@adventure-works.com",
                  "Road-550-W Yellow, 44",
                  1,
                  1000.4375,
                  80.03500366210938
                ],
                [
                  "SO50455",
                  1,
                  "2021-04-11",
                  "Lisa Zeng",
                  "lisa25@adventure-works.com",
                  "Road-650 Black, 62",
                  1,
                  782.989990234375,
                  62.639198303222656
                ],
                [
                  "SO50454",
                  1,
                  "2021-04-11",
                  "Karla Shan",
                  "karla11@adventure-works.com",
                  "Road-550-W Yellow, 48",
                  1,
                  1000.4375,
                  80.03500366210938
                ],
                [
                  "SO50458",
                  1,
                  "2021-04-11",
                  "Arthur Rodriguez",
                  "arthur20@adventure-works.com",
                  "Mountain-200 Silver, 42",
                  1,
                  2071.419677734375,
                  165.71359252929688
                ],
                [
                  "SO50457",
                  1,
                  "2021-04-11",
                  "Harold Malhotra",
                  "harold2@adventure-works.com",
                  "Mountain-200 Black, 38",
                  1,
                  2049.09814453125,
                  163.9279022216797
                ],
                [
                  "SO50456",
                  1,
                  "2021-04-11",
                  "Kate Deng",
                  "kate1@adventure-works.com",
                  "Mountain-200 Black, 42",
                  1,
                  2049.09814453125,
                  163.9279022216797
                ],
                [
                  "SO50450",
                  1,
                  "2021-04-11",
                  "Brian Rivera",
                  "brian28@adventure-works.com",
                  "Road-250 Red, 44",
                  1,
                  2443.35009765625,
                  195.46800231933594
                ],
                [
                  "SO50453",
                  1,
                  "2021-04-11",
                  "Madison Patterson",
                  "madison46@adventure-works.com",
                  "Road-550-W Yellow, 38",
                  1,
                  1000.4375,
                  80.03500366210938
                ],
                [
                  "SO50459",
                  1,
                  "2021-04-11",
                  "Frederick Rodriguez",
                  "frederick16@adventure-works.com",
                  "Road-250 Red, 48",
                  1,
                  2443.35009765625,
                  195.46800231933594
                ],
                [
                  "SO50462",
                  1,
                  "2021-04-11",
                  "Henry Prasad",
                  "henry10@adventure-works.com",
                  "Road-250 Red, 58",
                  1,
                  2181.5625,
                  174.52499389648438
                ],
                [
                  "SO50451",
                  1,
                  "2021-04-11",
                  "Elijah Chen",
                  "elijah27@adventure-works.com",
                  "Mountain-200 Black, 42",
                  1,
                  2049.09814453125,
                  163.9279022216797
                ],
                [
                  "SO50452",
                  1,
                  "2021-04-11",
                  "Naomi Gutierrez",
                  "naomi11@adventure-works.com",
                  "Mountain-200 Black, 42",
                  1,
                  2049.09814453125,
                  163.9279022216797
                ],
                [
                  "SO50460",
                  1,
                  "2021-04-11",
                  "Douglas Subram",
                  "douglas17@adventure-works.com",
                  "Road-650 Red, 52",
                  1,
                  782.989990234375,
                  62.639198303222656
                ],
                [
                  "SO50461",
                  1,
                  "2021-04-11",
                  "Nelson Suarez",
                  "nelson18@adventure-works.com",
                  "Road-650 Black, 48",
                  1,
                  782.989990234375,
                  62.639198303222656
                ],
                [
                  "SO50463",
                  1,
                  "2021-04-12",
                  "Julian Wood",
                  "julian3@adventure-works.com",
                  "Road-250 Red, 52",
                  1,
                  2443.35009765625,
                  195.46800231933594
                ],
                [
                  "SO50467",
                  1,
                  "2021-04-12",
                  "Troy Arun",
                  "troy7@adventure-works.com",
                  "Mountain-200 Silver, 46",
                  1,
                  2071.419677734375,
                  165.71359252929688
                ],
                [
                  "SO50464",
                  1,
                  "2021-04-12",
                  "Shawn Black",
                  "shawn22@adventure-works.com",
                  "Road-550-W Yellow, 38",
                  1,
                  1000.4375,
                  80.03500366210938
                ],
                [
                  "SO50465",
                  1,
                  "2021-04-12",
                  "Stanley Garcia",
                  "stanley16@adventure-works.com",
                  "Road-550-W Yellow, 38",
                  1,
                  1000.4375,
                  80.03500366210938
                ],
                [
                  "SO50466",
                  1,
                  "2021-04-12",
                  "Cory Sara",
                  "cory8@adventure-works.com",
                  "Road-650 Red, 52",
                  1,
                  782.989990234375,
                  62.639198303222656
                ],
                [
                  "SO50471",
                  1,
                  "2021-04-12",
                  "Nina Kumar",
                  "nina8@adventure-works.com",
                  "Mountain-200 Silver, 38",
                  1,
                  2071.419677734375,
                  165.71359252929688
                ],
                [
                  "SO50468",
                  1,
                  "2021-04-12",
                  "Leslie Dominguez",
                  "leslie13@adventure-works.com",
                  "Road-650 Black, 58",
                  1,
                  782.989990234375,
                  62.639198303222656
                ],
                [
                  "SO50469",
                  1,
                  "2021-04-12",
                  "Clayton Zhou",
                  "clayton7@adventure-works.com",
                  "Road-650 Red, 58",
                  1,
                  782.989990234375,
                  62.639198303222656
                ],
                [
                  "SO50470",
                  1,
                  "2021-04-12",
                  "Stephanie Bell",
                  "stephanie10@adventure-works.com",
                  "Road-650 Black, 44",
                  1,
                  782.989990234375,
                  62.639198303222656
                ],
                [
                  "SO50477",
                  1,
                  "2021-04-13",
                  "Bianca Lu",
                  "bianca9@adventure-works.com",
                  "Mountain-200 Silver, 46",
                  1,
                  2071.419677734375,
                  165.71359252929688
                ],
                [
                  "SO50479",
                  1,
                  "2021-04-13",
                  "Logan Jenkins",
                  "logan9@adventure-works.com",
                  "Road-550-W Yellow, 42",
                  1,
                  1000.4375,
                  80.03500366210938
                ],
                [
                  "SO50476",
                  1,
                  "2021-04-13",
                  "Matthew Miller",
                  "matthew12@adventure-works.com",
                  "Road-650 Black, 48",
                  1,
                  782.989990234375,
                  62.639198303222656
                ],
                [
                  "SO50475",
                  1,
                  "2021-04-13",
                  "Valerie Chen",
                  "valerie3@adventure-works.com",
                  "Road-550-W Yellow, 38",
                  1,
                  1000.4375,
                  80.03500366210938
                ],
                [
                  "SO50481",
                  1,
                  "2021-04-13",
                  "Jan Gonzalez",
                  "jan12@adventure-works.com",
                  "Mountain-200 Silver, 42",
                  1,
                  2071.419677734375,
                  165.71359252929688
                ],
                [
                  "SO50483",
                  1,
                  "2021-04-13",
                  "Diane Gill",
                  "diane18@adventure-works.com",
                  "Mountain-200 Silver, 38",
                  1,
                  2071.419677734375,
                  165.71359252929688
                ],
                [
                  "SO50478",
                  1,
                  "2021-04-13",
                  "Yolanda Xu",
                  "yolanda4@adventure-works.com",
                  "Road-650 Black, 44",
                  1,
                  782.989990234375,
                  62.639198303222656
                ],
                [
                  "SO50473",
                  1,
                  "2021-04-13",
                  "Maria Coleman",
                  "maria29@adventure-works.com",
                  "Road-550-W Yellow, 38",
                  1,
                  1000.4375,
                  80.03500366210938
                ],
                [
                  "SO50480",
                  1,
                  "2021-04-13",
                  "Seth Russell",
                  "seth68@adventure-works.com",
                  "Road-550-W Yellow, 40",
                  1,
                  1000.4375,
                  80.03500366210938
                ],
                [
                  "SO50482",
                  1,
                  "2021-04-13",
                  "Deanna Patel",
                  "deanna6@adventure-works.com",
                  "Road-650 Red, 62",
                  1,
                  782.989990234375,
                  62.639198303222656
                ],
                [
                  "SO50472",
                  1,
                  "2021-04-13",
                  "Destiny Richardson",
                  "destiny35@adventure-works.com",
                  "Mountain-200 Black, 38",
                  1,
                  2049.09814453125,
                  163.9279022216797
                ],
                [
                  "SO50474",
                  1,
                  "2021-04-13",
                  "Victoria Lee",
                  "victoria21@adventure-works.com",
                  "Mountain-200 Black, 46",
                  1,
                  2049.09814453125,
                  163.9279022216797
                ],
                [
                  "SO50487",
                  1,
                  "2021-04-14",
                  "Cheryl Gutierrez",
                  "cheryl13@adventure-works.com",
                  "Road-550-W Yellow, 40",
                  1,
                  1000.4375,
                  80.03500366210938
                ]
              ]
            },
            "text/plain": "<Spark SQL result set with 1000 rows and 9 fields>"
          },
          "metadata": {}
        }
      ],
      "execution_count": 11,
      "metadata": {
        "jupyter": {
          "source_hidden": false,
          "outputs_hidden": false
        },
        "nteract": {
          "transient": {
            "deleting": false
          }
        },
        "microsoft": {
          "language": "sparksql"
        },
        "collapsed": false
      }
    },
    {
      "cell_type": "code",
      "source": [
        "sqlQuery = \"SELECT CAST(YEAR(OrderDate) AS CHAR(4)) AS OrderYear, \\\r\n",
        "                SUM((UnitPrice * Quantity) + Tax) AS GrossRevenue \\\r\n",
        "            FROM salesorders \\\r\n",
        "            GROUP BY CAST(YEAR(OrderDate) AS CHAR(4)) \\\r\n",
        "            ORDER BY OrderYear\"\r\n",
        "df_spark = spark.sql(sqlQuery)\r\n",
        "df_spark.show()"
      ],
      "outputs": [
        {
          "output_type": "display_data",
          "data": {
            "application/vnd.livy.statement-meta+json": {
              "spark_pool": "sparksfmo6v9",
              "session_id": "0",
              "statement_id": 13,
              "state": "finished",
              "livy_statement_state": "available",
              "queued_time": "2023-04-30T21:05:10.7417551Z",
              "session_start_time": null,
              "execution_start_time": "2023-04-30T21:05:10.9095821Z",
              "execution_finish_time": "2023-04-30T21:05:12.8326038Z",
              "spark_jobs": null,
              "parent_msg_id": "041f04b4-5fc1-4384-a9eb-b9e1b86caa70"
            },
            "text/plain": "StatementMeta(sparksfmo6v9, 0, 13, Finished, Available)"
          },
          "metadata": {}
        },
        {
          "output_type": "stream",
          "name": "stdout",
          "text": [
            "+---------+--------------------+\n|OrderYear|        GrossRevenue|\n+---------+--------------------+\n|     2019|   4172169.969970703|\n|     2020|   6882259.268127441|\n|     2021|1.1547835291696548E7|\n+---------+--------------------+\n\n"
          ]
        }
      ],
      "execution_count": 12,
      "metadata": {
        "jupyter": {
          "source_hidden": false,
          "outputs_hidden": false
        },
        "nteract": {
          "transient": {
            "deleting": false
          }
        }
      }
    },
    {
      "cell_type": "markdown",
      "source": [
        "Visualize data with Spark: **matplotlib** & **seaborn**\r\n"
      ],
      "metadata": {
        "nteract": {
          "transient": {
            "deleting": false
          }
        }
      }
    },
    {
      "cell_type": "code",
      "source": [
        "# Clear the plot area\r\n",
        "plt.clf()\r\n",
        "\r\n",
        "# Create a figure for 2 subplots (1 row, 2 columns)\r\n",
        "fig, ax = plt.subplots(1, 2, figsize = (10,4))\r\n",
        "\r\n",
        "# Create a bar plot of revenue by year on the first axis\r\n",
        "ax[0].bar(x=df_sales['OrderYear'], height=df_sales['GrossRevenue'], color='orange')\r\n",
        "ax[0].set_title('Revenue by Year')\r\n",
        "\r\n",
        "# Create a pie chart of yearly order counts on the second axis\r\n",
        "yearly_counts = df_sales['OrderYear'].value_counts()\r\n",
        "ax[1].pie(yearly_counts)\r\n",
        "ax[1].set_title('Orders per Year')\r\n",
        "ax[1].legend(yearly_counts.keys().tolist())\r\n",
        "\r\n",
        "# Add a title to the Figure\r\n",
        "fig.suptitle('Sales Data')\r\n",
        "\r\n",
        "# Show the figure\r\n",
        "plt.show()"
      ],
      "outputs": [
        {
          "output_type": "display_data",
          "data": {
            "application/vnd.livy.statement-meta+json": {
              "spark_pool": "sparksfmo6v9",
              "session_id": "0",
              "statement_id": 19,
              "state": "finished",
              "livy_statement_state": "available",
              "queued_time": "2023-04-30T21:07:40.3260539Z",
              "session_start_time": null,
              "execution_start_time": "2023-04-30T21:07:40.458979Z",
              "execution_finish_time": "2023-04-30T21:07:41.0208246Z",
              "spark_jobs": null,
              "parent_msg_id": "962d7c54-b6f5-4b9a-86d3-f0251d1e5bd1"
            },
            "text/plain": "StatementMeta(sparksfmo6v9, 0, 19, Finished, Available)"
          },
          "metadata": {}
        },
        {
          "output_type": "display_data",
          "data": {
            "text/plain": "<Figure size 432x288 with 0 Axes>"
          },
          "metadata": {}
        },
        {
          "output_type": "display_data",
          "data": {
            "text/plain": "<Figure size 720x288 with 2 Axes>",
            "image/png": "[encoded data removed]"
          },
          "metadata": {
            "needs_background": "light"
          }
        }
      ],
      "execution_count": 18,
      "metadata": {
        "jupyter": {
          "source_hidden": false,
          "outputs_hidden": false
        },
        "nteract": {
          "transient": {
            "deleting": false
          }
        }
      }
    },
    {
      "cell_type": "code",
      "source": [
        "import seaborn as sns\r\n",
        "\r\n",
        "# Clear the plot area\r\n",
        "plt.clf()\r\n",
        "\r\n",
        "# Create a bar chart\r\n",
        "ax = sns.barplot(x=\"OrderYear\", y=\"GrossRevenue\", data=df_sales)\r\n",
        "plt.show()"
      ],
      "outputs": [
        {
          "output_type": "display_data",
          "data": {
            "application/vnd.livy.statement-meta+json": {
              "spark_pool": "sparksfmo6v9",
              "session_id": "0",
              "statement_id": 20,
              "state": "finished",
              "livy_statement_state": "available",
              "queued_time": "2023-04-30T21:08:07.6973076Z",
              "session_start_time": null,
              "execution_start_time": "2023-04-30T21:08:07.8476788Z",
              "execution_finish_time": "2023-04-30T21:08:13.2841021Z",
              "spark_jobs": null,
              "parent_msg_id": "a38443f7-bd09-4885-8e05-db92d99ead21"
            },
            "text/plain": "StatementMeta(sparksfmo6v9, 0, 20, Finished, Available)"
          },
          "metadata": {}
        },
        {
          "output_type": "display_data",
          "data": {
            "text/plain": "<Figure size 432x288 with 1 Axes>",
            "image/png": "[encoded data removed]"
          },
          "metadata": {
            "needs_background": "light"
          }
        }
      ],
      "execution_count": 19,
      "metadata": {
        "jupyter": {
          "source_hidden": false,
          "outputs_hidden": false
        },
        "nteract": {
          "transient": {
            "deleting": false
          }
        }
      }
    },
    {
      "cell_type": "code",
      "source": [
        "# Clear the plot area\r\n",
        "plt.clf()\r\n",
        "\r\n",
        "# Set the visual theme for seaborn\r\n",
        "sns.set_theme(style=\"whitegrid\")\r\n",
        "\r\n",
        "# Create a bar chart\r\n",
        "ax = sns.barplot(x=\"OrderYear\", y=\"GrossRevenue\", data=df_sales)\r\n",
        "plt.show()"
      ],
      "outputs": [
        {
          "output_type": "display_data",
          "data": {
            "application/vnd.livy.statement-meta+json": {
              "spark_pool": "sparksfmo6v9",
              "session_id": "0",
              "statement_id": 21,
              "state": "finished",
              "livy_statement_state": "available",
              "queued_time": "2023-04-30T21:08:29.2264815Z",
              "session_start_time": null,
              "execution_start_time": "2023-04-30T21:08:29.3937201Z",
              "execution_finish_time": "2023-04-30T21:08:29.6149917Z",
              "spark_jobs": null,
              "parent_msg_id": "ff5f2fde-50d1-4be6-883b-cec34ac3220c"
            },
            "text/plain": "StatementMeta(sparksfmo6v9, 0, 21, Finished, Available)"
          },
          "metadata": {}
        },
        {
          "output_type": "display_data",
          "data": {
            "text/plain": "<Figure size 432x288 with 1 Axes>",
            "image/png": "[encoded data removed]"
          },
          "metadata": {
            "needs_background": "light"
          }
        }
      ],
      "execution_count": 20,
      "metadata": {
        "jupyter": {
          "source_hidden": false,
          "outputs_hidden": false
        },
        "nteract": {
          "transient": {
            "deleting": false
          }
        }
      }
    },
    {
      "cell_type": "code",
      "source": [
        "# Clear the plot area\r\n",
        "plt.clf()\r\n",
        "\r\n",
        "# Create a bar chart\r\n",
        "ax = sns.lineplot(x=\"OrderYear\", y=\"GrossRevenue\", data=df_sales)\r\n",
        "plt.show()"
      ],
      "outputs": [
        {
          "output_type": "display_data",
          "data": {
            "application/vnd.livy.statement-meta+json": {
              "spark_pool": "sparksfmo6v9",
              "session_id": "0",
              "statement_id": 22,
              "state": "finished",
              "livy_statement_state": "available",
              "queued_time": "2023-04-30T21:08:58.8073003Z",
              "session_start_time": null,
              "execution_start_time": "2023-04-30T21:08:58.9943857Z",
              "execution_finish_time": "2023-04-30T21:08:59.2131649Z",
              "spark_jobs": null,
              "parent_msg_id": "584d8426-ddd6-46a9-aa5d-2981be2e524f"
            },
            "text/plain": "StatementMeta(sparksfmo6v9, 0, 22, Finished, Available)"
          },
          "metadata": {}
        },
        {
          "output_type": "display_data",
          "data": {
            "text/plain": "<Figure size 432x288 with 1 Axes>",
            "image/png": "[encoded data removed]"
          },
          "metadata": {}
        }
      ],
      "execution_count": 21,
      "metadata": {
        "jupyter": {
          "source_hidden": false,
          "outputs_hidden": false
        },
        "nteract": {
          "transient": {
            "deleting": false
          }
        }
      }
    }
  ],
  "metadata": {
    "language_info": {
      "name": "python"
    },
    "kernelspec": {
      "name": "synapse_pyspark",
      "language": "Python",
      "display_name": "Synapse PySpark"
    },
    "kernel_info": {
      "name": "synapse_pyspark"
    },
    "save_output": false,
    "synapse_widget": {
      "version": "0.1",
      "state": {
        "1455dd53-8762-47f0-a8bd-2b00df6e4109": {
          "type": "Synapse.DataFrame",
          "sync_state": {
            "table": {
              "rows": [
                {
                  "0": "SO49171",
                  "1": "1",
                  "2": "2021-01-01",
                  "3": "Mariah Foster",
                  "4": "mariah21@adventure-works.com",
                  "5": "Road-250 Black, 48",
                  "6": "1",
                  "7": "2181.5625",
                  "8": "174.525"
                },
                {
                  "0": "SO49172",
                  "1": "1",
                  "2": "2021-01-01",
                  "3": "Brian Howard",
                  "4": "brian23@adventure-works.com",
                  "5": "Road-250 Red, 44",
                  "6": "1",
                  "7": "2443.35",
                  "8": "195.468"
                },
                {
                  "0": "SO49173",
                  "1": "1",
                  "2": "2021-01-01",
                  "3": "Linda Alvarez",
                  "4": "linda19@adventure-works.com",
                  "5": "Mountain-200 Silver, 38",
                  "6": "1",
                  "7": "2071.4197",
                  "8": "165.7136"
                },
                {
                  "0": "SO49174",
                  "1": "1",
                  "2": "2021-01-01",
                  "3": "Gina Hernandez",
                  "4": "gina4@adventure-works.com",
                  "5": "Mountain-200 Silver, 42",
                  "6": "1",
                  "7": "2071.4197",
                  "8": "165.7136"
                },
                {
                  "0": "SO49178",
                  "1": "1",
                  "2": "2021-01-01",
                  "3": "Beth Ruiz",
                  "4": "beth4@adventure-works.com",
                  "5": "Road-550-W Yellow, 44",
                  "6": "1",
                  "7": "1000.4375",
                  "8": "80.035"
                },
                {
                  "0": "SO49179",
                  "1": "1",
                  "2": "2021-01-01",
                  "3": "Evan Ward",
                  "4": "evan13@adventure-works.com",
                  "5": "Road-550-W Yellow, 38",
                  "6": "1",
                  "7": "1000.4375",
                  "8": "80.035"
                },
                {
                  "0": "SO49175",
                  "1": "1",
                  "2": "2021-01-01",
                  "3": "Margaret Guo",
                  "4": "margaret24@adventure-works.com",
                  "5": "Road-250 Red, 52",
                  "6": "1",
                  "7": "2443.35",
                  "8": "195.468"
                },
                {
                  "0": "SO49180",
                  "1": "1",
                  "2": "2021-01-01",
                  "3": "Mitchell Yuan",
                  "4": "mitchell6@adventure-works.com",
                  "5": "Road-650 Black, 58",
                  "6": "1",
                  "7": "782.99",
                  "8": "62.6392"
                },
                {
                  "0": "SO49176",
                  "1": "1",
                  "2": "2021-01-01",
                  "3": "Shawn Sharma",
                  "4": "shawn11@adventure-works.com",
                  "5": "Mountain-200 Silver, 46",
                  "6": "1",
                  "7": "2071.4197",
                  "8": "165.7136"
                },
                {
                  "0": "SO49177",
                  "1": "1",
                  "2": "2021-01-01",
                  "3": "Barbara Chande",
                  "4": "barbara44@adventure-works.com",
                  "5": "Mountain-200 Silver, 42",
                  "6": "1",
                  "7": "2071.4197",
                  "8": "165.7136"
                },
                {
                  "0": "SO49186",
                  "1": "1",
                  "2": "2021-01-02",
                  "3": "Cara Xu",
                  "4": "cara8@adventure-works.com",
                  "5": "Road-250 Red, 52",
                  "6": "1",
                  "7": "2443.35",
                  "8": "195.468"
                },
                {
                  "0": "SO49187",
                  "1": "1",
                  "2": "2021-01-02",
                  "3": "Lacey Liu",
                  "4": "lacey16@adventure-works.com",
                  "5": "Road-250 Black, 58",
                  "6": "1",
                  "7": "2181.5625",
                  "8": "174.525"
                },
                {
                  "0": "SO49190",
                  "1": "1",
                  "2": "2021-01-02",
                  "3": "Omar Zhu",
                  "4": "omar13@adventure-works.com",
                  "5": "Road-550-W Yellow, 40",
                  "6": "1",
                  "7": "1000.4375",
                  "8": "80.035"
                },
                {
                  "0": "SO49185",
                  "1": "1",
                  "2": "2021-01-02",
                  "3": "Cassandra Fernandez",
                  "4": "cassandra17@adventure-works.com",
                  "5": "Mountain-200 Black, 46",
                  "6": "1",
                  "7": "2049.0981",
                  "8": "163.9279"
                },
                {
                  "0": "SO49184",
                  "1": "1",
                  "2": "2021-01-02",
                  "3": "Monica Martinez",
                  "4": "monica17@adventure-works.com",
                  "5": "Mountain-200 Black, 46",
                  "6": "1",
                  "7": "2049.0981",
                  "8": "163.9279"
                },
                {
                  "0": "SO49189",
                  "1": "1",
                  "2": "2021-01-02",
                  "3": "Marie Gonzalez",
                  "4": "marie20@adventure-works.com",
                  "5": "Road-650 Black, 48",
                  "6": "1",
                  "7": "782.99",
                  "8": "62.6392"
                },
                {
                  "0": "SO49182",
                  "1": "1",
                  "2": "2021-01-02",
                  "3": "Alexandra Hall",
                  "4": "alexandra89@adventure-works.com",
                  "5": "Road-250 Red, 48",
                  "6": "1",
                  "7": "2443.35",
                  "8": "195.468"
                },
                {
                  "0": "SO49183",
                  "1": "1",
                  "2": "2021-01-02",
                  "3": "Alejandro Raji",
                  "4": "alejandro46@adventure-works.com",
                  "5": "Road-250 Red, 52",
                  "6": "1",
                  "7": "2443.35",
                  "8": "195.468"
                },
                {
                  "0": "SO49181",
                  "1": "1",
                  "2": "2021-01-02",
                  "3": "Derrick Jim�nez",
                  "4": "derrick5@adventure-works.com",
                  "5": "Road-250 Black, 48",
                  "6": "1",
                  "7": "2181.5625",
                  "8": "174.525"
                },
                {
                  "0": "SO49188",
                  "1": "1",
                  "2": "2021-01-02",
                  "3": "Erin Cox",
                  "4": "erin15@adventure-works.com",
                  "5": "Mountain-200 Black, 38",
                  "6": "1",
                  "7": "2049.0981",
                  "8": "163.9279"
                },
                {
                  "0": "SO49192",
                  "1": "1",
                  "2": "2021-01-03",
                  "3": "Eugene Sun",
                  "4": "eugene17@adventure-works.com",
                  "5": "Road-550-W Yellow, 44",
                  "6": "1",
                  "7": "1000.4375",
                  "8": "80.035"
                },
                {
                  "0": "SO49191",
                  "1": "1",
                  "2": "2021-01-03",
                  "3": "Benjamin Thompson",
                  "4": "benjamin52@adventure-works.com",
                  "5": "Road-550-W Yellow, 44",
                  "6": "1",
                  "7": "1000.4375",
                  "8": "80.035"
                },
                {
                  "0": "SO49195",
                  "1": "1",
                  "2": "2021-01-03",
                  "3": "Barry Malhotra",
                  "4": "barry5@adventure-works.com",
                  "5": "Road-650 Red, 58",
                  "6": "1",
                  "7": "782.99",
                  "8": "62.6392"
                },
                {
                  "0": "SO49194",
                  "1": "1",
                  "2": "2021-01-03",
                  "3": "Clayton Wagner",
                  "4": "clayton1@adventure-works.com",
                  "5": "Road-650 Black, 60",
                  "6": "1",
                  "7": "782.99",
                  "8": "62.6392"
                },
                {
                  "0": "SO49196",
                  "1": "1",
                  "2": "2021-01-03",
                  "3": "Katherine Perry",
                  "4": "katherine33@adventure-works.com",
                  "5": "Mountain-200 Silver, 42",
                  "6": "1",
                  "7": "2071.4197",
                  "8": "165.7136"
                },
                {
                  "0": "SO49198",
                  "1": "1",
                  "2": "2021-01-03",
                  "3": "Lori Alvarez",
                  "4": "lori7@adventure-works.com",
                  "5": "Road-650 Black, 52",
                  "6": "1",
                  "7": "782.99",
                  "8": "62.6392"
                },
                {
                  "0": "SO49199",
                  "1": "1",
                  "2": "2021-01-03",
                  "3": "Jillian Patel",
                  "4": "jillian3@adventure-works.com",
                  "5": "Road-650 Black, 62",
                  "6": "1",
                  "7": "782.99",
                  "8": "62.6392"
                },
                {
                  "0": "SO49193",
                  "1": "1",
                  "2": "2021-01-03",
                  "3": "Summer Rodriguez",
                  "4": "summer17@adventure-works.com",
                  "5": "Mountain-200 Black, 42",
                  "6": "1",
                  "7": "2049.0981",
                  "8": "163.9279"
                },
                {
                  "0": "SO49197",
                  "1": "1",
                  "2": "2021-01-03",
                  "3": "Oscar Flores",
                  "4": "oscar20@adventure-works.com",
                  "5": "Mountain-200 Black, 42",
                  "6": "1",
                  "7": "2049.0981",
                  "8": "163.9279"
                },
                {
                  "0": "SO49205",
                  "1": "1",
                  "2": "2021-01-04",
                  "3": "Rebekah Serrano",
                  "4": "rebekah36@adventure-works.com",
                  "5": "Mountain-200 Black, 38",
                  "6": "1",
                  "7": "2049.0981",
                  "8": "163.9279"
                },
                {
                  "0": "SO49204",
                  "1": "1",
                  "2": "2021-01-04",
                  "3": "Monique Blanco",
                  "4": "monique12@adventure-works.com",
                  "5": "Mountain-200 Silver, 38",
                  "6": "1",
                  "7": "2071.4197",
                  "8": "165.7136"
                },
                {
                  "0": "SO49212",
                  "1": "1",
                  "2": "2021-01-04",
                  "3": "Olivia Coleman",
                  "4": "olivia51@adventure-works.com",
                  "5": "Road-550-W Yellow, 44",
                  "6": "1",
                  "7": "1000.4375",
                  "8": "80.035"
                },
                {
                  "0": "SO49210",
                  "1": "1",
                  "2": "2021-01-04",
                  "3": "Timothy James",
                  "4": "timothy9@adventure-works.com",
                  "5": "Mountain-200 Silver, 46",
                  "6": "1",
                  "7": "2071.4197",
                  "8": "165.7136"
                },
                {
                  "0": "SO49203",
                  "1": "1",
                  "2": "2021-01-04",
                  "3": "Louis Ye",
                  "4": "louis3@adventure-works.com",
                  "5": "Road-650 Red, 52",
                  "6": "1",
                  "7": "782.99",
                  "8": "62.6392"
                },
                {
                  "0": "SO49201",
                  "1": "1",
                  "2": "2021-01-04",
                  "3": "Jaime Diaz",
                  "4": "jaime3@adventure-works.com",
                  "5": "Road-250 Red, 52",
                  "6": "1",
                  "7": "2443.35",
                  "8": "195.468"
                },
                {
                  "0": "SO49202",
                  "1": "1",
                  "2": "2021-01-04",
                  "3": "Audrey Gutierrez",
                  "4": "audrey12@adventure-works.com",
                  "5": "Road-250 Black, 48",
                  "6": "1",
                  "7": "2181.5625",
                  "8": "174.525"
                },
                {
                  "0": "SO49200",
                  "1": "1",
                  "2": "2021-01-04",
                  "3": "Blake Taylor",
                  "4": "blake8@adventure-works.com",
                  "5": "Road-250 Red, 44",
                  "6": "1",
                  "7": "2443.35",
                  "8": "195.468"
                },
                {
                  "0": "SO49215",
                  "1": "1",
                  "2": "2021-01-04",
                  "3": "Kathryn Deng",
                  "4": "kathryn1@adventure-works.com",
                  "5": "Road-650 Red, 62",
                  "6": "1",
                  "7": "782.99",
                  "8": "62.6392"
                },
                {
                  "0": "SO49213",
                  "1": "1",
                  "2": "2021-01-04",
                  "3": "Anne Martin",
                  "4": "anne1@adventure-works.com",
                  "5": "Road-550-W Yellow, 44",
                  "6": "1",
                  "7": "1000.4375",
                  "8": "80.035"
                },
                {
                  "0": "SO49209",
                  "1": "1",
                  "2": "2021-01-04",
                  "3": "Dana Suarez",
                  "4": "dana12@adventure-works.com",
                  "5": "Road-250 Red, 58",
                  "6": "1",
                  "7": "2181.5625",
                  "8": "174.525"
                },
                {
                  "0": "SO49208",
                  "1": "1",
                  "2": "2021-01-04",
                  "3": "Alexis Powell",
                  "4": "alexis31@adventure-works.com",
                  "5": "Road-250 Black, 48",
                  "6": "1",
                  "7": "2181.5625",
                  "8": "174.525"
                },
                {
                  "0": "SO49207",
                  "1": "1",
                  "2": "2021-01-04",
                  "3": "Jordan Roberts",
                  "4": "jordan58@adventure-works.com",
                  "5": "Road-250 Red, 48",
                  "6": "1",
                  "7": "2443.35",
                  "8": "195.468"
                },
                {
                  "0": "SO49206",
                  "1": "1",
                  "2": "2021-01-04",
                  "3": "Adam Powell",
                  "4": "adam6@adventure-works.com",
                  "5": "Road-250 Black, 48",
                  "6": "1",
                  "7": "2181.5625",
                  "8": "174.525"
                },
                {
                  "0": "SO49214",
                  "1": "1",
                  "2": "2021-01-04",
                  "3": "Bobby Ray",
                  "4": "bobby7@adventure-works.com",
                  "5": "Road-250 Black, 58",
                  "6": "1",
                  "7": "2181.5625",
                  "8": "174.525"
                },
                {
                  "0": "SO49216",
                  "1": "1",
                  "2": "2021-01-04",
                  "3": "Rafael Sun",
                  "4": "rafael14@adventure-works.com",
                  "5": "Road-650 Red, 44",
                  "6": "1",
                  "7": "782.99",
                  "8": "62.6392"
                },
                {
                  "0": "SO49211",
                  "1": "1",
                  "2": "2021-01-04",
                  "3": "Rachel Perry",
                  "4": "rachel55@adventure-works.com",
                  "5": "Mountain-200 Silver, 42",
                  "6": "1",
                  "7": "2071.4197",
                  "8": "165.7136"
                },
                {
                  "0": "SO49221",
                  "1": "1",
                  "2": "2021-01-05",
                  "3": "Brett Martinez",
                  "4": "brett17@adventure-works.com",
                  "5": "Road-250 Black, 58",
                  "6": "1",
                  "7": "2181.5625",
                  "8": "174.525"
                },
                {
                  "0": "SO49217",
                  "1": "1",
                  "2": "2021-01-05",
                  "3": "Russell Sharma",
                  "4": "russell12@adventure-works.com",
                  "5": "Road-250 Black, 52",
                  "6": "1",
                  "7": "2181.5625",
                  "8": "174.525"
                },
                {
                  "0": "SO49220",
                  "1": "1",
                  "2": "2021-01-05",
                  "3": "Arthur Chandra",
                  "4": "arthur4@adventure-works.com",
                  "5": "Mountain-200 Silver, 38",
                  "6": "1",
                  "7": "2071.4197",
                  "8": "165.7136"
                },
                {
                  "0": "SO49219",
                  "1": "1",
                  "2": "2021-01-05",
                  "3": "Priscilla Rai",
                  "4": "priscilla16@adventure-works.com",
                  "5": "Mountain-200 Black, 46",
                  "6": "1",
                  "7": "2049.0981",
                  "8": "163.9279"
                },
                {
                  "0": "SO49224",
                  "1": "1",
                  "2": "2021-01-05",
                  "3": "Sydney Sanders",
                  "4": "sydney22@adventure-works.com",
                  "5": "Mountain-200 Black, 38",
                  "6": "1",
                  "7": "2049.0981",
                  "8": "163.9279"
                },
                {
                  "0": "SO49222",
                  "1": "1",
                  "2": "2021-01-05",
                  "3": "Chloe Scott",
                  "4": "chloe11@adventure-works.com",
                  "5": "Mountain-200 Silver, 38",
                  "6": "1",
                  "7": "2071.4197",
                  "8": "165.7136"
                },
                {
                  "0": "SO49223",
                  "1": "1",
                  "2": "2021-01-05",
                  "3": "Jonathan Thompson",
                  "4": "jonathan69@adventure-works.com",
                  "5": "Mountain-200 Black, 42",
                  "6": "1",
                  "7": "2049.0981",
                  "8": "163.9279"
                },
                {
                  "0": "SO49218",
                  "1": "1",
                  "2": "2021-01-05",
                  "3": "Caitlin Rivera",
                  "4": "caitlin14@adventure-works.com",
                  "5": "Road-250 Black, 58",
                  "6": "1",
                  "7": "2181.5625",
                  "8": "174.525"
                },
                {
                  "0": "SO49227",
                  "1": "1",
                  "2": "2021-01-06",
                  "3": "Russell Jai",
                  "4": "russell14@adventure-works.com",
                  "5": "Road-250 Red, 48",
                  "6": "1",
                  "7": "2443.35",
                  "8": "195.468"
                },
                {
                  "0": "SO49229",
                  "1": "1",
                  "2": "2021-01-06",
                  "3": "Denise Martinez",
                  "4": "denise18@adventure-works.com",
                  "5": "Mountain-200 Silver, 46",
                  "6": "1",
                  "7": "2071.4197",
                  "8": "165.7136"
                },
                {
                  "0": "SO49234",
                  "1": "1",
                  "2": "2021-01-06",
                  "3": "Steven Bell",
                  "4": "steven23@adventure-works.com",
                  "5": "Road-650 Red, 48",
                  "6": "1",
                  "7": "782.99",
                  "8": "62.6392"
                },
                {
                  "0": "SO49232",
                  "1": "1",
                  "2": "2021-01-06",
                  "3": "Jason Allen",
                  "4": "jason50@adventure-works.com",
                  "5": "Road-650 Red, 58",
                  "6": "1",
                  "7": "782.99",
                  "8": "62.6392"
                },
                {
                  "0": "SO49233",
                  "1": "1",
                  "2": "2021-01-06",
                  "3": "Calvin Raji",
                  "4": "calvin20@adventure-works.com",
                  "5": "Road-650 Red, 62",
                  "6": "1",
                  "7": "782.99",
                  "8": "62.6392"
                },
                {
                  "0": "SO49235",
                  "1": "1",
                  "2": "2021-01-06",
                  "3": "Destiny Peterson",
                  "4": "destiny40@adventure-works.com",
                  "5": "Road-650 Red, 58",
                  "6": "1",
                  "7": "782.99",
                  "8": "62.6392"
                },
                {
                  "0": "SO49226",
                  "1": "1",
                  "2": "2021-01-06",
                  "3": "Bridget Andersen",
                  "4": "bridget15@adventure-works.com",
                  "5": "Road-250 Red, 52",
                  "6": "1",
                  "7": "2443.35",
                  "8": "195.468"
                },
                {
                  "0": "SO49225",
                  "1": "1",
                  "2": "2021-01-06",
                  "3": "Gilbert Guo",
                  "4": "gilbert15@adventure-works.com",
                  "5": "Road-250 Black, 48",
                  "6": "1",
                  "7": "2181.5625",
                  "8": "174.525"
                },
                {
                  "0": "SO49230",
                  "1": "1",
                  "2": "2021-01-06",
                  "3": "Taylor Washington",
                  "4": "taylor38@adventure-works.com",
                  "5": "Mountain-200 Black, 38",
                  "6": "1",
                  "7": "2049.0981",
                  "8": "163.9279"
                },
                {
                  "0": "SO49238",
                  "1": "1",
                  "2": "2021-01-06",
                  "3": "Krystal Zhou",
                  "4": "krystal8@adventure-works.com",
                  "5": "Road-250 Black, 58",
                  "6": "1",
                  "7": "2181.5625",
                  "8": "174.525"
                },
                {
                  "0": "SO49237",
                  "1": "1",
                  "2": "2021-01-06",
                  "3": "Mandy Lin",
                  "4": "mandy9@adventure-works.com",
                  "5": "Road-550-W Yellow, 42",
                  "6": "1",
                  "7": "1000.4375",
                  "8": "80.035"
                },
                {
                  "0": "SO49236",
                  "1": "1",
                  "2": "2021-01-06",
                  "3": "Edwin Sharma",
                  "4": "edwin32@adventure-works.com",
                  "5": "Road-550-W Yellow, 48",
                  "6": "1",
                  "7": "1000.4375",
                  "8": "80.035"
                },
                {
                  "0": "SO49231",
                  "1": "1",
                  "2": "2021-01-06",
                  "3": "Nathan Butler",
                  "4": "nathan10@adventure-works.com",
                  "5": "Mountain-200 Black, 46",
                  "6": "1",
                  "7": "2049.0981",
                  "8": "163.9279"
                },
                {
                  "0": "SO49228",
                  "1": "1",
                  "2": "2021-01-06",
                  "3": "Chloe Ross",
                  "4": "chloe70@adventure-works.com",
                  "5": "Mountain-200 Black, 42",
                  "6": "1",
                  "7": "2049.0981",
                  "8": "163.9279"
                },
                {
                  "0": "SO49245",
                  "1": "1",
                  "2": "2021-01-07",
                  "3": "Alberto Hernandez",
                  "4": "alberto5@adventure-works.com",
                  "5": "Road-550-W Yellow, 48",
                  "6": "1",
                  "7": "1000.4375",
                  "8": "80.035"
                },
                {
                  "0": "SO49246",
                  "1": "1",
                  "2": "2021-01-07",
                  "3": "Bruce Jim�nez",
                  "4": "bruce28@adventure-works.com",
                  "5": "Road-250 Black, 44",
                  "6": "1",
                  "7": "2181.5625",
                  "8": "174.525"
                },
                {
                  "0": "SO49242",
                  "1": "1",
                  "2": "2021-01-07",
                  "3": "Ronnie Yang",
                  "4": "ronnie4@adventure-works.com",
                  "5": "Road-250 Red, 44",
                  "6": "1",
                  "7": "2443.35",
                  "8": "195.468"
                },
                {
                  "0": "SO49244",
                  "1": "1",
                  "2": "2021-01-07",
                  "3": "Cody Stewart",
                  "4": "cody22@adventure-works.com",
                  "5": "Mountain-200 Black, 46",
                  "6": "1",
                  "7": "2049.0981",
                  "8": "163.9279"
                },
                {
                  "0": "SO49239",
                  "1": "1",
                  "2": "2021-01-07",
                  "3": "Roger Shen",
                  "4": "roger29@adventure-works.com",
                  "5": "Mountain-200 Silver, 42",
                  "6": "1",
                  "7": "2071.4197",
                  "8": "165.7136"
                },
                {
                  "0": "SO49240",
                  "1": "1",
                  "2": "2021-01-07",
                  "3": "Johnny Anand",
                  "4": "johnny23@adventure-works.com",
                  "5": "Mountain-200 Silver, 38",
                  "6": "1",
                  "7": "2071.4197",
                  "8": "165.7136"
                },
                {
                  "0": "SO49241",
                  "1": "1",
                  "2": "2021-01-07",
                  "3": "Samuel Diaz",
                  "4": "samuel21@adventure-works.com",
                  "5": "Mountain-200 Silver, 42",
                  "6": "1",
                  "7": "2071.4197",
                  "8": "165.7136"
                },
                {
                  "0": "SO49243",
                  "1": "1",
                  "2": "2021-01-07",
                  "3": "Kristi Sanchez",
                  "4": "kristi38@adventure-works.com",
                  "5": "Mountain-200 Black, 38",
                  "6": "1",
                  "7": "2049.0981",
                  "8": "163.9279"
                },
                {
                  "0": "SO49251",
                  "1": "1",
                  "2": "2021-01-08",
                  "3": "Sarah Gonzales",
                  "4": "sarah41@adventure-works.com",
                  "5": "Road-250 Black, 52",
                  "6": "1",
                  "7": "2181.5625",
                  "8": "174.525"
                },
                {
                  "0": "SO49256",
                  "1": "1",
                  "2": "2021-01-08",
                  "3": "Raquel Hernandez",
                  "4": "raquel2@adventure-works.com",
                  "5": "Mountain-200 Silver, 42",
                  "6": "1",
                  "7": "2071.4197",
                  "8": "165.7136"
                },
                {
                  "0": "SO49253",
                  "1": "1",
                  "2": "2021-01-08",
                  "3": "Emma Bradley",
                  "4": "emma31@adventure-works.com",
                  "5": "Mountain-200 Black, 42",
                  "6": "1",
                  "7": "2049.0981",
                  "8": "163.9279"
                },
                {
                  "0": "SO49254",
                  "1": "1",
                  "2": "2021-01-08",
                  "3": "Edwin Zheng",
                  "4": "edwin20@adventure-works.com",
                  "5": "Mountain-200 Black, 38",
                  "6": "1",
                  "7": "2049.0981",
                  "8": "163.9279"
                },
                {
                  "0": "SO49252",
                  "1": "1",
                  "2": "2021-01-08",
                  "3": "Brianna Sanchez",
                  "4": "brianna25@adventure-works.com",
                  "5": "Mountain-200 Silver, 38",
                  "6": "1",
                  "7": "2071.4197",
                  "8": "165.7136"
                },
                {
                  "0": "SO49250",
                  "1": "1",
                  "2": "2021-01-08",
                  "3": "Jeremy Rogers",
                  "4": "jeremy45@adventure-works.com",
                  "5": "Road-650 Black, 52",
                  "6": "1",
                  "7": "782.99",
                  "8": "62.6392"
                },
                {
                  "0": "SO49247",
                  "1": "1",
                  "2": "2021-01-08",
                  "3": "Kathleen Alvarez",
                  "4": "kathleen6@adventure-works.com",
                  "5": "Road-250 Red, 48",
                  "6": "1",
                  "7": "2443.35",
                  "8": "195.468"
                },
                {
                  "0": "SO49248",
                  "1": "1",
                  "2": "2021-01-08",
                  "3": "Jake Xu",
                  "4": "jake11@adventure-works.com",
                  "5": "Road-550-W Yellow, 44",
                  "6": "1",
                  "7": "1000.4375",
                  "8": "80.035"
                },
                {
                  "0": "SO49249",
                  "1": "1",
                  "2": "2021-01-08",
                  "3": "Tommy Raje",
                  "4": "tommy10@adventure-works.com",
                  "5": "Road-550-W Yellow, 42",
                  "6": "1",
                  "7": "1000.4375",
                  "8": "80.035"
                },
                {
                  "0": "SO49255",
                  "1": "1",
                  "2": "2021-01-08",
                  "3": "Jonathan Yang",
                  "4": "jonathan26@adventure-works.com",
                  "5": "Road-650 Red, 44",
                  "6": "1",
                  "7": "782.99",
                  "8": "62.6392"
                },
                {
                  "0": "SO49257",
                  "1": "1",
                  "2": "2021-01-08",
                  "3": "Amber Adams",
                  "4": "amber16@adventure-works.com",
                  "5": "Road-650 Red, 58",
                  "6": "1",
                  "7": "782.99",
                  "8": "62.6392"
                },
                {
                  "0": "SO49258",
                  "1": "1",
                  "2": "2021-01-09",
                  "3": "Valerie Zhou",
                  "4": "valerie10@adventure-works.com",
                  "5": "Road-250 Red, 44",
                  "6": "1",
                  "7": "2443.35",
                  "8": "195.468"
                },
                {
                  "0": "SO49262",
                  "1": "1",
                  "2": "2021-01-09",
                  "3": "Cedric Ye",
                  "4": "cedric10@adventure-works.com",
                  "5": "Road-650 Black, 58",
                  "6": "1",
                  "7": "782.99",
                  "8": "62.6392"
                },
                {
                  "0": "SO49263",
                  "1": "1",
                  "2": "2021-01-09",
                  "3": "Jose Shan",
                  "4": "jose25@adventure-works.com",
                  "5": "Road-650 Black, 52",
                  "6": "1",
                  "7": "782.99",
                  "8": "62.6392"
                },
                {
                  "0": "SO49265",
                  "1": "1",
                  "2": "2021-01-09",
                  "3": "Manuel Lopez",
                  "4": "manuel15@adventure-works.com",
                  "5": "Mountain-200 Silver, 46",
                  "6": "1",
                  "7": "2071.4197",
                  "8": "165.7136"
                },
                {
                  "0": "SO49266",
                  "1": "1",
                  "2": "2021-01-09",
                  "3": "Nathaniel Rivera",
                  "4": "nathaniel18@adventure-works.com",
                  "5": "Mountain-200 Black, 46",
                  "6": "1",
                  "7": "2049.0981",
                  "8": "163.9279"
                },
                {
                  "0": "SO49264",
                  "1": "1",
                  "2": "2021-01-09",
                  "3": "Cheryl Sanz",
                  "4": "cheryl23@adventure-works.com",
                  "5": "Mountain-200 Silver, 46",
                  "6": "1",
                  "7": "2071.4197",
                  "8": "165.7136"
                },
                {
                  "0": "SO49267",
                  "1": "1",
                  "2": "2021-01-09",
                  "3": "Javier Navarro",
                  "4": "javier4@adventure-works.com",
                  "5": "Mountain-200 Silver, 46",
                  "6": "1",
                  "7": "2071.4197",
                  "8": "165.7136"
                },
                {
                  "0": "SO49260",
                  "1": "1",
                  "2": "2021-01-09",
                  "3": "Brett Sanchez",
                  "4": "brett20@adventure-works.com",
                  "5": "Mountain-200 Black, 46",
                  "6": "1",
                  "7": "2049.0981",
                  "8": "163.9279"
                },
                {
                  "0": "SO49261",
                  "1": "1",
                  "2": "2021-01-09",
                  "3": "Linda Carlson",
                  "4": "linda33@adventure-works.com",
                  "5": "Mountain-200 Black, 42",
                  "6": "1",
                  "7": "2049.0981",
                  "8": "163.9279"
                },
                {
                  "0": "SO49268",
                  "1": "1",
                  "2": "2021-01-09",
                  "3": "Mackenzie James",
                  "4": "mackenzie6@adventure-works.com",
                  "5": "Mountain-200 Silver, 46",
                  "6": "1",
                  "7": "2071.4197",
                  "8": "165.7136"
                },
                {
                  "0": "SO49259",
                  "1": "1",
                  "2": "2021-01-09",
                  "3": "Walter Ramos",
                  "4": "walter10@adventure-works.com",
                  "5": "Mountain-200 Black, 42",
                  "6": "1",
                  "7": "2049.0981",
                  "8": "163.9279"
                },
                {
                  "0": "SO49271",
                  "1": "1",
                  "2": "2021-01-10",
                  "3": "Kevin Simmons",
                  "4": "kevin18@adventure-works.com",
                  "5": "Mountain-200 Silver, 42",
                  "6": "1",
                  "7": "2071.4197",
                  "8": "165.7136"
                },
                {
                  "0": "SO49272",
                  "1": "1",
                  "2": "2021-01-10",
                  "3": "Alejandro Kumar",
                  "4": "alejandro34@adventure-works.com",
                  "5": "Mountain-200 Black, 46",
                  "6": "1",
                  "7": "2049.0981",
                  "8": "163.9279"
                }
              ],
              "schema": [
                {
                  "key": "0",
                  "name": "SalesOrderNumber",
                  "type": "string"
                },
                {
                  "key": "1",
                  "name": "SalesOrderLineNumber",
                  "type": "int"
                },
                {
                  "key": "2",
                  "name": "OrderDate",
                  "type": "date"
                },
                {
                  "key": "3",
                  "name": "CustomerName",
                  "type": "string"
                },
                {
                  "key": "4",
                  "name": "Email",
                  "type": "string"
                },
                {
                  "key": "5",
                  "name": "Item",
                  "type": "string"
                },
                {
                  "key": "6",
                  "name": "Quantity",
                  "type": "int"
                },
                {
                  "key": "7",
                  "name": "UnitPrice",
                  "type": "float"
                },
                {
                  "key": "8",
                  "name": "Tax",
                  "type": "float"
                }
              ],
              "truncated": false
            },
            "isSummary": false,
            "language": "scala"
          },
          "persist_state": {
            "view": {
              "type": "details",
              "tableOptions": {},
              "chartOptions": {
                "chartType": "bar",
                "aggregationType": "sum",
                "categoryFieldKeys": [
                  "0"
                ],
                "seriesFieldKeys": [
                  "1"
                ],
                "isStacked": false
              }
            }
          }
        },
        "df3114fe-5034-4f04-b962-7496725ff3ee": {
          "type": "Synapse.DataFrame",
          "sync_state": {
            "table": {
              "rows": [
                {
                  "0": "Mountain-200 Black, 42",
                  "1": "388"
                },
                {
                  "0": "Touring-1000 Yellow, 46",
                  "1": "74"
                },
                {
                  "0": "Touring-1000 Blue, 54",
                  "1": "67"
                },
                {
                  "0": "Short-Sleeve Classic Jersey, S",
                  "1": "216"
                },
                {
                  "0": "Women's Mountain Shorts, S",
                  "1": "146"
                },
                {
                  "0": "Long-Sleeve Logo Jersey, L",
                  "1": "234"
                },
                {
                  "0": "Mountain-400-W Silver, 42",
                  "1": "59"
                },
                {
                  "0": "Racing Socks, M",
                  "1": "165"
                },
                {
                  "0": "Mountain-100 Silver, 42",
                  "1": "42"
                },
                {
                  "0": "Mountain-200 Silver, 42",
                  "1": "359"
                },
                {
                  "0": "Road-750 Black, 58",
                  "1": "170"
                },
                {
                  "0": "Half-Finger Gloves, L",
                  "1": "209"
                },
                {
                  "0": "Road-350-W Yellow, 44",
                  "1": "81"
                },
                {
                  "0": "Mountain-400-W Silver, 38",
                  "1": "68"
                },
                {
                  "0": "Mountain-100 Silver, 44",
                  "1": "49"
                },
                {
                  "0": "Mountain Bottle Cage",
                  "1": "1000"
                },
                {
                  "0": "Touring-1000 Blue, 46",
                  "1": "75"
                },
                {
                  "0": "Mountain-500 Silver, 42",
                  "1": "22"
                },
                {
                  "0": "HL Mountain Tire",
                  "1": "702"
                },
                {
                  "0": "Mountain-400-W Silver, 40",
                  "1": "61"
                },
                {
                  "0": "Bike Wash - Dissolver",
                  "1": "473"
                },
                {
                  "0": "Road-550-W Yellow, 40",
                  "1": "156"
                },
                {
                  "0": "Short-Sleeve Classic Jersey, XL",
                  "1": "185"
                },
                {
                  "0": "Mountain-500 Black, 52",
                  "1": "16"
                },
                {
                  "0": "Mountain-100 Silver, 38",
                  "1": "58"
                },
                {
                  "0": "Road-250 Red, 48",
                  "1": "162"
                },
                {
                  "0": "Mountain-400-W Silver, 46",
                  "1": "62"
                },
                {
                  "0": "Touring-3000 Blue, 50",
                  "1": "30"
                },
                {
                  "0": "Road-250 Red, 52",
                  "1": "133"
                },
                {
                  "0": "Water Bottle - 30 oz.",
                  "1": "2097"
                },
                {
                  "0": "Road-650 Red, 52",
                  "1": "61"
                },
                {
                  "0": "Road-250 Black, 52",
                  "1": "276"
                },
                {
                  "0": "Touring-3000 Blue, 44",
                  "1": "31"
                },
                {
                  "0": "Mountain-500 Silver, 52",
                  "1": "27"
                },
                {
                  "0": "Touring Tire",
                  "1": "437"
                },
                {
                  "0": "Classic Vest, L",
                  "1": "84"
                },
                {
                  "0": "Road-550-W Yellow, 48",
                  "1": "158"
                },
                {
                  "0": "AWC Logo Cap",
                  "1": "1063"
                },
                {
                  "0": "Touring-2000 Blue, 60",
                  "1": "40"
                },
                {
                  "0": "Patch Kit/8 Patches",
                  "1": "1621"
                },
                {
                  "0": "Mountain-500 Black, 42",
                  "1": "26"
                },
                {
                  "0": "ML Mountain Tire",
                  "1": "608"
                },
                {
                  "0": "HL Road Tire",
                  "1": "470"
                },
                {
                  "0": "Touring Tire Tube",
                  "1": "708"
                },
                {
                  "0": "Mountain-500 Silver, 44",
                  "1": "19"
                },
                {
                  "0": "Road-350-W Yellow, 48",
                  "1": "98"
                },
                {
                  "0": "Mountain-100 Black, 44",
                  "1": "60"
                },
                {
                  "0": "Half-Finger Gloves, M",
                  "1": "231"
                },
                {
                  "0": "Short-Sleeve Classic Jersey, L",
                  "1": "193"
                },
                {
                  "0": "Women's Mountain Shorts, L",
                  "1": "182"
                },
                {
                  "0": "Mountain-100 Black, 38",
                  "1": "49"
                },
                {
                  "0": "Road-650 Black, 60",
                  "1": "76"
                },
                {
                  "0": "Women's Mountain Shorts, M",
                  "1": "186"
                },
                {
                  "0": "Touring-3000 Blue, 58",
                  "1": "30"
                },
                {
                  "0": "Road-150 Red, 62",
                  "1": "336"
                },
                {
                  "0": "ML Road Tire",
                  "1": "460"
                },
                {
                  "0": "Touring-3000 Blue, 62",
                  "1": "24"
                },
                {
                  "0": "Road-650 Red, 48",
                  "1": "88"
                },
                {
                  "0": "Road-650 Black, 44",
                  "1": "63"
                },
                {
                  "0": "Road-250 Black, 44",
                  "1": "223"
                },
                {
                  "0": "All-Purpose Bike Stand",
                  "1": "135"
                },
                {
                  "0": "Touring-2000 Blue, 54",
                  "1": "44"
                },
                {
                  "0": "Half-Finger Gloves, S",
                  "1": "258"
                },
                {
                  "0": "Road-250 Red, 58",
                  "1": "256"
                },
                {
                  "0": "Road-150 Red, 44",
                  "1": "281"
                },
                {
                  "0": "Mountain-500 Black, 48",
                  "1": "22"
                },
                {
                  "0": "Classic Vest, M",
                  "1": "92"
                },
                {
                  "0": "Mountain-200 Silver, 38",
                  "1": "370"
                },
                {
                  "0": "Long-Sleeve Logo Jersey, M",
                  "1": "202"
                },
                {
                  "0": "Road-350-W Yellow, 40",
                  "1": "110"
                },
                {
                  "0": "Road-650 Red, 58",
                  "1": "74"
                },
                {
                  "0": "Long-Sleeve Logo Jersey, S",
                  "1": "186"
                },
                {
                  "0": "Sport-100 Helmet, Blue",
                  "1": "1015"
                },
                {
                  "0": "Touring-1000 Blue, 50",
                  "1": "73"
                },
                {
                  "0": "Road-250 Red, 44",
                  "1": "144"
                },
                {
                  "0": "Road-650 Black, 62",
                  "1": "65"
                },
                {
                  "0": "Road-250 Black, 58",
                  "1": "226"
                },
                {
                  "0": "Racing Socks, L",
                  "1": "135"
                },
                {
                  "0": "Touring-3000 Yellow, 58",
                  "1": "21"
                },
                {
                  "0": "Road-550-W Yellow, 44",
                  "1": "183"
                },
                {
                  "0": "Sport-100 Helmet, Black",
                  "1": "1041"
                },
                {
                  "0": "Touring-1000 Blue, 60",
                  "1": "66"
                },
                {
                  "0": "Touring-3000 Yellow, 62",
                  "1": "22"
                },
                {
                  "0": "Mountain-200 Black, 38",
                  "1": "366"
                },
                {
                  "0": "Mountain-200 Silver, 46",
                  "1": "371"
                },
                {
                  "0": "LL Mountain Tire",
                  "1": "429"
                },
                {
                  "0": "Mountain-500 Black, 44",
                  "1": "31"
                },
                {
                  "0": "Road Bottle Cage",
                  "1": "848"
                },
                {
                  "0": "Touring-1000 Yellow, 60",
                  "1": "67"
                },
                {
                  "0": "Road-650 Red, 60",
                  "1": "53"
                },
                {
                  "0": "Touring-3000 Blue, 54",
                  "1": "28"
                },
                {
                  "0": "Touring-3000 Yellow, 54",
                  "1": "26"
                },
                {
                  "0": "Road-650 Red, 62",
                  "1": "75"
                },
                {
                  "0": "Road-650 Black, 48",
                  "1": "60"
                },
                {
                  "0": "Road-650 Black, 52",
                  "1": "89"
                },
                {
                  "0": "Mountain-100 Black, 48",
                  "1": "57"
                },
                {
                  "0": "Touring-2000 Blue, 50",
                  "1": "50"
                },
                {
                  "0": "Short-Sleeve Classic Jersey, M",
                  "1": "220"
                },
                {
                  "0": "Touring-1000 Yellow, 50",
                  "1": "70"
                },
                {
                  "0": "Road-150 Red, 48",
                  "1": "337"
                },
                {
                  "0": "Road-750 Black, 48",
                  "1": "182"
                },
                {
                  "0": "Touring-2000 Blue, 46",
                  "1": "55"
                },
                {
                  "0": "Mountain-500 Silver, 48",
                  "1": "27"
                },
                {
                  "0": "Classic Vest, S",
                  "1": "80"
                },
                {
                  "0": "LL Road Tire",
                  "1": "522"
                },
                {
                  "0": "Road-750 Black, 52",
                  "1": "181"
                },
                {
                  "0": "Road-150 Red, 52",
                  "1": "302"
                },
                {
                  "0": "Mountain Tire Tube",
                  "1": "1581"
                },
                {
                  "0": "Touring-1000 Yellow, 54",
                  "1": "66"
                },
                {
                  "0": "Touring-3000 Yellow, 44",
                  "1": "24"
                },
                {
                  "0": "Road-150 Red, 56",
                  "1": "295"
                },
                {
                  "0": "Road-650 Black, 58",
                  "1": "76"
                },
                {
                  "0": "Road-350-W Yellow, 42",
                  "1": "96"
                },
                {
                  "0": "Mountain-500 Silver, 40",
                  "1": "16"
                },
                {
                  "0": "Mountain-200 Black, 46",
                  "1": "425"
                },
                {
                  "0": "Road-550-W Yellow, 42",
                  "1": "180"
                },
                {
                  "0": "Road-750 Black, 44",
                  "1": "181"
                },
                {
                  "0": "Mountain-500 Black, 40",
                  "1": "28"
                },
                {
                  "0": "Fender Set - Mountain",
                  "1": "1081"
                },
                {
                  "0": "Road-650 Red, 44",
                  "1": "72"
                },
                {
                  "0": "Touring-3000 Yellow, 50",
                  "1": "27"
                },
                {
                  "0": "Road-550-W Yellow, 38",
                  "1": "171"
                },
                {
                  "0": "Road Tire Tube",
                  "1": "1212"
                },
                {
                  "0": "Sport-100 Helmet, Red",
                  "1": "1096"
                },
                {
                  "0": "Mountain-100 Silver, 48",
                  "1": "36"
                },
                {
                  "0": "Hydration Pack - 70 oz.",
                  "1": "364"
                },
                {
                  "0": "Road-250 Black, 48",
                  "1": "240"
                },
                {
                  "0": "Mountain-100 Black, 42",
                  "1": "45"
                },
                {
                  "0": "Hitch Rack - 4-Bike",
                  "1": "155"
                },
                {
                  "0": "Long-Sleeve Logo Jersey, XL",
                  "1": "217"
                }
              ],
              "schema": [
                {
                  "key": "0",
                  "name": "Item",
                  "type": "string"
                },
                {
                  "key": "1",
                  "name": "sum(Quantity)",
                  "type": "bigint"
                }
              ],
              "truncated": false
            },
            "isSummary": false,
            "language": "scala"
          },
          "persist_state": {
            "view": {
              "type": "details",
              "tableOptions": {},
              "chartOptions": {
                "chartType": "bar",
                "aggregationType": "sum",
                "categoryFieldKeys": [
                  "0"
                ],
                "seriesFieldKeys": [
                  "1"
                ],
                "isStacked": false
              }
            }
          }
        },
        "cd5cc632-e59b-49aa-a84c-2a1370a8df8a": {
          "type": "Synapse.DataFrame",
          "sync_state": {
            "table": {
              "rows": [
                {
                  "0": "Bridget Andersen",
                  "1": "bridget15@adventure-works.com"
                },
                {
                  "0": "Ricky Navarro",
                  "1": "ricky10@adventure-works.com"
                },
                {
                  "0": "Micah Xu",
                  "1": "micah23@adventure-works.com"
                },
                {
                  "0": "Briana Ashe",
                  "1": "briana4@adventure-works.com"
                },
                {
                  "0": "Ann Madan",
                  "1": "ann13@adventure-works.com"
                },
                {
                  "0": "Colleen Andersen",
                  "1": "colleen36@adventure-works.com"
                },
                {
                  "0": "Barbara Shen",
                  "1": "barbara33@adventure-works.com"
                },
                {
                  "0": "Bryant Raman",
                  "1": "bryant11@adventure-works.com"
                },
                {
                  "0": "Roger Wang",
                  "1": "roger6@adventure-works.com"
                },
                {
                  "0": "Evelyn Subram",
                  "1": "evelyn14@adventure-works.com"
                },
                {
                  "0": "Priscilla Yuan",
                  "1": "priscilla6@adventure-works.com"
                },
                {
                  "0": "Carolyn Rodriguez",
                  "1": "carolyn19@adventure-works.com"
                },
                {
                  "0": "Joan Hernandez",
                  "1": "joan15@adventure-works.com"
                },
                {
                  "0": "Brandon Jai",
                  "1": "brandon28@adventure-works.com"
                },
                {
                  "0": "Isaiah Howard",
                  "1": "isaiah10@adventure-works.com"
                },
                {
                  "0": "Robyn Gomez",
                  "1": "robyn0@adventure-works.com"
                },
                {
                  "0": "Carmen Martinez",
                  "1": "carmen2@adventure-works.com"
                },
                {
                  "0": "Adriana Sai",
                  "1": "adriana6@adventure-works.com"
                },
                {
                  "0": "Albert Navarro",
                  "1": "albert12@adventure-works.com"
                },
                {
                  "0": "Craig Navarro",
                  "1": "craig11@adventure-works.com"
                },
                {
                  "0": "Melinda Jimenez",
                  "1": "melinda2@adventure-works.com"
                },
                {
                  "0": "Ashlee Deng",
                  "1": "ashlee8@adventure-works.com"
                },
                {
                  "0": "Erika Carlson",
                  "1": "erika15@adventure-works.com"
                },
                {
                  "0": "Kaylee Collins",
                  "1": "kaylee22@adventure-works.com"
                },
                {
                  "0": "Lolan Song",
                  "1": "lolan1@adventure-works.com"
                },
                {
                  "0": "Rosa Wu",
                  "1": "rosa7@adventure-works.com"
                },
                {
                  "0": "Jeffery Chen",
                  "1": "jeffery2@adventure-works.com"
                },
                {
                  "0": "Erica Wang",
                  "1": "erica1@adventure-works.com"
                },
                {
                  "0": "Margaret Guo",
                  "1": "margaret24@adventure-works.com"
                },
                {
                  "0": "Richard Baker",
                  "1": "richard27@adventure-works.com"
                },
                {
                  "0": "Julio Romero",
                  "1": "julio9@adventure-works.com"
                },
                {
                  "0": "Jack Phillips",
                  "1": "jack41@adventure-works.com"
                },
                {
                  "0": "Max Ortega",
                  "1": "max20@adventure-works.com"
                },
                {
                  "0": "Hailey Perez",
                  "1": "hailey53@adventure-works.com"
                },
                {
                  "0": "Joy Dominguez",
                  "1": "joy14@adventure-works.com"
                },
                {
                  "0": "Yvonne Schleger",
                  "1": "yvonne2@adventure-works.com"
                },
                {
                  "0": "Barry Sai",
                  "1": "barry6@adventure-works.com"
                },
                {
                  "0": "Mario Moyer",
                  "1": "mario15@adventure-works.com"
                },
                {
                  "0": "Sara Murphy",
                  "1": "sara16@adventure-works.com"
                },
                {
                  "0": "Erik Rubio",
                  "1": "erik21@adventure-works.com"
                },
                {
                  "0": "Bradley Carson",
                  "1": "bradley18@adventure-works.com"
                },
                {
                  "0": "Lindsey Luo",
                  "1": "lindsey6@adventure-works.com"
                },
                {
                  "0": "Ricardo Raje",
                  "1": "ricardo14@adventure-works.com"
                },
                {
                  "0": "Susan Zhou",
                  "1": "susan18@adventure-works.com"
                },
                {
                  "0": "Theodore Ramos",
                  "1": "theodore18@adventure-works.com"
                },
                {
                  "0": "Randy Yang",
                  "1": "randy6@adventure-works.com"
                },
                {
                  "0": "Leslie Navarro",
                  "1": "leslie11@adventure-works.com"
                },
                {
                  "0": "Karla Chander",
                  "1": "karla17@adventure-works.com"
                },
                {
                  "0": "Colleen Zhao",
                  "1": "colleen10@adventure-works.com"
                },
                {
                  "0": "Karen Cai",
                  "1": "karen30@adventure-works.com"
                },
                {
                  "0": "Jasmine Thomas",
                  "1": "jasmine9@adventure-works.com"
                },
                {
                  "0": "Cara Xu",
                  "1": "cara8@adventure-works.com"
                },
                {
                  "0": "Marie Jimenez",
                  "1": "marie29@adventure-works.com"
                },
                {
                  "0": "Rafael Xu",
                  "1": "rafael28@adventure-works.com"
                },
                {
                  "0": "Kristine Gomez",
                  "1": "kristine2@adventure-works.com"
                },
                {
                  "0": "Logan Li",
                  "1": "logan26@adventure-works.com"
                },
                {
                  "0": "Jessica Bell",
                  "1": "jessica7@adventure-works.com"
                },
                {
                  "0": "Hailey Russell",
                  "1": "hailey40@adventure-works.com"
                },
                {
                  "0": "Jeffery Li",
                  "1": "jeffery3@adventure-works.com"
                },
                {
                  "0": "Jay Browning",
                  "1": "jay45@adventure-works.com"
                },
                {
                  "0": "Nelson Hernandez",
                  "1": "nelson4@adventure-works.com"
                },
                {
                  "0": "Alexander Walker",
                  "1": "alexander10@adventure-works.com"
                },
                {
                  "0": "Logan Lee",
                  "1": "logan54@adventure-works.com"
                },
                {
                  "0": "Diana Navarro",
                  "1": "diana9@adventure-works.com"
                },
                {
                  "0": "Luis Carter",
                  "1": "luis43@adventure-works.com"
                },
                {
                  "0": "Candace Sanchez",
                  "1": "candace18@adventure-works.com"
                },
                {
                  "0": "Luke Campbell",
                  "1": "luke38@adventure-works.com"
                },
                {
                  "0": "Stacy Ruiz",
                  "1": "stacy3@adventure-works.com"
                },
                {
                  "0": "Jerome Torres",
                  "1": "jerome10@adventure-works.com"
                },
                {
                  "0": "Adam Jai",
                  "1": "adam28@adventure-works.com"
                },
                {
                  "0": "Dennis Yang",
                  "1": "dennis6@adventure-works.com"
                },
                {
                  "0": "Tamara Yuan",
                  "1": "tamara18@adventure-works.com"
                },
                {
                  "0": "Andre Patel",
                  "1": "andre3@adventure-works.com"
                },
                {
                  "0": "Eddie Navarro",
                  "1": "eddie10@adventure-works.com"
                },
                {
                  "0": "Andrew Robinson",
                  "1": "andrew25@adventure-works.com"
                },
                {
                  "0": "Blake Mitchell",
                  "1": "blake38@adventure-works.com"
                },
                {
                  "0": "Colleen Huang",
                  "1": "colleen6@adventure-works.com"
                },
                {
                  "0": "Tabitha Torres",
                  "1": "tabitha32@adventure-works.com"
                },
                {
                  "0": "Jerry Luo",
                  "1": "jerry6@adventure-works.com"
                },
                {
                  "0": "Shaun Shan",
                  "1": "shaun11@adventure-works.com"
                },
                {
                  "0": "Vanessa Ross",
                  "1": "vanessa4@adventure-works.com"
                },
                {
                  "0": "Julian Wood",
                  "1": "julian3@adventure-works.com"
                },
                {
                  "0": "Carrie Alonso",
                  "1": "carrie8@adventure-works.com"
                },
                {
                  "0": "Wyatt Barnes",
                  "1": "wyatt54@adventure-works.com"
                },
                {
                  "0": "Keith Deng",
                  "1": "keith3@adventure-works.com"
                },
                {
                  "0": "Ruth Raman",
                  "1": "ruth16@adventure-works.com"
                },
                {
                  "0": "Marshall Chen",
                  "1": "marshall1@adventure-works.com"
                },
                {
                  "0": "Damien Liu",
                  "1": "damien3@adventure-works.com"
                },
                {
                  "0": "Whitney Patel",
                  "1": "whitney3@adventure-works.com"
                },
                {
                  "0": "Margaret Xu",
                  "1": "margaret18@adventure-works.com"
                },
                {
                  "0": "Robin Vazquez",
                  "1": "robin11@adventure-works.com"
                },
                {
                  "0": "Alejandro Raji",
                  "1": "alejandro46@adventure-works.com"
                },
                {
                  "0": "Candace Arun",
                  "1": "candace6@adventure-works.com"
                },
                {
                  "0": "Alexandria Gray",
                  "1": "alexandria29@adventure-works.com"
                },
                {
                  "0": "Jason Li",
                  "1": "jason24@adventure-works.com"
                },
                {
                  "0": "Melvin Rai",
                  "1": "melvin16@adventure-works.com"
                },
                {
                  "0": "Eduardo Robinson",
                  "1": "eduardo17@adventure-works.com"
                },
                {
                  "0": "Rebekah Moreno",
                  "1": "rebekah26@adventure-works.com"
                },
                {
                  "0": "Randy Huang",
                  "1": "randy7@adventure-works.com"
                },
                {
                  "0": "Kelly Flores",
                  "1": "kelly17@adventure-works.com"
                },
                {
                  "0": "Mario Pal",
                  "1": "mario10@adventure-works.com"
                },
                {
                  "0": "Daniel Harris",
                  "1": "daniel10@adventure-works.com"
                },
                {
                  "0": "Joe Alonso",
                  "1": "joe31@adventure-works.com"
                },
                {
                  "0": "Carlos Evans",
                  "1": "carlos26@adventure-works.com"
                },
                {
                  "0": "Margaret Zheng",
                  "1": "margaret26@adventure-works.com"
                },
                {
                  "0": "Linda Moreno",
                  "1": "linda21@adventure-works.com"
                },
                {
                  "0": "Jaime Diaz",
                  "1": "jaime3@adventure-works.com"
                },
                {
                  "0": "Blake Nelson",
                  "1": "blake36@adventure-works.com"
                },
                {
                  "0": "Raul Nara",
                  "1": "raul14@adventure-works.com"
                },
                {
                  "0": "Ronnie He",
                  "1": "ronnie16@adventure-works.com"
                },
                {
                  "0": "Madeline Hall",
                  "1": "madeline20@adventure-works.com"
                },
                {
                  "0": "Alexis Long",
                  "1": "alexis32@adventure-works.com"
                },
                {
                  "0": "Marc Vazquez",
                  "1": "marc18@adventure-works.com"
                },
                {
                  "0": "Corey Anand",
                  "1": "corey19@adventure-works.com"
                },
                {
                  "0": "Desiree Rubio",
                  "1": "desiree17@adventure-works.com"
                },
                {
                  "0": "Clinton Alvarez",
                  "1": "clinton1@adventure-works.com"
                },
                {
                  "0": "Gilbert Gao",
                  "1": "gilbert12@adventure-works.com"
                },
                {
                  "0": "Chloe Bryant",
                  "1": "chloe83@adventure-works.com"
                },
                {
                  "0": "Stanley Subram",
                  "1": "stanley14@adventure-works.com"
                },
                {
                  "0": "Olivia Garcia",
                  "1": "olivia15@adventure-works.com"
                },
                {
                  "0": "Lacey Gao",
                  "1": "lacey27@adventure-works.com"
                },
                {
                  "0": "Kelvin Shen",
                  "1": "kelvin44@adventure-works.com"
                },
                {
                  "0": "Brandy Fernandez",
                  "1": "brandy12@adventure-works.com"
                },
                {
                  "0": "Destiny Murphy",
                  "1": "destiny31@adventure-works.com"
                },
                {
                  "0": "Ricardo Sharma",
                  "1": "ricardo9@adventure-works.com"
                },
                {
                  "0": "Carolyn Diaz",
                  "1": "carolyn25@adventure-works.com"
                },
                {
                  "0": "Brianna Gray",
                  "1": "brianna42@adventure-works.com"
                },
                {
                  "0": "Robert Hill",
                  "1": "robert54@adventure-works.com"
                },
                {
                  "0": "Brandon Rodriguez",
                  "1": "brandon50@adventure-works.com"
                },
                {
                  "0": "Dawn Nara",
                  "1": "dawn41@adventure-works.com"
                },
                {
                  "0": "Rebecca Adams",
                  "1": "rebecca17@adventure-works.com"
                },
                {
                  "0": "Lindsey Lal",
                  "1": "lindsey9@adventure-works.com"
                },
                {
                  "0": "Jocelyn Price",
                  "1": "jocelyn0@adventure-works.com"
                }
              ],
              "schema": [
                {
                  "key": "0",
                  "name": "CustomerName",
                  "type": "string"
                },
                {
                  "key": "1",
                  "name": "Email",
                  "type": "string"
                }
              ],
              "truncated": false
            },
            "isSummary": false,
            "language": "scala"
          },
          "persist_state": {
            "view": {
              "type": "details",
              "tableOptions": {},
              "chartOptions": {
                "chartType": "bar",
                "aggregationType": "count",
                "categoryFieldKeys": [
                  "0"
                ],
                "seriesFieldKeys": [
                  "0"
                ],
                "isStacked": false
              }
            }
          }
        },
        "ce915826-3f01-438f-b67e-5fbc788aeade": {
          "type": "Synapse.DataFrame",
          "sync_state": {
            "table": {
              "rows": [
                {
                  "0": "SO49171",
                  "1": "1",
                  "2": "2021-01-01",
                  "3": "Mariah Foster",
                  "4": "mariah21@adventure-works.com",
                  "5": "Road-250 Black, 48",
                  "6": "1",
                  "7": "2181.5625",
                  "8": "174.525"
                },
                {
                  "0": "SO49172",
                  "1": "1",
                  "2": "2021-01-01",
                  "3": "Brian Howard",
                  "4": "brian23@adventure-works.com",
                  "5": "Road-250 Red, 44",
                  "6": "1",
                  "7": "2443.35",
                  "8": "195.468"
                },
                {
                  "0": "SO49173",
                  "1": "1",
                  "2": "2021-01-01",
                  "3": "Linda Alvarez",
                  "4": "linda19@adventure-works.com",
                  "5": "Mountain-200 Silver, 38",
                  "6": "1",
                  "7": "2071.4197",
                  "8": "165.7136"
                },
                {
                  "0": "SO49174",
                  "1": "1",
                  "2": "2021-01-01",
                  "3": "Gina Hernandez",
                  "4": "gina4@adventure-works.com",
                  "5": "Mountain-200 Silver, 42",
                  "6": "1",
                  "7": "2071.4197",
                  "8": "165.7136"
                },
                {
                  "0": "SO49178",
                  "1": "1",
                  "2": "2021-01-01",
                  "3": "Beth Ruiz",
                  "4": "beth4@adventure-works.com",
                  "5": "Road-550-W Yellow, 44",
                  "6": "1",
                  "7": "1000.4375",
                  "8": "80.035"
                },
                {
                  "0": "SO49179",
                  "1": "1",
                  "2": "2021-01-01",
                  "3": "Evan Ward",
                  "4": "evan13@adventure-works.com",
                  "5": "Road-550-W Yellow, 38",
                  "6": "1",
                  "7": "1000.4375",
                  "8": "80.035"
                },
                {
                  "0": "SO49175",
                  "1": "1",
                  "2": "2021-01-01",
                  "3": "Margaret Guo",
                  "4": "margaret24@adventure-works.com",
                  "5": "Road-250 Red, 52",
                  "6": "1",
                  "7": "2443.35",
                  "8": "195.468"
                },
                {
                  "0": "SO49180",
                  "1": "1",
                  "2": "2021-01-01",
                  "3": "Mitchell Yuan",
                  "4": "mitchell6@adventure-works.com",
                  "5": "Road-650 Black, 58",
                  "6": "1",
                  "7": "782.99",
                  "8": "62.6392"
                },
                {
                  "0": "SO49176",
                  "1": "1",
                  "2": "2021-01-01",
                  "3": "Shawn Sharma",
                  "4": "shawn11@adventure-works.com",
                  "5": "Mountain-200 Silver, 46",
                  "6": "1",
                  "7": "2071.4197",
                  "8": "165.7136"
                },
                {
                  "0": "SO49177",
                  "1": "1",
                  "2": "2021-01-01",
                  "3": "Barbara Chande",
                  "4": "barbara44@adventure-works.com",
                  "5": "Mountain-200 Silver, 42",
                  "6": "1",
                  "7": "2071.4197",
                  "8": "165.7136"
                },
                {
                  "0": "SO49186",
                  "1": "1",
                  "2": "2021-01-02",
                  "3": "Cara Xu",
                  "4": "cara8@adventure-works.com",
                  "5": "Road-250 Red, 52",
                  "6": "1",
                  "7": "2443.35",
                  "8": "195.468"
                },
                {
                  "0": "SO49187",
                  "1": "1",
                  "2": "2021-01-02",
                  "3": "Lacey Liu",
                  "4": "lacey16@adventure-works.com",
                  "5": "Road-250 Black, 58",
                  "6": "1",
                  "7": "2181.5625",
                  "8": "174.525"
                },
                {
                  "0": "SO49190",
                  "1": "1",
                  "2": "2021-01-02",
                  "3": "Omar Zhu",
                  "4": "omar13@adventure-works.com",
                  "5": "Road-550-W Yellow, 40",
                  "6": "1",
                  "7": "1000.4375",
                  "8": "80.035"
                },
                {
                  "0": "SO49185",
                  "1": "1",
                  "2": "2021-01-02",
                  "3": "Cassandra Fernandez",
                  "4": "cassandra17@adventure-works.com",
                  "5": "Mountain-200 Black, 46",
                  "6": "1",
                  "7": "2049.0981",
                  "8": "163.9279"
                },
                {
                  "0": "SO49184",
                  "1": "1",
                  "2": "2021-01-02",
                  "3": "Monica Martinez",
                  "4": "monica17@adventure-works.com",
                  "5": "Mountain-200 Black, 46",
                  "6": "1",
                  "7": "2049.0981",
                  "8": "163.9279"
                },
                {
                  "0": "SO49189",
                  "1": "1",
                  "2": "2021-01-02",
                  "3": "Marie Gonzalez",
                  "4": "marie20@adventure-works.com",
                  "5": "Road-650 Black, 48",
                  "6": "1",
                  "7": "782.99",
                  "8": "62.6392"
                },
                {
                  "0": "SO49182",
                  "1": "1",
                  "2": "2021-01-02",
                  "3": "Alexandra Hall",
                  "4": "alexandra89@adventure-works.com",
                  "5": "Road-250 Red, 48",
                  "6": "1",
                  "7": "2443.35",
                  "8": "195.468"
                },
                {
                  "0": "SO49183",
                  "1": "1",
                  "2": "2021-01-02",
                  "3": "Alejandro Raji",
                  "4": "alejandro46@adventure-works.com",
                  "5": "Road-250 Red, 52",
                  "6": "1",
                  "7": "2443.35",
                  "8": "195.468"
                },
                {
                  "0": "SO49181",
                  "1": "1",
                  "2": "2021-01-02",
                  "3": "Derrick Jim�nez",
                  "4": "derrick5@adventure-works.com",
                  "5": "Road-250 Black, 48",
                  "6": "1",
                  "7": "2181.5625",
                  "8": "174.525"
                },
                {
                  "0": "SO49188",
                  "1": "1",
                  "2": "2021-01-02",
                  "3": "Erin Cox",
                  "4": "erin15@adventure-works.com",
                  "5": "Mountain-200 Black, 38",
                  "6": "1",
                  "7": "2049.0981",
                  "8": "163.9279"
                },
                {
                  "0": "SO49192",
                  "1": "1",
                  "2": "2021-01-03",
                  "3": "Eugene Sun",
                  "4": "eugene17@adventure-works.com",
                  "5": "Road-550-W Yellow, 44",
                  "6": "1",
                  "7": "1000.4375",
                  "8": "80.035"
                },
                {
                  "0": "SO49191",
                  "1": "1",
                  "2": "2021-01-03",
                  "3": "Benjamin Thompson",
                  "4": "benjamin52@adventure-works.com",
                  "5": "Road-550-W Yellow, 44",
                  "6": "1",
                  "7": "1000.4375",
                  "8": "80.035"
                },
                {
                  "0": "SO49195",
                  "1": "1",
                  "2": "2021-01-03",
                  "3": "Barry Malhotra",
                  "4": "barry5@adventure-works.com",
                  "5": "Road-650 Red, 58",
                  "6": "1",
                  "7": "782.99",
                  "8": "62.6392"
                },
                {
                  "0": "SO49194",
                  "1": "1",
                  "2": "2021-01-03",
                  "3": "Clayton Wagner",
                  "4": "clayton1@adventure-works.com",
                  "5": "Road-650 Black, 60",
                  "6": "1",
                  "7": "782.99",
                  "8": "62.6392"
                },
                {
                  "0": "SO49196",
                  "1": "1",
                  "2": "2021-01-03",
                  "3": "Katherine Perry",
                  "4": "katherine33@adventure-works.com",
                  "5": "Mountain-200 Silver, 42",
                  "6": "1",
                  "7": "2071.4197",
                  "8": "165.7136"
                },
                {
                  "0": "SO49198",
                  "1": "1",
                  "2": "2021-01-03",
                  "3": "Lori Alvarez",
                  "4": "lori7@adventure-works.com",
                  "5": "Road-650 Black, 52",
                  "6": "1",
                  "7": "782.99",
                  "8": "62.6392"
                },
                {
                  "0": "SO49199",
                  "1": "1",
                  "2": "2021-01-03",
                  "3": "Jillian Patel",
                  "4": "jillian3@adventure-works.com",
                  "5": "Road-650 Black, 62",
                  "6": "1",
                  "7": "782.99",
                  "8": "62.6392"
                },
                {
                  "0": "SO49193",
                  "1": "1",
                  "2": "2021-01-03",
                  "3": "Summer Rodriguez",
                  "4": "summer17@adventure-works.com",
                  "5": "Mountain-200 Black, 42",
                  "6": "1",
                  "7": "2049.0981",
                  "8": "163.9279"
                },
                {
                  "0": "SO49197",
                  "1": "1",
                  "2": "2021-01-03",
                  "3": "Oscar Flores",
                  "4": "oscar20@adventure-works.com",
                  "5": "Mountain-200 Black, 42",
                  "6": "1",
                  "7": "2049.0981",
                  "8": "163.9279"
                },
                {
                  "0": "SO49205",
                  "1": "1",
                  "2": "2021-01-04",
                  "3": "Rebekah Serrano",
                  "4": "rebekah36@adventure-works.com",
                  "5": "Mountain-200 Black, 38",
                  "6": "1",
                  "7": "2049.0981",
                  "8": "163.9279"
                },
                {
                  "0": "SO49204",
                  "1": "1",
                  "2": "2021-01-04",
                  "3": "Monique Blanco",
                  "4": "monique12@adventure-works.com",
                  "5": "Mountain-200 Silver, 38",
                  "6": "1",
                  "7": "2071.4197",
                  "8": "165.7136"
                },
                {
                  "0": "SO49212",
                  "1": "1",
                  "2": "2021-01-04",
                  "3": "Olivia Coleman",
                  "4": "olivia51@adventure-works.com",
                  "5": "Road-550-W Yellow, 44",
                  "6": "1",
                  "7": "1000.4375",
                  "8": "80.035"
                },
                {
                  "0": "SO49210",
                  "1": "1",
                  "2": "2021-01-04",
                  "3": "Timothy James",
                  "4": "timothy9@adventure-works.com",
                  "5": "Mountain-200 Silver, 46",
                  "6": "1",
                  "7": "2071.4197",
                  "8": "165.7136"
                },
                {
                  "0": "SO49203",
                  "1": "1",
                  "2": "2021-01-04",
                  "3": "Louis Ye",
                  "4": "louis3@adventure-works.com",
                  "5": "Road-650 Red, 52",
                  "6": "1",
                  "7": "782.99",
                  "8": "62.6392"
                },
                {
                  "0": "SO49201",
                  "1": "1",
                  "2": "2021-01-04",
                  "3": "Jaime Diaz",
                  "4": "jaime3@adventure-works.com",
                  "5": "Road-250 Red, 52",
                  "6": "1",
                  "7": "2443.35",
                  "8": "195.468"
                },
                {
                  "0": "SO49202",
                  "1": "1",
                  "2": "2021-01-04",
                  "3": "Audrey Gutierrez",
                  "4": "audrey12@adventure-works.com",
                  "5": "Road-250 Black, 48",
                  "6": "1",
                  "7": "2181.5625",
                  "8": "174.525"
                },
                {
                  "0": "SO49200",
                  "1": "1",
                  "2": "2021-01-04",
                  "3": "Blake Taylor",
                  "4": "blake8@adventure-works.com",
                  "5": "Road-250 Red, 44",
                  "6": "1",
                  "7": "2443.35",
                  "8": "195.468"
                },
                {
                  "0": "SO49215",
                  "1": "1",
                  "2": "2021-01-04",
                  "3": "Kathryn Deng",
                  "4": "kathryn1@adventure-works.com",
                  "5": "Road-650 Red, 62",
                  "6": "1",
                  "7": "782.99",
                  "8": "62.6392"
                },
                {
                  "0": "SO49213",
                  "1": "1",
                  "2": "2021-01-04",
                  "3": "Anne Martin",
                  "4": "anne1@adventure-works.com",
                  "5": "Road-550-W Yellow, 44",
                  "6": "1",
                  "7": "1000.4375",
                  "8": "80.035"
                },
                {
                  "0": "SO49209",
                  "1": "1",
                  "2": "2021-01-04",
                  "3": "Dana Suarez",
                  "4": "dana12@adventure-works.com",
                  "5": "Road-250 Red, 58",
                  "6": "1",
                  "7": "2181.5625",
                  "8": "174.525"
                },
                {
                  "0": "SO49208",
                  "1": "1",
                  "2": "2021-01-04",
                  "3": "Alexis Powell",
                  "4": "alexis31@adventure-works.com",
                  "5": "Road-250 Black, 48",
                  "6": "1",
                  "7": "2181.5625",
                  "8": "174.525"
                },
                {
                  "0": "SO49207",
                  "1": "1",
                  "2": "2021-01-04",
                  "3": "Jordan Roberts",
                  "4": "jordan58@adventure-works.com",
                  "5": "Road-250 Red, 48",
                  "6": "1",
                  "7": "2443.35",
                  "8": "195.468"
                },
                {
                  "0": "SO49206",
                  "1": "1",
                  "2": "2021-01-04",
                  "3": "Adam Powell",
                  "4": "adam6@adventure-works.com",
                  "5": "Road-250 Black, 48",
                  "6": "1",
                  "7": "2181.5625",
                  "8": "174.525"
                },
                {
                  "0": "SO49214",
                  "1": "1",
                  "2": "2021-01-04",
                  "3": "Bobby Ray",
                  "4": "bobby7@adventure-works.com",
                  "5": "Road-250 Black, 58",
                  "6": "1",
                  "7": "2181.5625",
                  "8": "174.525"
                },
                {
                  "0": "SO49216",
                  "1": "1",
                  "2": "2021-01-04",
                  "3": "Rafael Sun",
                  "4": "rafael14@adventure-works.com",
                  "5": "Road-650 Red, 44",
                  "6": "1",
                  "7": "782.99",
                  "8": "62.6392"
                },
                {
                  "0": "SO49211",
                  "1": "1",
                  "2": "2021-01-04",
                  "3": "Rachel Perry",
                  "4": "rachel55@adventure-works.com",
                  "5": "Mountain-200 Silver, 42",
                  "6": "1",
                  "7": "2071.4197",
                  "8": "165.7136"
                },
                {
                  "0": "SO49221",
                  "1": "1",
                  "2": "2021-01-05",
                  "3": "Brett Martinez",
                  "4": "brett17@adventure-works.com",
                  "5": "Road-250 Black, 58",
                  "6": "1",
                  "7": "2181.5625",
                  "8": "174.525"
                },
                {
                  "0": "SO49217",
                  "1": "1",
                  "2": "2021-01-05",
                  "3": "Russell Sharma",
                  "4": "russell12@adventure-works.com",
                  "5": "Road-250 Black, 52",
                  "6": "1",
                  "7": "2181.5625",
                  "8": "174.525"
                },
                {
                  "0": "SO49220",
                  "1": "1",
                  "2": "2021-01-05",
                  "3": "Arthur Chandra",
                  "4": "arthur4@adventure-works.com",
                  "5": "Mountain-200 Silver, 38",
                  "6": "1",
                  "7": "2071.4197",
                  "8": "165.7136"
                },
                {
                  "0": "SO49219",
                  "1": "1",
                  "2": "2021-01-05",
                  "3": "Priscilla Rai",
                  "4": "priscilla16@adventure-works.com",
                  "5": "Mountain-200 Black, 46",
                  "6": "1",
                  "7": "2049.0981",
                  "8": "163.9279"
                },
                {
                  "0": "SO49224",
                  "1": "1",
                  "2": "2021-01-05",
                  "3": "Sydney Sanders",
                  "4": "sydney22@adventure-works.com",
                  "5": "Mountain-200 Black, 38",
                  "6": "1",
                  "7": "2049.0981",
                  "8": "163.9279"
                },
                {
                  "0": "SO49222",
                  "1": "1",
                  "2": "2021-01-05",
                  "3": "Chloe Scott",
                  "4": "chloe11@adventure-works.com",
                  "5": "Mountain-200 Silver, 38",
                  "6": "1",
                  "7": "2071.4197",
                  "8": "165.7136"
                },
                {
                  "0": "SO49223",
                  "1": "1",
                  "2": "2021-01-05",
                  "3": "Jonathan Thompson",
                  "4": "jonathan69@adventure-works.com",
                  "5": "Mountain-200 Black, 42",
                  "6": "1",
                  "7": "2049.0981",
                  "8": "163.9279"
                },
                {
                  "0": "SO49218",
                  "1": "1",
                  "2": "2021-01-05",
                  "3": "Caitlin Rivera",
                  "4": "caitlin14@adventure-works.com",
                  "5": "Road-250 Black, 58",
                  "6": "1",
                  "7": "2181.5625",
                  "8": "174.525"
                },
                {
                  "0": "SO49227",
                  "1": "1",
                  "2": "2021-01-06",
                  "3": "Russell Jai",
                  "4": "russell14@adventure-works.com",
                  "5": "Road-250 Red, 48",
                  "6": "1",
                  "7": "2443.35",
                  "8": "195.468"
                },
                {
                  "0": "SO49229",
                  "1": "1",
                  "2": "2021-01-06",
                  "3": "Denise Martinez",
                  "4": "denise18@adventure-works.com",
                  "5": "Mountain-200 Silver, 46",
                  "6": "1",
                  "7": "2071.4197",
                  "8": "165.7136"
                },
                {
                  "0": "SO49234",
                  "1": "1",
                  "2": "2021-01-06",
                  "3": "Steven Bell",
                  "4": "steven23@adventure-works.com",
                  "5": "Road-650 Red, 48",
                  "6": "1",
                  "7": "782.99",
                  "8": "62.6392"
                },
                {
                  "0": "SO49232",
                  "1": "1",
                  "2": "2021-01-06",
                  "3": "Jason Allen",
                  "4": "jason50@adventure-works.com",
                  "5": "Road-650 Red, 58",
                  "6": "1",
                  "7": "782.99",
                  "8": "62.6392"
                },
                {
                  "0": "SO49233",
                  "1": "1",
                  "2": "2021-01-06",
                  "3": "Calvin Raji",
                  "4": "calvin20@adventure-works.com",
                  "5": "Road-650 Red, 62",
                  "6": "1",
                  "7": "782.99",
                  "8": "62.6392"
                },
                {
                  "0": "SO49235",
                  "1": "1",
                  "2": "2021-01-06",
                  "3": "Destiny Peterson",
                  "4": "destiny40@adventure-works.com",
                  "5": "Road-650 Red, 58",
                  "6": "1",
                  "7": "782.99",
                  "8": "62.6392"
                },
                {
                  "0": "SO49226",
                  "1": "1",
                  "2": "2021-01-06",
                  "3": "Bridget Andersen",
                  "4": "bridget15@adventure-works.com",
                  "5": "Road-250 Red, 52",
                  "6": "1",
                  "7": "2443.35",
                  "8": "195.468"
                },
                {
                  "0": "SO49225",
                  "1": "1",
                  "2": "2021-01-06",
                  "3": "Gilbert Guo",
                  "4": "gilbert15@adventure-works.com",
                  "5": "Road-250 Black, 48",
                  "6": "1",
                  "7": "2181.5625",
                  "8": "174.525"
                },
                {
                  "0": "SO49230",
                  "1": "1",
                  "2": "2021-01-06",
                  "3": "Taylor Washington",
                  "4": "taylor38@adventure-works.com",
                  "5": "Mountain-200 Black, 38",
                  "6": "1",
                  "7": "2049.0981",
                  "8": "163.9279"
                },
                {
                  "0": "SO49238",
                  "1": "1",
                  "2": "2021-01-06",
                  "3": "Krystal Zhou",
                  "4": "krystal8@adventure-works.com",
                  "5": "Road-250 Black, 58",
                  "6": "1",
                  "7": "2181.5625",
                  "8": "174.525"
                },
                {
                  "0": "SO49237",
                  "1": "1",
                  "2": "2021-01-06",
                  "3": "Mandy Lin",
                  "4": "mandy9@adventure-works.com",
                  "5": "Road-550-W Yellow, 42",
                  "6": "1",
                  "7": "1000.4375",
                  "8": "80.035"
                },
                {
                  "0": "SO49236",
                  "1": "1",
                  "2": "2021-01-06",
                  "3": "Edwin Sharma",
                  "4": "edwin32@adventure-works.com",
                  "5": "Road-550-W Yellow, 48",
                  "6": "1",
                  "7": "1000.4375",
                  "8": "80.035"
                },
                {
                  "0": "SO49231",
                  "1": "1",
                  "2": "2021-01-06",
                  "3": "Nathan Butler",
                  "4": "nathan10@adventure-works.com",
                  "5": "Mountain-200 Black, 46",
                  "6": "1",
                  "7": "2049.0981",
                  "8": "163.9279"
                },
                {
                  "0": "SO49228",
                  "1": "1",
                  "2": "2021-01-06",
                  "3": "Chloe Ross",
                  "4": "chloe70@adventure-works.com",
                  "5": "Mountain-200 Black, 42",
                  "6": "1",
                  "7": "2049.0981",
                  "8": "163.9279"
                },
                {
                  "0": "SO49245",
                  "1": "1",
                  "2": "2021-01-07",
                  "3": "Alberto Hernandez",
                  "4": "alberto5@adventure-works.com",
                  "5": "Road-550-W Yellow, 48",
                  "6": "1",
                  "7": "1000.4375",
                  "8": "80.035"
                },
                {
                  "0": "SO49246",
                  "1": "1",
                  "2": "2021-01-07",
                  "3": "Bruce Jim�nez",
                  "4": "bruce28@adventure-works.com",
                  "5": "Road-250 Black, 44",
                  "6": "1",
                  "7": "2181.5625",
                  "8": "174.525"
                },
                {
                  "0": "SO49242",
                  "1": "1",
                  "2": "2021-01-07",
                  "3": "Ronnie Yang",
                  "4": "ronnie4@adventure-works.com",
                  "5": "Road-250 Red, 44",
                  "6": "1",
                  "7": "2443.35",
                  "8": "195.468"
                },
                {
                  "0": "SO49244",
                  "1": "1",
                  "2": "2021-01-07",
                  "3": "Cody Stewart",
                  "4": "cody22@adventure-works.com",
                  "5": "Mountain-200 Black, 46",
                  "6": "1",
                  "7": "2049.0981",
                  "8": "163.9279"
                },
                {
                  "0": "SO49239",
                  "1": "1",
                  "2": "2021-01-07",
                  "3": "Roger Shen",
                  "4": "roger29@adventure-works.com",
                  "5": "Mountain-200 Silver, 42",
                  "6": "1",
                  "7": "2071.4197",
                  "8": "165.7136"
                },
                {
                  "0": "SO49240",
                  "1": "1",
                  "2": "2021-01-07",
                  "3": "Johnny Anand",
                  "4": "johnny23@adventure-works.com",
                  "5": "Mountain-200 Silver, 38",
                  "6": "1",
                  "7": "2071.4197",
                  "8": "165.7136"
                },
                {
                  "0": "SO49241",
                  "1": "1",
                  "2": "2021-01-07",
                  "3": "Samuel Diaz",
                  "4": "samuel21@adventure-works.com",
                  "5": "Mountain-200 Silver, 42",
                  "6": "1",
                  "7": "2071.4197",
                  "8": "165.7136"
                },
                {
                  "0": "SO49243",
                  "1": "1",
                  "2": "2021-01-07",
                  "3": "Kristi Sanchez",
                  "4": "kristi38@adventure-works.com",
                  "5": "Mountain-200 Black, 38",
                  "6": "1",
                  "7": "2049.0981",
                  "8": "163.9279"
                },
                {
                  "0": "SO49251",
                  "1": "1",
                  "2": "2021-01-08",
                  "3": "Sarah Gonzales",
                  "4": "sarah41@adventure-works.com",
                  "5": "Road-250 Black, 52",
                  "6": "1",
                  "7": "2181.5625",
                  "8": "174.525"
                },
                {
                  "0": "SO49256",
                  "1": "1",
                  "2": "2021-01-08",
                  "3": "Raquel Hernandez",
                  "4": "raquel2@adventure-works.com",
                  "5": "Mountain-200 Silver, 42",
                  "6": "1",
                  "7": "2071.4197",
                  "8": "165.7136"
                },
                {
                  "0": "SO49253",
                  "1": "1",
                  "2": "2021-01-08",
                  "3": "Emma Bradley",
                  "4": "emma31@adventure-works.com",
                  "5": "Mountain-200 Black, 42",
                  "6": "1",
                  "7": "2049.0981",
                  "8": "163.9279"
                },
                {
                  "0": "SO49254",
                  "1": "1",
                  "2": "2021-01-08",
                  "3": "Edwin Zheng",
                  "4": "edwin20@adventure-works.com",
                  "5": "Mountain-200 Black, 38",
                  "6": "1",
                  "7": "2049.0981",
                  "8": "163.9279"
                },
                {
                  "0": "SO49252",
                  "1": "1",
                  "2": "2021-01-08",
                  "3": "Brianna Sanchez",
                  "4": "brianna25@adventure-works.com",
                  "5": "Mountain-200 Silver, 38",
                  "6": "1",
                  "7": "2071.4197",
                  "8": "165.7136"
                },
                {
                  "0": "SO49250",
                  "1": "1",
                  "2": "2021-01-08",
                  "3": "Jeremy Rogers",
                  "4": "jeremy45@adventure-works.com",
                  "5": "Road-650 Black, 52",
                  "6": "1",
                  "7": "782.99",
                  "8": "62.6392"
                },
                {
                  "0": "SO49247",
                  "1": "1",
                  "2": "2021-01-08",
                  "3": "Kathleen Alvarez",
                  "4": "kathleen6@adventure-works.com",
                  "5": "Road-250 Red, 48",
                  "6": "1",
                  "7": "2443.35",
                  "8": "195.468"
                },
                {
                  "0": "SO49248",
                  "1": "1",
                  "2": "2021-01-08",
                  "3": "Jake Xu",
                  "4": "jake11@adventure-works.com",
                  "5": "Road-550-W Yellow, 44",
                  "6": "1",
                  "7": "1000.4375",
                  "8": "80.035"
                },
                {
                  "0": "SO49249",
                  "1": "1",
                  "2": "2021-01-08",
                  "3": "Tommy Raje",
                  "4": "tommy10@adventure-works.com",
                  "5": "Road-550-W Yellow, 42",
                  "6": "1",
                  "7": "1000.4375",
                  "8": "80.035"
                },
                {
                  "0": "SO49255",
                  "1": "1",
                  "2": "2021-01-08",
                  "3": "Jonathan Yang",
                  "4": "jonathan26@adventure-works.com",
                  "5": "Road-650 Red, 44",
                  "6": "1",
                  "7": "782.99",
                  "8": "62.6392"
                },
                {
                  "0": "SO49257",
                  "1": "1",
                  "2": "2021-01-08",
                  "3": "Amber Adams",
                  "4": "amber16@adventure-works.com",
                  "5": "Road-650 Red, 58",
                  "6": "1",
                  "7": "782.99",
                  "8": "62.6392"
                },
                {
                  "0": "SO49258",
                  "1": "1",
                  "2": "2021-01-09",
                  "3": "Valerie Zhou",
                  "4": "valerie10@adventure-works.com",
                  "5": "Road-250 Red, 44",
                  "6": "1",
                  "7": "2443.35",
                  "8": "195.468"
                },
                {
                  "0": "SO49262",
                  "1": "1",
                  "2": "2021-01-09",
                  "3": "Cedric Ye",
                  "4": "cedric10@adventure-works.com",
                  "5": "Road-650 Black, 58",
                  "6": "1",
                  "7": "782.99",
                  "8": "62.6392"
                },
                {
                  "0": "SO49263",
                  "1": "1",
                  "2": "2021-01-09",
                  "3": "Jose Shan",
                  "4": "jose25@adventure-works.com",
                  "5": "Road-650 Black, 52",
                  "6": "1",
                  "7": "782.99",
                  "8": "62.6392"
                },
                {
                  "0": "SO49265",
                  "1": "1",
                  "2": "2021-01-09",
                  "3": "Manuel Lopez",
                  "4": "manuel15@adventure-works.com",
                  "5": "Mountain-200 Silver, 46",
                  "6": "1",
                  "7": "2071.4197",
                  "8": "165.7136"
                },
                {
                  "0": "SO49266",
                  "1": "1",
                  "2": "2021-01-09",
                  "3": "Nathaniel Rivera",
                  "4": "nathaniel18@adventure-works.com",
                  "5": "Mountain-200 Black, 46",
                  "6": "1",
                  "7": "2049.0981",
                  "8": "163.9279"
                },
                {
                  "0": "SO49264",
                  "1": "1",
                  "2": "2021-01-09",
                  "3": "Cheryl Sanz",
                  "4": "cheryl23@adventure-works.com",
                  "5": "Mountain-200 Silver, 46",
                  "6": "1",
                  "7": "2071.4197",
                  "8": "165.7136"
                },
                {
                  "0": "SO49267",
                  "1": "1",
                  "2": "2021-01-09",
                  "3": "Javier Navarro",
                  "4": "javier4@adventure-works.com",
                  "5": "Mountain-200 Silver, 46",
                  "6": "1",
                  "7": "2071.4197",
                  "8": "165.7136"
                },
                {
                  "0": "SO49260",
                  "1": "1",
                  "2": "2021-01-09",
                  "3": "Brett Sanchez",
                  "4": "brett20@adventure-works.com",
                  "5": "Mountain-200 Black, 46",
                  "6": "1",
                  "7": "2049.0981",
                  "8": "163.9279"
                },
                {
                  "0": "SO49261",
                  "1": "1",
                  "2": "2021-01-09",
                  "3": "Linda Carlson",
                  "4": "linda33@adventure-works.com",
                  "5": "Mountain-200 Black, 42",
                  "6": "1",
                  "7": "2049.0981",
                  "8": "163.9279"
                },
                {
                  "0": "SO49268",
                  "1": "1",
                  "2": "2021-01-09",
                  "3": "Mackenzie James",
                  "4": "mackenzie6@adventure-works.com",
                  "5": "Mountain-200 Silver, 46",
                  "6": "1",
                  "7": "2071.4197",
                  "8": "165.7136"
                },
                {
                  "0": "SO49259",
                  "1": "1",
                  "2": "2021-01-09",
                  "3": "Walter Ramos",
                  "4": "walter10@adventure-works.com",
                  "5": "Mountain-200 Black, 42",
                  "6": "1",
                  "7": "2049.0981",
                  "8": "163.9279"
                },
                {
                  "0": "SO49271",
                  "1": "1",
                  "2": "2021-01-10",
                  "3": "Kevin Simmons",
                  "4": "kevin18@adventure-works.com",
                  "5": "Mountain-200 Silver, 42",
                  "6": "1",
                  "7": "2071.4197",
                  "8": "165.7136"
                },
                {
                  "0": "SO49272",
                  "1": "1",
                  "2": "2021-01-10",
                  "3": "Alejandro Kumar",
                  "4": "alejandro34@adventure-works.com",
                  "5": "Mountain-200 Black, 46",
                  "6": "1",
                  "7": "2049.0981",
                  "8": "163.9279"
                },
                {
                  "0": "SO49269",
                  "1": "1",
                  "2": "2021-01-10",
                  "3": "Jada Rogers",
                  "4": "jada11@adventure-works.com",
                  "5": "Road-250 Black, 44",
                  "6": "1",
                  "7": "2181.5625",
                  "8": "174.525"
                },
                {
                  "0": "SO49273",
                  "1": "1",
                  "2": "2021-01-10",
                  "3": "Nicole Ward",
                  "4": "nicole39@adventure-works.com",
                  "5": "Mountain-200 Silver, 38",
                  "6": "1",
                  "7": "2071.4197",
                  "8": "165.7136"
                },
                {
                  "0": "SO49274",
                  "1": "1",
                  "2": "2021-01-10",
                  "3": "Jennifer Ramirez",
                  "4": "jennifer69@adventure-works.com",
                  "5": "Mountain-200 Black, 46",
                  "6": "1",
                  "7": "2049.0981",
                  "8": "163.9279"
                },
                {
                  "0": "SO49275",
                  "1": "1",
                  "2": "2021-01-10",
                  "3": "Curtis Zheng",
                  "4": "curtis16@adventure-works.com",
                  "5": "Road-250 Red, 44",
                  "6": "1",
                  "7": "2443.35",
                  "8": "195.468"
                },
                {
                  "0": "SO49270",
                  "1": "1",
                  "2": "2021-01-10",
                  "3": "Melinda Gutierrez",
                  "4": "melinda6@adventure-works.com",
                  "5": "Mountain-200 Silver, 38",
                  "6": "1",
                  "7": "2071.4197",
                  "8": "165.7136"
                },
                {
                  "0": "SO49276",
                  "1": "1",
                  "2": "2021-01-11",
                  "3": "Wesley He",
                  "4": "wesley18@adventure-works.com",
                  "5": "Road-250 Black, 58",
                  "6": "1",
                  "7": "2181.5625",
                  "8": "174.525"
                },
                {
                  "0": "SO49279",
                  "1": "1",
                  "2": "2021-01-11",
                  "3": "Tanya Ramos",
                  "4": "tanya14@adventure-works.com",
                  "5": "Mountain-200 Black, 46",
                  "6": "1",
                  "7": "2049.0981",
                  "8": "163.9279"
                },
                {
                  "0": "SO49278",
                  "1": "1",
                  "2": "2021-01-11",
                  "3": "Madison Foster",
                  "4": "madison28@adventure-works.com",
                  "5": "Mountain-200 Black, 38",
                  "6": "1",
                  "7": "2049.0981",
                  "8": "163.9279"
                },
                {
                  "0": "SO49277",
                  "1": "1",
                  "2": "2021-01-11",
                  "3": "Nathan Hill",
                  "4": "nathan42@adventure-works.com",
                  "5": "Mountain-200 Silver, 38",
                  "6": "1",
                  "7": "2071.4197",
                  "8": "165.7136"
                },
                {
                  "0": "SO49287",
                  "1": "1",
                  "2": "2021-01-12",
                  "3": "Rebekah Garcia",
                  "4": "rebekah14@adventure-works.com",
                  "5": "Mountain-200 Silver, 46",
                  "6": "1",
                  "7": "2071.4197",
                  "8": "165.7136"
                },
                {
                  "0": "SO49282",
                  "1": "1",
                  "2": "2021-01-12",
                  "3": "Ricardo Kumar",
                  "4": "ricardo7@adventure-works.com",
                  "5": "Mountain-200 Black, 46",
                  "6": "1",
                  "7": "2049.0981",
                  "8": "163.9279"
                },
                {
                  "0": "SO49288",
                  "1": "1",
                  "2": "2021-01-12",
                  "3": "Isaac Cook",
                  "4": "isaac21@adventure-works.com",
                  "5": "Mountain-200 Silver, 42",
                  "6": "1",
                  "7": "2071.4197",
                  "8": "165.7136"
                },
                {
                  "0": "SO49283",
                  "1": "1",
                  "2": "2021-01-12",
                  "3": "Latasha Romero",
                  "4": "latasha9@adventure-works.com",
                  "5": "Mountain-200 Silver, 38",
                  "6": "1",
                  "7": "2071.4197",
                  "8": "165.7136"
                },
                {
                  "0": "SO49280",
                  "1": "1",
                  "2": "2021-01-12",
                  "3": "Ronnie Ma",
                  "4": "ronnie14@adventure-works.com",
                  "5": "Road-250 Red, 44",
                  "6": "1",
                  "7": "2443.35",
                  "8": "195.468"
                },
                {
                  "0": "SO49281",
                  "1": "1",
                  "2": "2021-01-12",
                  "3": "Tanya Blanco",
                  "4": "tanya12@adventure-works.com",
                  "5": "Road-650 Black, 52",
                  "6": "1",
                  "7": "782.99",
                  "8": "62.6392"
                },
                {
                  "0": "SO49284",
                  "1": "1",
                  "2": "2021-01-12",
                  "3": "Tanya Munoz",
                  "4": "tanya3@adventure-works.com",
                  "5": "Road-250 Black, 48",
                  "6": "1",
                  "7": "2181.5625",
                  "8": "174.525"
                },
                {
                  "0": "SO49285",
                  "1": "1",
                  "2": "2021-01-12",
                  "3": "Robert Henderson",
                  "4": "robert18@adventure-works.com",
                  "5": "Mountain-200 Silver, 46",
                  "6": "1",
                  "7": "2071.4197",
                  "8": "165.7136"
                },
                {
                  "0": "SO49286",
                  "1": "1",
                  "2": "2021-01-12",
                  "3": "Chloe Turner",
                  "4": "chloe2@adventure-works.com",
                  "5": "Mountain-200 Silver, 38",
                  "6": "1",
                  "7": "2071.4197",
                  "8": "165.7136"
                },
                {
                  "0": "SO49289",
                  "1": "1",
                  "2": "2021-01-12",
                  "3": "Stacey She",
                  "4": "stacey24@adventure-works.com",
                  "5": "Road-650 Red, 52",
                  "6": "1",
                  "7": "782.99",
                  "8": "62.6392"
                },
                {
                  "0": "SO49299",
                  "1": "1",
                  "2": "2021-01-13",
                  "3": "Rafael Nath",
                  "4": "rafael42@adventure-works.com",
                  "5": "Road-250 Black, 52",
                  "6": "1",
                  "7": "2181.5625",
                  "8": "174.525"
                },
                {
                  "0": "SO49291",
                  "1": "1",
                  "2": "2021-01-13",
                  "3": "Bridget Raje",
                  "4": "bridget16@adventure-works.com",
                  "5": "Road-550-W Yellow, 44",
                  "6": "1",
                  "7": "1000.4375",
                  "8": "80.035"
                },
                {
                  "0": "SO49292",
                  "1": "1",
                  "2": "2021-01-13",
                  "3": "Joe Patel",
                  "4": "joe7@adventure-works.com",
                  "5": "Road-550-W Yellow, 48",
                  "6": "1",
                  "7": "1000.4375",
                  "8": "80.035"
                },
                {
                  "0": "SO49290",
                  "1": "1",
                  "2": "2021-01-13",
                  "3": "Jenny Zeng",
                  "4": "jenny24@adventure-works.com",
                  "5": "Road-250 Red, 48",
                  "6": "1",
                  "7": "2443.35",
                  "8": "195.468"
                },
                {
                  "0": "SO49298",
                  "1": "1",
                  "2": "2021-01-13",
                  "3": "Jenny Tang",
                  "4": "jenny27@adventure-works.com",
                  "5": "Mountain-200 Silver, 46",
                  "6": "1",
                  "7": "2071.4197",
                  "8": "165.7136"
                },
                {
                  "0": "SO49300",
                  "1": "1",
                  "2": "2021-01-13",
                  "3": "Roberto Gill",
                  "4": "roberto14@adventure-works.com",
                  "5": "Road-550-W Yellow, 40",
                  "6": "1",
                  "7": "1000.4375",
                  "8": "80.035"
                },
                {
                  "0": "SO49294",
                  "1": "1",
                  "2": "2021-01-13",
                  "3": "Mariah Russell",
                  "4": "mariah24@adventure-works.com",
                  "5": "Road-250 Red, 44",
                  "6": "1",
                  "7": "2443.35",
                  "8": "195.468"
                },
                {
                  "0": "SO49297",
                  "1": "1",
                  "2": "2021-01-13",
                  "3": "Lacey Zhang",
                  "4": "lacey12@adventure-works.com",
                  "5": "Mountain-200 Black, 38",
                  "6": "1",
                  "7": "2049.0981",
                  "8": "163.9279"
                },
                {
                  "0": "SO49296",
                  "1": "1",
                  "2": "2021-01-13",
                  "3": "Thomas Moore",
                  "4": "thomas69@adventure-works.com",
                  "5": "Mountain-200 Silver, 46",
                  "6": "1",
                  "7": "2071.4197",
                  "8": "165.7136"
                },
                {
                  "0": "SO49293",
                  "1": "1",
                  "2": "2021-01-13",
                  "3": "Felicia Blanco",
                  "4": "felicia15@adventure-works.com",
                  "5": "Mountain-200 Black, 38",
                  "6": "1",
                  "7": "2049.0981",
                  "8": "163.9279"
                },
                {
                  "0": "SO49295",
                  "1": "1",
                  "2": "2021-01-13",
                  "3": "Casey Kumar",
                  "4": "casey8@adventure-works.com",
                  "5": "Mountain-200 Black, 46",
                  "6": "1",
                  "7": "2049.0981",
                  "8": "163.9279"
                },
                {
                  "0": "SO49307",
                  "1": "1",
                  "2": "2021-01-14",
                  "3": "Jack Li",
                  "4": "jack27@adventure-works.com",
                  "5": "Mountain-200 Black, 38",
                  "6": "1",
                  "7": "2049.0981",
                  "8": "163.9279"
                },
                {
                  "0": "SO49308",
                  "1": "1",
                  "2": "2021-01-14",
                  "3": "Ian Harris",
                  "4": "ian13@adventure-works.com",
                  "5": "Mountain-200 Silver, 38",
                  "6": "1",
                  "7": "2071.4197",
                  "8": "165.7136"
                },
                {
                  "0": "SO49306",
                  "1": "1",
                  "2": "2021-01-14",
                  "3": "Rachel Taylor",
                  "4": "rachel11@adventure-works.com",
                  "5": "Road-250 Black, 44",
                  "6": "1",
                  "7": "2181.5625",
                  "8": "174.525"
                },
                {
                  "0": "SO49305",
                  "1": "1",
                  "2": "2021-01-14",
                  "3": "Mya Butler",
                  "4": "mya14@adventure-works.com",
                  "5": "Road-250 Red, 58",
                  "6": "1",
                  "7": "2181.5625",
                  "8": "174.525"
                },
                {
                  "0": "SO49309",
                  "1": "1",
                  "2": "2021-01-14",
                  "3": "Mario Rai",
                  "4": "mario16@adventure-works.com",
                  "5": "Road-550-W Yellow, 38",
                  "6": "1",
                  "7": "1000.4375",
                  "8": "80.035"
                },
                {
                  "0": "SO49303",
                  "1": "1",
                  "2": "2021-01-14",
                  "3": "Franklin Xu",
                  "4": "franklin23@adventure-works.com",
                  "5": "Road-250 Black, 52",
                  "6": "1",
                  "7": "2181.5625",
                  "8": "174.525"
                },
                {
                  "0": "SO49310",
                  "1": "1",
                  "2": "2021-01-14",
                  "3": "Megan Rivera",
                  "4": "megan37@adventure-works.com",
                  "5": "Road-650 Black, 62",
                  "6": "1",
                  "7": "782.99",
                  "8": "62.6392"
                },
                {
                  "0": "SO49302",
                  "1": "1",
                  "2": "2021-01-14",
                  "3": "Ann Lopez",
                  "4": "ann21@adventure-works.com",
                  "5": "Road-250 Red, 58",
                  "6": "1",
                  "7": "2181.5625",
                  "8": "174.525"
                },
                {
                  "0": "SO49301",
                  "1": "1",
                  "2": "2021-01-14",
                  "3": "Kristi Sai",
                  "4": "kristi22@adventure-works.com",
                  "5": "Road-250 Black, 52",
                  "6": "1",
                  "7": "2181.5625",
                  "8": "174.525"
                },
                {
                  "0": "SO49304",
                  "1": "1",
                  "2": "2021-01-14",
                  "3": "Kelsey Rai",
                  "4": "kelsey16@adventure-works.com",
                  "5": "Road-550-W Yellow, 38",
                  "6": "1",
                  "7": "1000.4375",
                  "8": "80.035"
                },
                {
                  "0": "SO49311",
                  "1": "1",
                  "2": "2021-01-14",
                  "3": "Derek Chande",
                  "4": "derek13@adventure-works.com",
                  "5": "Road-650 Black, 60",
                  "6": "1",
                  "7": "782.99",
                  "8": "62.6392"
                },
                {
                  "0": "SO49312",
                  "1": "1",
                  "2": "2021-01-15",
                  "3": "Xavier Anderson",
                  "4": "xavier7@adventure-works.com",
                  "5": "Road-250 Red, 48",
                  "6": "1",
                  "7": "2443.35",
                  "8": "195.468"
                },
                {
                  "0": "SO49317",
                  "1": "1",
                  "2": "2021-01-15",
                  "3": "Ian King",
                  "4": "ian25@adventure-works.com",
                  "5": "Road-550-W Yellow, 38",
                  "6": "1",
                  "7": "1000.4375",
                  "8": "80.035"
                },
                {
                  "0": "SO49314",
                  "1": "1",
                  "2": "2021-01-15",
                  "3": "Robyn Munoz",
                  "4": "robyn5@adventure-works.com",
                  "5": "Mountain-200 Black, 46",
                  "6": "1",
                  "7": "2049.0981",
                  "8": "163.9279"
                },
                {
                  "0": "SO49315",
                  "1": "1",
                  "2": "2021-01-15",
                  "3": "Stacey Yang",
                  "4": "stacey5@adventure-works.com",
                  "5": "Mountain-200 Black, 46",
                  "6": "1",
                  "7": "2049.0981",
                  "8": "163.9279"
                },
                {
                  "0": "SO49313",
                  "1": "1",
                  "2": "2021-01-15",
                  "3": "Nathan Wang",
                  "4": "nathan21@adventure-works.com",
                  "5": "Mountain-200 Black, 38",
                  "6": "1",
                  "7": "2049.0981",
                  "8": "163.9279"
                },
                {
                  "0": "SO49316",
                  "1": "1",
                  "2": "2021-01-15",
                  "3": "Pedro Mu�oz",
                  "4": "pedro28@adventure-works.com",
                  "5": "Road-250 Black, 58",
                  "6": "1",
                  "7": "2181.5625",
                  "8": "174.525"
                },
                {
                  "0": "SO49320",
                  "1": "1",
                  "2": "2021-01-15",
                  "3": "Naomi Ruiz",
                  "4": "naomi2@adventure-works.com",
                  "5": "Road-250 Black, 44",
                  "6": "1",
                  "7": "2181.5625",
                  "8": "174.525"
                },
                {
                  "0": "SO49319",
                  "1": "1",
                  "2": "2021-01-15",
                  "3": "Patricia Perez",
                  "4": "patricia22@adventure-works.com",
                  "5": "Road-550-W Yellow, 44",
                  "6": "1",
                  "7": "1000.4375",
                  "8": "80.035"
                },
                {
                  "0": "SO49322",
                  "1": "1",
                  "2": "2021-01-15",
                  "3": "Candice Cai",
                  "4": "candice5@adventure-works.com",
                  "5": "Road-650 Red, 48",
                  "6": "1",
                  "7": "782.99",
                  "8": "62.6392"
                },
                {
                  "0": "SO49321",
                  "1": "1",
                  "2": "2021-01-15",
                  "3": "Taylor Flores",
                  "4": "taylor37@adventure-works.com",
                  "5": "Mountain-200 Silver, 46",
                  "6": "1",
                  "7": "2071.4197",
                  "8": "165.7136"
                },
                {
                  "0": "SO49318",
                  "1": "1",
                  "2": "2021-01-15",
                  "3": "Emily Davis",
                  "4": "emily5@adventure-works.com",
                  "5": "Road-650 Black, 58",
                  "6": "1",
                  "7": "782.99",
                  "8": "62.6392"
                },
                {
                  "0": "SO49325",
                  "1": "1",
                  "2": "2021-01-16",
                  "3": "Christy Ye",
                  "4": "christy9@adventure-works.com",
                  "5": "Mountain-200 Silver, 46",
                  "6": "1",
                  "7": "2071.4197",
                  "8": "165.7136"
                },
                {
                  "0": "SO49323",
                  "1": "1",
                  "2": "2021-01-16",
                  "3": "Shannon Torres",
                  "4": "shannon33@adventure-works.com",
                  "5": "Mountain-200 Black, 46",
                  "6": "1",
                  "7": "2049.0981",
                  "8": "163.9279"
                },
                {
                  "0": "SO49324",
                  "1": "1",
                  "2": "2021-01-16",
                  "3": "Ruth Suri",
                  "4": "ruth6@adventure-works.com",
                  "5": "Mountain-200 Silver, 38",
                  "6": "1",
                  "7": "2071.4197",
                  "8": "165.7136"
                },
                {
                  "0": "SO49326",
                  "1": "1",
                  "2": "2021-01-16",
                  "3": "Hunter Garcia",
                  "4": "hunter48@adventure-works.com",
                  "5": "Mountain-200 Black, 42",
                  "6": "1",
                  "7": "2049.0981",
                  "8": "163.9279"
                },
                {
                  "0": "SO49328",
                  "1": "1",
                  "2": "2021-01-17",
                  "3": "Casey Nara",
                  "4": "casey18@adventure-works.com",
                  "5": "Road-250 Black, 44",
                  "6": "1",
                  "7": "2181.5625",
                  "8": "174.525"
                },
                {
                  "0": "SO49329",
                  "1": "1",
                  "2": "2021-01-17",
                  "3": "Stephanie King",
                  "4": "stephanie64@adventure-works.com",
                  "5": "Road-550-W Yellow, 44",
                  "6": "1",
                  "7": "1000.4375",
                  "8": "80.035"
                },
                {
                  "0": "SO49327",
                  "1": "1",
                  "2": "2021-01-17",
                  "3": "Darryl Ye",
                  "4": "darryl9@adventure-works.com",
                  "5": "Road-250 Red, 48",
                  "6": "1",
                  "7": "2443.35",
                  "8": "195.468"
                },
                {
                  "0": "SO49330",
                  "1": "1",
                  "2": "2021-01-17",
                  "3": "Jill Suarez",
                  "4": "jill27@adventure-works.com",
                  "5": "Mountain-200 Silver, 42",
                  "6": "1",
                  "7": "2071.4197",
                  "8": "165.7136"
                },
                {
                  "0": "SO49331",
                  "1": "1",
                  "2": "2021-01-17",
                  "3": "Jacquelyn Gutierrez",
                  "4": "jacquelyn11@adventure-works.com",
                  "5": "Mountain-200 Black, 38",
                  "6": "1",
                  "7": "2049.0981",
                  "8": "163.9279"
                },
                {
                  "0": "SO49332",
                  "1": "1",
                  "2": "2021-01-17",
                  "3": "Patrick Sands",
                  "4": "patrick4@adventure-works.com",
                  "5": "Mountain-200 Silver, 38",
                  "6": "1",
                  "7": "2071.4197",
                  "8": "165.7136"
                },
                {
                  "0": "SO49334",
                  "1": "1",
                  "2": "2021-01-17",
                  "3": "Brandon Ross",
                  "4": "brandon1@adventure-works.com",
                  "5": "Mountain-200 Black, 42",
                  "6": "1",
                  "7": "2049.0981",
                  "8": "163.9279"
                },
                {
                  "0": "SO49333",
                  "1": "1",
                  "2": "2021-01-17",
                  "3": "Lisa Huang",
                  "4": "lisa9@adventure-works.com",
                  "5": "Mountain-200 Silver, 42",
                  "6": "1",
                  "7": "2071.4197",
                  "8": "165.7136"
                },
                {
                  "0": "SO49338",
                  "1": "1",
                  "2": "2021-01-17",
                  "3": "Alisha Guo",
                  "4": "alisha18@adventure-works.com",
                  "5": "Road-250 Red, 48",
                  "6": "1",
                  "7": "2443.35",
                  "8": "195.468"
                },
                {
                  "0": "SO49336",
                  "1": "1",
                  "2": "2021-01-17",
                  "3": "Steve Liu",
                  "4": "steve8@adventure-works.com",
                  "5": "Road-250 Black, 52",
                  "6": "1",
                  "7": "2181.5625",
                  "8": "174.525"
                },
                {
                  "0": "SO49335",
                  "1": "1",
                  "2": "2021-01-17",
                  "3": "Jenny Kumar",
                  "4": "jenny31@adventure-works.com",
                  "5": "Road-250 Black, 48",
                  "6": "1",
                  "7": "2181.5625",
                  "8": "174.525"
                },
                {
                  "0": "SO49337",
                  "1": "1",
                  "2": "2021-01-17",
                  "3": "Jade Kelly",
                  "4": "jade1@adventure-works.com",
                  "5": "Mountain-200 Black, 46",
                  "6": "1",
                  "7": "2049.0981",
                  "8": "163.9279"
                },
                {
                  "0": "SO49347",
                  "1": "1",
                  "2": "2021-01-18",
                  "3": "Darren Munoz",
                  "4": "darren29@adventure-works.com",
                  "5": "Road-250 Red, 48",
                  "6": "1",
                  "7": "2443.35",
                  "8": "195.468"
                },
                {
                  "0": "SO49348",
                  "1": "1",
                  "2": "2021-01-18",
                  "3": "Francis Serrano",
                  "4": "francis14@adventure-works.com",
                  "5": "Road-250 Red, 48",
                  "6": "1",
                  "7": "2443.35",
                  "8": "195.468"
                },
                {
                  "0": "SO49345",
                  "1": "1",
                  "2": "2021-01-18",
                  "3": "Ricky Alonso",
                  "4": "ricky8@adventure-works.com",
                  "5": "Mountain-200 Black, 46",
                  "6": "1",
                  "7": "2049.0981",
                  "8": "163.9279"
                },
                {
                  "0": "SO49344",
                  "1": "1",
                  "2": "2021-01-18",
                  "3": "Wyatt Mitchell",
                  "4": "wyatt40@adventure-works.com",
                  "5": "Mountain-200 Silver, 38",
                  "6": "1",
                  "7": "2071.4197",
                  "8": "165.7136"
                },
                {
                  "0": "SO49343",
                  "1": "1",
                  "2": "2021-01-18",
                  "3": "Melinda Torres",
                  "4": "melinda7@adventure-works.com",
                  "5": "Mountain-200 Silver, 46",
                  "6": "1",
                  "7": "2071.4197",
                  "8": "165.7136"
                },
                {
                  "0": "SO49346",
                  "1": "1",
                  "2": "2021-01-18",
                  "3": "Karl Kumar",
                  "4": "karl8@adventure-works.com",
                  "5": "Mountain-200 Black, 46",
                  "6": "1",
                  "7": "2049.0981",
                  "8": "163.9279"
                },
                {
                  "0": "SO49342",
                  "1": "1",
                  "2": "2021-01-18",
                  "3": "Jillian Fernandez",
                  "4": "jillian16@adventure-works.com",
                  "5": "Mountain-200 Silver, 46",
                  "6": "1",
                  "7": "2071.4197",
                  "8": "165.7136"
                },
                {
                  "0": "SO49341",
                  "1": "1",
                  "2": "2021-01-18",
                  "3": "Jill Ashe",
                  "4": "jill12@adventure-works.com",
                  "5": "Road-550-W Yellow, 38",
                  "6": "1",
                  "7": "1000.4375",
                  "8": "80.035"
                },
                {
                  "0": "SO49339",
                  "1": "1",
                  "2": "2021-01-18",
                  "3": "Shane Sanchez",
                  "4": "shane23@adventure-works.com",
                  "5": "Road-250 Red, 44",
                  "6": "1",
                  "7": "2443.35",
                  "8": "195.468"
                },
                {
                  "0": "SO49340",
                  "1": "1",
                  "2": "2021-01-18",
                  "3": "Tyrone Rubio",
                  "4": "tyrone20@adventure-works.com",
                  "5": "Road-250 Black, 48",
                  "6": "1",
                  "7": "2181.5625",
                  "8": "174.525"
                },
                {
                  "0": "SO49350",
                  "1": "1",
                  "2": "2021-01-18",
                  "3": "Cassidy Wood",
                  "4": "cassidy2@adventure-works.com",
                  "5": "Road-650 Red, 52",
                  "6": "1",
                  "7": "782.99",
                  "8": "62.6392"
                },
                {
                  "0": "SO49349",
                  "1": "1",
                  "2": "2021-01-18",
                  "3": "Angel Brooks",
                  "4": "angel0@adventure-works.com",
                  "5": "Mountain-200 Black, 42",
                  "6": "1",
                  "7": "2049.0981",
                  "8": "163.9279"
                },
                {
                  "0": "SO49351",
                  "1": "1",
                  "2": "2021-01-18",
                  "3": "Austin Alexander",
                  "4": "austin15@adventure-works.com",
                  "5": "Road-650 Red, 48",
                  "6": "1",
                  "7": "782.99",
                  "8": "62.6392"
                },
                {
                  "0": "SO49361",
                  "1": "1",
                  "2": "2021-01-19",
                  "3": "Mandy Chen",
                  "4": "mandy3@adventure-works.com",
                  "5": "Road-250 Black, 44",
                  "6": "1",
                  "7": "2181.5625",
                  "8": "174.525"
                },
                {
                  "0": "SO49352",
                  "1": "1",
                  "2": "2021-01-19",
                  "3": "Morgan Smith",
                  "4": "morgan23@adventure-works.com",
                  "5": "Road-250 Black, 48",
                  "6": "1",
                  "7": "2181.5625",
                  "8": "174.525"
                },
                {
                  "0": "SO49353",
                  "1": "1",
                  "2": "2021-01-19",
                  "3": "Brian Sanchez",
                  "4": "brian29@adventure-works.com",
                  "5": "Road-650 Red, 62",
                  "6": "1",
                  "7": "782.99",
                  "8": "62.6392"
                },
                {
                  "0": "SO49359",
                  "1": "1",
                  "2": "2021-01-19",
                  "3": "Xavier Turner",
                  "4": "xavier37@adventure-works.com",
                  "5": "Road-550-W Yellow, 42",
                  "6": "1",
                  "7": "1000.4375",
                  "8": "80.035"
                },
                {
                  "0": "SO49355",
                  "1": "1",
                  "2": "2021-01-19",
                  "3": "Ruben Suarez",
                  "4": "ruben42@adventure-works.com",
                  "5": "Mountain-200 Black, 46",
                  "6": "1",
                  "7": "2049.0981",
                  "8": "163.9279"
                },
                {
                  "0": "SO49354",
                  "1": "1",
                  "2": "2021-01-19",
                  "3": "Brandon Lal",
                  "4": "brandon26@adventure-works.com",
                  "5": "Road-250 Black, 44",
                  "6": "1",
                  "7": "2181.5625",
                  "8": "174.525"
                },
                {
                  "0": "SO49356",
                  "1": "1",
                  "2": "2021-01-19",
                  "3": "Bruce Lopez",
                  "4": "bruce16@adventure-works.com",
                  "5": "Road-250 Red, 48",
                  "6": "1",
                  "7": "2443.35",
                  "8": "195.468"
                },
                {
                  "0": "SO49357",
                  "1": "1",
                  "2": "2021-01-19",
                  "3": "Justin Martin",
                  "4": "justin42@adventure-works.com",
                  "5": "Road-250 Black, 52",
                  "6": "1",
                  "7": "2181.5625",
                  "8": "174.525"
                },
                {
                  "0": "SO49360",
                  "1": "1",
                  "2": "2021-01-19",
                  "3": "Gabriella Perez",
                  "4": "gabriella35@adventure-works.com",
                  "5": "Mountain-200 Black, 38",
                  "6": "1",
                  "7": "2049.0981",
                  "8": "163.9279"
                },
                {
                  "0": "SO49358",
                  "1": "1",
                  "2": "2021-01-19",
                  "3": "Dakota Russell",
                  "4": "dakota16@adventure-works.com",
                  "5": "Mountain-200 Silver, 46",
                  "6": "1",
                  "7": "2071.4197",
                  "8": "165.7136"
                },
                {
                  "0": "SO49366",
                  "1": "1",
                  "2": "2021-01-20",
                  "3": "Kathryn Jai",
                  "4": "kathryn10@adventure-works.com",
                  "5": "Road-250 Black, 52",
                  "6": "1",
                  "7": "2181.5625",
                  "8": "174.525"
                },
                {
                  "0": "SO49365",
                  "1": "1",
                  "2": "2021-01-20",
                  "3": "Kendra Munoz",
                  "4": "kendra7@adventure-works.com",
                  "5": "Road-250 Red, 44",
                  "6": "1",
                  "7": "2443.35",
                  "8": "195.468"
                },
                {
                  "0": "SO49364",
                  "1": "1",
                  "2": "2021-01-20",
                  "3": "Katie Nath",
                  "4": "katie21@adventure-works.com",
                  "5": "Road-250 Black, 58",
                  "6": "1",
                  "7": "2181.5625",
                  "8": "174.525"
                },
                {
                  "0": "SO49370",
                  "1": "1",
                  "2": "2021-01-20",
                  "3": "Ebony Hernandez",
                  "4": "ebony26@adventure-works.com",
                  "5": "Road-250 Black, 58",
                  "6": "1",
                  "7": "2181.5625",
                  "8": "174.525"
                },
                {
                  "0": "SO49363",
                  "1": "1",
                  "2": "2021-01-20",
                  "3": "Madison Clark",
                  "4": "madison20@adventure-works.com",
                  "5": "Mountain-200 Black, 42",
                  "6": "1",
                  "7": "2049.0981",
                  "8": "163.9279"
                },
                {
                  "0": "SO49362",
                  "1": "1",
                  "2": "2021-01-20",
                  "3": "Micheal Rubio",
                  "4": "micheal17@adventure-works.com",
                  "5": "Mountain-200 Black, 38",
                  "6": "1",
                  "7": "2049.0981",
                  "8": "163.9279"
                },
                {
                  "0": "SO49369",
                  "1": "1",
                  "2": "2021-01-20",
                  "3": "Tyler Lewis",
                  "4": "tyler21@adventure-works.com",
                  "5": "Road-650 Black, 52",
                  "6": "1",
                  "7": "782.99",
                  "8": "62.6392"
                },
                {
                  "0": "SO49368",
                  "1": "1",
                  "2": "2021-01-20",
                  "3": "Lucas Ramirez",
                  "4": "lucas79@adventure-works.com",
                  "5": "Road-650 Red, 62",
                  "6": "1",
                  "7": "782.99",
                  "8": "62.6392"
                },
                {
                  "0": "SO49367",
                  "1": "1",
                  "2": "2021-01-20",
                  "3": "Yolanda Rai",
                  "4": "yolanda16@adventure-works.com",
                  "5": "Mountain-200 Black, 46",
                  "6": "1",
                  "7": "2049.0981",
                  "8": "163.9279"
                },
                {
                  "0": "SO49371",
                  "1": "1",
                  "2": "2021-01-20",
                  "3": "Joanna Serrano",
                  "4": "joanna15@adventure-works.com",
                  "5": "Road-650 Red, 48",
                  "6": "1",
                  "7": "782.99",
                  "8": "62.6392"
                },
                {
                  "0": "SO49380",
                  "1": "1",
                  "2": "2021-01-21",
                  "3": "Andrea Baker",
                  "4": "andrea38@adventure-works.com",
                  "5": "Road-650 Black, 62",
                  "6": "1",
                  "7": "782.99",
                  "8": "62.6392"
                },
                {
                  "0": "SO49381",
                  "1": "1",
                  "2": "2021-01-21",
                  "3": "Ivan Lopez",
                  "4": "ivan13@adventure-works.com",
                  "5": "Road-650 Black, 58",
                  "6": "1",
                  "7": "782.99",
                  "8": "62.6392"
                },
                {
                  "0": "SO49372",
                  "1": "1",
                  "2": "2021-01-21",
                  "3": "Bianca Liang",
                  "4": "bianca13@adventure-works.com",
                  "5": "Road-250 Red, 48",
                  "6": "1",
                  "7": "2443.35",
                  "8": "195.468"
                },
                {
                  "0": "SO49373",
                  "1": "1",
                  "2": "2021-01-21",
                  "3": "Deanna Hernandez",
                  "4": "deanna29@adventure-works.com",
                  "5": "Road-550-W Yellow, 40",
                  "6": "1",
                  "7": "1000.4375",
                  "8": "80.035"
                },
                {
                  "0": "SO49374",
                  "1": "1",
                  "2": "2021-01-21",
                  "3": "Laura Li",
                  "4": "laura10@adventure-works.com",
                  "5": "Road-650 Black, 58",
                  "6": "1",
                  "7": "782.99",
                  "8": "62.6392"
                },
                {
                  "0": "SO49376",
                  "1": "1",
                  "2": "2021-01-21",
                  "3": "Shane Gonzalez",
                  "4": "shane21@adventure-works.com",
                  "5": "Mountain-200 Silver, 42",
                  "6": "1",
                  "7": "2071.4197",
                  "8": "165.7136"
                },
                {
                  "0": "SO49375",
                  "1": "1",
                  "2": "2021-01-21",
                  "3": "Preston Raman",
                  "4": "preston11@adventure-works.com",
                  "5": "Mountain-200 Silver, 42",
                  "6": "1",
                  "7": "2071.4197",
                  "8": "165.7136"
                },
                {
                  "0": "SO49377",
                  "1": "1",
                  "2": "2021-01-21",
                  "3": "Rosa Chen",
                  "4": "rosa2@adventure-works.com",
                  "5": "Road-250 Red, 58",
                  "6": "1",
                  "7": "2181.5625",
                  "8": "174.525"
                },
                {
                  "0": "SO49382",
                  "1": "1",
                  "2": "2021-01-21",
                  "3": "Jessie Romero",
                  "4": "jessie15@adventure-works.com",
                  "5": "Road-550-W Yellow, 40",
                  "6": "1",
                  "7": "1000.4375",
                  "8": "80.035"
                },
                {
                  "0": "SO49383",
                  "1": "1",
                  "2": "2021-01-21",
                  "3": "Meredith Rana",
                  "4": "meredith10@adventure-works.com",
                  "5": "Road-550-W Yellow, 40",
                  "6": "1",
                  "7": "1000.4375",
                  "8": "80.035"
                },
                {
                  "0": "SO49378",
                  "1": "1",
                  "2": "2021-01-21",
                  "3": "Charles Brown",
                  "4": "charles7@adventure-works.com",
                  "5": "Mountain-200 Black, 42",
                  "6": "1",
                  "7": "2049.0981",
                  "8": "163.9279"
                },
                {
                  "0": "SO49379",
                  "1": "1",
                  "2": "2021-01-21",
                  "3": "Jennifer Rodriguez",
                  "4": "jennifer47@adventure-works.com",
                  "5": "Mountain-200 Black, 42",
                  "6": "1",
                  "7": "2049.0981",
                  "8": "163.9279"
                },
                {
                  "0": "SO49384",
                  "1": "1",
                  "2": "2021-01-21",
                  "3": "Lydia Patel",
                  "4": "lydia2@adventure-works.com",
                  "5": "Mountain-200 Silver, 42",
                  "6": "1",
                  "7": "2071.4197",
                  "8": "165.7136"
                },
                {
                  "0": "SO49394",
                  "1": "1",
                  "2": "2021-01-22",
                  "3": "Derrick Rubio",
                  "4": "derrick19@adventure-works.com",
                  "5": "Road-250 Black, 58",
                  "6": "1",
                  "7": "2181.5625",
                  "8": "174.525"
                },
                {
                  "0": "SO49393",
                  "1": "1",
                  "2": "2021-01-22",
                  "3": "Casey Alonso",
                  "4": "casey32@adventure-works.com",
                  "5": "Road-250 Black, 48",
                  "6": "1",
                  "7": "2181.5625",
                  "8": "174.525"
                },
                {
                  "0": "SO49395",
                  "1": "1",
                  "2": "2021-01-22",
                  "3": "Donna Pal",
                  "4": "donna11@adventure-works.com",
                  "5": "Road-250 Red, 48",
                  "6": "1",
                  "7": "2443.35",
                  "8": "195.468"
                },
                {
                  "0": "SO49388",
                  "1": "1",
                  "2": "2021-01-22",
                  "3": "Crystal Zeng",
                  "4": "crystal1@adventure-works.com",
                  "5": "Mountain-200 Silver, 46",
                  "6": "1",
                  "7": "2071.4197",
                  "8": "165.7136"
                },
                {
                  "0": "SO49392",
                  "1": "1",
                  "2": "2021-01-22",
                  "3": "Melody Jimenez",
                  "4": "melody6@adventure-works.com",
                  "5": "Mountain-200 Black, 46",
                  "6": "1",
                  "7": "2049.0981",
                  "8": "163.9279"
                },
                {
                  "0": "SO49391",
                  "1": "1",
                  "2": "2021-01-22",
                  "3": "Adam Lal",
                  "4": "adam25@adventure-works.com",
                  "5": "Road-250 Black, 58",
                  "6": "1",
                  "7": "2181.5625",
                  "8": "174.525"
                },
                {
                  "0": "SO49389",
                  "1": "1",
                  "2": "2021-01-22",
                  "3": "Jerry Andersen",
                  "4": "jerry14@adventure-works.com",
                  "5": "Road-650 Black, 60",
                  "6": "1",
                  "7": "782.99",
                  "8": "62.6392"
                },
                {
                  "0": "SO49390",
                  "1": "1",
                  "2": "2021-01-22",
                  "3": "Marcus Robinson",
                  "4": "marcus19@adventure-works.com",
                  "5": "Road-650 Black, 60",
                  "6": "1",
                  "7": "782.99",
                  "8": "62.6392"
                },
                {
                  "0": "SO49385",
                  "1": "1",
                  "2": "2021-01-22",
                  "3": "Renee Hernandez",
                  "4": "renee3@adventure-works.com",
                  "5": "Road-250 Black, 48",
                  "6": "1",
                  "7": "2181.5625",
                  "8": "174.525"
                },
                {
                  "0": "SO49386",
                  "1": "1",
                  "2": "2021-01-22",
                  "3": "Seth Sanchez",
                  "4": "seth88@adventure-works.com",
                  "5": "Road-250 Black, 44",
                  "6": "1",
                  "7": "2181.5625",
                  "8": "174.525"
                },
                {
                  "0": "SO49387",
                  "1": "1",
                  "2": "2021-01-22",
                  "3": "Jarrod Mehta",
                  "4": "jarrod14@adventure-works.com",
                  "5": "Road-250 Red, 48",
                  "6": "1",
                  "7": "2443.35",
                  "8": "195.468"
                },
                {
                  "0": "SO49397",
                  "1": "1",
                  "2": "2021-01-23",
                  "3": "Kaylee Gray",
                  "4": "kaylee4@adventure-works.com",
                  "5": "Road-650 Red, 58",
                  "6": "1",
                  "7": "782.99",
                  "8": "62.6392"
                },
                {
                  "0": "SO49396",
                  "1": "1",
                  "2": "2021-01-23",
                  "3": "Carlos Evans",
                  "4": "carlos26@adventure-works.com",
                  "5": "Road-250 Red, 52",
                  "6": "1",
                  "7": "2443.35",
                  "8": "195.468"
                },
                {
                  "0": "SO49398",
                  "1": "1",
                  "2": "2021-01-23",
                  "3": "Valerie Huang",
                  "4": "valerie7@adventure-works.com",
                  "5": "Road-650 Red, 52",
                  "6": "1",
                  "7": "782.99",
                  "8": "62.6392"
                },
                {
                  "0": "SO49404",
                  "1": "1",
                  "2": "2021-01-24",
                  "3": "Rachael Lopez",
                  "4": "rachael15@adventure-works.com",
                  "5": "Road-250 Black, 52",
                  "6": "1",
                  "7": "2181.5625",
                  "8": "174.525"
                },
                {
                  "0": "SO49399",
                  "1": "1",
                  "2": "2021-01-24",
                  "3": "Randall Ortega",
                  "4": "randall24@adventure-works.com",
                  "5": "Road-650 Black, 44",
                  "6": "1",
                  "7": "782.99",
                  "8": "62.6392"
                },
                {
                  "0": "SO49408",
                  "1": "1",
                  "2": "2021-01-24",
                  "3": "Jordan Scott",
                  "4": "jordan69@adventure-works.com",
                  "5": "Road-650 Red, 60",
                  "6": "1",
                  "7": "782.99",
                  "8": "62.6392"
                },
                {
                  "0": "SO49401",
                  "1": "1",
                  "2": "2021-01-24",
                  "3": "Jay Nicholls",
                  "4": "jay39@adventure-works.com",
                  "5": "Road-250 Red, 48",
                  "6": "1",
                  "7": "2443.35",
                  "8": "195.468"
                },
                {
                  "0": "SO49400",
                  "1": "1",
                  "2": "2021-01-24",
                  "3": "Theodore Rowe",
                  "4": "theodore22@adventure-works.com",
                  "5": "Road-250 Black, 44",
                  "6": "1",
                  "7": "2181.5625",
                  "8": "174.525"
                },
                {
                  "0": "SO49405",
                  "1": "1",
                  "2": "2021-01-24",
                  "3": "Bailey Carter",
                  "4": "bailey30@adventure-works.com",
                  "5": "Mountain-200 Black, 42",
                  "6": "1",
                  "7": "2049.0981",
                  "8": "163.9279"
                },
                {
                  "0": "SO49409",
                  "1": "1",
                  "2": "2021-01-24",
                  "3": "Johnny Raje",
                  "4": "johnny15@adventure-works.com",
                  "5": "Mountain-200 Black, 38",
                  "6": "1",
                  "7": "2049.0981",
                  "8": "163.9279"
                },
                {
                  "0": "SO49407",
                  "1": "1",
                  "2": "2021-01-24",
                  "3": "Isabella Baker",
                  "4": "isabella47@adventure-works.com",
                  "5": "Road-550-W Yellow, 48",
                  "6": "1",
                  "7": "1000.4375",
                  "8": "80.035"
                },
                {
                  "0": "SO49402",
                  "1": "1",
                  "2": "2021-01-24",
                  "3": "Kevin Coleman",
                  "4": "kevin9@adventure-works.com",
                  "5": "Mountain-200 Silver, 38",
                  "6": "1",
                  "7": "2071.4197",
                  "8": "165.7136"
                },
                {
                  "0": "SO49403",
                  "1": "1",
                  "2": "2021-01-24",
                  "3": "Shaun Chapman",
                  "4": "shaun17@adventure-works.com",
                  "5": "Mountain-200 Black, 46",
                  "6": "1",
                  "7": "2049.0981",
                  "8": "163.9279"
                },
                {
                  "0": "SO49406",
                  "1": "1",
                  "2": "2021-01-24",
                  "3": "Victoria Peterson",
                  "4": "victoria41@adventure-works.com",
                  "5": "Mountain-200 Silver, 42",
                  "6": "1",
                  "7": "2071.4197",
                  "8": "165.7136"
                },
                {
                  "0": "SO49420",
                  "1": "1",
                  "2": "2021-01-25",
                  "3": "Seth Green",
                  "4": "seth32@adventure-works.com",
                  "5": "Road-550-W Yellow, 48",
                  "6": "1",
                  "7": "1000.4375",
                  "8": "80.035"
                },
                {
                  "0": "SO49418",
                  "1": "1",
                  "2": "2021-01-25",
                  "3": "Lawrence Sanz",
                  "4": "lawrence19@adventure-works.com",
                  "5": "Mountain-200 Silver, 38",
                  "6": "1",
                  "7": "2071.4197",
                  "8": "165.7136"
                },
                {
                  "0": "SO49417",
                  "1": "1",
                  "2": "2021-01-25",
                  "3": "Jesse Sanchez",
                  "4": "jesse18@adventure-works.com",
                  "5": "Mountain-200 Black, 46",
                  "6": "1",
                  "7": "2049.0981",
                  "8": "163.9279"
                },
                {
                  "0": "SO49416",
                  "1": "1",
                  "2": "2021-01-25",
                  "3": "Tonya Tang",
                  "4": "tonya4@adventure-works.com",
                  "5": "Road-650 Black, 48",
                  "6": "1",
                  "7": "782.99",
                  "8": "62.6392"
                },
                {
                  "0": "SO49413",
                  "1": "1",
                  "2": "2021-01-25",
                  "3": "Robin Ortega",
                  "4": "robin17@adventure-works.com",
                  "5": "Road-250 Red, 48",
                  "6": "1",
                  "7": "2443.35",
                  "8": "195.468"
                },
                {
                  "0": "SO49414",
                  "1": "1",
                  "2": "2021-01-25",
                  "3": "Samantha Bennett",
                  "4": "samantha26@adventure-works.com",
                  "5": "Road-250 Red, 44",
                  "6": "1",
                  "7": "2443.35",
                  "8": "195.468"
                },
                {
                  "0": "SO49415",
                  "1": "1",
                  "2": "2021-01-25",
                  "3": "Priscilla Yuan",
                  "4": "priscilla6@adventure-works.com",
                  "5": "Road-250 Red, 52",
                  "6": "1",
                  "7": "2443.35",
                  "8": "195.468"
                },
                {
                  "0": "SO49412",
                  "1": "1",
                  "2": "2021-01-25",
                  "3": "Roberto Vazquez",
                  "4": "roberto15@adventure-works.com",
                  "5": "Road-250 Black, 44",
                  "6": "1",
                  "7": "2181.5625",
                  "8": "174.525"
                },
                {
                  "0": "SO49410",
                  "1": "1",
                  "2": "2021-01-25",
                  "3": "Eddie Dominguez",
                  "4": "eddie13@adventure-works.com",
                  "5": "Road-250 Red, 48",
                  "6": "1",
                  "7": "2443.35",
                  "8": "195.468"
                },
                {
                  "0": "SO49411",
                  "1": "1",
                  "2": "2021-01-25",
                  "3": "Todd Wang",
                  "4": "todd3@adventure-works.com",
                  "5": "Road-250 Red, 44",
                  "6": "1",
                  "7": "2443.35",
                  "8": "195.468"
                },
                {
                  "0": "SO49419",
                  "1": "1",
                  "2": "2021-01-25",
                  "3": "Ashlee Luo",
                  "4": "ashlee13@adventure-works.com",
                  "5": "Road-250 Red, 44",
                  "6": "1",
                  "7": "2443.35",
                  "8": "195.468"
                },
                {
                  "0": "SO49421",
                  "1": "1",
                  "2": "2021-01-25",
                  "3": "Jorge Gao",
                  "4": "jorge17@adventure-works.com",
                  "5": "Road-250 Black, 58",
                  "6": "1",
                  "7": "2181.5625",
                  "8": "174.525"
                },
                {
                  "0": "SO49422",
                  "1": "1",
                  "2": "2021-01-25",
                  "3": "Karla Chander",
                  "4": "karla17@adventure-works.com",
                  "5": "Road-250 Red, 52",
                  "6": "1",
                  "7": "2443.35",
                  "8": "195.468"
                },
                {
                  "0": "SO49424",
                  "1": "1",
                  "2": "2021-01-25",
                  "3": "Donald Lopez",
                  "4": "donald18@adventure-works.com",
                  "5": "Road-650 Black, 52",
                  "6": "1",
                  "7": "782.99",
                  "8": "62.6392"
                },
                {
                  "0": "SO49423",
                  "1": "1",
                  "2": "2021-01-25",
                  "3": "Ashlee Beck",
                  "4": "ashlee4@adventure-works.com",
                  "5": "Road-650 Red, 52",
                  "6": "1",
                  "7": "782.99",
                  "8": "62.6392"
                },
                {
                  "0": "SO49425",
                  "1": "1",
                  "2": "2021-01-26",
                  "3": "Molly Madan",
                  "4": "molly7@adventure-works.com",
                  "5": "Road-250 Red, 48",
                  "6": "1",
                  "7": "2443.35",
                  "8": "195.468"
                },
                {
                  "0": "SO49430",
                  "1": "1",
                  "2": "2021-01-26",
                  "3": "Luis Lal",
                  "4": "luis29@adventure-works.com",
                  "5": "Road-650 Red, 44",
                  "6": "1",
                  "7": "782.99",
                  "8": "62.6392"
                },
                {
                  "0": "SO49431",
                  "1": "1",
                  "2": "2021-01-26",
                  "3": "Morgan Brooks",
                  "4": "morgan67@adventure-works.com",
                  "5": "Road-650 Black, 58",
                  "6": "1",
                  "7": "782.99",
                  "8": "62.6392"
                },
                {
                  "0": "SO49426",
                  "1": "1",
                  "2": "2021-01-26",
                  "3": "Melinda Carlson",
                  "4": "melinda13@adventure-works.com",
                  "5": "Road-650 Red, 60",
                  "6": "1",
                  "7": "782.99",
                  "8": "62.6392"
                },
                {
                  "0": "SO49427",
                  "1": "1",
                  "2": "2021-01-26",
                  "3": "Paula Dominguez",
                  "4": "paula15@adventure-works.com",
                  "5": "Road-650 Black, 44",
                  "6": "1",
                  "7": "782.99",
                  "8": "62.6392"
                },
                {
                  "0": "SO49429",
                  "1": "1",
                  "2": "2021-01-26",
                  "3": "Eddie Vazquez",
                  "4": "eddie15@adventure-works.com",
                  "5": "Mountain-200 Black, 42",
                  "6": "1",
                  "7": "2049.0981",
                  "8": "163.9279"
                },
                {
                  "0": "SO49428",
                  "1": "1",
                  "2": "2021-01-26",
                  "3": "Jonathan Clark",
                  "4": "jonathan73@adventure-works.com",
                  "5": "Road-250 Red, 44",
                  "6": "1",
                  "7": "2443.35",
                  "8": "195.468"
                },
                {
                  "0": "SO49434",
                  "1": "1",
                  "2": "2021-01-27",
                  "3": "Dalton Collins",
                  "4": "dalton45@adventure-works.com",
                  "5": "Road-550-W Yellow, 38",
                  "6": "1",
                  "7": "1000.4375",
                  "8": "80.035"
                },
                {
                  "0": "SO49432",
                  "1": "1",
                  "2": "2021-01-27",
                  "3": "Walter Navarro",
                  "4": "walter3@adventure-works.com",
                  "5": "Road-250 Black, 44",
                  "6": "1",
                  "7": "2181.5625",
                  "8": "174.525"
                },
                {
                  "0": "SO49433",
                  "1": "1",
                  "2": "2021-01-27",
                  "3": "Misty Raje",
                  "4": "misty15@adventure-works.com",
                  "5": "Road-250 Black, 44",
                  "6": "1",
                  "7": "2181.5625",
                  "8": "174.525"
                },
                {
                  "0": "SO49435",
                  "1": "1",
                  "2": "2021-01-28",
                  "3": "Jenny Lal",
                  "4": "jenny32@adventure-works.com",
                  "5": "Road-250 Black, 52",
                  "6": "1",
                  "7": "2181.5625",
                  "8": "174.525"
                },
                {
                  "0": "SO49442",
                  "1": "1",
                  "2": "2021-01-28",
                  "3": "Marshall Jai",
                  "4": "marshall32@adventure-works.com",
                  "5": "Road-650 Black, 60",
                  "6": "1",
                  "7": "782.99",
                  "8": "62.6392"
                },
                {
                  "0": "SO49437",
                  "1": "1",
                  "2": "2021-01-28",
                  "3": "Ricardo Andersen",
                  "4": "ricardo13@adventure-works.com",
                  "5": "Road-650 Red, 52",
                  "6": "1",
                  "7": "782.99",
                  "8": "62.6392"
                },
                {
                  "0": "SO49436",
                  "1": "1",
                  "2": "2021-01-28",
                  "3": "Kyle Young",
                  "4": "kyle44@adventure-works.com",
                  "5": "Road-650 Red, 60",
                  "6": "1",
                  "7": "782.99",
                  "8": "62.6392"
                },
                {
                  "0": "SO49438",
                  "1": "1",
                  "2": "2021-01-28",
                  "3": "Kristine Dominguez",
                  "4": "kristine13@adventure-works.com",
                  "5": "Mountain-200 Silver, 46",
                  "6": "1",
                  "7": "2071.4197",
                  "8": "165.7136"
                },
                {
                  "0": "SO49439",
                  "1": "1",
                  "2": "2021-01-28",
                  "3": "Stacey Li",
                  "4": "stacey3@adventure-works.com",
                  "5": "Mountain-200 Silver, 46",
                  "6": "1",
                  "7": "2071.4197",
                  "8": "165.7136"
                },
                {
                  "0": "SO49440",
                  "1": "1",
                  "2": "2021-01-28",
                  "3": "Franklin Lal",
                  "4": "franklin26@adventure-works.com",
                  "5": "Mountain-200 Black, 42",
                  "6": "1",
                  "7": "2049.0981",
                  "8": "163.9279"
                },
                {
                  "0": "SO49441",
                  "1": "1",
                  "2": "2021-01-28",
                  "3": "Carol Long",
                  "4": "carol6@adventure-works.com",
                  "5": "Mountain-200 Black, 38",
                  "6": "1",
                  "7": "2049.0981",
                  "8": "163.9279"
                },
                {
                  "0": "SO49553",
                  "1": "1",
                  "2": "2021-01-29",
                  "3": "April Beck",
                  "4": "april16@adventure-works.com",
                  "5": "Mountain-200 Silver, 42",
                  "6": "1",
                  "7": "2071.4197",
                  "8": "165.7136"
                },
                {
                  "0": "SO49552",
                  "1": "1",
                  "2": "2021-01-29",
                  "3": "Colleen Anand",
                  "4": "colleen45@adventure-works.com",
                  "5": "Mountain-200 Black, 38",
                  "6": "1",
                  "7": "2049.0981",
                  "8": "163.9279"
                },
                {
                  "0": "SO49551",
                  "1": "1",
                  "2": "2021-01-29",
                  "3": "Chad Luo",
                  "4": "chad7@adventure-works.com",
                  "5": "Road-650 Black, 58",
                  "6": "1",
                  "7": "782.99",
                  "8": "62.6392"
                },
                {
                  "0": "SO49550",
                  "1": "1",
                  "2": "2021-01-29",
                  "3": "Marshall Luo",
                  "4": "marshall27@adventure-works.com",
                  "5": "Road-650 Red, 48",
                  "6": "1",
                  "7": "782.99",
                  "8": "62.6392"
                },
                {
                  "0": "SO49549",
                  "1": "1",
                  "2": "2021-01-29",
                  "3": "Alicia Sharma",
                  "4": "alicia7@adventure-works.com",
                  "5": "Road-550-W Yellow, 38",
                  "6": "1",
                  "7": "1000.4375",
                  "8": "80.035"
                },
                {
                  "0": "SO49554",
                  "1": "1",
                  "2": "2021-01-29",
                  "3": "Garrett Rogers",
                  "4": "garrett24@adventure-works.com",
                  "5": "Road-650 Black, 62",
                  "6": "1",
                  "7": "782.99",
                  "8": "62.6392"
                },
                {
                  "0": "SO49555",
                  "1": "1",
                  "2": "2021-01-29",
                  "3": "Jenny Ye",
                  "4": "jenny12@adventure-works.com",
                  "5": "Road-550-W Yellow, 44",
                  "6": "1",
                  "7": "1000.4375",
                  "8": "80.035"
                },
                {
                  "0": "SO49556",
                  "1": "1",
                  "2": "2021-01-29",
                  "3": "Henry Perez",
                  "4": "henry22@adventure-works.com",
                  "5": "Road-650 Black, 44",
                  "6": "1",
                  "7": "782.99",
                  "8": "62.6392"
                },
                {
                  "0": "SO49557",
                  "1": "1",
                  "2": "2021-01-29",
                  "3": "Summer Patel",
                  "4": "summer3@adventure-works.com",
                  "5": "Road-650 Black, 60",
                  "6": "1",
                  "7": "782.99",
                  "8": "62.6392"
                },
                {
                  "0": "SO49568",
                  "1": "1",
                  "2": "2021-01-30",
                  "3": "Warren Kumar",
                  "4": "warren16@adventure-works.com",
                  "5": "Road-250 Black, 48",
                  "6": "1",
                  "7": "2181.5625",
                  "8": "174.525"
                },
                {
                  "0": "SO49566",
                  "1": "1",
                  "2": "2021-01-30",
                  "3": "Kyle Mitchell",
                  "4": "kyle40@adventure-works.com",
                  "5": "Road-650 Black, 58",
                  "6": "1",
                  "7": "782.99",
                  "8": "62.6392"
                },
                {
                  "0": "SO49558",
                  "1": "1",
                  "2": "2021-01-30",
                  "3": "Christy Beck",
                  "4": "christy38@adventure-works.com",
                  "5": "Road-650 Black, 58",
                  "6": "1",
                  "7": "782.99",
                  "8": "62.6392"
                },
                {
                  "0": "SO49565",
                  "1": "1",
                  "2": "2021-01-30",
                  "3": "Deb Foster",
                  "4": "deb9@adventure-works.com",
                  "5": "Mountain-200 Silver, 46",
                  "6": "1",
                  "7": "2071.4197",
                  "8": "165.7136"
                },
                {
                  "0": "SO49567",
                  "1": "1",
                  "2": "2021-01-30",
                  "3": "Derrick Ruiz",
                  "4": "derrick2@adventure-works.com",
                  "5": "Mountain-200 Silver, 46",
                  "6": "1",
                  "7": "2071.4197",
                  "8": "165.7136"
                },
                {
                  "0": "SO49562",
                  "1": "1",
                  "2": "2021-01-30",
                  "3": "Gina Romero",
                  "4": "gina9@adventure-works.com",
                  "5": "Mountain-200 Silver, 42",
                  "6": "1",
                  "7": "2071.4197",
                  "8": "165.7136"
                },
                {
                  "0": "SO49560",
                  "1": "1",
                  "2": "2021-01-30",
                  "3": "Spencer Diaz",
                  "4": "spencer24@adventure-works.com",
                  "5": "Road-250 Black, 48",
                  "6": "1",
                  "7": "2181.5625",
                  "8": "174.525"
                },
                {
                  "0": "SO49561",
                  "1": "1",
                  "2": "2021-01-30",
                  "3": "Veronica Chandra",
                  "4": "veronica2@adventure-works.com",
                  "5": "Mountain-200 Black, 38",
                  "6": "1",
                  "7": "2049.0981",
                  "8": "163.9279"
                },
                {
                  "0": "SO49564",
                  "1": "1",
                  "2": "2021-01-30",
                  "3": "Xavier Mitchell",
                  "4": "xavier34@adventure-works.com",
                  "5": "Road-550-W Yellow, 44",
                  "6": "1",
                  "7": "1000.4375",
                  "8": "80.035"
                },
                {
                  "0": "SO49559",
                  "1": "1",
                  "2": "2021-01-30",
                  "3": "Savannah Mitchell",
                  "4": "savannah33@adventure-works.com",
                  "5": "Road-250 Red, 48",
                  "6": "1",
                  "7": "2443.35",
                  "8": "195.468"
                },
                {
                  "0": "SO49563",
                  "1": "1",
                  "2": "2021-01-30",
                  "3": "Justin Clark",
                  "4": "justin47@adventure-works.com",
                  "5": "Mountain-200 Silver, 42",
                  "6": "1",
                  "7": "2071.4197",
                  "8": "165.7136"
                },
                {
                  "0": "SO49570",
                  "1": "1",
                  "2": "2021-01-31",
                  "3": "Leonard Anand",
                  "4": "leonard24@adventure-works.com",
                  "5": "Mountain-200 Black, 38",
                  "6": "1",
                  "7": "2049.0981",
                  "8": "163.9279"
                },
                {
                  "0": "SO49571",
                  "1": "1",
                  "2": "2021-01-31",
                  "3": "Kristi Rodriguez",
                  "4": "kristi37@adventure-works.com",
                  "5": "Mountain-200 Black, 38",
                  "6": "1",
                  "7": "2049.0981",
                  "8": "163.9279"
                },
                {
                  "0": "SO49569",
                  "1": "1",
                  "2": "2021-01-31",
                  "3": "Kathryn Xie",
                  "4": "kathryn3@adventure-works.com",
                  "5": "Road-250 Red, 58",
                  "6": "1",
                  "7": "2181.5625",
                  "8": "174.525"
                },
                {
                  "0": "SO49573",
                  "1": "1",
                  "2": "2021-01-31",
                  "3": "Alison Anand",
                  "4": "alison23@adventure-works.com",
                  "5": "Road-250 Red, 58",
                  "6": "1",
                  "7": "2181.5625",
                  "8": "174.525"
                },
                {
                  "0": "SO49572",
                  "1": "1",
                  "2": "2021-01-31",
                  "3": "Alexa Stewart",
                  "4": "alexa21@adventure-works.com",
                  "5": "Mountain-200 Silver, 38",
                  "6": "1",
                  "7": "2071.4197",
                  "8": "165.7136"
                },
                {
                  "0": "SO49574",
                  "1": "1",
                  "2": "2021-01-31",
                  "3": "Alvin Li",
                  "4": "alvin4@adventure-works.com",
                  "5": "Road-650 Red, 58",
                  "6": "1",
                  "7": "782.99",
                  "8": "62.6392"
                },
                {
                  "0": "SO49575",
                  "1": "1",
                  "2": "2021-02-01",
                  "3": "Ricardo Raje",
                  "4": "ricardo14@adventure-works.com",
                  "5": "Road-250 Red, 52",
                  "6": "1",
                  "7": "2443.35",
                  "8": "195.468"
                },
                {
                  "0": "SO49576",
                  "1": "1",
                  "2": "2021-02-01",
                  "3": "Kristopher Sai",
                  "4": "kristopher6@adventure-works.com",
                  "5": "Road-250 Black, 58",
                  "6": "1",
                  "7": "2181.5625",
                  "8": "174.525"
                },
                {
                  "0": "SO49577",
                  "1": "1",
                  "2": "2021-02-01",
                  "3": "Rachel Rodriguez",
                  "4": "rachel23@adventure-works.com",
                  "5": "Road-250 Black, 52",
                  "6": "1",
                  "7": "2181.5625",
                  "8": "174.525"
                },
                {
                  "0": "SO49578",
                  "1": "1",
                  "2": "2021-02-01",
                  "3": "Joanna Ramos",
                  "4": "joanna16@adventure-works.com",
                  "5": "Road-550-W Yellow, 48",
                  "6": "1",
                  "7": "1000.4375",
                  "8": "80.035"
                },
                {
                  "0": "SO49579",
                  "1": "1",
                  "2": "2021-02-01",
                  "3": "Sydney Thomas",
                  "4": "sydney74@adventure-works.com",
                  "5": "Mountain-200 Black, 38",
                  "6": "1",
                  "7": "2049.0981",
                  "8": "163.9279"
                },
                {
                  "0": "SO49580",
                  "1": "1",
                  "2": "2021-02-01",
                  "3": "Alisha Chen",
                  "4": "alisha2@adventure-works.com",
                  "5": "Mountain-200 Black, 38",
                  "6": "1",
                  "7": "2049.0981",
                  "8": "163.9279"
                },
                {
                  "0": "SO49588",
                  "1": "1",
                  "2": "2021-02-02",
                  "3": "Heidi Mehta",
                  "4": "heidi16@adventure-works.com",
                  "5": "Mountain-200 Silver, 42",
                  "6": "1",
                  "7": "2071.4197",
                  "8": "165.7136"
                },
                {
                  "0": "SO49589",
                  "1": "1",
                  "2": "2021-02-02",
                  "3": "Nina Lal",
                  "4": "nina9@adventure-works.com",
                  "5": "Mountain-200 Black, 46",
                  "6": "1",
                  "7": "2049.0981",
                  "8": "163.9279"
                },
                {
                  "0": "SO49587",
                  "1": "1",
                  "2": "2021-02-02",
                  "3": "Ruben Vazquez",
                  "4": "ruben38@adventure-works.com",
                  "5": "Mountain-200 Silver, 46",
                  "6": "1",
                  "7": "2071.4197",
                  "8": "165.7136"
                },
                {
                  "0": "SO49584",
                  "1": "1",
                  "2": "2021-02-02",
                  "3": "Robyn Ruiz",
                  "4": "robyn1@adventure-works.com",
                  "5": "Road-250 Red, 44",
                  "6": "1",
                  "7": "2443.35",
                  "8": "195.468"
                },
                {
                  "0": "SO49585",
                  "1": "1",
                  "2": "2021-02-02",
                  "3": "Rachel Reed",
                  "4": "rachel31@adventure-works.com",
                  "5": "Mountain-200 Black, 46",
                  "6": "1",
                  "7": "2049.0981",
                  "8": "163.9279"
                },
                {
                  "0": "SO49586",
                  "1": "1",
                  "2": "2021-02-02",
                  "3": "Kathleen Vazquez",
                  "4": "kathleen16@adventure-works.com",
                  "5": "Mountain-200 Silver, 38",
                  "6": "1",
                  "7": "2071.4197",
                  "8": "165.7136"
                },
                {
                  "0": "SO49590",
                  "1": "1",
                  "2": "2021-02-02",
                  "3": "Alexis Patterson",
                  "4": "alexis33@adventure-works.com",
                  "5": "Mountain-200 Black, 42",
                  "6": "1",
                  "7": "2049.0981",
                  "8": "163.9279"
                },
                {
                  "0": "SO49581",
                  "1": "1",
                  "2": "2021-02-02",
                  "3": "Heidi Kapoor",
                  "4": "heidi3@adventure-works.com",
                  "5": "Road-250 Red, 48",
                  "6": "1",
                  "7": "2443.35",
                  "8": "195.468"
                },
                {
                  "0": "SO49582",
                  "1": "1",
                  "2": "2021-02-02",
                  "3": "Glenn Wang",
                  "4": "glenn2@adventure-works.com",
                  "5": "Road-250 Black, 52",
                  "6": "1",
                  "7": "2181.5625",
                  "8": "174.525"
                },
                {
                  "0": "SO49583",
                  "1": "1",
                  "2": "2021-02-02",
                  "3": "Warren Raje",
                  "4": "warren3@adventure-works.com",
                  "5": "Road-250 Black, 52",
                  "6": "1",
                  "7": "2181.5625",
                  "8": "174.525"
                },
                {
                  "0": "SO49592",
                  "1": "1",
                  "2": "2021-02-02",
                  "3": "Hailey Morris",
                  "4": "hailey1@adventure-works.com",
                  "5": "Road-650 Red, 44",
                  "6": "1",
                  "7": "782.99",
                  "8": "62.6392"
                },
                {
                  "0": "SO49593",
                  "1": "1",
                  "2": "2021-02-02",
                  "3": "Angel Young",
                  "4": "angel40@adventure-works.com",
                  "5": "Road-650 Red, 44",
                  "6": "1",
                  "7": "782.99",
                  "8": "62.6392"
                },
                {
                  "0": "SO49597",
                  "1": "1",
                  "2": "2021-02-02",
                  "3": "Arthur Raman",
                  "4": "arthur14@adventure-works.com",
                  "5": "Road-250 Red, 44",
                  "6": "1",
                  "7": "2443.35",
                  "8": "195.468"
                },
                {
                  "0": "SO49594",
                  "1": "1",
                  "2": "2021-02-02",
                  "3": "Julio Jimenez",
                  "4": "julio5@adventure-works.com",
                  "5": "Road-250 Black, 58",
                  "6": "1",
                  "7": "2181.5625",
                  "8": "174.525"
                },
                {
                  "0": "SO49596",
                  "1": "1",
                  "2": "2021-02-02",
                  "3": "Devin Campbell",
                  "4": "devin39@adventure-works.com",
                  "5": "Road-250 Black, 58",
                  "6": "1",
                  "7": "2181.5625",
                  "8": "174.525"
                },
                {
                  "0": "SO49595",
                  "1": "1",
                  "2": "2021-02-02",
                  "3": "Mason Ramirez",
                  "4": "mason8@adventure-works.com",
                  "5": "Road-550-W Yellow, 40",
                  "6": "1",
                  "7": "1000.4375",
                  "8": "80.035"
                },
                {
                  "0": "SO49591",
                  "1": "1",
                  "2": "2021-02-02",
                  "3": "Marissa Ross",
                  "4": "marissa2@adventure-works.com",
                  "5": "Mountain-200 Silver, 38",
                  "6": "1",
                  "7": "2071.4197",
                  "8": "165.7136"
                },
                {
                  "0": "SO49603",
                  "1": "1",
                  "2": "2021-02-03",
                  "3": "Grace Murphy",
                  "4": "grace31@adventure-works.com",
                  "5": "Road-250 Red, 44",
                  "6": "1",
                  "7": "2443.35",
                  "8": "195.468"
                },
                {
                  "0": "SO49598",
                  "1": "1",
                  "2": "2021-02-03",
                  "3": "Brandy Rana",
                  "4": "brandy7@adventure-works.com",
                  "5": "Road-250 Black, 48",
                  "6": "1",
                  "7": "2181.5625",
                  "8": "174.525"
                },
                {
                  "0": "SO49602",
                  "1": "1",
                  "2": "2021-02-03",
                  "3": "Alexander Robinson",
                  "4": "alexander22@adventure-works.com",
                  "5": "Road-650 Red, 52",
                  "6": "1",
                  "7": "782.99",
                  "8": "62.6392"
                },
                {
                  "0": "SO49599",
                  "1": "1",
                  "2": "2021-02-03",
                  "3": "Donald Patel",
                  "4": "donald5@adventure-works.com",
                  "5": "Road-250 Red, 44",
                  "6": "1",
                  "7": "2443.35",
                  "8": "195.468"
                },
                {
                  "0": "SO49600",
                  "1": "1",
                  "2": "2021-02-03",
                  "3": "Alexa Cooper",
                  "4": "alexa16@adventure-works.com",
                  "5": "Road-550-W Yellow, 38",
                  "6": "1",
                  "7": "1000.4375",
                  "8": "80.035"
                },
                {
                  "0": "SO49601",
                  "1": "1",
                  "2": "2021-02-03",
                  "3": "Darren Blanco",
                  "4": "darren38@adventure-works.com",
                  "5": "Road-550-W Yellow, 48",
                  "6": "1",
                  "7": "1000.4375",
                  "8": "80.035"
                },
                {
                  "0": "SO49609",
                  "1": "1",
                  "2": "2021-02-04",
                  "3": "Courtney Green",
                  "4": "courtney11@adventure-works.com",
                  "5": "Road-550-W Yellow, 44",
                  "6": "1",
                  "7": "1000.4375",
                  "8": "80.035"
                },
                {
                  "0": "SO49608",
                  "1": "1",
                  "2": "2021-02-04",
                  "3": "Jon He",
                  "4": "jon39@adventure-works.com",
                  "5": "Mountain-200 Silver, 46",
                  "6": "1",
                  "7": "2071.4197",
                  "8": "165.7136"
                },
                {
                  "0": "SO49607",
                  "1": "1",
                  "2": "2021-02-04",
                  "3": "Logan Carter",
                  "4": "logan36@adventure-works.com",
                  "5": "Mountain-200 Silver, 38",
                  "6": "1",
                  "7": "2071.4197",
                  "8": "165.7136"
                },
                {
                  "0": "SO49611",
                  "1": "1",
                  "2": "2021-02-04",
                  "3": "Zoe Bailey",
                  "4": "zoe14@adventure-works.com",
                  "5": "Road-650 Black, 52",
                  "6": "1",
                  "7": "782.99",
                  "8": "62.6392"
                },
                {
                  "0": "SO49604",
                  "1": "1",
                  "2": "2021-02-04",
                  "3": "Ricky Navarro",
                  "4": "ricky10@adventure-works.com",
                  "5": "Road-250 Red, 52",
                  "6": "1",
                  "7": "2443.35",
                  "8": "195.468"
                },
                {
                  "0": "SO49606",
                  "1": "1",
                  "2": "2021-02-04",
                  "3": "Jacqueline Kelly",
                  "4": "jacqueline26@adventure-works.com",
                  "5": "Road-650 Black, 62",
                  "6": "1",
                  "7": "782.99",
                  "8": "62.6392"
                },
                {
                  "0": "SO49612",
                  "1": "1",
                  "2": "2021-02-04",
                  "3": "Jill Ramos",
                  "4": "jill25@adventure-works.com",
                  "5": "Road-650 Black, 44",
                  "6": "1",
                  "7": "782.99",
                  "8": "62.6392"
                },
                {
                  "0": "SO49605",
                  "1": "1",
                  "2": "2021-02-04",
                  "3": "Michele Arun",
                  "4": "michele62@adventure-works.com",
                  "5": "Road-550-W Yellow, 38",
                  "6": "1",
                  "7": "1000.4375",
                  "8": "80.035"
                },
                {
                  "0": "SO49610",
                  "1": "1",
                  "2": "2021-02-04",
                  "3": "Sean Perez",
                  "4": "sean35@adventure-works.com",
                  "5": "Mountain-200 Black, 38",
                  "6": "1",
                  "7": "2049.0981",
                  "8": "163.9279"
                },
                {
                  "0": "SO49615",
                  "1": "1",
                  "2": "2021-02-05",
                  "3": "Omar Ye",
                  "4": "omar9@adventure-works.com",
                  "5": "Road-650 Red, 44",
                  "6": "1",
                  "7": "782.99",
                  "8": "62.6392"
                },
                {
                  "0": "SO49614",
                  "1": "1",
                  "2": "2021-02-05",
                  "3": "Arthur Jim�nez",
                  "4": "arthur29@adventure-works.com",
                  "5": "Road-650 Black, 52",
                  "6": "1",
                  "7": "782.99",
                  "8": "62.6392"
                },
                {
                  "0": "SO49613",
                  "1": "1",
                  "2": "2021-02-05",
                  "3": "Danny Gutierrez",
                  "4": "danny12@adventure-works.com",
                  "5": "Road-250 Black, 48",
                  "6": "1",
                  "7": "2181.5625",
                  "8": "174.525"
                },
                {
                  "0": "SO49616",
                  "1": "1",
                  "2": "2021-02-05",
                  "3": "Priscilla Tang",
                  "4": "priscilla3@adventure-works.com",
                  "5": "Mountain-200 Silver, 38",
                  "6": "1",
                  "7": "2071.4197",
                  "8": "165.7136"
                },
                {
                  "0": "SO49618",
                  "1": "1",
                  "2": "2021-02-05",
                  "3": "Byron Ramos",
                  "4": "byron11@adventure-works.com",
                  "5": "Mountain-200 Silver, 38",
                  "6": "1",
                  "7": "2071.4197",
                  "8": "165.7136"
                },
                {
                  "0": "SO49619",
                  "1": "1",
                  "2": "2021-02-05",
                  "3": "Jessie Alvarez",
                  "4": "jessie2@adventure-works.com",
                  "5": "Mountain-200 Black, 46",
                  "6": "1",
                  "7": "2049.0981",
                  "8": "163.9279"
                },
                {
                  "0": "SO49621",
                  "1": "1",
                  "2": "2021-02-05",
                  "3": "Alex Scott",
                  "4": "alex44@adventure-works.com",
                  "5": "Mountain-200 Silver, 38",
                  "6": "1",
                  "7": "2071.4197",
                  "8": "165.7136"
                },
                {
                  "0": "SO49620",
                  "1": "1",
                  "2": "2021-02-05",
                  "3": "Joe Perez",
                  "4": "joe23@adventure-works.com",
                  "5": "Mountain-200 Silver, 46",
                  "6": "1",
                  "7": "2071.4197",
                  "8": "165.7136"
                },
                {
                  "0": "SO49622",
                  "1": "1",
                  "2": "2021-02-05",
                  "3": "Joe Martin",
                  "4": "joe24@adventure-works.com",
                  "5": "Mountain-200 Silver, 38",
                  "6": "1",
                  "7": "2071.4197",
                  "8": "165.7136"
                },
                {
                  "0": "SO49626",
                  "1": "1",
                  "2": "2021-02-05",
                  "3": "Arturo Raji",
                  "4": "arturo45@adventure-works.com",
                  "5": "Road-250 Black, 52",
                  "6": "1",
                  "7": "2181.5625",
                  "8": "174.525"
                },
                {
                  "0": "SO49624",
                  "1": "1",
                  "2": "2021-02-05",
                  "3": "Suzanne Cai",
                  "4": "suzanne22@adventure-works.com",
                  "5": "Road-550-W Yellow, 38",
                  "6": "1",
                  "7": "1000.4375",
                  "8": "80.035"
                },
                {
                  "0": "SO49625",
                  "1": "1",
                  "2": "2021-02-05",
                  "3": "Colin Andersen",
                  "4": "colin36@adventure-works.com",
                  "5": "Road-550-W Yellow, 38",
                  "6": "1",
                  "7": "1000.4375",
                  "8": "80.035"
                },
                {
                  "0": "SO49623",
                  "1": "1",
                  "2": "2021-02-05",
                  "3": "Tristan Patterson",
                  "4": "tristan11@adventure-works.com",
                  "5": "Mountain-200 Silver, 46",
                  "6": "1",
                  "7": "2071.4197",
                  "8": "165.7136"
                },
                {
                  "0": "SO49617",
                  "1": "1",
                  "2": "2021-02-05",
                  "3": "Tommy Tang",
                  "4": "tommy2@adventure-works.com",
                  "5": "Mountain-200 Black, 38",
                  "6": "1",
                  "7": "2049.0981",
                  "8": "163.9279"
                },
                {
                  "0": "SO49630",
                  "1": "1",
                  "2": "2021-02-06",
                  "3": "Marvin Alvarez",
                  "4": "marvin5@adventure-works.com",
                  "5": "Road-250 Black, 48",
                  "6": "1",
                  "7": "2181.5625",
                  "8": "174.525"
                },
                {
                  "0": "SO49631",
                  "1": "1",
                  "2": "2021-02-06",
                  "3": "Frank Ruiz",
                  "4": "frank32@adventure-works.com",
                  "5": "Mountain-200 Silver, 42",
                  "6": "1",
                  "7": "2071.4197",
                  "8": "165.7136"
                },
                {
                  "0": "SO49627",
                  "1": "1",
                  "2": "2021-02-06",
                  "3": "Luis Coleman",
                  "4": "luis4@adventure-works.com",
                  "5": "Mountain-200 Black, 38",
                  "6": "1",
                  "7": "2049.0981",
                  "8": "163.9279"
                },
                {
                  "0": "SO49629",
                  "1": "1",
                  "2": "2021-02-06",
                  "3": "Nathaniel Murphy",
                  "4": "nathaniel16@adventure-works.com",
                  "5": "Road-650 Red, 62",
                  "6": "1",
                  "7": "782.99",
                  "8": "62.6392"
                },
                {
                  "0": "SO49628",
                  "1": "1",
                  "2": "2021-02-06",
                  "3": "Randy Zhu",
                  "4": "randy16@adventure-works.com",
                  "5": "Mountain-200 Black, 46",
                  "6": "1",
                  "7": "2049.0981",
                  "8": "163.9279"
                },
                {
                  "0": "SO49632",
                  "1": "1",
                  "2": "2021-02-07",
                  "3": "Preston Lopez",
                  "4": "preston15@adventure-works.com",
                  "5": "Road-650 Black, 60",
                  "6": "1",
                  "7": "782.99",
                  "8": "62.6392"
                },
                {
                  "0": "SO49634",
                  "1": "1",
                  "2": "2021-02-07",
                  "3": "Taylor Barnes",
                  "4": "taylor28@adventure-works.com",
                  "5": "Mountain-200 Black, 42",
                  "6": "1",
                  "7": "2049.0981",
                  "8": "163.9279"
                },
                {
                  "0": "SO49636",
                  "1": "1",
                  "2": "2021-02-07",
                  "3": "Crystal Yang",
                  "4": "crystal7@adventure-works.com",
                  "5": "Road-250 Red, 48",
                  "6": "1",
                  "7": "2443.35",
                  "8": "195.468"
                },
                {
                  "0": "SO49635",
                  "1": "1",
                  "2": "2021-02-07",
                  "3": "Kaitlyn Gonzales",
                  "4": "kaitlyn84@adventure-works.com",
                  "5": "Mountain-200 Silver, 46",
                  "6": "1",
                  "7": "2071.4197",
                  "8": "165.7136"
                },
                {
                  "0": "SO49633",
                  "1": "1",
                  "2": "2021-02-07",
                  "3": "Haley Simmons",
                  "4": "haley34@adventure-works.com",
                  "5": "Road-250 Black, 44",
                  "6": "1",
                  "7": "2181.5625",
                  "8": "174.525"
                },
                {
                  "0": "SO49643",
                  "1": "1",
                  "2": "2021-02-08",
                  "3": "Peter Deng",
                  "4": "peter9@adventure-works.com",
                  "5": "Road-250 Black, 48",
                  "6": "1",
                  "7": "2181.5625",
                  "8": "174.525"
                },
                {
                  "0": "SO49641",
                  "1": "1",
                  "2": "2021-02-08",
                  "3": "Melody Suarez",
                  "4": "melody19@adventure-works.com",
                  "5": "Mountain-200 Black, 38",
                  "6": "1",
                  "7": "2049.0981",
                  "8": "163.9279"
                },
                {
                  "0": "SO49642",
                  "1": "1",
                  "2": "2021-02-08",
                  "3": "Jermaine Chandra",
                  "4": "jermaine1@adventure-works.com",
                  "5": "Mountain-200 Silver, 46",
                  "6": "1",
                  "7": "2071.4197",
                  "8": "165.7136"
                },
                {
                  "0": "SO49640",
                  "1": "1",
                  "2": "2021-02-08",
                  "3": "Levi Suri",
                  "4": "levi0@adventure-works.com",
                  "5": "Mountain-200 Black, 46",
                  "6": "1",
                  "7": "2049.0981",
                  "8": "163.9279"
                },
                {
                  "0": "SO49638",
                  "1": "1",
                  "2": "2021-02-08",
                  "3": "Misty Luo",
                  "4": "misty7@adventure-works.com",
                  "5": "Road-550-W Yellow, 42",
                  "6": "1",
                  "7": "1000.4375",
                  "8": "80.035"
                },
                {
                  "0": "SO49639",
                  "1": "1",
                  "2": "2021-02-08",
                  "3": "Allen Martinez",
                  "4": "allen16@adventure-works.com",
                  "5": "Road-650 Red, 48",
                  "6": "1",
                  "7": "782.99",
                  "8": "62.6392"
                },
                {
                  "0": "SO49637",
                  "1": "1",
                  "2": "2021-02-08",
                  "3": "Joe Romero",
                  "4": "joe32@adventure-works.com",
                  "5": "Road-250 Black, 52",
                  "6": "1",
                  "7": "2181.5625",
                  "8": "174.525"
                },
                {
                  "0": "SO49644",
                  "1": "1",
                  "2": "2021-02-08",
                  "3": "Cristina Shen",
                  "4": "cristina2@adventure-works.com",
                  "5": "Road-650 Red, 44",
                  "6": "1",
                  "7": "782.99",
                  "8": "62.6392"
                },
                {
                  "0": "SO49647",
                  "1": "1",
                  "2": "2021-02-09",
                  "3": "Randall Romero",
                  "4": "randall10@adventure-works.com",
                  "5": "Road-250 Red, 44",
                  "6": "1",
                  "7": "2443.35",
                  "8": "195.468"
                },
                {
                  "0": "SO49646",
                  "1": "1",
                  "2": "2021-02-09",
                  "3": "Chase Gray",
                  "4": "chase6@adventure-works.com",
                  "5": "Road-250 Black, 58",
                  "6": "1",
                  "7": "2181.5625",
                  "8": "174.525"
                },
                {
                  "0": "SO49657",
                  "1": "1",
                  "2": "2021-02-09",
                  "3": "Kaitlin Martinez",
                  "4": "kaitlin16@adventure-works.com",
                  "5": "Road-650 Black, 48",
                  "6": "1",
                  "7": "782.99",
                  "8": "62.6392"
                },
                {
                  "0": "SO49658",
                  "1": "1",
                  "2": "2021-02-09",
                  "3": "Xavier Young",
                  "4": "xavier23@adventure-works.com",
                  "5": "Road-650 Black, 62",
                  "6": "1",
                  "7": "782.99",
                  "8": "62.6392"
                },
                {
                  "0": "SO49645",
                  "1": "1",
                  "2": "2021-02-09",
                  "3": "Susan Zhou",
                  "4": "susan18@adventure-works.com",
                  "5": "Road-250 Red, 52",
                  "6": "1",
                  "7": "2443.35",
                  "8": "195.468"
                },
                {
                  "0": "SO49648",
                  "1": "1",
                  "2": "2021-02-09",
                  "3": "Jack Perez",
                  "4": "jack38@adventure-works.com",
                  "5": "Road-550-W Yellow, 40",
                  "6": "1",
                  "7": "1000.4375",
                  "8": "80.035"
                },
                {
                  "0": "SO49649",
                  "1": "1",
                  "2": "2021-02-09",
                  "3": "Luke Nelson",
                  "4": "luke41@adventure-works.com",
                  "5": "Road-650 Red, 44",
                  "6": "1",
                  "7": "782.99",
                  "8": "62.6392"
                },
                {
                  "0": "SO49659",
                  "1": "1",
                  "2": "2021-02-09",
                  "3": "Morgan Bailey",
                  "4": "morgan54@adventure-works.com",
                  "5": "Mountain-200 Silver, 38",
                  "6": "1",
                  "7": "2071.4197",
                  "8": "165.7136"
                },
                {
                  "0": "SO49654",
                  "1": "1",
                  "2": "2021-02-09",
                  "3": "Tamara She",
                  "4": "tamara12@adventure-works.com",
                  "5": "Mountain-200 Black, 38",
                  "6": "1",
                  "7": "2049.0981",
                  "8": "163.9279"
                },
                {
                  "0": "SO49651",
                  "1": "1",
                  "2": "2021-02-09",
                  "3": "Leslie Gill",
                  "4": "leslie14@adventure-works.com",
                  "5": "Mountain-200 Silver, 38",
                  "6": "1",
                  "7": "2071.4197",
                  "8": "165.7136"
                },
                {
                  "0": "SO49652",
                  "1": "1",
                  "2": "2021-02-09",
                  "3": "Deanna Weber",
                  "4": "deanna7@adventure-works.com",
                  "5": "Mountain-200 Black, 46",
                  "6": "1",
                  "7": "2049.0981",
                  "8": "163.9279"
                },
                {
                  "0": "SO49653",
                  "1": "1",
                  "2": "2021-02-09",
                  "3": "Warren Liu",
                  "4": "warren21@adventure-works.com",
                  "5": "Mountain-200 Silver, 38",
                  "6": "1",
                  "7": "2071.4197",
                  "8": "165.7136"
                },
                {
                  "0": "SO49650",
                  "1": "1",
                  "2": "2021-02-09",
                  "3": "Leonard Nath",
                  "4": "leonard20@adventure-works.com",
                  "5": "Mountain-200 Black, 42",
                  "6": "1",
                  "7": "2049.0981",
                  "8": "163.9279"
                },
                {
                  "0": "SO49661",
                  "1": "1",
                  "2": "2021-02-09",
                  "3": "Bradley Carson",
                  "4": "bradley18@adventure-works.com",
                  "5": "Road-250 Red, 52",
                  "6": "1",
                  "7": "2443.35",
                  "8": "195.468"
                },
                {
                  "0": "SO49660",
                  "1": "1",
                  "2": "2021-02-09",
                  "3": "Christy Tang",
                  "4": "christy23@adventure-works.com",
                  "5": "Road-250 Red, 58",
                  "6": "1",
                  "7": "2181.5625",
                  "8": "174.525"
                },
                {
                  "0": "SO49663",
                  "1": "1",
                  "2": "2021-02-09",
                  "3": "Alisha Goel",
                  "4": "alisha44@adventure-works.com",
                  "5": "Road-650 Black, 44",
                  "6": "1",
                  "7": "782.99",
                  "8": "62.6392"
                },
                {
                  "0": "SO49662",
                  "1": "1",
                  "2": "2021-02-09",
                  "3": "Grant Shen",
                  "4": "grant4@adventure-works.com",
                  "5": "Road-650 Red, 52",
                  "6": "1",
                  "7": "782.99",
                  "8": "62.6392"
                },
                {
                  "0": "SO49656",
                  "1": "1",
                  "2": "2021-02-09",
                  "3": "Kevin Perry",
                  "4": "kevin10@adventure-works.com",
                  "5": "Mountain-200 Black, 46",
                  "6": "1",
                  "7": "2049.0981",
                  "8": "163.9279"
                },
                {
                  "0": "SO49655",
                  "1": "1",
                  "2": "2021-02-09",
                  "3": "Natalie Lewis",
                  "4": "natalie88@adventure-works.com",
                  "5": "Mountain-200 Silver, 46",
                  "6": "1",
                  "7": "2071.4197",
                  "8": "165.7136"
                },
                {
                  "0": "SO49670",
                  "1": "1",
                  "2": "2021-02-10",
                  "3": "Richard Lee",
                  "4": "richard16@adventure-works.com",
                  "5": "Road-250 Black, 52",
                  "6": "1",
                  "7": "2181.5625",
                  "8": "174.525"
                },
                {
                  "0": "SO49667",
                  "1": "1",
                  "2": "2021-02-10",
                  "3": "Willie Rai",
                  "4": "willie37@adventure-works.com",
                  "5": "Mountain-200 Silver, 42",
                  "6": "1",
                  "7": "2071.4197",
                  "8": "165.7136"
                },
                {
                  "0": "SO49668",
                  "1": "1",
                  "2": "2021-02-10",
                  "3": "Meredith Subram",
                  "4": "meredith12@adventure-works.com",
                  "5": "Mountain-200 Black, 46",
                  "6": "1",
                  "7": "2049.0981",
                  "8": "163.9279"
                },
                {
                  "0": "SO49666",
                  "1": "1",
                  "2": "2021-02-10",
                  "3": "Derek Xie",
                  "4": "derek3@adventure-works.com",
                  "5": "Mountain-200 Black, 46",
                  "6": "1",
                  "7": "2049.0981",
                  "8": "163.9279"
                },
                {
                  "0": "SO49664",
                  "1": "1",
                  "2": "2021-02-10",
                  "3": "Renee Gutierrez",
                  "4": "renee10@adventure-works.com",
                  "5": "Road-250 Red, 44",
                  "6": "1",
                  "7": "2443.35",
                  "8": "195.468"
                },
                {
                  "0": "SO49669",
                  "1": "1",
                  "2": "2021-02-10",
                  "3": "Nathan Campbell",
                  "4": "nathan36@adventure-works.com",
                  "5": "Mountain-200 Silver, 38",
                  "6": "1",
                  "7": "2071.4197",
                  "8": "165.7136"
                },
                {
                  "0": "SO49665",
                  "1": "1",
                  "2": "2021-02-10",
                  "3": "J�sus Navarro",
                  "4": "j�sus9@adventure-works.com",
                  "5": "Mountain-200 Black, 42",
                  "6": "1",
                  "7": "2049.0981",
                  "8": "163.9279"
                },
                {
                  "0": "SO49671",
                  "1": "1",
                  "2": "2021-02-11",
                  "3": "Dennis Zhou",
                  "4": "dennis10@adventure-works.com",
                  "5": "Road-250 Black, 44",
                  "6": "1",
                  "7": "2181.5625",
                  "8": "174.525"
                },
                {
                  "0": "SO49672",
                  "1": "1",
                  "2": "2021-02-11",
                  "3": "Ebony Sai",
                  "4": "ebony5@adventure-works.com",
                  "5": "Road-250 Black, 58",
                  "6": "1",
                  "7": "2181.5625",
                  "8": "174.525"
                },
                {
                  "0": "SO49673",
                  "1": "1",
                  "2": "2021-02-11",
                  "3": "Aimee Wang",
                  "4": "aimee1@adventure-works.com",
                  "5": "Road-650 Red, 62",
                  "6": "1",
                  "7": "782.99",
                  "8": "62.6392"
                },
                {
                  "0": "SO49674",
                  "1": "1",
                  "2": "2021-02-11",
                  "3": "Nathan Scott",
                  "4": "nathan43@adventure-works.com",
                  "5": "Road-250 Red, 48",
                  "6": "1",
                  "7": "2443.35",
                  "8": "195.468"
                },
                {
                  "0": "SO49677",
                  "1": "1",
                  "2": "2021-02-11",
                  "3": "Louis Gao",
                  "4": "louis9@adventure-works.com",
                  "5": "Mountain-200 Black, 38",
                  "6": "1",
                  "7": "2049.0981",
                  "8": "163.9279"
                },
                {
                  "0": "SO49676",
                  "1": "1",
                  "2": "2021-02-11",
                  "3": "Joy Gomez",
                  "4": "joy2@adventure-works.com",
                  "5": "Mountain-200 Silver, 46",
                  "6": "1",
                  "7": "2071.4197",
                  "8": "165.7136"
                },
                {
                  "0": "SO49675",
                  "1": "1",
                  "2": "2021-02-11",
                  "3": "Lisa Cai",
                  "4": "lisa24@adventure-works.com",
                  "5": "Mountain-200 Black, 42",
                  "6": "1",
                  "7": "2049.0981",
                  "8": "163.9279"
                },
                {
                  "0": "SO49678",
                  "1": "1",
                  "2": "2021-02-11",
                  "3": "Jason Ross",
                  "4": "jason2@adventure-works.com",
                  "5": "Mountain-200 Black, 38",
                  "6": "1",
                  "7": "2049.0981",
                  "8": "163.9279"
                },
                {
                  "0": "SO49679",
                  "1": "1",
                  "2": "2021-02-11",
                  "3": "Katherine Butler",
                  "4": "katherine40@adventure-works.com",
                  "5": "Road-650 Red, 48",
                  "6": "1",
                  "7": "782.99",
                  "8": "62.6392"
                },
                {
                  "0": "SO49681",
                  "1": "1",
                  "2": "2021-02-12",
                  "3": "Jennifer Carter",
                  "4": "jennifer12@adventure-works.com",
                  "5": "Road-250 Black, 58",
                  "6": "1",
                  "7": "2181.5625",
                  "8": "174.525"
                },
                {
                  "0": "SO49682",
                  "1": "1",
                  "2": "2021-02-12",
                  "3": "Morgan Long",
                  "4": "morgan79@adventure-works.com",
                  "5": "Mountain-200 Silver, 46",
                  "6": "1",
                  "7": "2071.4197",
                  "8": "165.7136"
                },
                {
                  "0": "SO49680",
                  "1": "1",
                  "2": "2021-02-12",
                  "3": "Jeffery Li",
                  "4": "jeffery3@adventure-works.com",
                  "5": "Road-250 Red, 52",
                  "6": "1",
                  "7": "2443.35",
                  "8": "195.468"
                },
                {
                  "0": "SO49684",
                  "1": "1",
                  "2": "2021-02-12",
                  "3": "Randy Yang",
                  "4": "randy6@adventure-works.com",
                  "5": "Road-250 Red, 52",
                  "6": "1",
                  "7": "2443.35",
                  "8": "195.468"
                },
                {
                  "0": "SO49683",
                  "1": "1",
                  "2": "2021-02-12",
                  "3": "Rachel Thompson",
                  "4": "rachel18@adventure-works.com",
                  "5": "Mountain-200 Silver, 46",
                  "6": "1",
                  "7": "2071.4197",
                  "8": "165.7136"
                },
                {
                  "0": "SO49690",
                  "1": "1",
                  "2": "2021-02-13",
                  "3": "Monique Munoz",
                  "4": "monique3@adventure-works.com",
                  "5": "Road-250 Black, 48",
                  "6": "1",
                  "7": "2181.5625",
                  "8": "174.525"
                },
                {
                  "0": "SO49691",
                  "1": "1",
                  "2": "2021-02-13",
                  "3": "Cynthia Sanchez",
                  "4": "cynthia26@adventure-works.com",
                  "5": "Road-250 Black, 44",
                  "6": "1",
                  "7": "2181.5625",
                  "8": "174.525"
                },
                {
                  "0": "SO49685",
                  "1": "1",
                  "2": "2021-02-13",
                  "3": "Ebony Srini",
                  "4": "ebony8@adventure-works.com",
                  "5": "Road-250 Black, 44",
                  "6": "1",
                  "7": "2181.5625",
                  "8": "174.525"
                },
                {
                  "0": "SO49687",
                  "1": "1",
                  "2": "2021-02-13",
                  "3": "Melanie Sanders",
                  "4": "melanie14@adventure-works.com",
                  "5": "Road-250 Red, 58",
                  "6": "1",
                  "7": "2181.5625",
                  "8": "174.525"
                },
                {
                  "0": "SO49686",
                  "1": "1",
                  "2": "2021-02-13",
                  "3": "Leonard Xu",
                  "4": "leonard6@adventure-works.com",
                  "5": "Road-250 Black, 52",
                  "6": "1",
                  "7": "2181.5625",
                  "8": "174.525"
                },
                {
                  "0": "SO49689",
                  "1": "1",
                  "2": "2021-02-13",
                  "3": "Paula Ruiz",
                  "4": "paula4@adventure-works.com",
                  "5": "Road-550-W Yellow, 38",
                  "6": "1",
                  "7": "1000.4375",
                  "8": "80.035"
                },
                {
                  "0": "SO49688",
                  "1": "1",
                  "2": "2021-02-13",
                  "3": "Nichole Andersen",
                  "4": "nichole13@adventure-works.com",
                  "5": "Mountain-200 Black, 46",
                  "6": "1",
                  "7": "2049.0981",
                  "8": "163.9279"
                },
                {
                  "0": "SO49696",
                  "1": "1",
                  "2": "2021-02-14",
                  "3": "Colin Tang",
                  "4": "colin27@adventure-works.com",
                  "5": "Mountain-200 Silver, 46",
                  "6": "1",
                  "7": "2071.4197",
                  "8": "165.7136"
                },
                {
                  "0": "SO49697",
                  "1": "1",
                  "2": "2021-02-14",
                  "3": "Jay Gonzalez",
                  "4": "jay25@adventure-works.com",
                  "5": "Mountain-200 Black, 38",
                  "6": "1",
                  "7": "2049.0981",
                  "8": "163.9279"
                },
                {
                  "0": "SO49695",
                  "1": "1",
                  "2": "2021-02-14",
                  "3": "Heather Wang",
                  "4": "heather1@adventure-works.com",
                  "5": "Mountain-200 Black, 46",
                  "6": "1",
                  "7": "2049.0981",
                  "8": "163.9279"
                },
                {
                  "0": "SO49692",
                  "1": "1",
                  "2": "2021-02-14",
                  "3": "Marie Rodriguez",
                  "4": "marie21@adventure-works.com",
                  "5": "Road-250 Black, 48",
                  "6": "1",
                  "7": "2181.5625",
                  "8": "174.525"
                },
                {
                  "0": "SO49694",
                  "1": "1",
                  "2": "2021-02-14",
                  "3": "Nina Black",
                  "4": "nina20@adventure-works.com",
                  "5": "Road-250 Red, 44",
                  "6": "1",
                  "7": "2443.35",
                  "8": "195.468"
                },
                {
                  "0": "SO49693",
                  "1": "1",
                  "2": "2021-02-14",
                  "3": "Alvin Xu",
                  "4": "alvin12@adventure-works.com",
                  "5": "Road-250 Red, 48",
                  "6": "1",
                  "7": "2443.35",
                  "8": "195.468"
                },
                {
                  "0": "SO49698",
                  "1": "1",
                  "2": "2021-02-14",
                  "3": "Angel Perez",
                  "4": "angel25@adventure-works.com",
                  "5": "Mountain-200 Silver, 42",
                  "6": "1",
                  "7": "2071.4197",
                  "8": "165.7136"
                },
                {
                  "0": "SO49700",
                  "1": "1",
                  "2": "2021-02-14",
                  "3": "Sandra Guo",
                  "4": "sandra25@adventure-works.com",
                  "5": "Road-250 Black, 48",
                  "6": "1",
                  "7": "2181.5625",
                  "8": "174.525"
                },
                {
                  "0": "SO49699",
                  "1": "1",
                  "2": "2021-02-14",
                  "3": "Terrence Rai",
                  "4": "terrence18@adventure-works.com",
                  "5": "Road-550-W Yellow, 38",
                  "6": "1",
                  "7": "1000.4375",
                  "8": "80.035"
                },
                {
                  "0": "SO49714",
                  "1": "1",
                  "2": "2021-02-15",
                  "3": "Neil Dominguez",
                  "4": "neil12@adventure-works.com",
                  "5": "Road-250 Black, 48",
                  "6": "1",
                  "7": "2181.5625",
                  "8": "174.525"
                },
                {
                  "0": "SO49713",
                  "1": "1",
                  "2": "2021-02-15",
                  "3": "Adam Campbell",
                  "4": "adam37@adventure-works.com",
                  "5": "Mountain-200 Silver, 42",
                  "6": "1",
                  "7": "2071.4197",
                  "8": "165.7136"
                },
                {
                  "0": "SO49706",
                  "1": "1",
                  "2": "2021-02-15",
                  "3": "Grant Xie",
                  "4": "grant5@adventure-works.com",
                  "5": "Road-550-W Yellow, 40",
                  "6": "1",
                  "7": "1000.4375",
                  "8": "80.035"
                },
                {
                  "0": "SO49704",
                  "1": "1",
                  "2": "2021-02-15",
                  "3": "Colin Zhou",
                  "4": "colin9@adventure-works.com",
                  "5": "Road-250 Black, 52",
                  "6": "1",
                  "7": "2181.5625",
                  "8": "174.525"
                },
                {
                  "0": "SO49701",
                  "1": "1",
                  "2": "2021-02-15",
                  "3": "Virginia Prasad",
                  "4": "virginia11@adventure-works.com",
                  "5": "Road-250 Red, 44",
                  "6": "1",
                  "7": "2443.35",
                  "8": "195.468"
                },
                {
                  "0": "SO49703",
                  "1": "1",
                  "2": "2021-02-15",
                  "3": "Omar Wang",
                  "4": "omar1@adventure-works.com",
                  "5": "Road-250 Black, 44",
                  "6": "1",
                  "7": "2181.5625",
                  "8": "174.525"
                },
                {
                  "0": "SO49705",
                  "1": "1",
                  "2": "2021-02-15",
                  "3": "Stanley Subram",
                  "4": "stanley14@adventure-works.com",
                  "5": "Road-250 Red, 52",
                  "6": "1",
                  "7": "2443.35",
                  "8": "195.468"
                },
                {
                  "0": "SO49702",
                  "1": "1",
                  "2": "2021-02-15",
                  "3": "Jay Suri",
                  "4": "jay6@adventure-works.com",
                  "5": "Road-250 Black, 48",
                  "6": "1",
                  "7": "2181.5625",
                  "8": "174.525"
                },
                {
                  "0": "SO49708",
                  "1": "1",
                  "2": "2021-02-15",
                  "3": "Willie Zhu",
                  "4": "willie12@adventure-works.com",
                  "5": "Mountain-200 Silver, 38",
                  "6": "1",
                  "7": "2071.4197",
                  "8": "165.7136"
                },
                {
                  "0": "SO49710",
                  "1": "1",
                  "2": "2021-02-15",
                  "3": "Marie Ramos",
                  "4": "marie41@adventure-works.com",
                  "5": "Mountain-200 Black, 46",
                  "6": "1",
                  "7": "2049.0981",
                  "8": "163.9279"
                },
                {
                  "0": "SO49709",
                  "1": "1",
                  "2": "2021-02-15",
                  "3": "Colin He",
                  "4": "colin19@adventure-works.com",
                  "5": "Mountain-200 Silver, 38",
                  "6": "1",
                  "7": "2071.4197",
                  "8": "165.7136"
                },
                {
                  "0": "SO49707",
                  "1": "1",
                  "2": "2021-02-15",
                  "3": "Robert Martin",
                  "4": "robert73@adventure-works.com",
                  "5": "Road-250 Red, 58",
                  "6": "1",
                  "7": "2181.5625",
                  "8": "174.525"
                },
                {
                  "0": "SO49711",
                  "1": "1",
                  "2": "2021-02-15",
                  "3": "Micah Wang",
                  "4": "micah11@adventure-works.com",
                  "5": "Mountain-200 Black, 46",
                  "6": "1",
                  "7": "2049.0981",
                  "8": "163.9279"
                },
                {
                  "0": "SO49712",
                  "1": "1",
                  "2": "2021-02-15",
                  "3": "Spencer Flores",
                  "4": "spencer14@adventure-works.com",
                  "5": "Mountain-200 Black, 42",
                  "6": "1",
                  "7": "2049.0981",
                  "8": "163.9279"
                },
                {
                  "0": "SO49715",
                  "1": "1",
                  "2": "2021-02-15",
                  "3": "Tabitha Prasad",
                  "4": "tabitha7@adventure-works.com",
                  "5": "Road-650 Red, 62",
                  "6": "1",
                  "7": "782.99",
                  "8": "62.6392"
                },
                {
                  "0": "SO49723",
                  "1": "1",
                  "2": "2021-02-16",
                  "3": "Anna Brooks",
                  "4": "anna23@adventure-works.com",
                  "5": "Road-550-W Yellow, 44",
                  "6": "1",
                  "7": "1000.4375",
                  "8": "80.035"
                },
                {
                  "0": "SO49722",
                  "1": "1",
                  "2": "2021-02-16",
                  "3": "Karl Lal",
                  "4": "karl9@adventure-works.com",
                  "5": "Mountain-200 Silver, 38",
                  "6": "1",
                  "7": "2071.4197",
                  "8": "165.7136"
                },
                {
                  "0": "SO49720",
                  "1": "1",
                  "2": "2021-02-16",
                  "3": "Angel Richardson",
                  "4": "angel9@adventure-works.com",
                  "5": "Mountain-200 Black, 38",
                  "6": "1",
                  "7": "2049.0981",
                  "8": "163.9279"
                },
                {
                  "0": "SO49721",
                  "1": "1",
                  "2": "2021-02-16",
                  "3": "Audrey Ruiz",
                  "4": "audrey3@adventure-works.com",
                  "5": "Mountain-200 Silver, 46",
                  "6": "1",
                  "7": "2071.4197",
                  "8": "165.7136"
                },
                {
                  "0": "SO49717",
                  "1": "1",
                  "2": "2021-02-16",
                  "3": "Terrence Anand",
                  "4": "terrence23@adventure-works.com",
                  "5": "Road-250 Red, 44",
                  "6": "1",
                  "7": "2443.35",
                  "8": "195.468"
                },
                {
                  "0": "SO49716",
                  "1": "1",
                  "2": "2021-02-16",
                  "3": "Jerome Serrano",
                  "4": "jerome15@adventure-works.com",
                  "5": "Road-250 Black, 52",
                  "6": "1",
                  "7": "2181.5625",
                  "8": "174.525"
                },
                {
                  "0": "SO49719",
                  "1": "1",
                  "2": "2021-02-16",
                  "3": "Kara Raji",
                  "4": "kara19@adventure-works.com",
                  "5": "Road-650 Red, 44",
                  "6": "1",
                  "7": "782.99",
                  "8": "62.6392"
                },
                {
                  "0": "SO49718",
                  "1": "1",
                  "2": "2021-02-16",
                  "3": "April She",
                  "4": "april0@adventure-works.com",
                  "5": "Road-550-W Yellow, 44",
                  "6": "1",
                  "7": "1000.4375",
                  "8": "80.035"
                },
                {
                  "0": "SO49725",
                  "1": "1",
                  "2": "2021-02-16",
                  "3": "Randy Huang",
                  "4": "randy7@adventure-works.com",
                  "5": "Road-250 Red, 52",
                  "6": "1",
                  "7": "2443.35",
                  "8": "195.468"
                },
                {
                  "0": "SO49726",
                  "1": "1",
                  "2": "2021-02-16",
                  "3": "Jerome Gomez",
                  "4": "jerome1@adventure-works.com",
                  "5": "Road-550-W Yellow, 38",
                  "6": "1",
                  "7": "1000.4375",
                  "8": "80.035"
                },
                {
                  "0": "SO49727",
                  "1": "1",
                  "2": "2021-02-16",
                  "3": "Arianna Ross",
                  "4": "arianna4@adventure-works.com",
                  "5": "Road-650 Red, 62",
                  "6": "1",
                  "7": "782.99",
                  "8": "62.6392"
                },
                {
                  "0": "SO49724",
                  "1": "1",
                  "2": "2021-02-16",
                  "3": "Jennifer Allen",
                  "4": "jennifer26@adventure-works.com",
                  "5": "Mountain-200 Silver, 46",
                  "6": "1",
                  "7": "2071.4197",
                  "8": "165.7136"
                },
                {
                  "0": "SO49737",
                  "1": "1",
                  "2": "2021-02-17",
                  "3": "Micah Gao",
                  "4": "micah2@adventure-works.com",
                  "5": "Road-550-W Yellow, 42",
                  "6": "1",
                  "7": "1000.4375",
                  "8": "80.035"
                },
                {
                  "0": "SO49729",
                  "1": "1",
                  "2": "2021-02-17",
                  "3": "Shawna Raje",
                  "4": "shawna15@adventure-works.com",
                  "5": "Road-550-W Yellow, 44",
                  "6": "1",
                  "7": "1000.4375",
                  "8": "80.035"
                },
                {
                  "0": "SO49730",
                  "1": "1",
                  "2": "2021-02-17",
                  "3": "Ruben Hernandez",
                  "4": "ruben27@adventure-works.com",
                  "5": "Road-650 Black, 44",
                  "6": "1",
                  "7": "782.99",
                  "8": "62.6392"
                },
                {
                  "0": "SO49728",
                  "1": "1",
                  "2": "2021-02-17",
                  "3": "Terry Deng",
                  "4": "terry4@adventure-works.com",
                  "5": "Road-250 Red, 44",
                  "6": "1",
                  "7": "2443.35",
                  "8": "195.468"
                },
                {
                  "0": "SO49736",
                  "1": "1",
                  "2": "2021-02-17",
                  "3": "Hailey Barnes",
                  "4": "hailey24@adventure-works.com",
                  "5": "Road-650 Red, 52",
                  "6": "1",
                  "7": "782.99",
                  "8": "62.6392"
                },
                {
                  "0": "SO49735",
                  "1": "1",
                  "2": "2021-02-17",
                  "3": "Morgan Ward",
                  "4": "morgan60@adventure-works.com",
                  "5": "Road-650 Black, 52",
                  "6": "1",
                  "7": "782.99",
                  "8": "62.6392"
                },
                {
                  "0": "SO49733",
                  "1": "1",
                  "2": "2021-02-17",
                  "3": "Antonio Flores",
                  "4": "antonio12@adventure-works.com",
                  "5": "Mountain-200 Black, 42",
                  "6": "1",
                  "7": "2049.0981",
                  "8": "163.9279"
                },
                {
                  "0": "SO49732",
                  "1": "1",
                  "2": "2021-02-17",
                  "3": "Lydia Fernandez",
                  "4": "lydia14@adventure-works.com",
                  "5": "Mountain-200 Silver, 46",
                  "6": "1",
                  "7": "2071.4197",
                  "8": "165.7136"
                },
                {
                  "0": "SO49734",
                  "1": "1",
                  "2": "2021-02-17",
                  "3": "Lauren Howard",
                  "4": "lauren12@adventure-works.com",
                  "5": "Mountain-200 Black, 46",
                  "6": "1",
                  "7": "2049.0981",
                  "8": "163.9279"
                },
                {
                  "0": "SO49738",
                  "1": "1",
                  "2": "2021-02-17",
                  "3": "Mallory Serrano",
                  "4": "mallory3@adventure-works.com",
                  "5": "Road-650 Black, 48",
                  "6": "1",
                  "7": "782.99",
                  "8": "62.6392"
                },
                {
                  "0": "SO49731",
                  "1": "1",
                  "2": "2021-02-17",
                  "3": "Bradley Chande",
                  "4": "bradley17@adventure-works.com",
                  "5": "Mountain-200 Black, 42",
                  "6": "1",
                  "7": "2049.0981",
                  "8": "163.9279"
                },
                {
                  "0": "SO49741",
                  "1": "1",
                  "2": "2021-02-18",
                  "3": "Cory Mehta",
                  "4": "cory12@adventure-works.com",
                  "5": "Road-550-W Yellow, 48",
                  "6": "1",
                  "7": "1000.4375",
                  "8": "80.035"
                },
                {
                  "0": "SO49740",
                  "1": "1",
                  "2": "2021-02-18",
                  "3": "Jon Zeng",
                  "4": "jon42@adventure-works.com",
                  "5": "Mountain-200 Silver, 42",
                  "6": "1",
                  "7": "2071.4197",
                  "8": "165.7136"
                },
                {
                  "0": "SO49739",
                  "1": "1",
                  "2": "2021-02-18",
                  "3": "Isabella Brooks",
                  "4": "isabella8@adventure-works.com",
                  "5": "Road-250 Black, 52",
                  "6": "1",
                  "7": "2181.5625",
                  "8": "174.525"
                },
                {
                  "0": "SO49743",
                  "1": "1",
                  "2": "2021-02-18",
                  "3": "Rachael Fernandez",
                  "4": "rachael14@adventure-works.com",
                  "5": "Road-250 Red, 44",
                  "6": "1",
                  "7": "2443.35",
                  "8": "195.468"
                },
                {
                  "0": "SO49742",
                  "1": "1",
                  "2": "2021-02-18",
                  "3": "Zachary Jones",
                  "4": "zachary33@adventure-works.com",
                  "5": "Road-650 Red, 52",
                  "6": "1",
                  "7": "782.99",
                  "8": "62.6392"
                },
                {
                  "0": "SO49748",
                  "1": "1",
                  "2": "2021-02-19",
                  "3": "Kaylee Watson",
                  "4": "kaylee6@adventure-works.com",
                  "5": "Road-550-W Yellow, 48",
                  "6": "1",
                  "7": "1000.4375",
                  "8": "80.035"
                },
                {
                  "0": "SO49747",
                  "1": "1",
                  "2": "2021-02-19",
                  "3": "Lucas Miller",
                  "4": "lucas19@adventure-works.com",
                  "5": "Mountain-200 Silver, 46",
                  "6": "1",
                  "7": "2071.4197",
                  "8": "165.7136"
                },
                {
                  "0": "SO49744",
                  "1": "1",
                  "2": "2021-02-19",
                  "3": "Dalton Anderson",
                  "4": "dalton9@adventure-works.com",
                  "5": "Road-550-W Yellow, 48",
                  "6": "1",
                  "7": "1000.4375",
                  "8": "80.035"
                },
                {
                  "0": "SO49745",
                  "1": "1",
                  "2": "2021-02-19",
                  "3": "Meagan Fernandez",
                  "4": "meagan15@adventure-works.com",
                  "5": "Road-550-W Yellow, 44",
                  "6": "1",
                  "7": "1000.4375",
                  "8": "80.035"
                },
                {
                  "0": "SO49749",
                  "1": "1",
                  "2": "2021-02-19",
                  "3": "Candice Zimmerman",
                  "4": "candice3@adventure-works.com",
                  "5": "Road-650 Red, 44",
                  "6": "1",
                  "7": "782.99",
                  "8": "62.6392"
                },
                {
                  "0": "SO49750",
                  "1": "1",
                  "2": "2021-02-19",
                  "3": "Evan Rivera",
                  "4": "evan18@adventure-works.com",
                  "5": "Road-650 Red, 48",
                  "6": "1",
                  "7": "782.99",
                  "8": "62.6392"
                },
                {
                  "0": "SO49746",
                  "1": "1",
                  "2": "2021-02-19",
                  "3": "Clayton Zhang",
                  "4": "clayton0@adventure-works.com",
                  "5": "Mountain-200 Black, 38",
                  "6": "1",
                  "7": "2049.0981",
                  "8": "163.9279"
                },
                {
                  "0": "SO49751",
                  "1": "1",
                  "2": "2021-02-20",
                  "3": "Kellie Gutierrez",
                  "4": "kellie9@adventure-works.com",
                  "5": "Road-250 Red, 44",
                  "6": "1",
                  "7": "2443.35",
                  "8": "195.468"
                },
                {
                  "0": "SO49752",
                  "1": "1",
                  "2": "2021-02-20",
                  "3": "Larry Munoz",
                  "4": "larry9@adventure-works.com",
                  "5": "Mountain-200 Black, 42",
                  "6": "1",
                  "7": "2049.0981",
                  "8": "163.9279"
                },
                {
                  "0": "SO49755",
                  "1": "1",
                  "2": "2021-02-20",
                  "3": "Brendan Shen",
                  "4": "brendan2@adventure-works.com",
                  "5": "Mountain-200 Black, 46",
                  "6": "1",
                  "7": "2049.0981",
                  "8": "163.9279"
                },
                {
                  "0": "SO49754",
                  "1": "1",
                  "2": "2021-02-20",
                  "3": "Briana Ramos",
                  "4": "briana14@adventure-works.com",
                  "5": "Mountain-200 Black, 42",
                  "6": "1",
                  "7": "2049.0981",
                  "8": "163.9279"
                },
                {
                  "0": "SO49753",
                  "1": "1",
                  "2": "2021-02-20",
                  "3": "Arthur Prasad",
                  "4": "arthur11@adventure-works.com",
                  "5": "Mountain-200 Black, 38",
                  "6": "1",
                  "7": "2049.0981",
                  "8": "163.9279"
                },
                {
                  "0": "SO49756",
                  "1": "1",
                  "2": "2021-02-20",
                  "3": "Ross Arun",
                  "4": "ross6@adventure-works.com",
                  "5": "Road-250 Red, 58",
                  "6": "1",
                  "7": "2181.5625",
                  "8": "174.525"
                },
                {
                  "0": "SO49759",
                  "1": "1",
                  "2": "2021-02-21",
                  "3": "Richard Foster",
                  "4": "richard71@adventure-works.com",
                  "5": "Road-550-W Yellow, 48",
                  "6": "1",
                  "7": "1000.4375",
                  "8": "80.035"
                },
                {
                  "0": "SO49757",
                  "1": "1",
                  "2": "2021-02-21",
                  "3": "Warren Chander",
                  "4": "warren5@adventure-works.com",
                  "5": "Road-250 Black, 58",
                  "6": "1",
                  "7": "2181.5625",
                  "8": "174.525"
                },
                {
                  "0": "SO49758",
                  "1": "1",
                  "2": "2021-02-21",
                  "3": "Brandi Romero",
                  "4": "brandi9@adventure-works.com",
                  "5": "Road-650 Red, 52",
                  "6": "1",
                  "7": "782.99",
                  "8": "62.6392"
                },
                {
                  "0": "SO49760",
                  "1": "1",
                  "2": "2021-02-21",
                  "3": "Connor Adams",
                  "4": "connor44@adventure-works.com",
                  "5": "Mountain-200 Black, 38",
                  "6": "1",
                  "7": "2049.0981",
                  "8": "163.9279"
                },
                {
                  "0": "SO49761",
                  "1": "1",
                  "2": "2021-02-21",
                  "3": "Connor Collins",
                  "4": "connor31@adventure-works.com",
                  "5": "Road-650 Black, 44",
                  "6": "1",
                  "7": "782.99",
                  "8": "62.6392"
                },
                {
                  "0": "SO49762",
                  "1": "1",
                  "2": "2021-02-22",
                  "3": "Cheryl Vazquez",
                  "4": "cheryl17@adventure-works.com",
                  "5": "Road-250 Red, 44",
                  "6": "1",
                  "7": "2443.35",
                  "8": "195.468"
                },
                {
                  "0": "SO49763",
                  "1": "1",
                  "2": "2021-02-22",
                  "3": "Jerry She",
                  "4": "jerry0@adventure-works.com",
                  "5": "Mountain-200 Silver, 46",
                  "6": "1",
                  "7": "2071.4197",
                  "8": "165.7136"
                },
                {
                  "0": "SO49764",
                  "1": "1",
                  "2": "2021-02-22",
                  "3": "Abigail Richardson",
                  "4": "abigail14@adventure-works.com",
                  "5": "Mountain-200 Silver, 46",
                  "6": "1",
                  "7": "2071.4197",
                  "8": "165.7136"
                },
                {
                  "0": "SO49765",
                  "1": "1",
                  "2": "2021-02-22",
                  "3": "Sean Kelly",
                  "4": "sean9@adventure-works.com",
                  "5": "Mountain-200 Silver, 42",
                  "6": "1",
                  "7": "2071.4197",
                  "8": "165.7136"
                },
                {
                  "0": "SO49767",
                  "1": "1",
                  "2": "2021-02-23",
                  "3": "Tara Goel",
                  "4": "tara20@adventure-works.com",
                  "5": "Mountain-200 Silver, 46",
                  "6": "1",
                  "7": "2071.4197",
                  "8": "165.7136"
                },
                {
                  "0": "SO49771",
                  "1": "1",
                  "2": "2021-02-23",
                  "3": "Brianna Powell",
                  "4": "brianna54@adventure-works.com",
                  "5": "Road-650 Black, 52",
                  "6": "1",
                  "7": "782.99",
                  "8": "62.6392"
                },
                {
                  "0": "SO49766",
                  "1": "1",
                  "2": "2021-02-23",
                  "3": "Allison Adams",
                  "4": "allison38@adventure-works.com",
                  "5": "Road-650 Red, 48",
                  "6": "1",
                  "7": "782.99",
                  "8": "62.6392"
                },
                {
                  "0": "SO49772",
                  "1": "1",
                  "2": "2021-02-23",
                  "3": "Abigail Washington",
                  "4": "abigail38@adventure-works.com",
                  "5": "Road-250 Black, 58",
                  "6": "1",
                  "7": "2181.5625",
                  "8": "174.525"
                },
                {
                  "0": "SO49769",
                  "1": "1",
                  "2": "2021-02-23",
                  "3": "Miguel Martin",
                  "4": "miguel14@adventure-works.com",
                  "5": "Mountain-200 Silver, 46",
                  "6": "1",
                  "7": "2071.4197",
                  "8": "165.7136"
                },
                {
                  "0": "SO49768",
                  "1": "1",
                  "2": "2021-02-23",
                  "3": "Chloe Brooks",
                  "4": "chloe63@adventure-works.com",
                  "5": "Mountain-200 Black, 42",
                  "6": "1",
                  "7": "2049.0981",
                  "8": "163.9279"
                },
                {
                  "0": "SO49770",
                  "1": "1",
                  "2": "2021-02-23",
                  "3": "Jennifer Coleman",
                  "4": "jennifer80@adventure-works.com",
                  "5": "Road-650 Black, 52",
                  "6": "1",
                  "7": "782.99",
                  "8": "62.6392"
                },
                {
                  "0": "SO49773",
                  "1": "1",
                  "2": "2021-02-23",
                  "3": "Randall Alvarez",
                  "4": "randall6@adventure-works.com",
                  "5": "Road-650 Black, 52",
                  "6": "1",
                  "7": "782.99",
                  "8": "62.6392"
                },
                {
                  "0": "SO49775",
                  "1": "1",
                  "2": "2021-02-24",
                  "3": "Larry Alvarez",
                  "4": "larry6@adventure-works.com",
                  "5": "Mountain-200 Silver, 38",
                  "6": "1",
                  "7": "2071.4197",
                  "8": "165.7136"
                },
                {
                  "0": "SO49774",
                  "1": "1",
                  "2": "2021-02-24",
                  "3": "Lori Dominguez",
                  "4": "lori14@adventure-works.com",
                  "5": "Mountain-200 Black, 38",
                  "6": "1",
                  "7": "2049.0981",
                  "8": "163.9279"
                },
                {
                  "0": "SO49776",
                  "1": "1",
                  "2": "2021-02-24",
                  "3": "Ashley Coleman",
                  "4": "ashley32@adventure-works.com",
                  "5": "Road-650 Red, 52",
                  "6": "1",
                  "7": "782.99",
                  "8": "62.6392"
                },
                {
                  "0": "SO49777",
                  "1": "1",
                  "2": "2021-02-24",
                  "3": "Maria Mitchell",
                  "4": "maria54@adventure-works.com",
                  "5": "Road-650 Black, 60",
                  "6": "1",
                  "7": "782.99",
                  "8": "62.6392"
                },
                {
                  "0": "SO49784",
                  "1": "1",
                  "2": "2021-02-25",
                  "3": "Crystal Li",
                  "4": "crystal5@adventure-works.com",
                  "5": "Mountain-200 Black, 46",
                  "6": "1",
                  "7": "2049.0981",
                  "8": "163.9279"
                },
                {
                  "0": "SO49785",
                  "1": "1",
                  "2": "2021-02-25",
                  "3": "Olivia Alexander",
                  "4": "olivia64@adventure-works.com",
                  "5": "Mountain-200 Black, 38",
                  "6": "1",
                  "7": "2049.0981",
                  "8": "163.9279"
                },
                {
                  "0": "SO49781",
                  "1": "1",
                  "2": "2021-02-25",
                  "3": "Lori Suarez",
                  "4": "lori19@adventure-works.com",
                  "5": "Mountain-200 Black, 46",
                  "6": "1",
                  "7": "2049.0981",
                  "8": "163.9279"
                },
                {
                  "0": "SO49782",
                  "1": "1",
                  "2": "2021-02-25",
                  "3": "Sheila Serrano",
                  "4": "sheila15@adventure-works.com",
                  "5": "Road-650 Red, 62",
                  "6": "1",
                  "7": "782.99",
                  "8": "62.6392"
                },
                {
                  "0": "SO49783",
                  "1": "1",
                  "2": "2021-02-25",
                  "3": "Nicolas Nara",
                  "4": "nicolas15@adventure-works.com",
                  "5": "Road-650 Black, 52",
                  "6": "1",
                  "7": "782.99",
                  "8": "62.6392"
                },
                {
                  "0": "SO49780",
                  "1": "1",
                  "2": "2021-02-25",
                  "3": "Ricardo Lal",
                  "4": "ricardo8@adventure-works.com",
                  "5": "Road-250 Black, 44",
                  "6": "1",
                  "7": "2181.5625",
                  "8": "174.525"
                },
                {
                  "0": "SO49779",
                  "1": "1",
                  "2": "2021-02-25",
                  "3": "Jacqueline James",
                  "4": "jacqueline32@adventure-works.com",
                  "5": "Road-250 Red, 48",
                  "6": "1",
                  "7": "2443.35",
                  "8": "195.468"
                },
                {
                  "0": "SO49778",
                  "1": "1",
                  "2": "2021-02-25",
                  "3": "Cheryl Jim�nez",
                  "4": "cheryl7@adventure-works.com",
                  "5": "Road-250 Red, 48",
                  "6": "1",
                  "7": "2443.35",
                  "8": "195.468"
                },
                {
                  "0": "SO49787",
                  "1": "1",
                  "2": "2021-02-25",
                  "3": "Naomi Ramos",
                  "4": "naomi18@adventure-works.com",
                  "5": "Road-250 Red, 44",
                  "6": "1",
                  "7": "2443.35",
                  "8": "195.468"
                },
                {
                  "0": "SO49788",
                  "1": "1",
                  "2": "2021-02-25",
                  "3": "Bonnie Chande",
                  "4": "bonnie21@adventure-works.com",
                  "5": "Road-250 Red, 44",
                  "6": "1",
                  "7": "2443.35",
                  "8": "195.468"
                },
                {
                  "0": "SO49789",
                  "1": "1",
                  "2": "2021-02-25",
                  "3": "Thomas Harris",
                  "4": "thomas75@adventure-works.com",
                  "5": "Road-250 Black, 44",
                  "6": "1",
                  "7": "2181.5625",
                  "8": "174.525"
                },
                {
                  "0": "SO49786",
                  "1": "1",
                  "2": "2021-02-25",
                  "3": "Elizabeth Brown",
                  "4": "elizabeth8@adventure-works.com",
                  "5": "Mountain-200 Black, 46",
                  "6": "1",
                  "7": "2049.0981",
                  "8": "163.9279"
                },
                {
                  "0": "SO49790",
                  "1": "1",
                  "2": "2021-02-25",
                  "3": "Damien Zhang",
                  "4": "damien0@adventure-works.com",
                  "5": "Road-650 Red, 48",
                  "6": "1",
                  "7": "782.99",
                  "8": "62.6392"
                },
                {
                  "0": "SO49800",
                  "1": "1",
                  "2": "2021-02-26",
                  "3": "C�sar Raman",
                  "4": "c�sar11@adventure-works.com",
                  "5": "Road-250 Black, 48",
                  "6": "1",
                  "7": "2181.5625",
                  "8": "174.525"
                },
                {
                  "0": "SO49799",
                  "1": "1",
                  "2": "2021-02-26",
                  "3": "Raymond Subram",
                  "4": "raymond15@adventure-works.com",
                  "5": "Road-250 Black, 48",
                  "6": "1",
                  "7": "2181.5625",
                  "8": "174.525"
                },
                {
                  "0": "SO49798",
                  "1": "1",
                  "2": "2021-02-26",
                  "3": "Christine Luo",
                  "4": "christine3@adventure-works.com",
                  "5": "Road-250 Black, 48",
                  "6": "1",
                  "7": "2181.5625",
                  "8": "174.525"
                },
                {
                  "0": "SO49796",
                  "1": "1",
                  "2": "2021-02-26",
                  "3": "Kaitlyn James",
                  "4": "kaitlyn63@adventure-works.com",
                  "5": "Road-650 Black, 62",
                  "6": "1",
                  "7": "782.99",
                  "8": "62.6392"
                },
                {
                  "0": "SO49797",
                  "1": "1",
                  "2": "2021-02-26",
                  "3": "Aaron Hayes",
                  "4": "aaron22@adventure-works.com",
                  "5": "Road-650 Red, 48",
                  "6": "1",
                  "7": "782.99",
                  "8": "62.6392"
                },
                {
                  "0": "SO49791",
                  "1": "1",
                  "2": "2021-02-26",
                  "3": "Diana Navarro",
                  "4": "diana9@adventure-works.com",
                  "5": "Road-250 Red, 52",
                  "6": "1",
                  "7": "2443.35",
                  "8": "195.468"
                },
                {
                  "0": "SO49792",
                  "1": "1",
                  "2": "2021-02-26",
                  "3": "Marie Vance",
                  "4": "marie8@adventure-works.com",
                  "5": "Road-650 Black, 52",
                  "6": "1",
                  "7": "782.99",
                  "8": "62.6392"
                },
                {
                  "0": "SO49794",
                  "1": "1",
                  "2": "2021-02-26",
                  "3": "Bryan Kelly",
                  "4": "bryan5@adventure-works.com",
                  "5": "Mountain-200 Silver, 38",
                  "6": "1",
                  "7": "2071.4197",
                  "8": "165.7136"
                },
                {
                  "0": "SO49793",
                  "1": "1",
                  "2": "2021-02-26",
                  "3": "Cristina Lal",
                  "4": "cristina8@adventure-works.com",
                  "5": "Mountain-200 Silver, 38",
                  "6": "1",
                  "7": "2071.4197",
                  "8": "165.7136"
                },
                {
                  "0": "SO49795",
                  "1": "1",
                  "2": "2021-02-26",
                  "3": "Alexandra Martin",
                  "4": "alexandra78@adventure-works.com",
                  "5": "Mountain-200 Silver, 42",
                  "6": "1",
                  "7": "2071.4197",
                  "8": "165.7136"
                },
                {
                  "0": "SO49808",
                  "1": "1",
                  "2": "2021-02-27",
                  "3": "Omar Nath",
                  "4": "omar39@adventure-works.com",
                  "5": "Mountain-200 Silver, 42",
                  "6": "1",
                  "7": "2071.4197",
                  "8": "165.7136"
                },
                {
                  "0": "SO49806",
                  "1": "1",
                  "2": "2021-02-27",
                  "3": "Jacquelyn Jimenez",
                  "4": "jacquelyn5@adventure-works.com",
                  "5": "Mountain-200 Black, 46",
                  "6": "1",
                  "7": "2049.0981",
                  "8": "163.9279"
                },
                {
                  "0": "SO49807",
                  "1": "1",
                  "2": "2021-02-27",
                  "3": "Evelyn Perez",
                  "4": "evelyn21@adventure-works.com",
                  "5": "Mountain-200 Silver, 46",
                  "6": "1",
                  "7": "2071.4197",
                  "8": "165.7136"
                },
                {
                  "0": "SO49805",
                  "1": "1",
                  "2": "2021-02-27",
                  "3": "Kristine Hernandez",
                  "4": "kristine5@adventure-works.com",
                  "5": "Mountain-200 Black, 42",
                  "6": "1",
                  "7": "2049.0981",
                  "8": "163.9279"
                },
                {
                  "0": "SO49801",
                  "1": "1",
                  "2": "2021-02-27",
                  "3": "Colin Wu",
                  "4": "colin7@adventure-works.com",
                  "5": "Road-250 Black, 48",
                  "6": "1",
                  "7": "2181.5625",
                  "8": "174.525"
                },
                {
                  "0": "SO49803",
                  "1": "1",
                  "2": "2021-02-27",
                  "3": "Micah Xu",
                  "4": "micah23@adventure-works.com",
                  "5": "Road-250 Red, 52",
                  "6": "1",
                  "7": "2443.35",
                  "8": "195.468"
                },
                {
                  "0": "SO49802",
                  "1": "1",
                  "2": "2021-02-27",
                  "3": "Tabitha Torres",
                  "4": "tabitha32@adventure-works.com",
                  "5": "Road-250 Red, 52",
                  "6": "1",
                  "7": "2443.35",
                  "8": "195.468"
                },
                {
                  "0": "SO49809",
                  "1": "1",
                  "2": "2021-02-27",
                  "3": "Carl Yuan",
                  "4": "carl6@adventure-works.com",
                  "5": "Road-250 Red, 44",
                  "6": "1",
                  "7": "2443.35",
                  "8": "195.468"
                },
                {
                  "0": "SO49810",
                  "1": "1",
                  "2": "2021-02-27",
                  "3": "Sandra Lin",
                  "4": "sandra14@adventure-works.com",
                  "5": "Road-550-W Yellow, 48",
                  "6": "1",
                  "7": "1000.4375",
                  "8": "80.035"
                },
                {
                  "0": "SO49804",
                  "1": "1",
                  "2": "2021-02-27",
                  "3": "Ian Baker",
                  "4": "ian31@adventure-works.com",
                  "5": "Road-250 Black, 52",
                  "6": "1",
                  "7": "2181.5625",
                  "8": "174.525"
                },
                {
                  "0": "SO49820",
                  "1": "1",
                  "2": "2021-02-28",
                  "3": "Gilbert Li",
                  "4": "gilbert2@adventure-works.com",
                  "5": "Road-250 Red, 58",
                  "6": "1",
                  "7": "2181.5625",
                  "8": "174.525"
                },
                {
                  "0": "SO49818",
                  "1": "1",
                  "2": "2021-02-28",
                  "3": "Roger Goel",
                  "4": "roger47@adventure-works.com",
                  "5": "Road-250 Black, 52",
                  "6": "1",
                  "7": "2181.5625",
                  "8": "174.525"
                },
                {
                  "0": "SO49819",
                  "1": "1",
                  "2": "2021-02-28",
                  "3": "Drew Shan",
                  "4": "drew11@adventure-works.com",
                  "5": "Road-250 Red, 44",
                  "6": "1",
                  "7": "2443.35",
                  "8": "195.468"
                },
                {
                  "0": "SO49811",
                  "1": "1",
                  "2": "2021-02-28",
                  "3": "Ronnie Xu",
                  "4": "ronnie10@adventure-works.com",
                  "5": "Road-250 Black, 48",
                  "6": "1",
                  "7": "2181.5625",
                  "8": "174.525"
                },
                {
                  "0": "SO49813",
                  "1": "1",
                  "2": "2021-02-28",
                  "3": "Eugene Guo",
                  "4": "eugene22@adventure-works.com",
                  "5": "Road-250 Black, 58",
                  "6": "1",
                  "7": "2181.5625",
                  "8": "174.525"
                },
                {
                  "0": "SO49812",
                  "1": "1",
                  "2": "2021-02-28",
                  "3": "Alyssa Bradley",
                  "4": "alyssa31@adventure-works.com",
                  "5": "Road-250 Red, 44",
                  "6": "1",
                  "7": "2443.35",
                  "8": "195.468"
                },
                {
                  "0": "SO49816",
                  "1": "1",
                  "2": "2021-02-28",
                  "3": "David Yang",
                  "4": "david59@adventure-works.com",
                  "5": "Road-550-W Yellow, 44",
                  "6": "1",
                  "7": "1000.4375",
                  "8": "80.035"
                },
                {
                  "0": "SO49814",
                  "1": "1",
                  "2": "2021-02-28",
                  "3": "Shaun Raji",
                  "4": "shaun21@adventure-works.com",
                  "5": "Mountain-200 Silver, 46",
                  "6": "1",
                  "7": "2071.4197",
                  "8": "165.7136"
                },
                {
                  "0": "SO49817",
                  "1": "1",
                  "2": "2021-02-28",
                  "3": "Chase Watson",
                  "4": "chase1@adventure-works.com",
                  "5": "Mountain-200 Silver, 42",
                  "6": "1",
                  "7": "2071.4197",
                  "8": "165.7136"
                },
                {
                  "0": "SO49815",
                  "1": "1",
                  "2": "2021-02-28",
                  "3": "Janelle Garcia",
                  "4": "janelle11@adventure-works.com",
                  "5": "Mountain-200 Black, 46",
                  "6": "1",
                  "7": "2049.0981",
                  "8": "163.9279"
                },
                {
                  "0": "SO49902",
                  "1": "1",
                  "2": "2021-03-01",
                  "3": "Cory Sai",
                  "4": "cory4@adventure-works.com",
                  "5": "Mountain-200 Silver, 38",
                  "6": "1",
                  "7": "2071.4197",
                  "8": "165.7136"
                },
                {
                  "0": "SO49903",
                  "1": "1",
                  "2": "2021-03-01",
                  "3": "Taylor Anderson",
                  "4": "taylor57@adventure-works.com",
                  "5": "Road-650 Red, 48",
                  "6": "1",
                  "7": "782.99",
                  "8": "62.6392"
                },
                {
                  "0": "SO49904",
                  "1": "1",
                  "2": "2021-03-01",
                  "3": "Maurice Xie",
                  "4": "maurice3@adventure-works.com",
                  "5": "Road-650 Black, 48",
                  "6": "1",
                  "7": "782.99",
                  "8": "62.6392"
                },
                {
                  "0": "SO49900",
                  "1": "1",
                  "2": "2021-03-01",
                  "3": "Billy Torres",
                  "4": "billy13@adventure-works.com",
                  "5": "Road-250 Black, 58",
                  "6": "1",
                  "7": "2181.5625",
                  "8": "174.525"
                },
                {
                  "0": "SO49896",
                  "1": "1",
                  "2": "2021-03-01",
                  "3": "Jay Torres",
                  "4": "jay41@adventure-works.com",
                  "5": "Road-250 Black, 48",
                  "6": "1",
                  "7": "2181.5625",
                  "8": "174.525"
                },
                {
                  "0": "SO49897",
                  "1": "1",
                  "2": "2021-03-01",
                  "3": "Kari Raman",
                  "4": "kari12@adventure-works.com",
                  "5": "Road-250 Red, 58",
                  "6": "1",
                  "7": "2181.5625",
                  "8": "174.525"
                },
                {
                  "0": "SO49899",
                  "1": "1",
                  "2": "2021-03-01",
                  "3": "Alejandro She",
                  "4": "alejandro26@adventure-works.com",
                  "5": "Road-250 Red, 44",
                  "6": "1",
                  "7": "2443.35",
                  "8": "195.468"
                },
                {
                  "0": "SO49898",
                  "1": "1",
                  "2": "2021-03-01",
                  "3": "Mario Pal",
                  "4": "mario10@adventure-works.com",
                  "5": "Road-250 Red, 52",
                  "6": "1",
                  "7": "2443.35",
                  "8": "195.468"
                },
                {
                  "0": "SO49895",
                  "1": "1",
                  "2": "2021-03-01",
                  "3": "Kari Dominguez",
                  "4": "kari33@adventure-works.com",
                  "5": "Road-250 Black, 44",
                  "6": "1",
                  "7": "2181.5625",
                  "8": "174.525"
                },
                {
                  "0": "SO49901",
                  "1": "1",
                  "2": "2021-03-01",
                  "3": "Troy Lopez",
                  "4": "troy18@adventure-works.com",
                  "5": "Road-650 Red, 52",
                  "6": "1",
                  "7": "782.99",
                  "8": "62.6392"
                },
                {
                  "0": "SO49905",
                  "1": "1",
                  "2": "2021-03-01",
                  "3": "Heidi Rodriguez",
                  "4": "heidi22@adventure-works.com",
                  "5": "Road-550-W Yellow, 42",
                  "6": "1",
                  "7": "1000.4375",
                  "8": "80.035"
                },
                {
                  "0": "SO49918",
                  "1": "1",
                  "2": "2021-03-02",
                  "3": "Gary Gill",
                  "4": "gary24@adventure-works.com",
                  "5": "Road-550-W Yellow, 42",
                  "6": "1",
                  "7": "1000.4375",
                  "8": "80.035"
                },
                {
                  "0": "SO49917",
                  "1": "1",
                  "2": "2021-03-02",
                  "3": "Gina Gill",
                  "4": "gina14@adventure-works.com",
                  "5": "Road-250 Black, 58",
                  "6": "1",
                  "7": "2181.5625",
                  "8": "174.525"
                },
                {
                  "0": "SO49907",
                  "1": "1",
                  "2": "2021-03-02",
                  "3": "Vanessa Coleman",
                  "4": "vanessa6@adventure-works.com",
                  "5": "Mountain-200 Black, 42",
                  "6": "1",
                  "7": "2049.0981",
                  "8": "163.9279"
                },
                {
                  "0": "SO49909",
                  "1": "1",
                  "2": "2021-03-02",
                  "3": "Fernando Mitchell",
                  "4": "fernando36@adventure-works.com",
                  "5": "Road-250 Red, 44",
                  "6": "1",
                  "7": "2443.35",
                  "8": "195.468"
                },
                {
                  "0": "SO49916",
                  "1": "1",
                  "2": "2021-03-02",
                  "3": "Crystal Lu",
                  "4": "crystal12@adventure-works.com",
                  "5": "Mountain-200 Silver, 46",
                  "6": "1",
                  "7": "2071.4197",
                  "8": "165.7136"
                },
                {
                  "0": "SO49915",
                  "1": "1",
                  "2": "2021-03-02",
                  "3": "Kelvin Wang",
                  "4": "kelvin21@adventure-works.com",
                  "5": "Mountain-200 Silver, 42",
                  "6": "1",
                  "7": "2071.4197",
                  "8": "165.7136"
                },
                {
                  "0": "SO49912",
                  "1": "1",
                  "2": "2021-03-02",
                  "3": "Jonathan Evans",
                  "4": "jonathan30@adventure-works.com",
                  "5": "Mountain-200 Silver, 46",
                  "6": "1",
                  "7": "2071.4197",
                  "8": "165.7136"
                },
                {
                  "0": "SO49913",
                  "1": "1",
                  "2": "2021-03-02",
                  "3": "Tasha Shan",
                  "4": "tasha11@adventure-works.com",
                  "5": "Mountain-200 Black, 38",
                  "6": "1",
                  "7": "2049.0981",
                  "8": "163.9279"
                },
                {
                  "0": "SO49914",
                  "1": "1",
                  "2": "2021-03-02",
                  "3": "Josue Diaz",
                  "4": "josue0@adventure-works.com",
                  "5": "Mountain-200 Silver, 46",
                  "6": "1",
                  "7": "2071.4197",
                  "8": "165.7136"
                },
                {
                  "0": "SO49910",
                  "1": "1",
                  "2": "2021-03-02",
                  "3": "Elijah Hernandez",
                  "4": "elijah45@adventure-works.com",
                  "5": "Road-250 Red, 58",
                  "6": "1",
                  "7": "2181.5625",
                  "8": "174.525"
                },
                {
                  "0": "SO49911",
                  "1": "1",
                  "2": "2021-03-02",
                  "3": "Raul Kumar",
                  "4": "raul7@adventure-works.com",
                  "5": "Mountain-200 Black, 38",
                  "6": "1",
                  "7": "2049.0981",
                  "8": "163.9279"
                },
                {
                  "0": "SO49906",
                  "1": "1",
                  "2": "2021-03-02",
                  "3": "Daniel Miller",
                  "4": "daniel24@adventure-works.com",
                  "5": "Mountain-200 Black, 42",
                  "6": "1",
                  "7": "2049.0981",
                  "8": "163.9279"
                },
                {
                  "0": "SO49908",
                  "1": "1",
                  "2": "2021-03-02",
                  "3": "Jesse Wright",
                  "4": "jesse45@adventure-works.com",
                  "5": "Mountain-200 Black, 38",
                  "6": "1",
                  "7": "2049.0981",
                  "8": "163.9279"
                },
                {
                  "0": "SO49921",
                  "1": "1",
                  "2": "2021-03-03",
                  "3": "Andrea Kelly",
                  "4": "andrea3@adventure-works.com",
                  "5": "Road-250 Black, 58",
                  "6": "1",
                  "7": "2181.5625",
                  "8": "174.525"
                },
                {
                  "0": "SO49922",
                  "1": "1",
                  "2": "2021-03-03",
                  "3": "Destiny Jones",
                  "4": "destiny3@adventure-works.com",
                  "5": "Mountain-200 Black, 42",
                  "6": "1",
                  "7": "2049.0981",
                  "8": "163.9279"
                },
                {
                  "0": "SO49919",
                  "1": "1",
                  "2": "2021-03-03",
                  "3": "Eduardo Taylor",
                  "4": "eduardo7@adventure-works.com",
                  "5": "Road-250 Red, 58",
                  "6": "1",
                  "7": "2181.5625",
                  "8": "174.525"
                },
                {
                  "0": "SO49920",
                  "1": "1",
                  "2": "2021-03-03",
                  "3": "Lance Rubio",
                  "4": "lance21@adventure-works.com",
                  "5": "Road-550-W Yellow, 44",
                  "6": "1",
                  "7": "1000.4375",
                  "8": "80.035"
                },
                {
                  "0": "SO49923",
                  "1": "1",
                  "2": "2021-03-03",
                  "3": "Virginia Lopez",
                  "4": "virginia19@adventure-works.com",
                  "5": "Road-650 Red, 44",
                  "6": "1",
                  "7": "782.99",
                  "8": "62.6392"
                },
                {
                  "0": "SO49928",
                  "1": "1",
                  "2": "2021-03-04",
                  "3": "Connor Hill",
                  "4": "connor43@adventure-works.com",
                  "5": "Road-650 Red, 58",
                  "6": "1",
                  "7": "782.99",
                  "8": "62.6392"
                },
                {
                  "0": "SO49924",
                  "1": "1",
                  "2": "2021-03-04",
                  "3": "Juan Ward",
                  "4": "juan22@adventure-works.com",
                  "5": "Mountain-200 Black, 46",
                  "6": "1",
                  "7": "2049.0981",
                  "8": "163.9279"
                },
                {
                  "0": "SO49927",
                  "1": "1",
                  "2": "2021-03-04",
                  "3": "Ricky Moreno",
                  "4": "ricky6@adventure-works.com",
                  "5": "Road-550-W Yellow, 44",
                  "6": "1",
                  "7": "1000.4375",
                  "8": "80.035"
                },
                {
                  "0": "SO49933",
                  "1": "1",
                  "2": "2021-03-04",
                  "3": "Zachary Miller",
                  "4": "zachary35@adventure-works.com",
                  "5": "Mountain-200 Silver, 38",
                  "6": "1",
                  "7": "2071.4197",
                  "8": "165.7136"
                },
                {
                  "0": "SO49931",
                  "1": "1",
                  "2": "2021-03-04",
                  "3": "Joe Moreno",
                  "4": "joe30@adventure-works.com",
                  "5": "Road-650 Red, 52",
                  "6": "1",
                  "7": "782.99",
                  "8": "62.6392"
                },
                {
                  "0": "SO49925",
                  "1": "1",
                  "2": "2021-03-04",
                  "3": "Sergio Suri",
                  "4": "sergio0@adventure-works.com",
                  "5": "Road-250 Black, 52",
                  "6": "1",
                  "7": "2181.5625",
                  "8": "174.525"
                },
                {
                  "0": "SO49926",
                  "1": "1",
                  "2": "2021-03-04",
                  "3": "Theodore Ramos",
                  "4": "theodore18@adventure-works.com",
                  "5": "Road-250 Red, 52",
                  "6": "1",
                  "7": "2443.35",
                  "8": "195.468"
                },
                {
                  "0": "SO49932",
                  "1": "1",
                  "2": "2021-03-04",
                  "3": "Rebecca Young",
                  "4": "rebecca25@adventure-works.com",
                  "5": "Road-550-W Yellow, 40",
                  "6": "1",
                  "7": "1000.4375",
                  "8": "80.035"
                },
                {
                  "0": "SO49930",
                  "1": "1",
                  "2": "2021-03-04",
                  "3": "Reginald Romero",
                  "4": "reginald16@adventure-works.com",
                  "5": "Mountain-200 Black, 42",
                  "6": "1",
                  "7": "2049.0981",
                  "8": "163.9279"
                },
                {
                  "0": "SO49929",
                  "1": "1",
                  "2": "2021-03-04",
                  "3": "Deanna Gutierrez",
                  "4": "deanna37@adventure-works.com",
                  "5": "Mountain-200 Black, 42",
                  "6": "1",
                  "7": "2049.0981",
                  "8": "163.9279"
                },
                {
                  "0": "SO49934",
                  "1": "1",
                  "2": "2021-03-04",
                  "3": "Melvin Chander",
                  "4": "melvin14@adventure-works.com",
                  "5": "Road-250 Black, 58",
                  "6": "1",
                  "7": "2181.5625",
                  "8": "174.525"
                },
                {
                  "0": "SO49935",
                  "1": "1",
                  "2": "2021-03-04",
                  "3": "Mackenzie King",
                  "4": "mackenzie40@adventure-works.com",
                  "5": "Road-650 Red, 58",
                  "6": "1",
                  "7": "782.99",
                  "8": "62.6392"
                },
                {
                  "0": "SO49945",
                  "1": "1",
                  "2": "2021-03-05",
                  "3": "Deanna Lopez",
                  "4": "deanna20@adventure-works.com",
                  "5": "Road-550-W Yellow, 48",
                  "6": "1",
                  "7": "1000.4375",
                  "8": "80.035"
                },
                {
                  "0": "SO49939",
                  "1": "1",
                  "2": "2021-03-05",
                  "3": "Gary Vazquez",
                  "4": "gary25@adventure-works.com",
                  "5": "Mountain-200 Black, 42",
                  "6": "1",
                  "7": "2049.0981",
                  "8": "163.9279"
                },
                {
                  "0": "SO49940",
                  "1": "1",
                  "2": "2021-03-05",
                  "3": "Evelyn Gonzalez",
                  "4": "evelyn19@adventure-works.com",
                  "5": "Mountain-200 Silver, 42",
                  "6": "1",
                  "7": "2071.4197",
                  "8": "165.7136"
                },
                {
                  "0": "SO49941",
                  "1": "1",
                  "2": "2021-03-05",
                  "3": "Latasha Gutierrez",
                  "4": "latasha11@adventure-works.com",
                  "5": "Mountain-200 Silver, 46",
                  "6": "1",
                  "7": "2071.4197",
                  "8": "165.7136"
                },
                {
                  "0": "SO49942",
                  "1": "1",
                  "2": "2021-03-05",
                  "3": "Brandon Brown",
                  "4": "brandon42@adventure-works.com",
                  "5": "Road-550-W Yellow, 42",
                  "6": "1",
                  "7": "1000.4375",
                  "8": "80.035"
                },
                {
                  "0": "SO49943",
                  "1": "1",
                  "2": "2021-03-05",
                  "3": "Ernest Lu",
                  "4": "ernest11@adventure-works.com",
                  "5": "Road-550-W Yellow, 40",
                  "6": "1",
                  "7": "1000.4375",
                  "8": "80.035"
                },
                {
                  "0": "SO49944",
                  "1": "1",
                  "2": "2021-03-05",
                  "3": "Kurt Raje",
                  "4": "kurt14@adventure-works.com",
                  "5": "Mountain-200 Silver, 42",
                  "6": "1",
                  "7": "2071.4197",
                  "8": "165.7136"
                },
                {
                  "0": "SO49938",
                  "1": "1",
                  "2": "2021-03-05",
                  "3": "Karen Yang",
                  "4": "karen14@adventure-works.com",
                  "5": "Road-550-W Yellow, 42",
                  "6": "1",
                  "7": "1000.4375",
                  "8": "80.035"
                },
                {
                  "0": "SO49936",
                  "1": "1",
                  "2": "2021-03-05",
                  "3": "Jose Taylor",
                  "4": "jose69@adventure-works.com",
                  "5": "Mountain-200 Black, 42",
                  "6": "1",
                  "7": "2049.0981",
                  "8": "163.9279"
                },
                {
                  "0": "SO49937",
                  "1": "1",
                  "2": "2021-03-05",
                  "3": "Jessica Flores",
                  "4": "jessica37@adventure-works.com",
                  "5": "Mountain-200 Black, 38",
                  "6": "1",
                  "7": "2049.0981",
                  "8": "163.9279"
                },
                {
                  "0": "SO49947",
                  "1": "1",
                  "2": "2021-03-06",
                  "3": "Bryant Martinez",
                  "4": "bryant17@adventure-works.com",
                  "5": "Road-550-W Yellow, 42",
                  "6": "1",
                  "7": "1000.4375",
                  "8": "80.035"
                },
                {
                  "0": "SO49946",
                  "1": "1",
                  "2": "2021-03-06",
                  "3": "Trisha She",
                  "4": "trisha17@adventure-works.com",
                  "5": "Road-250 Red, 58",
                  "6": "1",
                  "7": "2181.5625",
                  "8": "174.525"
                },
                {
                  "0": "SO49949",
                  "1": "1",
                  "2": "2021-03-06",
                  "3": "Ashley Johnson",
                  "4": "ashley1@adventure-works.com",
                  "5": "Road-550-W Yellow, 44",
                  "6": "1",
                  "7": "1000.4375",
                  "8": "80.035"
                },
                {
                  "0": "SO49948",
                  "1": "1",
                  "2": "2021-03-06",
                  "3": "Randy Liu",
                  "4": "randy5@adventure-works.com",
                  "5": "Mountain-200 Black, 46",
                  "6": "1",
                  "7": "2049.0981",
                  "8": "163.9279"
                },
                {
                  "0": "SO49950",
                  "1": "1",
                  "2": "2021-03-06",
                  "3": "Micah Guo",
                  "4": "micah5@adventure-works.com",
                  "5": "Road-250 Red, 58",
                  "6": "1",
                  "7": "2181.5625",
                  "8": "174.525"
                },
                {
                  "0": "SO49958",
                  "1": "1",
                  "2": "2021-03-07",
                  "3": "Lacey Zhu",
                  "4": "lacey26@adventure-works.com",
                  "5": "Road-250 Red, 44",
                  "6": "1",
                  "7": "2443.35",
                  "8": "195.468"
                },
                {
                  "0": "SO49960",
                  "1": "1",
                  "2": "2021-03-07",
                  "3": "Jesse Howard",
                  "4": "jesse11@adventure-works.com",
                  "5": "Road-250 Black, 48",
                  "6": "1",
                  "7": "2181.5625",
                  "8": "174.525"
                },
                {
                  "0": "SO49959",
                  "1": "1",
                  "2": "2021-03-07",
                  "3": "Colin Zhao",
                  "4": "colin11@adventure-works.com",
                  "5": "Road-250 Red, 44",
                  "6": "1",
                  "7": "2443.35",
                  "8": "195.468"
                },
                {
                  "0": "SO49957",
                  "1": "1",
                  "2": "2021-03-07",
                  "3": "Donald Sara",
                  "4": "donald12@adventure-works.com",
                  "5": "Road-550-W Yellow, 44",
                  "6": "1",
                  "7": "1000.4375",
                  "8": "80.035"
                },
                {
                  "0": "SO49956",
                  "1": "1",
                  "2": "2021-03-07",
                  "3": "Suzanne Zhu",
                  "4": "suzanne15@adventure-works.com",
                  "5": "Road-550-W Yellow, 44",
                  "6": "1",
                  "7": "1000.4375",
                  "8": "80.035"
                },
                {
                  "0": "SO49954",
                  "1": "1",
                  "2": "2021-03-07",
                  "3": "Deanna Serrano",
                  "4": "deanna43@adventure-works.com",
                  "5": "Mountain-200 Black, 42",
                  "6": "1",
                  "7": "2049.0981",
                  "8": "163.9279"
                },
                {
                  "0": "SO49955",
                  "1": "1",
                  "2": "2021-03-07",
                  "3": "Meghan Moreno",
                  "4": "meghan6@adventure-works.com",
                  "5": "Mountain-200 Black, 42",
                  "6": "1",
                  "7": "2049.0981",
                  "8": "163.9279"
                },
                {
                  "0": "SO49953",
                  "1": "1",
                  "2": "2021-03-07",
                  "3": "Briana Martin",
                  "4": "briana0@adventure-works.com",
                  "5": "Mountain-200 Black, 42",
                  "6": "1",
                  "7": "2049.0981",
                  "8": "163.9279"
                },
                {
                  "0": "SO49952",
                  "1": "1",
                  "2": "2021-03-07",
                  "3": "Natalie Peterson",
                  "4": "natalie17@adventure-works.com",
                  "5": "Road-650 Black, 58",
                  "6": "1",
                  "7": "782.99",
                  "8": "62.6392"
                },
                {
                  "0": "SO49951",
                  "1": "1",
                  "2": "2021-03-07",
                  "3": "Tyrone Ramos",
                  "4": "tyrone16@adventure-works.com",
                  "5": "Mountain-200 Black, 42",
                  "6": "1",
                  "7": "2049.0981",
                  "8": "163.9279"
                },
                {
                  "0": "SO49961",
                  "1": "1",
                  "2": "2021-03-07",
                  "3": "Cynthia Weber",
                  "4": "cynthia8@adventure-works.com",
                  "5": "Road-650 Red, 44",
                  "6": "1",
                  "7": "782.99",
                  "8": "62.6392"
                },
                {
                  "0": "SO49969",
                  "1": "1",
                  "2": "2021-03-08",
                  "3": "Victoria Walker",
                  "4": "victoria22@adventure-works.com",
                  "5": "Road-650 Red, 44",
                  "6": "1",
                  "7": "782.99",
                  "8": "62.6392"
                },
                {
                  "0": "SO49970",
                  "1": "1",
                  "2": "2021-03-08",
                  "3": "Kelly Coleman",
                  "4": "kelly10@adventure-works.com",
                  "5": "Road-650 Red, 44",
                  "6": "1",
                  "7": "782.99",
                  "8": "62.6392"
                },
                {
                  "0": "SO49972",
                  "1": "1",
                  "2": "2021-03-08",
                  "3": "Kenneth Luo",
                  "4": "kenneth6@adventure-works.com",
                  "5": "Mountain-200 Silver, 46",
                  "6": "1",
                  "7": "2071.4197",
                  "8": "165.7136"
                },
                {
                  "0": "SO49971",
                  "1": "1",
                  "2": "2021-03-08",
                  "3": "Colleen Luo",
                  "4": "colleen30@adventure-works.com",
                  "5": "Mountain-200 Black, 38",
                  "6": "1",
                  "7": "2049.0981",
                  "8": "163.9279"
                },
                {
                  "0": "SO49964",
                  "1": "1",
                  "2": "2021-03-08",
                  "3": "Bryan Bell",
                  "4": "bryan14@adventure-works.com",
                  "5": "Road-250 Black, 52",
                  "6": "1",
                  "7": "2181.5625",
                  "8": "174.525"
                },
                {
                  "0": "SO49963",
                  "1": "1",
                  "2": "2021-03-08",
                  "3": "Logan Lee",
                  "4": "logan54@adventure-works.com",
                  "5": "Road-250 Red, 52",
                  "6": "1",
                  "7": "2443.35",
                  "8": "195.468"
                },
                {
                  "0": "SO49965",
                  "1": "1",
                  "2": "2021-03-08",
                  "3": "Lindsey Pal",
                  "4": "lindsey13@adventure-works.com",
                  "5": "Road-650 Black, 48",
                  "6": "1",
                  "7": "782.99",
                  "8": "62.6392"
                },
                {
                  "0": "SO49968",
                  "1": "1",
                  "2": "2021-03-08",
                  "3": "Alejandro Ye",
                  "4": "alejandro12@adventure-works.com",
                  "5": "Mountain-200 Silver, 42",
                  "6": "1",
                  "7": "2071.4197",
                  "8": "165.7136"
                },
                {
                  "0": "SO49966",
                  "1": "1",
                  "2": "2021-03-08",
                  "3": "Rosa Lin",
                  "4": "rosa8@adventure-works.com",
                  "5": "Mountain-200 Silver, 38",
                  "6": "1",
                  "7": "2071.4197",
                  "8": "165.7136"
                },
                {
                  "0": "SO49967",
                  "1": "1",
                  "2": "2021-03-08",
                  "3": "Meredith Dominguez",
                  "4": "meredith36@adventure-works.com",
                  "5": "Mountain-200 Silver, 42",
                  "6": "1",
                  "7": "2071.4197",
                  "8": "165.7136"
                },
                {
                  "0": "SO49974",
                  "1": "1",
                  "2": "2021-03-08",
                  "3": "Jake Lin",
                  "4": "jake8@adventure-works.com",
                  "5": "Road-250 Red, 58",
                  "6": "1",
                  "7": "2181.5625",
                  "8": "174.525"
                },
                {
                  "0": "SO49973",
                  "1": "1",
                  "2": "2021-03-08",
                  "3": "Lacey Wang",
                  "4": "lacey13@adventure-works.com",
                  "5": "Road-250 Black, 58",
                  "6": "1",
                  "7": "2181.5625",
                  "8": "174.525"
                },
                {
                  "0": "SO49962",
                  "1": "1",
                  "2": "2021-03-08",
                  "3": "Christian Wang",
                  "4": "christian11@adventure-works.com",
                  "5": "Mountain-200 Black, 38",
                  "6": "1",
                  "7": "2049.0981",
                  "8": "163.9279"
                },
                {
                  "0": "SO49984",
                  "1": "1",
                  "2": "2021-03-09",
                  "3": "Raymond Rana",
                  "4": "raymond13@adventure-works.com",
                  "5": "Road-550-W Yellow, 40",
                  "6": "1",
                  "7": "1000.4375",
                  "8": "80.035"
                },
                {
                  "0": "SO49978",
                  "1": "1",
                  "2": "2021-03-09",
                  "3": "Clarence Andersen",
                  "4": "clarence28@adventure-works.com",
                  "5": "Mountain-200 Silver, 38",
                  "6": "1",
                  "7": "2071.4197",
                  "8": "165.7136"
                },
                {
                  "0": "SO49979",
                  "1": "1",
                  "2": "2021-03-09",
                  "3": "Philip Diaz",
                  "4": "philip2@adventure-works.com",
                  "5": "Mountain-200 Silver, 38",
                  "6": "1",
                  "7": "2071.4197",
                  "8": "165.7136"
                },
                {
                  "0": "SO49981",
                  "1": "1",
                  "2": "2021-03-09",
                  "3": "Meredith Suarez",
                  "4": "meredith43@adventure-works.com",
                  "5": "Mountain-200 Black, 46",
                  "6": "1",
                  "7": "2049.0981",
                  "8": "163.9279"
                },
                {
                  "0": "SO49980",
                  "1": "1",
                  "2": "2021-03-09",
                  "3": "Tommy Jai",
                  "4": "tommy8@adventure-works.com",
                  "5": "Mountain-200 Black, 38",
                  "6": "1",
                  "7": "2049.0981",
                  "8": "163.9279"
                },
                {
                  "0": "SO49982",
                  "1": "1",
                  "2": "2021-03-09",
                  "3": "Carrie Schmidt",
                  "4": "carrie17@adventure-works.com",
                  "5": "Road-550-W Yellow, 40",
                  "6": "1",
                  "7": "1000.4375",
                  "8": "80.035"
                },
                {
                  "0": "SO49977",
                  "1": "1",
                  "2": "2021-03-09",
                  "3": "Isabelle Butler",
                  "4": "isabelle13@adventure-works.com",
                  "5": "Road-250 Black, 52",
                  "6": "1",
                  "7": "2181.5625",
                  "8": "174.525"
                },
                {
                  "0": "SO49976",
                  "1": "1",
                  "2": "2021-03-09",
                  "3": "Courtney Evans",
                  "4": "courtney0@adventure-works.com",
                  "5": "Road-250 Black, 48",
                  "6": "1",
                  "7": "2181.5625",
                  "8": "174.525"
                },
                {
                  "0": "SO49975",
                  "1": "1",
                  "2": "2021-03-09",
                  "3": "Lindsey Lal",
                  "4": "lindsey9@adventure-works.com",
                  "5": "Road-250 Red, 52",
                  "6": "1",
                  "7": "2443.35",
                  "8": "195.468"
                },
                {
                  "0": "SO49983",
                  "1": "1",
                  "2": "2021-03-09",
                  "3": "Jay Rubio",
                  "4": "jay51@adventure-works.com",
                  "5": "Mountain-200 Silver, 46",
                  "6": "1",
                  "7": "2071.4197",
                  "8": "165.7136"
                },
                {
                  "0": "SO49990",
                  "1": "1",
                  "2": "2021-03-10",
                  "3": "Jillian Suri",
                  "4": "jillian1@adventure-works.com",
                  "5": "Mountain-200 Silver, 46",
                  "6": "1",
                  "7": "2071.4197",
                  "8": "165.7136"
                },
                {
                  "0": "SO49987",
                  "1": "1",
                  "2": "2021-03-10",
                  "3": "Deanna Gonzalez",
                  "4": "deanna22@adventure-works.com",
                  "5": "Mountain-200 Black, 46",
                  "6": "1",
                  "7": "2049.0981",
                  "8": "163.9279"
                },
                {
                  "0": "SO49988",
                  "1": "1",
                  "2": "2021-03-10",
                  "3": "Erika Suarez",
                  "4": "erika16@adventure-works.com",
                  "5": "Mountain-200 Black, 46",
                  "6": "1",
                  "7": "2049.0981",
                  "8": "163.9279"
                },
                {
                  "0": "SO49989",
                  "1": "1",
                  "2": "2021-03-10",
                  "3": "Roger Ma",
                  "4": "roger20@adventure-works.com",
                  "5": "Mountain-200 Black, 38",
                  "6": "1",
                  "7": "2049.0981",
                  "8": "163.9279"
                },
                {
                  "0": "SO49986",
                  "1": "1",
                  "2": "2021-03-10",
                  "3": "Amber Roberts",
                  "4": "amber3@adventure-works.com",
                  "5": "Mountain-200 Black, 46",
                  "6": "1",
                  "7": "2049.0981",
                  "8": "163.9279"
                },
                {
                  "0": "SO49985",
                  "1": "1",
                  "2": "2021-03-10",
                  "3": "Dennis She",
                  "4": "dennis25@adventure-works.com",
                  "5": "Mountain-200 Black, 42",
                  "6": "1",
                  "7": "2049.0981",
                  "8": "163.9279"
                },
                {
                  "0": "SO49999",
                  "1": "1",
                  "2": "2021-03-11",
                  "3": "Justin Jackson",
                  "4": "justin31@adventure-works.com",
                  "5": "Road-550-W Yellow, 42",
                  "6": "1",
                  "7": "1000.4375",
                  "8": "80.035"
                },
                {
                  "0": "SO49998",
                  "1": "1",
                  "2": "2021-03-11",
                  "3": "Marc Schmidt",
                  "4": "marc24@adventure-works.com",
                  "5": "Mountain-200 Black, 46",
                  "6": "1",
                  "7": "2049.0981",
                  "8": "163.9279"
                },
                {
                  "0": "SO49996",
                  "1": "1",
                  "2": "2021-03-11",
                  "3": "Donald Mehta",
                  "4": "donald15@adventure-works.com",
                  "5": "Mountain-200 Black, 46",
                  "6": "1",
                  "7": "2049.0981",
                  "8": "163.9279"
                },
                {
                  "0": "SO49997",
                  "1": "1",
                  "2": "2021-03-11",
                  "3": "Diana Ruiz",
                  "4": "diana1@adventure-works.com",
                  "5": "Mountain-200 Silver, 46",
                  "6": "1",
                  "7": "2071.4197",
                  "8": "165.7136"
                },
                {
                  "0": "SO49995",
                  "1": "1",
                  "2": "2021-03-11",
                  "3": "Jaclyn Tang",
                  "4": "jaclyn27@adventure-works.com",
                  "5": "Road-650 Red, 52",
                  "6": "1",
                  "7": "782.99",
                  "8": "62.6392"
                },
                {
                  "0": "SO50001",
                  "1": "1",
                  "2": "2021-03-11",
                  "3": "Michele Raji",
                  "4": "michele22@adventure-works.com",
                  "5": "Mountain-200 Silver, 38",
                  "6": "1",
                  "7": "2071.4197",
                  "8": "165.7136"
                },
                {
                  "0": "SO49993",
                  "1": "1",
                  "2": "2021-03-11",
                  "3": "Jake She",
                  "4": "jake21@adventure-works.com",
                  "5": "Road-250 Red, 48",
                  "6": "1",
                  "7": "2443.35",
                  "8": "195.468"
                },
                {
                  "0": "SO49994",
                  "1": "1",
                  "2": "2021-03-11",
                  "3": "Alejandro Guo",
                  "4": "alejandro21@adventure-works.com",
                  "5": "Road-250 Black, 58",
                  "6": "1",
                  "7": "2181.5625",
                  "8": "174.525"
                },
                {
                  "0": "SO50002",
                  "1": "1",
                  "2": "2021-03-11",
                  "3": "Jaime Hernandez",
                  "4": "jaime4@adventure-works.com",
                  "5": "Road-250 Red, 44",
                  "6": "1",
                  "7": "2443.35",
                  "8": "195.468"
                },
                {
                  "0": "SO49992",
                  "1": "1",
                  "2": "2021-03-11",
                  "3": "Dalton Cooper",
                  "4": "dalton79@adventure-works.com",
                  "5": "Mountain-200 Black, 38",
                  "6": "1",
                  "7": "2049.0981",
                  "8": "163.9279"
                },
                {
                  "0": "SO49991",
                  "1": "1",
                  "2": "2021-03-11",
                  "3": "Isaiah Roberts",
                  "4": "isaiah27@adventure-works.com",
                  "5": "Mountain-200 Silver, 46",
                  "6": "1",
                  "7": "2071.4197",
                  "8": "165.7136"
                },
                {
                  "0": "SO50000",
                  "1": "1",
                  "2": "2021-03-11",
                  "3": "Regina Gonzalez",
                  "4": "regina17@adventure-works.com",
                  "5": "Mountain-200 Silver, 38",
                  "6": "1",
                  "7": "2071.4197",
                  "8": "165.7136"
                },
                {
                  "0": "SO50003",
                  "1": "1",
                  "2": "2021-03-11",
                  "3": "Warren Raji",
                  "4": "warren12@adventure-works.com",
                  "5": "Road-650 Black, 62",
                  "6": "1",
                  "7": "782.99",
                  "8": "62.6392"
                },
                {
                  "0": "SO50010",
                  "1": "1",
                  "2": "2021-03-12",
                  "3": "Jarrod Chandra",
                  "4": "jarrod2@adventure-works.com",
                  "5": "Road-250 Red, 48",
                  "6": "1",
                  "7": "2443.35",
                  "8": "195.468"
                },
                {
                  "0": "SO50009",
                  "1": "1",
                  "2": "2021-03-12",
                  "3": "Drew Chander",
                  "4": "drew17@adventure-works.com",
                  "5": "Road-550-W Yellow, 48",
                  "6": "1",
                  "7": "1000.4375",
                  "8": "80.035"
                },
                {
                  "0": "SO50005",
                  "1": "1",
                  "2": "2021-03-12",
                  "3": "Jaime Yuan",
                  "4": "jaime30@adventure-works.com",
                  "5": "Road-250 Red, 58",
                  "6": "1",
                  "7": "2181.5625",
                  "8": "174.525"
                },
                {
                  "0": "SO50007",
                  "1": "1",
                  "2": "2021-03-12",
                  "3": "Rosa Huang",
                  "4": "rosa6@adventure-works.com",
                  "5": "Mountain-200 Silver, 42",
                  "6": "1",
                  "7": "2071.4197",
                  "8": "165.7136"
                },
                {
                  "0": "SO50008",
                  "1": "1",
                  "2": "2021-03-12",
                  "3": "Abby Raman",
                  "4": "abby9@adventure-works.com",
                  "5": "Mountain-200 Silver, 46",
                  "6": "1",
                  "7": "2071.4197",
                  "8": "165.7136"
                },
                {
                  "0": "SO50006",
                  "1": "1",
                  "2": "2021-03-12",
                  "3": "Arthur Sai",
                  "4": "arthur8@adventure-works.com",
                  "5": "Road-650 Black, 58",
                  "6": "1",
                  "7": "782.99",
                  "8": "62.6392"
                },
                {
                  "0": "SO50004",
                  "1": "1",
                  "2": "2021-03-12",
                  "3": "Amanda Young",
                  "4": "amanda68@adventure-works.com",
                  "5": "Mountain-200 Silver, 42",
                  "6": "1",
                  "7": "2071.4197",
                  "8": "165.7136"
                },
                {
                  "0": "SO50018",
                  "1": "1",
                  "2": "2021-03-13",
                  "3": "Jackson Alexander",
                  "4": "jackson21@adventure-works.com",
                  "5": "Road-650 Red, 58",
                  "6": "1",
                  "7": "782.99",
                  "8": "62.6392"
                },
                {
                  "0": "SO50016",
                  "1": "1",
                  "2": "2021-03-13",
                  "3": "Jaime Moreno",
                  "4": "jaime7@adventure-works.com",
                  "5": "Road-650 Black, 58",
                  "6": "1",
                  "7": "782.99",
                  "8": "62.6392"
                },
                {
                  "0": "SO50017",
                  "1": "1",
                  "2": "2021-03-13",
                  "3": "Walter Munoz",
                  "4": "walter20@adventure-works.com",
                  "5": "Road-650 Red, 44",
                  "6": "1",
                  "7": "782.99",
                  "8": "62.6392"
                },
                {
                  "0": "SO50015",
                  "1": "1",
                  "2": "2021-03-13",
                  "3": "Anibal Sousa",
                  "4": "anibal1@adventure-works.com",
                  "5": "Road-550-W Yellow, 38",
                  "6": "1",
                  "7": "1000.4375",
                  "8": "80.035"
                },
                {
                  "0": "SO50026",
                  "1": "1",
                  "2": "2021-03-13",
                  "3": "Shawna Black",
                  "4": "shawna19@adventure-works.com",
                  "5": "Mountain-200 Silver, 46",
                  "6": "1",
                  "7": "2071.4197",
                  "8": "165.7136"
                },
                {
                  "0": "SO50023",
                  "1": "1",
                  "2": "2021-03-13",
                  "3": "Claudia McDonald",
                  "4": "claudia3@adventure-works.com",
                  "5": "Road-650 Black, 48",
                  "6": "1",
                  "7": "782.99",
                  "8": "62.6392"
                },
                {
                  "0": "SO50014",
                  "1": "1",
                  "2": "2021-03-13",
                  "3": "Monique Suarez",
                  "4": "monique15@adventure-works.com",
                  "5": "Road-250 Red, 48",
                  "6": "1",
                  "7": "2443.35",
                  "8": "195.468"
                },
                {
                  "0": "SO50013",
                  "1": "1",
                  "2": "2021-03-13",
                  "3": "Lisa Lin",
                  "4": "lisa11@adventure-works.com",
                  "5": "Road-250 Black, 58",
                  "6": "1",
                  "7": "2181.5625",
                  "8": "174.525"
                },
                {
                  "0": "SO50020",
                  "1": "1",
                  "2": "2021-03-13",
                  "3": "Melinda Rubio",
                  "4": "melinda15@adventure-works.com",
                  "5": "Mountain-200 Black, 46",
                  "6": "1",
                  "7": "2049.0981",
                  "8": "163.9279"
                },
                {
                  "0": "SO50021",
                  "1": "1",
                  "2": "2021-03-13",
                  "3": "Dominique Fernandez",
                  "4": "dominique13@adventure-works.com",
                  "5": "Mountain-200 Black, 46",
                  "6": "1",
                  "7": "2049.0981",
                  "8": "163.9279"
                },
                {
                  "0": "SO50022",
                  "1": "1",
                  "2": "2021-03-13",
                  "3": "Arthur Romero",
                  "4": "arthur33@adventure-works.com",
                  "5": "Mountain-200 Black, 38",
                  "6": "1",
                  "7": "2049.0981",
                  "8": "163.9279"
                },
                {
                  "0": "SO50025",
                  "1": "1",
                  "2": "2021-03-13",
                  "3": "Marissa Wood",
                  "4": "marissa0@adventure-works.com",
                  "5": "Road-550-W Yellow, 44",
                  "6": "1",
                  "7": "1000.4375",
                  "8": "80.035"
                },
                {
                  "0": "SO50027",
                  "1": "1",
                  "2": "2021-03-13",
                  "3": "Martha Wang",
                  "4": "martha1@adventure-works.com",
                  "5": "Road-250 Red, 58",
                  "6": "1",
                  "7": "2181.5625",
                  "8": "174.525"
                },
                {
                  "0": "SO50028",
                  "1": "1",
                  "2": "2021-03-13",
                  "3": "Monique Sanz",
                  "4": "monique16@adventure-works.com",
                  "5": "Road-250 Black, 58",
                  "6": "1",
                  "7": "2181.5625",
                  "8": "174.525"
                },
                {
                  "0": "SO50011",
                  "1": "1",
                  "2": "2021-03-13",
                  "3": "Ram Thirunavukkarasu",
                  "4": "ram1@adventure-works.com",
                  "5": "Mountain-200 Black, 38",
                  "6": "1",
                  "7": "2049.0981",
                  "8": "163.9279"
                },
                {
                  "0": "SO50012",
                  "1": "1",
                  "2": "2021-03-13",
                  "3": "Xavier Rivera",
                  "4": "xavier74@adventure-works.com",
                  "5": "Mountain-200 Black, 38",
                  "6": "1",
                  "7": "2049.0981",
                  "8": "163.9279"
                },
                {
                  "0": "SO50024",
                  "1": "1",
                  "2": "2021-03-13",
                  "3": "Richard Sanchez",
                  "4": "richard98@adventure-works.com",
                  "5": "Road-650 Red, 48",
                  "6": "1",
                  "7": "782.99",
                  "8": "62.6392"
                },
                {
                  "0": "SO50019",
                  "1": "1",
                  "2": "2021-03-13",
                  "3": "Michelle Watson",
                  "4": "michelle2@adventure-works.com",
                  "5": "Road-250 Black, 48",
                  "6": "1",
                  "7": "2181.5625",
                  "8": "174.525"
                },
                {
                  "0": "SO50035",
                  "1": "1",
                  "2": "2021-03-14",
                  "3": "Latasha Ortega",
                  "4": "latasha22@adventure-works.com",
                  "5": "Road-250 Black, 44",
                  "6": "1",
                  "7": "2181.5625",
                  "8": "174.525"
                },
                {
                  "0": "SO50032",
                  "1": "1",
                  "2": "2021-03-14",
                  "3": "Hailey Mitchell",
                  "4": "hailey52@adventure-works.com",
                  "5": "Road-250 Red, 48",
                  "6": "1",
                  "7": "2443.35",
                  "8": "195.468"
                },
                {
                  "0": "SO50033",
                  "1": "1",
                  "2": "2021-03-14",
                  "3": "Deborah Xie",
                  "4": "deborah7@adventure-works.com",
                  "5": "Mountain-200 Silver, 46",
                  "6": "1",
                  "7": "2071.4197",
                  "8": "165.7136"
                },
                {
                  "0": "SO50034",
                  "1": "1",
                  "2": "2021-03-14",
                  "3": "Jennifer Patterson",
                  "4": "jennifer84@adventure-works.com",
                  "5": "Mountain-200 Silver, 42",
                  "6": "1",
                  "7": "2071.4197",
                  "8": "165.7136"
                },
                {
                  "0": "SO50031",
                  "1": "1",
                  "2": "2021-03-14",
                  "3": "Jay Rana",
                  "4": "jay18@adventure-works.com",
                  "5": "Road-650 Black, 52",
                  "6": "1",
                  "7": "782.99",
                  "8": "62.6392"
                },
                {
                  "0": "SO50030",
                  "1": "1",
                  "2": "2021-03-14",
                  "3": "Gabriel Jenkins",
                  "4": "gabriel3@adventure-works.com",
                  "5": "Mountain-200 Silver, 38",
                  "6": "1",
                  "7": "2071.4197",
                  "8": "165.7136"
                },
                {
                  "0": "SO50029",
                  "1": "1",
                  "2": "2021-03-14",
                  "3": "Robert Perez",
                  "4": "robert46@adventure-works.com",
                  "5": "Mountain-200 Silver, 46",
                  "6": "1",
                  "7": "2071.4197",
                  "8": "165.7136"
                },
                {
                  "0": "SO50041",
                  "1": "1",
                  "2": "2021-03-15",
                  "3": "Luis Shan",
                  "4": "luis31@adventure-works.com",
                  "5": "Road-650 Black, 48",
                  "6": "1",
                  "7": "782.99",
                  "8": "62.6392"
                },
                {
                  "0": "SO50042",
                  "1": "1",
                  "2": "2021-03-15",
                  "3": "Xavier Brooks",
                  "4": "xavier67@adventure-works.com",
                  "5": "Road-650 Red, 44",
                  "6": "1",
                  "7": "782.99",
                  "8": "62.6392"
                },
                {
                  "0": "SO50037",
                  "1": "1",
                  "2": "2021-03-15",
                  "3": "Julie Pal",
                  "4": "julie17@adventure-works.com",
                  "5": "Road-250 Black, 58",
                  "6": "1",
                  "7": "2181.5625",
                  "8": "174.525"
                },
                {
                  "0": "SO50039",
                  "1": "1",
                  "2": "2021-03-15",
                  "3": "Ramon She",
                  "4": "ramon21@adventure-works.com",
                  "5": "Road-250 Red, 48",
                  "6": "1",
                  "7": "2443.35",
                  "8": "195.468"
                },
                {
                  "0": "SO50038",
                  "1": "1",
                  "2": "2021-03-15",
                  "3": "Mayra Patel",
                  "4": "mayra2@adventure-works.com",
                  "5": "Road-250 Black, 58",
                  "6": "1",
                  "7": "2181.5625",
                  "8": "174.525"
                },
                {
                  "0": "SO50043",
                  "1": "1",
                  "2": "2021-03-15",
                  "3": "James Anderson",
                  "4": "james82@adventure-works.com",
                  "5": "Road-550-W Yellow, 42",
                  "6": "1",
                  "7": "1000.4375",
                  "8": "80.035"
                },
                {
                  "0": "SO50040",
                  "1": "1",
                  "2": "2021-03-15",
                  "3": "Joel Gonzalez",
                  "4": "joel17@adventure-works.com",
                  "5": "Mountain-200 Silver, 42",
                  "6": "1",
                  "7": "2071.4197",
                  "8": "165.7136"
                },
                {
                  "0": "SO50044",
                  "1": "1",
                  "2": "2021-03-15",
                  "3": "Grant Raje",
                  "4": "grant16@adventure-works.com",
                  "5": "Road-250 Red, 44",
                  "6": "1",
                  "7": "2443.35",
                  "8": "195.468"
                },
                {
                  "0": "SO50036",
                  "1": "1",
                  "2": "2021-03-15",
                  "3": "Sophia Roberts",
                  "4": "sophia2@adventure-works.com",
                  "5": "Mountain-200 Silver, 46",
                  "6": "1",
                  "7": "2071.4197",
                  "8": "165.7136"
                },
                {
                  "0": "SO50045",
                  "1": "1",
                  "2": "2021-03-15",
                  "3": "Erica Zeng",
                  "4": "erica21@adventure-works.com",
                  "5": "Road-650 Red, 44",
                  "6": "1",
                  "7": "782.99",
                  "8": "62.6392"
                },
                {
                  "0": "SO50050",
                  "1": "1",
                  "2": "2021-03-16",
                  "3": "Jay Mehta",
                  "4": "jay20@adventure-works.com",
                  "5": "Mountain-200 Silver, 46",
                  "6": "1",
                  "7": "2071.4197",
                  "8": "165.7136"
                },
                {
                  "0": "SO50049",
                  "1": "1",
                  "2": "2021-03-16",
                  "3": "Rafael Wu",
                  "4": "rafael7@adventure-works.com",
                  "5": "Mountain-200 Silver, 42",
                  "6": "1",
                  "7": "2071.4197",
                  "8": "165.7136"
                },
                {
                  "0": "SO50046",
                  "1": "1",
                  "2": "2021-03-16",
                  "3": "Raul Nara",
                  "4": "raul14@adventure-works.com",
                  "5": "Road-250 Red, 52",
                  "6": "1",
                  "7": "2443.35",
                  "8": "195.468"
                },
                {
                  "0": "SO50047",
                  "1": "1",
                  "2": "2021-03-16",
                  "3": "Arthur Madan",
                  "4": "arthur9@adventure-works.com",
                  "5": "Road-250 Black, 48",
                  "6": "1",
                  "7": "2181.5625",
                  "8": "174.525"
                },
                {
                  "0": "SO50051",
                  "1": "1",
                  "2": "2021-03-16",
                  "3": "Wesley Yang",
                  "4": "wesley5@adventure-works.com",
                  "5": "Mountain-200 Silver, 46",
                  "6": "1",
                  "7": "2071.4197",
                  "8": "165.7136"
                },
                {
                  "0": "SO50048",
                  "1": "1",
                  "2": "2021-03-16",
                  "3": "Briana Sandoval",
                  "4": "briana17@adventure-works.com",
                  "5": "Road-550-W Yellow, 48",
                  "6": "1",
                  "7": "1000.4375",
                  "8": "80.035"
                },
                {
                  "0": "SO50052",
                  "1": "1",
                  "2": "2021-03-16",
                  "3": "Marcus Mitchell",
                  "4": "marcus39@adventure-works.com",
                  "5": "Mountain-200 Silver, 38",
                  "6": "1",
                  "7": "2071.4197",
                  "8": "165.7136"
                },
                {
                  "0": "SO50055",
                  "1": "1",
                  "2": "2021-03-17",
                  "3": "Jessica Gray",
                  "4": "jessica18@adventure-works.com",
                  "5": "Road-550-W Yellow, 40",
                  "6": "1",
                  "7": "1000.4375",
                  "8": "80.035"
                },
                {
                  "0": "SO50060",
                  "1": "1",
                  "2": "2021-03-17",
                  "3": "Karl Shen",
                  "4": "karl2@adventure-works.com",
                  "5": "Mountain-200 Black, 46",
                  "6": "1",
                  "7": "2049.0981",
                  "8": "163.9279"
                },
                {
                  "0": "SO50056",
                  "1": "1",
                  "2": "2021-03-17",
                  "3": "Haley Gray",
                  "4": "haley15@adventure-works.com",
                  "5": "Road-650 Red, 62",
                  "6": "1",
                  "7": "782.99",
                  "8": "62.6392"
                },
                {
                  "0": "SO50057",
                  "1": "1",
                  "2": "2021-03-17",
                  "3": "Rebecca Green",
                  "4": "rebecca16@adventure-works.com",
                  "5": "Road-650 Red, 60",
                  "6": "1",
                  "7": "782.99",
                  "8": "62.6392"
                },
                {
                  "0": "SO50054",
                  "1": "1",
                  "2": "2021-03-17",
                  "3": "Leah Liang",
                  "4": "leah13@adventure-works.com",
                  "5": "Road-250 Red, 48",
                  "6": "1",
                  "7": "2443.35",
                  "8": "195.468"
                },
                {
                  "0": "SO50053",
                  "1": "1",
                  "2": "2021-03-17",
                  "3": "Stacy Hernandez",
                  "4": "stacy5@adventure-works.com",
                  "5": "Road-250 Red, 58",
                  "6": "1",
                  "7": "2181.5625",
                  "8": "174.525"
                },
                {
                  "0": "SO50065",
                  "1": "1",
                  "2": "2021-03-17",
                  "3": "Valerie Hu",
                  "4": "valerie22@adventure-works.com",
                  "5": "Mountain-200 Black, 38",
                  "6": "1",
                  "7": "2049.0981",
                  "8": "163.9279"
                },
                {
                  "0": "SO50059",
                  "1": "1",
                  "2": "2021-03-17",
                  "3": "William Davis",
                  "4": "william21@adventure-works.com",
                  "5": "Road-550-W Yellow, 42",
                  "6": "1",
                  "7": "1000.4375",
                  "8": "80.035"
                },
                {
                  "0": "SO50058",
                  "1": "1",
                  "2": "2021-03-17",
                  "3": "Rachel Wilson",
                  "4": "rachel9@adventure-works.com",
                  "5": "Road-550-W Yellow, 38",
                  "6": "1",
                  "7": "1000.4375",
                  "8": "80.035"
                },
                {
                  "0": "SO50061",
                  "1": "1",
                  "2": "2021-03-17",
                  "3": "Renee Alonso",
                  "4": "renee7@adventure-works.com",
                  "5": "Road-250 Black, 52",
                  "6": "1",
                  "7": "2181.5625",
                  "8": "174.525"
                },
                {
                  "0": "SO50062",
                  "1": "1",
                  "2": "2021-03-17",
                  "3": "Jessie Hernandez",
                  "4": "jessie1@adventure-works.com",
                  "5": "Road-250 Black, 44",
                  "6": "1",
                  "7": "2181.5625",
                  "8": "174.525"
                },
                {
                  "0": "SO50063",
                  "1": "1",
                  "2": "2021-03-17",
                  "3": "Lacey Luo",
                  "4": "lacey40@adventure-works.com",
                  "5": "Road-250 Red, 58",
                  "6": "1",
                  "7": "2181.5625",
                  "8": "174.525"
                },
                {
                  "0": "SO50066",
                  "1": "1",
                  "2": "2021-03-17",
                  "3": "Amy Zeng",
                  "4": "amy29@adventure-works.com",
                  "5": "Road-250 Black, 52",
                  "6": "1",
                  "7": "2181.5625",
                  "8": "174.525"
                },
                {
                  "0": "SO50064",
                  "1": "1",
                  "2": "2021-03-17",
                  "3": "Leonard Shen",
                  "4": "leonard3@adventure-works.com",
                  "5": "Road-250 Black, 52",
                  "6": "1",
                  "7": "2181.5625",
                  "8": "174.525"
                },
                {
                  "0": "SO50067",
                  "1": "1",
                  "2": "2021-03-17",
                  "3": "Krystal Ye",
                  "4": "krystal9@adventure-works.com",
                  "5": "Road-650 Black, 48",
                  "6": "1",
                  "7": "782.99",
                  "8": "62.6392"
                },
                {
                  "0": "SO50068",
                  "1": "1",
                  "2": "2021-03-17",
                  "3": "Marshall Hu",
                  "4": "marshall18@adventure-works.com",
                  "5": "Road-650 Black, 44",
                  "6": "1",
                  "7": "782.99",
                  "8": "62.6392"
                },
                {
                  "0": "SO50077",
                  "1": "1",
                  "2": "2021-03-18",
                  "3": "Anne Serrano",
                  "4": "anne18@adventure-works.com",
                  "5": "Road-250 Red, 44",
                  "6": "1",
                  "7": "2443.35",
                  "8": "195.468"
                },
                {
                  "0": "SO50076",
                  "1": "1",
                  "2": "2021-03-18",
                  "3": "Lydia Martinez",
                  "4": "lydia16@adventure-works.com",
                  "5": "Road-250 Black, 58",
                  "6": "1",
                  "7": "2181.5625",
                  "8": "174.525"
                },
                {
                  "0": "SO50078",
                  "1": "1",
                  "2": "2021-03-18",
                  "3": "Jay Browning",
                  "4": "jay45@adventure-works.com",
                  "5": "Road-250 Red, 52",
                  "6": "1",
                  "7": "2443.35",
                  "8": "195.468"
                },
                {
                  "0": "SO50079",
                  "1": "1",
                  "2": "2021-03-18",
                  "3": "Jaclyn Xu",
                  "4": "jaclyn13@adventure-works.com",
                  "5": "Road-250 Black, 58",
                  "6": "1",
                  "7": "2181.5625",
                  "8": "174.525"
                },
                {
                  "0": "SO50072",
                  "1": "1",
                  "2": "2021-03-18",
                  "3": "Derek She",
                  "4": "derek1@adventure-works.com",
                  "5": "Mountain-200 Black, 46",
                  "6": "1",
                  "7": "2049.0981",
                  "8": "163.9279"
                },
                {
                  "0": "SO50071",
                  "1": "1",
                  "2": "2021-03-18",
                  "3": "Evelyn Malhotra",
                  "4": "evelyn5@adventure-works.com",
                  "5": "Mountain-200 Black, 46",
                  "6": "1",
                  "7": "2049.0981",
                  "8": "163.9279"
                },
                {
                  "0": "SO50070",
                  "1": "1",
                  "2": "2021-03-18",
                  "3": "Jamie Xu",
                  "4": "jamie15@adventure-works.com",
                  "5": "Mountain-200 Black, 38",
                  "6": "1",
                  "7": "2049.0981",
                  "8": "163.9279"
                },
                {
                  "0": "SO50069",
                  "1": "1",
                  "2": "2021-03-18",
                  "3": "Alisha Ma",
                  "4": "alisha16@adventure-works.com",
                  "5": "Road-250 Red, 58",
                  "6": "1",
                  "7": "2181.5625",
                  "8": "174.525"
                },
                {
                  "0": "SO50073",
                  "1": "1",
                  "2": "2021-03-18",
                  "3": "Sriniwa Narayanan",
                  "4": "sriniwa0@adventure-works.com",
                  "5": "Road-650 Black, 44",
                  "6": "1",
                  "7": "782.99",
                  "8": "62.6392"
                },
                {
                  "0": "SO50075",
                  "1": "1",
                  "2": "2021-03-18",
                  "3": "Jermaine Martinez",
                  "4": "jermaine16@adventure-works.com",
                  "5": "Mountain-200 Silver, 46",
                  "6": "1",
                  "7": "2071.4197",
                  "8": "165.7136"
                },
                {
                  "0": "SO50074",
                  "1": "1",
                  "2": "2021-03-18",
                  "3": "Jermaine Prasad",
                  "4": "jermaine7@adventure-works.com",
                  "5": "Mountain-200 Silver, 46",
                  "6": "1",
                  "7": "2071.4197",
                  "8": "165.7136"
                },
                {
                  "0": "SO50083",
                  "1": "1",
                  "2": "2021-03-19",
                  "3": "Bridget Nath",
                  "4": "bridget20@adventure-works.com",
                  "5": "Road-650 Black, 58",
                  "6": "1",
                  "7": "782.99",
                  "8": "62.6392"
                },
                {
                  "0": "SO50081",
                  "1": "1",
                  "2": "2021-03-19",
                  "3": "Geoffrey Ashe",
                  "4": "geoffrey6@adventure-works.com",
                  "5": "Road-650 Black, 48",
                  "6": "1",
                  "7": "782.99",
                  "8": "62.6392"
                },
                {
                  "0": "SO50082",
                  "1": "1",
                  "2": "2021-03-19",
                  "3": "Edwin Lal",
                  "4": "edwin31@adventure-works.com",
                  "5": "Road-650 Red, 62",
                  "6": "1",
                  "7": "782.99",
                  "8": "62.6392"
                },
                {
                  "0": "SO50084",
                  "1": "1",
                  "2": "2021-03-19",
                  "3": "Alexandra Collins",
                  "4": "alexandra46@adventure-works.com",
                  "5": "Mountain-200 Black, 46",
                  "6": "1",
                  "7": "2049.0981",
                  "8": "163.9279"
                },
                {
                  "0": "SO50086",
                  "1": "1",
                  "2": "2021-03-19",
                  "3": "Keith Chander",
                  "4": "keith19@adventure-works.com",
                  "5": "Road-250 Red, 44",
                  "6": "1",
                  "7": "2443.35",
                  "8": "195.468"
                },
                {
                  "0": "SO50085",
                  "1": "1",
                  "2": "2021-03-19",
                  "3": "Teresa Gomez",
                  "4": "teresa2@adventure-works.com",
                  "5": "Road-250 Black, 44",
                  "6": "1",
                  "7": "2181.5625",
                  "8": "174.525"
                },
                {
                  "0": "SO50080",
                  "1": "1",
                  "2": "2021-03-19",
                  "3": "Noah Simmons",
                  "4": "noah12@adventure-works.com",
                  "5": "Mountain-200 Silver, 42",
                  "6": "1",
                  "7": "2071.4197",
                  "8": "165.7136"
                },
                {
                  "0": "SO50092",
                  "1": "1",
                  "2": "2021-03-20",
                  "3": "Shannon Liang",
                  "4": "shannon15@adventure-works.com",
                  "5": "Mountain-200 Silver, 42",
                  "6": "1",
                  "7": "2071.4197",
                  "8": "165.7136"
                },
                {
                  "0": "SO50087",
                  "1": "1",
                  "2": "2021-03-20",
                  "3": "Caleb Powell",
                  "4": "caleb5@adventure-works.com",
                  "5": "Mountain-200 Black, 38",
                  "6": "1",
                  "7": "2049.0981",
                  "8": "163.9279"
                },
                {
                  "0": "SO50091",
                  "1": "1",
                  "2": "2021-03-20",
                  "3": "Gregory Pal",
                  "4": "gregory15@adventure-works.com",
                  "5": "Road-650 Black, 60",
                  "6": "1",
                  "7": "782.99",
                  "8": "62.6392"
                },
                {
                  "0": "SO50090",
                  "1": "1",
                  "2": "2021-03-20",
                  "3": "Maria Price",
                  "4": "maria23@adventure-works.com",
                  "5": "Road-650 Red, 44",
                  "6": "1",
                  "7": "782.99",
                  "8": "62.6392"
                },
                {
                  "0": "SO50095",
                  "1": "1",
                  "2": "2021-03-20",
                  "3": "Drew Tang",
                  "4": "drew4@adventure-works.com",
                  "5": "Mountain-200 Black, 46",
                  "6": "1",
                  "7": "2049.0981",
                  "8": "163.9279"
                },
                {
                  "0": "SO50094",
                  "1": "1",
                  "2": "2021-03-20",
                  "3": "Mathew Hernandez",
                  "4": "mathew0@adventure-works.com",
                  "5": "Mountain-200 Silver, 38",
                  "6": "1",
                  "7": "2071.4197",
                  "8": "165.7136"
                },
                {
                  "0": "SO50093",
                  "1": "1",
                  "2": "2021-03-20",
                  "3": "Blake Evans",
                  "4": "blake45@adventure-works.com",
                  "5": "Road-650 Red, 58",
                  "6": "1",
                  "7": "782.99",
                  "8": "62.6392"
                },
                {
                  "0": "SO50088",
                  "1": "1",
                  "2": "2021-03-20",
                  "3": "Xavier Edwards",
                  "4": "xavier41@adventure-works.com",
                  "5": "Road-250 Black, 58",
                  "6": "1",
                  "7": "2181.5625",
                  "8": "174.525"
                },
                {
                  "0": "SO50089",
                  "1": "1",
                  "2": "2021-03-20",
                  "3": "Kari Prasad",
                  "4": "kari10@adventure-works.com",
                  "5": "Road-550-W Yellow, 48",
                  "6": "1",
                  "7": "1000.4375",
                  "8": "80.035"
                },
                {
                  "0": "SO50096",
                  "1": "1",
                  "2": "2021-03-21",
                  "3": "Armando Diaz",
                  "4": "armando3@adventure-works.com",
                  "5": "Road-250 Black, 52",
                  "6": "1",
                  "7": "2181.5625",
                  "8": "174.525"
                },
                {
                  "0": "SO50098",
                  "1": "1",
                  "2": "2021-03-21",
                  "3": "Caleb Wright",
                  "4": "caleb48@adventure-works.com",
                  "5": "Road-650 Red, 52",
                  "6": "1",
                  "7": "782.99",
                  "8": "62.6392"
                },
                {
                  "0": "SO50099",
                  "1": "1",
                  "2": "2021-03-21",
                  "3": "Oscar Henderson",
                  "4": "oscar13@adventure-works.com",
                  "5": "Road-650 Red, 58",
                  "6": "1",
                  "7": "782.99",
                  "8": "62.6392"
                },
                {
                  "0": "SO50097",
                  "1": "1",
                  "2": "2021-03-21",
                  "3": "Yolanda Simpson",
                  "4": "yolanda2@adventure-works.com",
                  "5": "Road-650 Red, 60",
                  "6": "1",
                  "7": "782.99",
                  "8": "62.6392"
                },
                {
                  "0": "SO50100",
                  "1": "1",
                  "2": "2021-03-21",
                  "3": "Maria Hall",
                  "4": "maria64@adventure-works.com",
                  "5": "Road-550-W Yellow, 42",
                  "6": "1",
                  "7": "1000.4375",
                  "8": "80.035"
                },
                {
                  "0": "SO50104",
                  "1": "1",
                  "2": "2021-03-22",
                  "3": "Jacob Rodriguez",
                  "4": "jacob16@adventure-works.com",
                  "5": "Road-550-W Yellow, 42",
                  "6": "1",
                  "7": "1000.4375",
                  "8": "80.035"
                },
                {
                  "0": "SO50102",
                  "1": "1",
                  "2": "2021-03-22",
                  "3": "Richard Baker",
                  "4": "richard27@adventure-works.com",
                  "5": "Road-250 Red, 52",
                  "6": "1",
                  "7": "2443.35",
                  "8": "195.468"
                },
                {
                  "0": "SO50103",
                  "1": "1",
                  "2": "2021-03-22",
                  "3": "Danielle Ward",
                  "4": "danielle14@adventure-works.com",
                  "5": "Road-650 Red, 60",
                  "6": "1",
                  "7": "782.99",
                  "8": "62.6392"
                },
                {
                  "0": "SO50101",
                  "1": "1",
                  "2": "2021-03-22",
                  "3": "Diana Rubio",
                  "4": "diana20@adventure-works.com",
                  "5": "Road-250 Red, 48",
                  "6": "1",
                  "7": "2443.35",
                  "8": "195.468"
                },
                {
                  "0": "SO50105",
                  "1": "1",
                  "2": "2021-03-22",
                  "3": "Randy Gao",
                  "4": "randy17@adventure-works.com",
                  "5": "Road-550-W Yellow, 48",
                  "6": "1",
                  "7": "1000.4375",
                  "8": "80.035"
                },
                {
                  "0": "SO50106",
                  "1": "1",
                  "2": "2021-03-22",
                  "3": "Micheal Gutierrez",
                  "4": "micheal6@adventure-works.com",
                  "5": "Road-650 Black, 52",
                  "6": "1",
                  "7": "782.99",
                  "8": "62.6392"
                },
                {
                  "0": "SO50111",
                  "1": "1",
                  "2": "2021-03-23",
                  "3": "Carmen Suri",
                  "4": "carmen4@adventure-works.com",
                  "5": "Road-250 Black, 52",
                  "6": "1",
                  "7": "2181.5625",
                  "8": "174.525"
                },
                {
                  "0": "SO50109",
                  "1": "1",
                  "2": "2021-03-23",
                  "3": "Lindsey Kumar",
                  "4": "lindsey8@adventure-works.com",
                  "5": "Road-250 Black, 44",
                  "6": "1",
                  "7": "2181.5625",
                  "8": "174.525"
                },
                {
                  "0": "SO50108",
                  "1": "1",
                  "2": "2021-03-23",
                  "3": "Kate Raje",
                  "4": "kate11@adventure-works.com",
                  "5": "Road-250 Black, 44",
                  "6": "1",
                  "7": "2181.5625",
                  "8": "174.525"
                },
                {
                  "0": "SO50110",
                  "1": "1",
                  "2": "2021-03-23",
                  "3": "Dale She",
                  "4": "dale0@adventure-works.com",
                  "5": "Road-650 Red, 62",
                  "6": "1",
                  "7": "782.99",
                  "8": "62.6392"
                },
                {
                  "0": "SO50107",
                  "1": "1",
                  "2": "2021-03-23",
                  "3": "Theodore Jimenez",
                  "4": "theodore6@adventure-works.com",
                  "5": "Mountain-200 Black, 42",
                  "6": "1",
                  "7": "2049.0981",
                  "8": "163.9279"
                },
                {
                  "0": "SO50112",
                  "1": "1",
                  "2": "2021-03-23",
                  "3": "Roberto Dominguez",
                  "4": "roberto13@adventure-works.com",
                  "5": "Road-650 Red, 48",
                  "6": "1",
                  "7": "782.99",
                  "8": "62.6392"
                },
                {
                  "0": "SO50118",
                  "1": "1",
                  "2": "2021-03-24",
                  "3": "Franklin Zheng",
                  "4": "franklin17@adventure-works.com",
                  "5": "Road-650 Red, 58",
                  "6": "1",
                  "7": "782.99",
                  "8": "62.6392"
                },
                {
                  "0": "SO50117",
                  "1": "1",
                  "2": "2021-03-24",
                  "3": "Omar Rai",
                  "4": "omar38@adventure-works.com",
                  "5": "Road-250 Black, 48",
                  "6": "1",
                  "7": "2181.5625",
                  "8": "174.525"
                },
                {
                  "0": "SO50116",
                  "1": "1",
                  "2": "2021-03-24",
                  "3": "Clayton Li",
                  "4": "clayton3@adventure-works.com",
                  "5": "Road-250 Black, 52",
                  "6": "1",
                  "7": "2181.5625",
                  "8": "174.525"
                },
                {
                  "0": "SO50115",
                  "1": "1",
                  "2": "2021-03-24",
                  "3": "Terrance Garcia",
                  "4": "terrance12@adventure-works.com",
                  "5": "Road-250 Black, 44",
                  "6": "1",
                  "7": "2181.5625",
                  "8": "174.525"
                },
                {
                  "0": "SO50122",
                  "1": "1",
                  "2": "2021-03-24",
                  "3": "Megan Brown",
                  "4": "megan7@adventure-works.com",
                  "5": "Road-650 Black, 48",
                  "6": "1",
                  "7": "782.99",
                  "8": "62.6392"
                },
                {
                  "0": "SO50123",
                  "1": "1",
                  "2": "2021-03-24",
                  "3": "Jos� Miller",
                  "4": "jos�64@adventure-works.com",
                  "5": "Road-650 Red, 52",
                  "6": "1",
                  "7": "782.99",
                  "8": "62.6392"
                },
                {
                  "0": "SO50125",
                  "1": "1",
                  "2": "2021-03-24",
                  "3": "Frank Romero",
                  "4": "frank16@adventure-works.com",
                  "5": "Mountain-200 Black, 38",
                  "6": "1",
                  "7": "2049.0981",
                  "8": "163.9279"
                },
                {
                  "0": "SO50121",
                  "1": "1",
                  "2": "2021-03-24",
                  "3": "Bryant Perez",
                  "4": "bryant20@adventure-works.com",
                  "5": "Mountain-200 Silver, 42",
                  "6": "1",
                  "7": "2071.4197",
                  "8": "165.7136"
                },
                {
                  "0": "SO50126",
                  "1": "1",
                  "2": "2021-03-24",
                  "3": "Derek Kumar",
                  "4": "derek7@adventure-works.com",
                  "5": "Mountain-200 Silver, 46",
                  "6": "1",
                  "7": "2071.4197",
                  "8": "165.7136"
                },
                {
                  "0": "SO50119",
                  "1": "1",
                  "2": "2021-03-24",
                  "3": "Misty Xie",
                  "4": "misty4@adventure-works.com",
                  "5": "Road-250 Black, 52",
                  "6": "1",
                  "7": "2181.5625",
                  "8": "174.525"
                },
                {
                  "0": "SO50120",
                  "1": "1",
                  "2": "2021-03-24",
                  "3": "George Lopez",
                  "4": "george23@adventure-works.com",
                  "5": "Mountain-200 Silver, 38",
                  "6": "1",
                  "7": "2071.4197",
                  "8": "165.7136"
                },
                {
                  "0": "SO50127",
                  "1": "1",
                  "2": "2021-03-24",
                  "3": "Marie Jimenez",
                  "4": "marie29@adventure-works.com",
                  "5": "Road-250 Red, 52",
                  "6": "1",
                  "7": "2443.35",
                  "8": "195.468"
                },
                {
                  "0": "SO50113",
                  "1": "1",
                  "2": "2021-03-24",
                  "3": "Robert Li",
                  "4": "robert38@adventure-works.com",
                  "5": "Mountain-200 Black, 38",
                  "6": "1",
                  "7": "2049.0981",
                  "8": "163.9279"
                },
                {
                  "0": "SO50124",
                  "1": "1",
                  "2": "2021-03-24",
                  "3": "Alexander Thompson",
                  "4": "alexander19@adventure-works.com",
                  "5": "Mountain-200 Silver, 38",
                  "6": "1",
                  "7": "2071.4197",
                  "8": "165.7136"
                },
                {
                  "0": "SO50114",
                  "1": "1",
                  "2": "2021-03-24",
                  "3": "Caleb Lopez",
                  "4": "caleb49@adventure-works.com",
                  "5": "Mountain-200 Silver, 46",
                  "6": "1",
                  "7": "2071.4197",
                  "8": "165.7136"
                },
                {
                  "0": "SO50140",
                  "1": "1",
                  "2": "2021-03-25",
                  "3": "Luke Kumar",
                  "4": "luke17@adventure-works.com",
                  "5": "Road-250 Red, 44",
                  "6": "1",
                  "7": "2443.35",
                  "8": "195.468"
                },
                {
                  "0": "SO50141",
                  "1": "1",
                  "2": "2021-03-25",
                  "3": "Robyn Blanco",
                  "4": "robyn12@adventure-works.com",
                  "5": "Road-250 Red, 48",
                  "6": "1",
                  "7": "2443.35",
                  "8": "195.468"
                },
                {
                  "0": "SO50135",
                  "1": "1",
                  "2": "2021-03-25",
                  "3": "Jaime Raji",
                  "4": "jaime44@adventure-works.com",
                  "5": "Mountain-200 Silver, 42",
                  "6": "1",
                  "7": "2071.4197",
                  "8": "165.7136"
                },
                {
                  "0": "SO50134",
                  "1": "1",
                  "2": "2021-03-25",
                  "3": "Tabitha Alvarez",
                  "4": "tabitha24@adventure-works.com",
                  "5": "Mountain-200 Silver, 42",
                  "6": "1",
                  "7": "2071.4197",
                  "8": "165.7136"
                },
                {
                  "0": "SO50138",
                  "1": "1",
                  "2": "2021-03-25",
                  "3": "Rachel Patterson",
                  "4": "rachel58@adventure-works.com",
                  "5": "Road-550-W Yellow, 48",
                  "6": "1",
                  "7": "1000.4375",
                  "8": "80.035"
                },
                {
                  "0": "SO50133",
                  "1": "1",
                  "2": "2021-03-25",
                  "3": "Robin Ramos",
                  "4": "robin13@adventure-works.com",
                  "5": "Mountain-200 Black, 46",
                  "6": "1",
                  "7": "2049.0981",
                  "8": "163.9279"
                },
                {
                  "0": "SO50139",
                  "1": "1",
                  "2": "2021-03-25",
                  "3": "Deanna Srini",
                  "4": "deanna12@adventure-works.com",
                  "5": "Mountain-200 Silver, 38",
                  "6": "1",
                  "7": "2071.4197",
                  "8": "165.7136"
                },
                {
                  "0": "SO50136",
                  "1": "1",
                  "2": "2021-03-25",
                  "3": "Mackenzie Carter",
                  "4": "mackenzie32@adventure-works.com",
                  "5": "Road-650 Red, 58",
                  "6": "1",
                  "7": "782.99",
                  "8": "62.6392"
                },
                {
                  "0": "SO50137",
                  "1": "1",
                  "2": "2021-03-25",
                  "3": "Isabel Price",
                  "4": "isabel0@adventure-works.com",
                  "5": "Road-650 Black, 48",
                  "6": "1",
                  "7": "782.99",
                  "8": "62.6392"
                },
                {
                  "0": "SO50129",
                  "1": "1",
                  "2": "2021-03-25",
                  "3": "Kristina Patel",
                  "4": "kristina3@adventure-works.com",
                  "5": "Road-250 Black, 58",
                  "6": "1",
                  "7": "2181.5625",
                  "8": "174.525"
                },
                {
                  "0": "SO50132",
                  "1": "1",
                  "2": "2021-03-25",
                  "3": "Jamie Vazquez",
                  "4": "jamie36@adventure-works.com",
                  "5": "Road-650 Black, 62",
                  "6": "1",
                  "7": "782.99",
                  "8": "62.6392"
                },
                {
                  "0": "SO50131",
                  "1": "1",
                  "2": "2021-03-25",
                  "3": "Brian Stewart",
                  "4": "brian34@adventure-works.com",
                  "5": "Road-650 Red, 44",
                  "6": "1",
                  "7": "782.99",
                  "8": "62.6392"
                },
                {
                  "0": "SO50130",
                  "1": "1",
                  "2": "2021-03-25",
                  "3": "Briana Romero",
                  "4": "briana9@adventure-works.com",
                  "5": "Road-550-W Yellow, 40",
                  "6": "1",
                  "7": "1000.4375",
                  "8": "80.035"
                },
                {
                  "0": "SO50128",
                  "1": "1",
                  "2": "2021-03-25",
                  "3": "Emily Bryant",
                  "4": "emily43@adventure-works.com",
                  "5": "Mountain-200 Silver, 38",
                  "6": "1",
                  "7": "2071.4197",
                  "8": "165.7136"
                },
                {
                  "0": "SO50142",
                  "1": "1",
                  "2": "2021-03-25",
                  "3": "Jon Chen",
                  "4": "jon21@adventure-works.com",
                  "5": "Road-650 Red, 60",
                  "6": "1",
                  "7": "782.99",
                  "8": "62.6392"
                },
                {
                  "0": "SO50145",
                  "1": "1",
                  "2": "2021-03-26",
                  "3": "Adrian Sanders",
                  "4": "adrian4@adventure-works.com",
                  "5": "Road-550-W Yellow, 44",
                  "6": "1",
                  "7": "1000.4375",
                  "8": "80.035"
                },
                {
                  "0": "SO50144",
                  "1": "1",
                  "2": "2021-03-26",
                  "3": "Katie Yuan",
                  "4": "katie9@adventure-works.com",
                  "5": "Road-550-W Yellow, 48",
                  "6": "1",
                  "7": "1000.4375",
                  "8": "80.035"
                },
                {
                  "0": "SO50148",
                  "1": "1",
                  "2": "2021-03-26",
                  "3": "Maria Diaz",
                  "4": "maria43@adventure-works.com",
                  "5": "Road-650 Red, 48",
                  "6": "1",
                  "7": "782.99",
                  "8": "62.6392"
                },
                {
                  "0": "SO50149",
                  "1": "1",
                  "2": "2021-03-26",
                  "3": "Meagan Raman",
                  "4": "meagan12@adventure-works.com",
                  "5": "Mountain-200 Silver, 42",
                  "6": "1",
                  "7": "2071.4197",
                  "8": "165.7136"
                },
                {
                  "0": "SO50146",
                  "1": "1",
                  "2": "2021-03-26",
                  "3": "Carol Washington",
                  "4": "carol19@adventure-works.com",
                  "5": "Road-250 Black, 52",
                  "6": "1",
                  "7": "2181.5625",
                  "8": "174.525"
                },
                {
                  "0": "SO50150",
                  "1": "1",
                  "2": "2021-03-26",
                  "3": "Ramon He",
                  "4": "ramon16@adventure-works.com",
                  "5": "Road-650 Black, 44",
                  "6": "1",
                  "7": "782.99",
                  "8": "62.6392"
                },
                {
                  "0": "SO50151",
                  "1": "1",
                  "2": "2021-03-26",
                  "3": "Edwin Li",
                  "4": "edwin3@adventure-works.com",
                  "5": "Road-650 Black, 60",
                  "6": "1",
                  "7": "782.99",
                  "8": "62.6392"
                },
                {
                  "0": "SO50143",
                  "1": "1",
                  "2": "2021-03-26",
                  "3": "Erin Murphy",
                  "4": "erin19@adventure-works.com",
                  "5": "Mountain-200 Black, 42",
                  "6": "1",
                  "7": "2049.0981",
                  "8": "163.9279"
                },
                {
                  "0": "SO50147",
                  "1": "1",
                  "2": "2021-03-26",
                  "3": "Stephanie Ward",
                  "4": "stephanie18@adventure-works.com",
                  "5": "Road-650 Red, 58",
                  "6": "1",
                  "7": "782.99",
                  "8": "62.6392"
                },
                {
                  "0": "SO50154",
                  "1": "1",
                  "2": "2021-03-27",
                  "3": "Natalie Thompson",
                  "4": "natalie83@adventure-works.com",
                  "5": "Road-250 Black, 44",
                  "6": "1",
                  "7": "2181.5625",
                  "8": "174.525"
                },
                {
                  "0": "SO50155",
                  "1": "1",
                  "2": "2021-03-27",
                  "3": "Jeffery Zheng",
                  "4": "jeffery19@adventure-works.com",
                  "5": "Mountain-200 Silver, 46",
                  "6": "1",
                  "7": "2071.4197",
                  "8": "165.7136"
                },
                {
                  "0": "SO50156",
                  "1": "1",
                  "2": "2021-03-27",
                  "3": "Cedric Yang",
                  "4": "cedric5@adventure-works.com",
                  "5": "Mountain-200 Black, 38",
                  "6": "1",
                  "7": "2049.0981",
                  "8": "163.9279"
                },
                {
                  "0": "SO50158",
                  "1": "1",
                  "2": "2021-03-27",
                  "3": "Raul Rai",
                  "4": "raul15@adventure-works.com",
                  "5": "Mountain-200 Silver, 38",
                  "6": "1",
                  "7": "2071.4197",
                  "8": "165.7136"
                },
                {
                  "0": "SO50157",
                  "1": "1",
                  "2": "2021-03-27",
                  "3": "Brendan Andersen",
                  "4": "brendan11@adventure-works.com",
                  "5": "Mountain-200 Silver, 46",
                  "6": "1",
                  "7": "2071.4197",
                  "8": "165.7136"
                },
                {
                  "0": "SO50160",
                  "1": "1",
                  "2": "2021-03-27",
                  "3": "Hailey Richardson",
                  "4": "hailey10@adventure-works.com",
                  "5": "Road-650 Red, 58",
                  "6": "1",
                  "7": "782.99",
                  "8": "62.6392"
                },
                {
                  "0": "SO50152",
                  "1": "1",
                  "2": "2021-03-27",
                  "3": "Luis Parker",
                  "4": "luis33@adventure-works.com",
                  "5": "Road-250 Red, 58",
                  "6": "1",
                  "7": "2181.5625",
                  "8": "174.525"
                },
                {
                  "0": "SO50153",
                  "1": "1",
                  "2": "2021-03-27",
                  "3": "Gina Gutierrez",
                  "4": "gina11@adventure-works.com",
                  "5": "Road-650 Black, 60",
                  "6": "1",
                  "7": "782.99",
                  "8": "62.6392"
                },
                {
                  "0": "SO50159",
                  "1": "1",
                  "2": "2021-03-27",
                  "3": "Gilbert Gao",
                  "4": "gilbert12@adventure-works.com",
                  "5": "Road-250 Red, 52",
                  "6": "1",
                  "7": "2443.35",
                  "8": "195.468"
                },
                {
                  "0": "SO50161",
                  "1": "1",
                  "2": "2021-03-27",
                  "3": "George Sara",
                  "4": "george16@adventure-works.com",
                  "5": "Road-250 Black, 52",
                  "6": "1",
                  "7": "2181.5625",
                  "8": "174.525"
                },
                {
                  "0": "SO50162",
                  "1": "1",
                  "2": "2021-03-27",
                  "3": "Krista Hernandez",
                  "4": "krista4@adventure-works.com",
                  "5": "Road-650 Red, 58",
                  "6": "1",
                  "7": "782.99",
                  "8": "62.6392"
                },
                {
                  "0": "SO50170",
                  "1": "1",
                  "2": "2021-03-28",
                  "3": "Alan Shen",
                  "4": "alan3@adventure-works.com",
                  "5": "Road-250 Red, 58",
                  "6": "1",
                  "7": "2181.5625",
                  "8": "174.525"
                },
                {
                  "0": "SO50166",
                  "1": "1",
                  "2": "2021-03-28",
                  "3": "Krista Alvarez",
                  "4": "krista5@adventure-works.com",
                  "5": "Road-550-W Yellow, 42",
                  "6": "1",
                  "7": "1000.4375",
                  "8": "80.035"
                },
                {
                  "0": "SO50164",
                  "1": "1",
                  "2": "2021-03-28",
                  "3": "Valerie Zhang",
                  "4": "valerie1@adventure-works.com",
                  "5": "Road-250 Black, 52",
                  "6": "1",
                  "7": "2181.5625",
                  "8": "174.525"
                },
                {
                  "0": "SO50165",
                  "1": "1",
                  "2": "2021-03-28",
                  "3": "Valerie Zeng",
                  "4": "valerie24@adventure-works.com",
                  "5": "Road-250 Black, 58",
                  "6": "1",
                  "7": "2181.5625",
                  "8": "174.525"
                },
                {
                  "0": "SO50169",
                  "1": "1",
                  "2": "2021-03-28",
                  "3": "Michele Goel",
                  "4": "michele20@adventure-works.com",
                  "5": "Mountain-200 Silver, 46",
                  "6": "1",
                  "7": "2071.4197",
                  "8": "165.7136"
                },
                {
                  "0": "SO50168",
                  "1": "1",
                  "2": "2021-03-28",
                  "3": "Dana Moreno",
                  "4": "dana22@adventure-works.com",
                  "5": "Mountain-200 Silver, 46",
                  "6": "1",
                  "7": "2071.4197",
                  "8": "165.7136"
                },
                {
                  "0": "SO50167",
                  "1": "1",
                  "2": "2021-03-28",
                  "3": "Christian Henderson",
                  "4": "christian19@adventure-works.com",
                  "5": "Road-250 Red, 58",
                  "6": "1",
                  "7": "2181.5625",
                  "8": "174.525"
                },
                {
                  "0": "SO50163",
                  "1": "1",
                  "2": "2021-03-28",
                  "3": "Virginia Vance",
                  "4": "virginia5@adventure-works.com",
                  "5": "Mountain-200 Silver, 42",
                  "6": "1",
                  "7": "2071.4197",
                  "8": "165.7136"
                },
                {
                  "0": "SO50172",
                  "1": "1",
                  "2": "2021-03-29",
                  "3": "Crystal Lin",
                  "4": "crystal10@adventure-works.com",
                  "5": "Road-550-W Yellow, 40",
                  "6": "1",
                  "7": "1000.4375",
                  "8": "80.035"
                },
                {
                  "0": "SO50176",
                  "1": "1",
                  "2": "2021-03-29",
                  "3": "Marie Martinez",
                  "4": "marie19@adventure-works.com",
                  "5": "Road-250 Red, 58",
                  "6": "1",
                  "7": "2181.5625",
                  "8": "174.525"
                },
                {
                  "0": "SO50171",
                  "1": "1",
                  "2": "2021-03-29",
                  "3": "Edwin Shen",
                  "4": "edwin24@adventure-works.com",
                  "5": "Road-250 Black, 48",
                  "6": "1",
                  "7": "2181.5625",
                  "8": "174.525"
                },
                {
                  "0": "SO50174",
                  "1": "1",
                  "2": "2021-03-29",
                  "3": "Manuel Srini",
                  "4": "manuel7@adventure-works.com",
                  "5": "Road-250 Black, 44",
                  "6": "1",
                  "7": "2181.5625",
                  "8": "174.525"
                },
                {
                  "0": "SO50175",
                  "1": "1",
                  "2": "2021-03-29",
                  "3": "Clifford Sara",
                  "4": "clifford10@adventure-works.com",
                  "5": "Road-250 Red, 58",
                  "6": "1",
                  "7": "2181.5625",
                  "8": "174.525"
                },
                {
                  "0": "SO50173",
                  "1": "1",
                  "2": "2021-03-29",
                  "3": "Clarence Yang",
                  "4": "clarence41@adventure-works.com",
                  "5": "Road-550-W Yellow, 42",
                  "6": "1",
                  "7": "1000.4375",
                  "8": "80.035"
                },
                {
                  "0": "SO50177",
                  "1": "1",
                  "2": "2021-03-29",
                  "3": "Elijah Shan",
                  "4": "elijah5@adventure-works.com",
                  "5": "Road-650 Red, 60",
                  "6": "1",
                  "7": "782.99",
                  "8": "62.6392"
                },
                {
                  "0": "SO50187",
                  "1": "1",
                  "2": "2021-03-30",
                  "3": "Colleen Shan",
                  "4": "colleen34@adventure-works.com",
                  "5": "Mountain-200 Black, 42",
                  "6": "1",
                  "7": "2049.0981",
                  "8": "163.9279"
                },
                {
                  "0": "SO50180",
                  "1": "1",
                  "2": "2021-03-30",
                  "3": "Armando Alvarez",
                  "4": "armando5@adventure-works.com",
                  "5": "Road-250 Red, 48",
                  "6": "1",
                  "7": "2443.35",
                  "8": "195.468"
                },
                {
                  "0": "SO50179",
                  "1": "1",
                  "2": "2021-03-30",
                  "3": "Nathan Martin",
                  "4": "nathan72@adventure-works.com",
                  "5": "Road-250 Black, 52",
                  "6": "1",
                  "7": "2181.5625",
                  "8": "174.525"
                },
                {
                  "0": "SO50181",
                  "1": "1",
                  "2": "2021-03-30",
                  "3": "Dana Jim�nez",
                  "4": "dana21@adventure-works.com",
                  "5": "Road-550-W Yellow, 42",
                  "6": "1",
                  "7": "1000.4375",
                  "8": "80.035"
                },
                {
                  "0": "SO50182",
                  "1": "1",
                  "2": "2021-03-30",
                  "3": "Frank Jimenez",
                  "4": "frank36@adventure-works.com",
                  "5": "Road-650 Red, 62",
                  "6": "1",
                  "7": "782.99",
                  "8": "62.6392"
                },
                {
                  "0": "SO50183",
                  "1": "1",
                  "2": "2021-03-30",
                  "3": "Christy Hu",
                  "4": "christy18@adventure-works.com",
                  "5": "Road-650 Red, 48",
                  "6": "1",
                  "7": "782.99",
                  "8": "62.6392"
                },
                {
                  "0": "SO50186",
                  "1": "1",
                  "2": "2021-03-30",
                  "3": "Nicole Blue",
                  "4": "nicole51@adventure-works.com",
                  "5": "Road-550-W Yellow, 42",
                  "6": "1",
                  "7": "1000.4375",
                  "8": "80.035"
                },
                {
                  "0": "SO50185",
                  "1": "1",
                  "2": "2021-03-30",
                  "3": "Audrey Blanco",
                  "4": "audrey17@adventure-works.com",
                  "5": "Mountain-200 Black, 42",
                  "6": "1",
                  "7": "2049.0981",
                  "8": "163.9279"
                },
                {
                  "0": "SO50184",
                  "1": "1",
                  "2": "2021-03-30",
                  "3": "Melody Munoz",
                  "4": "melody8@adventure-works.com",
                  "5": "Mountain-200 Black, 42",
                  "6": "1",
                  "7": "2049.0981",
                  "8": "163.9279"
                },
                {
                  "0": "SO50178",
                  "1": "1",
                  "2": "2021-03-30",
                  "3": "Rebekah Sara",
                  "4": "rebekah10@adventure-works.com",
                  "5": "Mountain-200 Silver, 42",
                  "6": "1",
                  "7": "2071.4197",
                  "8": "165.7136"
                },
                {
                  "0": "SO50188",
                  "1": "1",
                  "2": "2021-03-30",
                  "3": "Trevor Powell",
                  "4": "trevor8@adventure-works.com",
                  "5": "Road-650 Red, 48",
                  "6": "1",
                  "7": "782.99",
                  "8": "62.6392"
                },
                {
                  "0": "SO50328",
                  "1": "1",
                  "2": "2021-03-31",
                  "3": "Linda Navarro",
                  "4": "linda25@adventure-works.com",
                  "5": "Mountain-200 Silver, 46",
                  "6": "1",
                  "7": "2071.4197",
                  "8": "165.7136"
                },
                {
                  "0": "SO50329",
                  "1": "1",
                  "2": "2021-03-31",
                  "3": "Nancy Schmidt",
                  "4": "nancy13@adventure-works.com",
                  "5": "Mountain-200 Silver, 42",
                  "6": "1",
                  "7": "2071.4197",
                  "8": "165.7136"
                },
                {
                  "0": "SO50327",
                  "1": "1",
                  "2": "2021-03-31",
                  "3": "Mackenzie Ward",
                  "4": "mackenzie10@adventure-works.com",
                  "5": "Road-650 Black, 52",
                  "6": "1",
                  "7": "782.99",
                  "8": "62.6392"
                },
                {
                  "0": "SO50326",
                  "1": "1",
                  "2": "2021-03-31",
                  "3": "Mariah Brooks",
                  "4": "mariah1@adventure-works.com",
                  "5": "Mountain-200 Silver, 42",
                  "6": "1",
                  "7": "2071.4197",
                  "8": "165.7136"
                },
                {
                  "0": "SO50324",
                  "1": "1",
                  "2": "2021-03-31",
                  "3": "Jeremiah Griffin",
                  "4": "jeremiah36@adventure-works.com",
                  "5": "Road-250 Black, 52",
                  "6": "1",
                  "7": "2181.5625",
                  "8": "174.525"
                },
                {
                  "0": "SO50333",
                  "1": "1",
                  "2": "2021-03-31",
                  "3": "Ruben Raman",
                  "4": "ruben13@adventure-works.com",
                  "5": "Mountain-200 Silver, 38",
                  "6": "1",
                  "7": "2071.4197",
                  "8": "165.7136"
                },
                {
                  "0": "SO50330",
                  "1": "1",
                  "2": "2021-03-31",
                  "3": "Pamela Srini",
                  "4": "pamela11@adventure-works.com",
                  "5": "Road-650 Red, 60",
                  "6": "1",
                  "7": "782.99",
                  "8": "62.6392"
                },
                {
                  "0": "SO50335",
                  "1": "1",
                  "2": "2021-03-31",
                  "3": "Edgar Gonzalez",
                  "4": "edgar19@adventure-works.com",
                  "5": "Mountain-200 Silver, 46",
                  "6": "1",
                  "7": "2071.4197",
                  "8": "165.7136"
                },
                {
                  "0": "SO50334",
                  "1": "1",
                  "2": "2021-03-31",
                  "3": "Andre Sanchez",
                  "4": "andre19@adventure-works.com",
                  "5": "Mountain-200 Black, 42",
                  "6": "1",
                  "7": "2049.0981",
                  "8": "163.9279"
                },
                {
                  "0": "SO50331",
                  "1": "1",
                  "2": "2021-03-31",
                  "3": "Alex Cox",
                  "4": "alex14@adventure-works.com",
                  "5": "Road-650 Red, 48",
                  "6": "1",
                  "7": "782.99",
                  "8": "62.6392"
                },
                {
                  "0": "SO50332",
                  "1": "1",
                  "2": "2021-03-31",
                  "3": "Tamara Kumar",
                  "4": "tamara19@adventure-works.com",
                  "5": "Road-550-W Yellow, 42",
                  "6": "1",
                  "7": "1000.4375",
                  "8": "80.035"
                },
                {
                  "0": "SO50325",
                  "1": "1",
                  "2": "2021-03-31",
                  "3": "Bobby Mehta",
                  "4": "bobby10@adventure-works.com",
                  "5": "Mountain-200 Silver, 46",
                  "6": "1",
                  "7": "2071.4197",
                  "8": "165.7136"
                },
                {
                  "0": "SO50323",
                  "1": "1",
                  "2": "2021-03-31",
                  "3": "Miranda Hayes",
                  "4": "miranda23@adventure-works.com",
                  "5": "Mountain-200 Silver, 46",
                  "6": "1",
                  "7": "2071.4197",
                  "8": "165.7136"
                },
                {
                  "0": "SO50344",
                  "1": "1",
                  "2": "2021-04-01",
                  "3": "Grace Lewis",
                  "4": "grace20@adventure-works.com",
                  "5": "Road-650 Black, 62",
                  "6": "1",
                  "7": "782.99",
                  "8": "62.6392"
                },
                {
                  "0": "SO50340",
                  "1": "1",
                  "2": "2021-04-01",
                  "3": "Brandi Diaz",
                  "4": "brandi3@adventure-works.com",
                  "5": "Road-250 Black, 58",
                  "6": "1",
                  "7": "2181.5625",
                  "8": "174.525"
                },
                {
                  "0": "SO50346",
                  "1": "1",
                  "2": "2021-04-01",
                  "3": "Alvin Ye",
                  "4": "alvin9@adventure-works.com",
                  "5": "Mountain-200 Silver, 42",
                  "6": "1",
                  "7": "2071.4197",
                  "8": "165.7136"
                },
                {
                  "0": "SO50345",
                  "1": "1",
                  "2": "2021-04-01",
                  "3": "Yolanda Bhat",
                  "4": "yolanda19@adventure-works.com",
                  "5": "Mountain-200 Silver, 42",
                  "6": "1",
                  "7": "2071.4197",
                  "8": "165.7136"
                },
                {
                  "0": "SO50339",
                  "1": "1",
                  "2": "2021-04-01",
                  "3": "Alisha He",
                  "4": "alisha19@adventure-works.com",
                  "5": "Road-250 Black, 58",
                  "6": "1",
                  "7": "2181.5625",
                  "8": "174.525"
                },
                {
                  "0": "SO50338",
                  "1": "1",
                  "2": "2021-04-01",
                  "3": "Jocelyn Washington",
                  "4": "jocelyn14@adventure-works.com",
                  "5": "Road-250 Black, 52",
                  "6": "1",
                  "7": "2181.5625",
                  "8": "174.525"
                },
                {
                  "0": "SO50337",
                  "1": "1",
                  "2": "2021-04-01",
                  "3": "Julia Bell",
                  "4": "julia51@adventure-works.com",
                  "5": "Mountain-200 Black, 38",
                  "6": "1",
                  "7": "2049.0981",
                  "8": "163.9279"
                },
                {
                  "0": "SO50336",
                  "1": "1",
                  "2": "2021-04-01",
                  "3": "Bryan Cox",
                  "4": "bryan11@adventure-works.com",
                  "5": "Mountain-200 Black, 46",
                  "6": "1",
                  "7": "2049.0981",
                  "8": "163.9279"
                },
                {
                  "0": "SO50342",
                  "1": "1",
                  "2": "2021-04-01",
                  "3": "Steven Morris",
                  "4": "steven28@adventure-works.com",
                  "5": "Mountain-200 Black, 42",
                  "6": "1",
                  "7": "2049.0981",
                  "8": "163.9279"
                },
                {
                  "0": "SO50341",
                  "1": "1",
                  "2": "2021-04-01",
                  "3": "Anna Long",
                  "4": "anna34@adventure-works.com",
                  "5": "Mountain-200 Silver, 46",
                  "6": "1",
                  "7": "2071.4197",
                  "8": "165.7136"
                },
                {
                  "0": "SO50343",
                  "1": "1",
                  "2": "2021-04-01",
                  "3": "Kaitlyn Garcia",
                  "4": "kaitlyn39@adventure-works.com",
                  "5": "Road-250 Black, 52",
                  "6": "1",
                  "7": "2181.5625",
                  "8": "174.525"
                },
                {
                  "0": "SO50350",
                  "1": "1",
                  "2": "2021-04-02",
                  "3": "Francis Hernandez",
                  "4": "francis1@adventure-works.com",
                  "5": "Road-650 Black, 52",
                  "6": "1",
                  "7": "782.99",
                  "8": "62.6392"
                },
                {
                  "0": "SO50348",
                  "1": "1",
                  "2": "2021-04-02",
                  "3": "Dana Rubio",
                  "4": "dana14@adventure-works.com",
                  "5": "Road-550-W Yellow, 38",
                  "6": "1",
                  "7": "1000.4375",
                  "8": "80.035"
                },
                {
                  "0": "SO50349",
                  "1": "1",
                  "2": "2021-04-02",
                  "3": "Alvin Beck",
                  "4": "alvin41@adventure-works.com",
                  "5": "Road-550-W Yellow, 38",
                  "6": "1",
                  "7": "1000.4375",
                  "8": "80.035"
                },
                {
                  "0": "SO50361",
                  "1": "1",
                  "2": "2021-04-02",
                  "3": "Renee Torres",
                  "4": "renee11@adventure-works.com",
                  "5": "Road-550-W Yellow, 44",
                  "6": "1",
                  "7": "1000.4375",
                  "8": "80.035"
                },
                {
                  "0": "SO50355",
                  "1": "1",
                  "2": "2021-04-02",
                  "3": "Shannon Wu",
                  "4": "shannon7@adventure-works.com",
                  "5": "Mountain-200 Silver, 38",
                  "6": "1",
                  "7": "2071.4197",
                  "8": "165.7136"
                },
                {
                  "0": "SO50356",
                  "1": "1",
                  "2": "2021-04-02",
                  "3": "Josue Dominguez",
                  "4": "josue1@adventure-works.com",
                  "5": "Mountain-200 Silver, 42",
                  "6": "1",
                  "7": "2071.4197",
                  "8": "165.7136"
                },
                {
                  "0": "SO50357",
                  "1": "1",
                  "2": "2021-04-02",
                  "3": "Omar Raji",
                  "4": "omar42@adventure-works.com",
                  "5": "Mountain-200 Silver, 38",
                  "6": "1",
                  "7": "2071.4197",
                  "8": "165.7136"
                },
                {
                  "0": "SO50351",
                  "1": "1",
                  "2": "2021-04-02",
                  "3": "Garrett Sanchez",
                  "4": "garrett22@adventure-works.com",
                  "5": "Road-650 Black, 62",
                  "6": "1",
                  "7": "782.99",
                  "8": "62.6392"
                },
                {
                  "0": "SO50352",
                  "1": "1",
                  "2": "2021-04-02",
                  "3": "Angela Hughes",
                  "4": "angela14@adventure-works.com",
                  "5": "Road-650 Black, 60",
                  "6": "1",
                  "7": "782.99",
                  "8": "62.6392"
                },
                {
                  "0": "SO50353",
                  "1": "1",
                  "2": "2021-04-02",
                  "3": "Jon Tang",
                  "4": "jon44@adventure-works.com",
                  "5": "Road-550-W Yellow, 42",
                  "6": "1",
                  "7": "1000.4375",
                  "8": "80.035"
                },
                {
                  "0": "SO50354",
                  "1": "1",
                  "2": "2021-04-02",
                  "3": "Benjamin Walker",
                  "4": "benjamin38@adventure-works.com",
                  "5": "Road-550-W Yellow, 38",
                  "6": "1",
                  "7": "1000.4375",
                  "8": "80.035"
                },
                {
                  "0": "SO50359",
                  "1": "1",
                  "2": "2021-04-02",
                  "3": "Shaun Shan",
                  "4": "shaun11@adventure-works.com",
                  "5": "Road-250 Red, 52",
                  "6": "1",
                  "7": "2443.35",
                  "8": "195.468"
                },
                {
                  "0": "SO50360",
                  "1": "1",
                  "2": "2021-04-02",
                  "3": "Tasha Rai",
                  "4": "tasha18@adventure-works.com",
                  "5": "Road-250 Red, 44",
                  "6": "1",
                  "7": "2443.35",
                  "8": "195.468"
                },
                {
                  "0": "SO50347",
                  "1": "1",
                  "2": "2021-04-02",
                  "3": "Jackson Shan",
                  "4": "jackson4@adventure-works.com",
                  "5": "Mountain-200 Silver, 46",
                  "6": "1",
                  "7": "2071.4197",
                  "8": "165.7136"
                },
                {
                  "0": "SO50358",
                  "1": "1",
                  "2": "2021-04-02",
                  "3": "Ann Sai",
                  "4": "ann11@adventure-works.com",
                  "5": "Road-650 Black, 58",
                  "6": "1",
                  "7": "782.99",
                  "8": "62.6392"
                },
                {
                  "0": "SO50365",
                  "1": "1",
                  "2": "2021-04-03",
                  "3": "Wyatt Barnes",
                  "4": "wyatt54@adventure-works.com",
                  "5": "Road-250 Red, 52",
                  "6": "1",
                  "7": "2443.35",
                  "8": "195.468"
                },
                {
                  "0": "SO50369",
                  "1": "1",
                  "2": "2021-04-03",
                  "3": "Cara Gao",
                  "4": "cara10@adventure-works.com",
                  "5": "Mountain-200 Silver, 38",
                  "6": "1",
                  "7": "2071.4197",
                  "8": "165.7136"
                },
                {
                  "0": "SO50368",
                  "1": "1",
                  "2": "2021-04-03",
                  "3": "Kristopher Malhotra",
                  "4": "kristopher5@adventure-works.com",
                  "5": "Mountain-200 Black, 46",
                  "6": "1",
                  "7": "2049.0981",
                  "8": "163.9279"
                },
                {
                  "0": "SO50370",
                  "1": "1",
                  "2": "2021-04-03",
                  "3": "David Jenkins",
                  "4": "david39@adventure-works.com",
                  "5": "Road-250 Black, 52",
                  "6": "1",
                  "7": "2181.5625",
                  "8": "174.525"
                },
                {
                  "0": "SO50364",
                  "1": "1",
                  "2": "2021-04-03",
                  "3": "Katie Sharma",
                  "4": "katie12@adventure-works.com",
                  "5": "Road-650 Red, 62",
                  "6": "1",
                  "7": "782.99",
                  "8": "62.6392"
                },
                {
                  "0": "SO50363",
                  "1": "1",
                  "2": "2021-04-03",
                  "3": "Aaron Kumar",
                  "4": "aaron28@adventure-works.com",
                  "5": "Mountain-200 Black, 38",
                  "6": "1",
                  "7": "2049.0981",
                  "8": "163.9279"
                },
                {
                  "0": "SO50362",
                  "1": "1",
                  "2": "2021-04-03",
                  "3": "Julia Evans",
                  "4": "julia2@adventure-works.com",
                  "5": "Mountain-200 Black, 46",
                  "6": "1",
                  "7": "2049.0981",
                  "8": "163.9279"
                },
                {
                  "0": "SO50366",
                  "1": "1",
                  "2": "2021-04-03",
                  "3": "Andrew Johnson",
                  "4": "andrew10@adventure-works.com",
                  "5": "Road-250 Red, 48",
                  "6": "1",
                  "7": "2443.35",
                  "8": "195.468"
                },
                {
                  "0": "SO50367",
                  "1": "1",
                  "2": "2021-04-03",
                  "3": "Jessica Russell",
                  "4": "jessica44@adventure-works.com",
                  "5": "Road-550-W Yellow, 38",
                  "6": "1",
                  "7": "1000.4375",
                  "8": "80.035"
                },
                {
                  "0": "SO50377",
                  "1": "1",
                  "2": "2021-04-04",
                  "3": "Wesley Liu",
                  "4": "wesley4@adventure-works.com",
                  "5": "Road-650 Black, 58",
                  "6": "1",
                  "7": "782.99",
                  "8": "62.6392"
                },
                {
                  "0": "SO50378",
                  "1": "1",
                  "2": "2021-04-04",
                  "3": "Roger Chande",
                  "4": "roger42@adventure-works.com",
                  "5": "Road-650 Red, 58",
                  "6": "1",
                  "7": "782.99",
                  "8": "62.6392"
                },
                {
                  "0": "SO50375",
                  "1": "1",
                  "2": "2021-04-04",
                  "3": "Carlos Scott",
                  "4": "carlos43@adventure-works.com",
                  "5": "Road-550-W Yellow, 38",
                  "6": "1",
                  "7": "1000.4375",
                  "8": "80.035"
                },
                {
                  "0": "SO50376",
                  "1": "1",
                  "2": "2021-04-04",
                  "3": "Noah Long",
                  "4": "noah6@adventure-works.com",
                  "5": "Road-550-W Yellow, 42",
                  "6": "1",
                  "7": "1000.4375",
                  "8": "80.035"
                },
                {
                  "0": "SO50374",
                  "1": "1",
                  "2": "2021-04-04",
                  "3": "Alejandro Zhao",
                  "4": "alejandro13@adventure-works.com",
                  "5": "Road-550-W Yellow, 40",
                  "6": "1",
                  "7": "1000.4375",
                  "8": "80.035"
                },
                {
                  "0": "SO50381",
                  "1": "1",
                  "2": "2021-04-04",
                  "3": "Patricia Suri",
                  "4": "patricia5@adventure-works.com",
                  "5": "Mountain-200 Silver, 46",
                  "6": "1",
                  "7": "2071.4197",
                  "8": "165.7136"
                },
                {
                  "0": "SO50382",
                  "1": "1",
                  "2": "2021-04-04",
                  "3": "Darren Srini",
                  "4": "darren11@adventure-works.com",
                  "5": "Mountain-200 Black, 42",
                  "6": "1",
                  "7": "2049.0981",
                  "8": "163.9279"
                },
                {
                  "0": "SO50371",
                  "1": "1",
                  "2": "2021-04-04",
                  "3": "Jermaine Rodriguez",
                  "4": "jermaine18@adventure-works.com",
                  "5": "Road-250 Black, 44",
                  "6": "1",
                  "7": "2181.5625",
                  "8": "174.525"
                },
                {
                  "0": "SO50379",
                  "1": "1",
                  "2": "2021-04-04",
                  "3": "Raymond Malhotra",
                  "4": "raymond6@adventure-works.com",
                  "5": "Mountain-200 Black, 38",
                  "6": "1",
                  "7": "2049.0981",
                  "8": "163.9279"
                },
                {
                  "0": "SO50380",
                  "1": "1",
                  "2": "2021-04-04",
                  "3": "Jordan Turner",
                  "4": "jordan59@adventure-works.com",
                  "5": "Mountain-200 Silver, 46",
                  "6": "1",
                  "7": "2071.4197",
                  "8": "165.7136"
                },
                {
                  "0": "SO50373",
                  "1": "1",
                  "2": "2021-04-04",
                  "3": "Candice Ma",
                  "4": "candice22@adventure-works.com",
                  "5": "Mountain-200 Black, 38",
                  "6": "1",
                  "7": "2049.0981",
                  "8": "163.9279"
                },
                {
                  "0": "SO50383",
                  "1": "1",
                  "2": "2021-04-04",
                  "3": "Gilbert Andersen",
                  "4": "gilbert34@adventure-works.com",
                  "5": "Road-650 Red, 44",
                  "6": "1",
                  "7": "782.99",
                  "8": "62.6392"
                },
                {
                  "0": "SO50384",
                  "1": "1",
                  "2": "2021-04-04",
                  "3": "Carolyn Srini",
                  "4": "carolyn8@adventure-works.com",
                  "5": "Road-650 Black, 48",
                  "6": "1",
                  "7": "782.99",
                  "8": "62.6392"
                },
                {
                  "0": "SO50372",
                  "1": "1",
                  "2": "2021-04-04",
                  "3": "Trinity Howard",
                  "4": "trinity11@adventure-works.com",
                  "5": "Mountain-200 Black, 38",
                  "6": "1",
                  "7": "2049.0981",
                  "8": "163.9279"
                },
                {
                  "0": "SO50389",
                  "1": "1",
                  "2": "2021-04-05",
                  "3": "Reginald Ramos",
                  "4": "reginald3@adventure-works.com",
                  "5": "Mountain-200 Black, 46",
                  "6": "1",
                  "7": "2049.0981",
                  "8": "163.9279"
                },
                {
                  "0": "SO50390",
                  "1": "1",
                  "2": "2021-04-05",
                  "3": "Carly Xie",
                  "4": "carly2@adventure-works.com",
                  "5": "Mountain-200 Silver, 38",
                  "6": "1",
                  "7": "2071.4197",
                  "8": "165.7136"
                },
                {
                  "0": "SO50395",
                  "1": "1",
                  "2": "2021-04-05",
                  "3": "Brian Cox",
                  "4": "brian22@adventure-works.com",
                  "5": "Road-550-W Yellow, 40",
                  "6": "1",
                  "7": "1000.4375",
                  "8": "80.035"
                },
                {
                  "0": "SO50393",
                  "1": "1",
                  "2": "2021-04-05",
                  "3": "Roberto Ruiz",
                  "4": "roberto1@adventure-works.com",
                  "5": "Road-650 Black, 60",
                  "6": "1",
                  "7": "782.99",
                  "8": "62.6392"
                },
                {
                  "0": "SO50397",
                  "1": "1",
                  "2": "2021-04-05",
                  "3": "Kristy Alvarez",
                  "4": "kristy5@adventure-works.com",
                  "5": "Mountain-200 Black, 42",
                  "6": "1",
                  "7": "2049.0981",
                  "8": "163.9279"
                },
                {
                  "0": "SO50398",
                  "1": "1",
                  "2": "2021-04-05",
                  "3": "Javier Gill",
                  "4": "javier8@adventure-works.com",
                  "5": "Mountain-200 Black, 42",
                  "6": "1",
                  "7": "2049.0981",
                  "8": "163.9279"
                },
                {
                  "0": "SO50392",
                  "1": "1",
                  "2": "2021-04-05",
                  "3": "Robert Diaz",
                  "4": "robert33@adventure-works.com",
                  "5": "Road-650 Red, 48",
                  "6": "1",
                  "7": "782.99",
                  "8": "62.6392"
                },
                {
                  "0": "SO50391",
                  "1": "1",
                  "2": "2021-04-05",
                  "3": "Taylor Bryant",
                  "4": "taylor42@adventure-works.com",
                  "5": "Road-650 Black, 62",
                  "6": "1",
                  "7": "782.99",
                  "8": "62.6392"
                },
                {
                  "0": "SO50396",
                  "1": "1",
                  "2": "2021-04-05",
                  "3": "Mason Evans",
                  "4": "mason21@adventure-works.com",
                  "5": "Mountain-200 Black, 46",
                  "6": "1",
                  "7": "2049.0981",
                  "8": "163.9279"
                },
                {
                  "0": "SO50386",
                  "1": "1",
                  "2": "2021-04-05",
                  "3": "Steven Watson",
                  "4": "steven10@adventure-works.com",
                  "5": "Road-250 Black, 44",
                  "6": "1",
                  "7": "2181.5625",
                  "8": "174.525"
                },
                {
                  "0": "SO50399",
                  "1": "1",
                  "2": "2021-04-05",
                  "3": "Meghan Alonso",
                  "4": "meghan8@adventure-works.com",
                  "5": "Road-250 Black, 58",
                  "6": "1",
                  "7": "2181.5625",
                  "8": "174.525"
                },
                {
                  "0": "SO50394",
                  "1": "1",
                  "2": "2021-04-05",
                  "3": "Richard Thomas",
                  "4": "richard51@adventure-works.com",
                  "5": "Road-650 Black, 58",
                  "6": "1",
                  "7": "782.99",
                  "8": "62.6392"
                },
                {
                  "0": "SO50387",
                  "1": "1",
                  "2": "2021-04-05",
                  "3": "Faith Griffin",
                  "4": "faith20@adventure-works.com",
                  "5": "Mountain-200 Silver, 42",
                  "6": "1",
                  "7": "2071.4197",
                  "8": "165.7136"
                },
                {
                  "0": "SO50385",
                  "1": "1",
                  "2": "2021-04-05",
                  "3": "Christian Flores",
                  "4": "christian27@adventure-works.com",
                  "5": "Mountain-200 Silver, 46",
                  "6": "1",
                  "7": "2071.4197",
                  "8": "165.7136"
                },
                {
                  "0": "SO50388",
                  "1": "1",
                  "2": "2021-04-05",
                  "3": "Riley Gonzales",
                  "4": "riley14@adventure-works.com",
                  "5": "Mountain-200 Silver, 38",
                  "6": "1",
                  "7": "2071.4197",
                  "8": "165.7136"
                },
                {
                  "0": "SO50407",
                  "1": "1",
                  "2": "2021-04-06",
                  "3": "Cesar Kapoor",
                  "4": "cesar1@adventure-works.com",
                  "5": "Road-250 Red, 58",
                  "6": "1",
                  "7": "2181.5625",
                  "8": "174.525"
                },
                {
                  "0": "SO50408",
                  "1": "1",
                  "2": "2021-04-06",
                  "3": "Ebony Prasad",
                  "4": "ebony9@adventure-works.com",
                  "5": "Road-250 Black, 44",
                  "6": "1",
                  "7": "2181.5625",
                  "8": "174.525"
                },
                {
                  "0": "SO50401",
                  "1": "1",
                  "2": "2021-04-06",
                  "3": "Franklin He",
                  "4": "franklin16@adventure-works.com",
                  "5": "Road-250 Red, 58",
                  "6": "1",
                  "7": "2181.5625",
                  "8": "174.525"
                },
                {
                  "0": "SO50400",
                  "1": "1",
                  "2": "2021-04-06",
                  "3": "Brent Zhang",
                  "4": "brent0@adventure-works.com",
                  "5": "Road-250 Red, 44",
                  "6": "1",
                  "7": "2443.35",
                  "8": "195.468"
                },
                {
                  "0": "SO50406",
                  "1": "1",
                  "2": "2021-04-06",
                  "3": "Calvin Rai",
                  "4": "calvin16@adventure-works.com",
                  "5": "Mountain-200 Black, 42",
                  "6": "1",
                  "7": "2049.0981",
                  "8": "163.9279"
                },
                {
                  "0": "SO50403",
                  "1": "1",
                  "2": "2021-04-06",
                  "3": "Gilbert Zeng",
                  "4": "gilbert20@adventure-works.com",
                  "5": "Road-650 Red, 58",
                  "6": "1",
                  "7": "782.99",
                  "8": "62.6392"
                },
                {
                  "0": "SO50402",
                  "1": "1",
                  "2": "2021-04-06",
                  "3": "Ethan Winston",
                  "4": "ethan21@adventure-works.com",
                  "5": "Mountain-200 Black, 46",
                  "6": "1",
                  "7": "2049.0981",
                  "8": "163.9279"
                },
                {
                  "0": "SO50405",
                  "1": "1",
                  "2": "2021-04-06",
                  "3": "Tyler Moore",
                  "4": "tyler14@adventure-works.com",
                  "5": "Road-550-W Yellow, 44",
                  "6": "1",
                  "7": "1000.4375",
                  "8": "80.035"
                },
                {
                  "0": "SO50404",
                  "1": "1",
                  "2": "2021-04-06",
                  "3": "Edward Patterson",
                  "4": "edward59@adventure-works.com",
                  "5": "Mountain-200 Black, 38",
                  "6": "1",
                  "7": "2049.0981",
                  "8": "163.9279"
                },
                {
                  "0": "SO50417",
                  "1": "1",
                  "2": "2021-04-07",
                  "3": "Lacey Zheng",
                  "4": "lacey32@adventure-works.com",
                  "5": "Mountain-200 Black, 38",
                  "6": "1",
                  "7": "2049.0981",
                  "8": "163.9279"
                },
                {
                  "0": "SO50416",
                  "1": "1",
                  "2": "2021-04-07",
                  "3": "Latoya Xu",
                  "4": "latoya4@adventure-works.com",
                  "5": "Mountain-200 Black, 46",
                  "6": "1",
                  "7": "2049.0981",
                  "8": "163.9279"
                },
                {
                  "0": "SO50419",
                  "1": "1",
                  "2": "2021-04-07",
                  "3": "Jesse Scott",
                  "4": "jesse37@adventure-works.com",
                  "5": "Road-550-W Yellow, 44",
                  "6": "1",
                  "7": "1000.4375",
                  "8": "80.035"
                },
                {
                  "0": "SO50415",
                  "1": "1",
                  "2": "2021-04-07",
                  "3": "Isaiah Richardson",
                  "4": "isaiah8@adventure-works.com",
                  "5": "Road-650 Red, 60",
                  "6": "1",
                  "7": "782.99",
                  "8": "62.6392"
                },
                {
                  "0": "SO50414",
                  "1": "1",
                  "2": "2021-04-07",
                  "3": "Jacqueline Howard",
                  "4": "jacqueline35@adventure-works.com",
                  "5": "Road-550-W Yellow, 44",
                  "6": "1",
                  "7": "1000.4375",
                  "8": "80.035"
                },
                {
                  "0": "SO50422",
                  "1": "1",
                  "2": "2021-04-07",
                  "3": "Ebony Martin",
                  "4": "ebony22@adventure-works.com",
                  "5": "Mountain-200 Silver, 38",
                  "6": "1",
                  "7": "2071.4197",
                  "8": "165.7136"
                },
                {
                  "0": "SO50418",
                  "1": "1",
                  "2": "2021-04-07",
                  "3": "Haley Cooper",
                  "4": "haley9@adventure-works.com",
                  "5": "Road-650 Red, 52",
                  "6": "1",
                  "7": "782.99",
                  "8": "62.6392"
                },
                {
                  "0": "SO50421",
                  "1": "1",
                  "2": "2021-04-07",
                  "3": "Roger She",
                  "4": "roger27@adventure-works.com",
                  "5": "Mountain-200 Black, 38",
                  "6": "1",
                  "7": "2049.0981",
                  "8": "163.9279"
                },
                {
                  "0": "SO50409",
                  "1": "1",
                  "2": "2021-04-07",
                  "3": "Reginald Suarez",
                  "4": "reginald5@adventure-works.com",
                  "5": "Road-250 Red, 58",
                  "6": "1",
                  "7": "2181.5625",
                  "8": "174.525"
                },
                {
                  "0": "SO50410",
                  "1": "1",
                  "2": "2021-04-07",
                  "3": "Blake Diaz",
                  "4": "blake69@adventure-works.com",
                  "5": "Road-250 Black, 52",
                  "6": "1",
                  "7": "2181.5625",
                  "8": "174.525"
                },
                {
                  "0": "SO50411",
                  "1": "1",
                  "2": "2021-04-07",
                  "3": "Deanna Chandra",
                  "4": "deanna5@adventure-works.com",
                  "5": "Road-250 Black, 58",
                  "6": "1",
                  "7": "2181.5625",
                  "8": "174.525"
                },
                {
                  "0": "SO50423",
                  "1": "1",
                  "2": "2021-04-07",
                  "3": "Carolyn Diaz",
                  "4": "carolyn25@adventure-works.com",
                  "5": "Road-250 Red, 52",
                  "6": "1",
                  "7": "2443.35",
                  "8": "195.468"
                },
                {
                  "0": "SO50420",
                  "1": "1",
                  "2": "2021-04-07",
                  "3": "Natalie Gonzalez",
                  "4": "natalie60@adventure-works.com",
                  "5": "Road-550-W Yellow, 44",
                  "6": "1",
                  "7": "1000.4375",
                  "8": "80.035"
                },
                {
                  "0": "SO50413",
                  "1": "1",
                  "2": "2021-04-07",
                  "3": "Marcus Miller",
                  "4": "marcus6@adventure-works.com",
                  "5": "Mountain-200 Silver, 42",
                  "6": "1",
                  "7": "2071.4197",
                  "8": "165.7136"
                },
                {
                  "0": "SO50412",
                  "1": "1",
                  "2": "2021-04-07",
                  "3": "Latasha Serrano",
                  "4": "latasha16@adventure-works.com",
                  "5": "Mountain-200 Black, 38",
                  "6": "1",
                  "7": "2049.0981",
                  "8": "163.9279"
                },
                {
                  "0": "SO50430",
                  "1": "1",
                  "2": "2021-04-08",
                  "3": "Shane Suri",
                  "4": "shane4@adventure-works.com",
                  "5": "Road-550-W Yellow, 44",
                  "6": "1",
                  "7": "1000.4375",
                  "8": "80.035"
                },
                {
                  "0": "SO50431",
                  "1": "1",
                  "2": "2021-04-08",
                  "3": "Leslie Navarro",
                  "4": "leslie11@adventure-works.com",
                  "5": "Road-250 Red, 52",
                  "6": "1",
                  "7": "2443.35",
                  "8": "195.468"
                },
                {
                  "0": "SO50427",
                  "1": "1",
                  "2": "2021-04-08",
                  "3": "Damien Lu",
                  "4": "damien9@adventure-works.com",
                  "5": "Road-650 Black, 60",
                  "6": "1",
                  "7": "782.99",
                  "8": "62.6392"
                },
                {
                  "0": "SO50424",
                  "1": "1",
                  "2": "2021-04-08",
                  "3": "Mathew Dominguez",
                  "4": "mathew8@adventure-works.com",
                  "5": "Road-250 Black, 52",
                  "6": "1",
                  "7": "2181.5625",
                  "8": "174.525"
                },
                {
                  "0": "SO50426",
                  "1": "1",
                  "2": "2021-04-08",
                  "3": "Alexandra Rodriguez",
                  "4": "alexandra84@adventure-works.com",
                  "5": "Mountain-200 Silver, 42",
                  "6": "1",
                  "7": "2071.4197",
                  "8": "165.7136"
                },
                {
                  "0": "SO50429",
                  "1": "1",
                  "2": "2021-04-08",
                  "3": "Jennifer Peterson",
                  "4": "jennifer68@adventure-works.com",
                  "5": "Road-550-W Yellow, 44",
                  "6": "1",
                  "7": "1000.4375",
                  "8": "80.035"
                },
                {
                  "0": "SO50428",
                  "1": "1",
                  "2": "2021-04-08",
                  "3": "Hannah Barnes",
                  "4": "hannah26@adventure-works.com",
                  "5": "Road-550-W Yellow, 38",
                  "6": "1",
                  "7": "1000.4375",
                  "8": "80.035"
                },
                {
                  "0": "SO50425",
                  "1": "1",
                  "2": "2021-04-08",
                  "3": "Mindy Chander",
                  "4": "mindy20@adventure-works.com",
                  "5": "Mountain-200 Black, 42",
                  "6": "1",
                  "7": "2049.0981",
                  "8": "163.9279"
                },
                {
                  "0": "SO50434",
                  "1": "1",
                  "2": "2021-04-09",
                  "3": "Caroline Simmons",
                  "4": "caroline16@adventure-works.com",
                  "5": "Road-250 Black, 48",
                  "6": "1",
                  "7": "2181.5625",
                  "8": "174.525"
                },
                {
                  "0": "SO50435",
                  "1": "1",
                  "2": "2021-04-09",
                  "3": "Mandar Samant",
                  "4": "mandar2@adventure-works.com",
                  "5": "Mountain-200 Silver, 46",
                  "6": "1",
                  "7": "2071.4197",
                  "8": "165.7136"
                },
                {
                  "0": "SO50433",
                  "1": "1",
                  "2": "2021-04-09",
                  "3": "Melody Carlson",
                  "4": "melody18@adventure-works.com",
                  "5": "Road-650 Red, 44",
                  "6": "1",
                  "7": "782.99",
                  "8": "62.6392"
                },
                {
                  "0": "SO50437",
                  "1": "1",
                  "2": "2021-04-09",
                  "3": "Dawn He",
                  "4": "dawn20@adventure-works.com",
                  "5": "Mountain-200 Black, 38",
                  "6": "1",
                  "7": "2049.0981",
                  "8": "163.9279"
                },
                {
                  "0": "SO50432",
                  "1": "1",
                  "2": "2021-04-09",
                  "3": "Tommy Yuan",
                  "4": "tommy3@adventure-works.com",
                  "5": "Road-250 Black, 52",
                  "6": "1",
                  "7": "2181.5625",
                  "8": "174.525"
                },
                {
                  "0": "SO50436",
                  "1": "1",
                  "2": "2021-04-09",
                  "3": "Kristine Gutierrez",
                  "4": "kristine12@adventure-works.com",
                  "5": "Road-550-W Yellow, 42",
                  "6": "1",
                  "7": "1000.4375",
                  "8": "80.035"
                },
                {
                  "0": "SO50446",
                  "1": "1",
                  "2": "2021-04-10",
                  "3": "Priscilla Deng",
                  "4": "priscilla1@adventure-works.com",
                  "5": "Road-550-W Yellow, 44",
                  "6": "1",
                  "7": "1000.4375",
                  "8": "80.035"
                },
                {
                  "0": "SO50438",
                  "1": "1",
                  "2": "2021-04-10",
                  "3": "Alfredo Rubio",
                  "4": "alfredo22@adventure-works.com",
                  "5": "Road-250 Red, 58",
                  "6": "1",
                  "7": "2181.5625",
                  "8": "174.525"
                },
                {
                  "0": "SO50447",
                  "1": "1",
                  "2": "2021-04-10",
                  "3": "Faith Barnes",
                  "4": "faith3@adventure-works.com",
                  "5": "Mountain-200 Black, 46",
                  "6": "1",
                  "7": "2049.0981",
                  "8": "163.9279"
                },
                {
                  "0": "SO50448",
                  "1": "1",
                  "2": "2021-04-10",
                  "3": "Clayton Chen",
                  "4": "clayton2@adventure-works.com",
                  "5": "Mountain-200 Black, 38",
                  "6": "1",
                  "7": "2049.0981",
                  "8": "163.9279"
                },
                {
                  "0": "SO50449",
                  "1": "1",
                  "2": "2021-04-10",
                  "3": "Geoffrey Raman",
                  "4": "geoffrey10@adventure-works.com",
                  "5": "Mountain-200 Silver, 38",
                  "6": "1",
                  "7": "2071.4197",
                  "8": "165.7136"
                },
                {
                  "0": "SO50441",
                  "1": "1",
                  "2": "2021-04-10",
                  "3": "Robin Gutierrez",
                  "4": "robin7@adventure-works.com",
                  "5": "Road-650 Red, 60",
                  "6": "1",
                  "7": "782.99",
                  "8": "62.6392"
                },
                {
                  "0": "SO50439",
                  "1": "1",
                  "2": "2021-04-10",
                  "3": "Elijah Carter",
                  "4": "elijah38@adventure-works.com",
                  "5": "Mountain-200 Black, 42",
                  "6": "1",
                  "7": "2049.0981",
                  "8": "163.9279"
                },
                {
                  "0": "SO50440",
                  "1": "1",
                  "2": "2021-04-10",
                  "3": "Felicia Carlson",
                  "4": "felicia17@adventure-works.com",
                  "5": "Road-550-W Yellow, 38",
                  "6": "1",
                  "7": "1000.4375",
                  "8": "80.035"
                },
                {
                  "0": "SO50444",
                  "1": "1",
                  "2": "2021-04-10",
                  "3": "Gabrielle Gonzales",
                  "4": "gabrielle39@adventure-works.com",
                  "5": "Road-550-W Yellow, 48",
                  "6": "1",
                  "7": "1000.4375",
                  "8": "80.035"
                },
                {
                  "0": "SO50442",
                  "1": "1",
                  "2": "2021-04-10",
                  "3": "Kelli Cai",
                  "4": "kelli21@adventure-works.com",
                  "5": "Mountain-200 Silver, 38",
                  "6": "1",
                  "7": "2071.4197",
                  "8": "165.7136"
                },
                {
                  "0": "SO50443",
                  "1": "1",
                  "2": "2021-04-10",
                  "3": "Katrina Becker",
                  "4": "katrina19@adventure-works.com",
                  "5": "Mountain-200 Black, 46",
                  "6": "1",
                  "7": "2049.0981",
                  "8": "163.9279"
                },
                {
                  "0": "SO50445",
                  "1": "1",
                  "2": "2021-04-10",
                  "3": "David Powell",
                  "4": "david41@adventure-works.com",
                  "5": "Road-550-W Yellow, 44",
                  "6": "1",
                  "7": "1000.4375",
                  "8": "80.035"
                },
                {
                  "0": "SO50455",
                  "1": "1",
                  "2": "2021-04-11",
                  "3": "Lisa Zeng",
                  "4": "lisa25@adventure-works.com",
                  "5": "Road-650 Black, 62",
                  "6": "1",
                  "7": "782.99",
                  "8": "62.6392"
                },
                {
                  "0": "SO50454",
                  "1": "1",
                  "2": "2021-04-11",
                  "3": "Karla Shan",
                  "4": "karla11@adventure-works.com",
                  "5": "Road-550-W Yellow, 48",
                  "6": "1",
                  "7": "1000.4375",
                  "8": "80.035"
                },
                {
                  "0": "SO50458",
                  "1": "1",
                  "2": "2021-04-11",
                  "3": "Arthur Rodriguez",
                  "4": "arthur20@adventure-works.com",
                  "5": "Mountain-200 Silver, 42",
                  "6": "1",
                  "7": "2071.4197",
                  "8": "165.7136"
                },
                {
                  "0": "SO50457",
                  "1": "1",
                  "2": "2021-04-11",
                  "3": "Harold Malhotra",
                  "4": "harold2@adventure-works.com",
                  "5": "Mountain-200 Black, 38",
                  "6": "1",
                  "7": "2049.0981",
                  "8": "163.9279"
                },
                {
                  "0": "SO50456",
                  "1": "1",
                  "2": "2021-04-11",
                  "3": "Kate Deng",
                  "4": "kate1@adventure-works.com",
                  "5": "Mountain-200 Black, 42",
                  "6": "1",
                  "7": "2049.0981",
                  "8": "163.9279"
                },
                {
                  "0": "SO50450",
                  "1": "1",
                  "2": "2021-04-11",
                  "3": "Brian Rivera",
                  "4": "brian28@adventure-works.com",
                  "5": "Road-250 Red, 44",
                  "6": "1",
                  "7": "2443.35",
                  "8": "195.468"
                },
                {
                  "0": "SO50453",
                  "1": "1",
                  "2": "2021-04-11",
                  "3": "Madison Patterson",
                  "4": "madison46@adventure-works.com",
                  "5": "Road-550-W Yellow, 38",
                  "6": "1",
                  "7": "1000.4375",
                  "8": "80.035"
                },
                {
                  "0": "SO50459",
                  "1": "1",
                  "2": "2021-04-11",
                  "3": "Frederick Rodriguez",
                  "4": "frederick16@adventure-works.com",
                  "5": "Road-250 Red, 48",
                  "6": "1",
                  "7": "2443.35",
                  "8": "195.468"
                },
                {
                  "0": "SO50462",
                  "1": "1",
                  "2": "2021-04-11",
                  "3": "Henry Prasad",
                  "4": "henry10@adventure-works.com",
                  "5": "Road-250 Red, 58",
                  "6": "1",
                  "7": "2181.5625",
                  "8": "174.525"
                },
                {
                  "0": "SO50451",
                  "1": "1",
                  "2": "2021-04-11",
                  "3": "Elijah Chen",
                  "4": "elijah27@adventure-works.com",
                  "5": "Mountain-200 Black, 42",
                  "6": "1",
                  "7": "2049.0981",
                  "8": "163.9279"
                },
                {
                  "0": "SO50452",
                  "1": "1",
                  "2": "2021-04-11",
                  "3": "Naomi Gutierrez",
                  "4": "naomi11@adventure-works.com",
                  "5": "Mountain-200 Black, 42",
                  "6": "1",
                  "7": "2049.0981",
                  "8": "163.9279"
                },
                {
                  "0": "SO50460",
                  "1": "1",
                  "2": "2021-04-11",
                  "3": "Douglas Subram",
                  "4": "douglas17@adventure-works.com",
                  "5": "Road-650 Red, 52",
                  "6": "1",
                  "7": "782.99",
                  "8": "62.6392"
                },
                {
                  "0": "SO50461",
                  "1": "1",
                  "2": "2021-04-11",
                  "3": "Nelson Suarez",
                  "4": "nelson18@adventure-works.com",
                  "5": "Road-650 Black, 48",
                  "6": "1",
                  "7": "782.99",
                  "8": "62.6392"
                },
                {
                  "0": "SO50463",
                  "1": "1",
                  "2": "2021-04-12",
                  "3": "Julian Wood",
                  "4": "julian3@adventure-works.com",
                  "5": "Road-250 Red, 52",
                  "6": "1",
                  "7": "2443.35",
                  "8": "195.468"
                },
                {
                  "0": "SO50467",
                  "1": "1",
                  "2": "2021-04-12",
                  "3": "Troy Arun",
                  "4": "troy7@adventure-works.com",
                  "5": "Mountain-200 Silver, 46",
                  "6": "1",
                  "7": "2071.4197",
                  "8": "165.7136"
                },
                {
                  "0": "SO50464",
                  "1": "1",
                  "2": "2021-04-12",
                  "3": "Shawn Black",
                  "4": "shawn22@adventure-works.com",
                  "5": "Road-550-W Yellow, 38",
                  "6": "1",
                  "7": "1000.4375",
                  "8": "80.035"
                },
                {
                  "0": "SO50465",
                  "1": "1",
                  "2": "2021-04-12",
                  "3": "Stanley Garcia",
                  "4": "stanley16@adventure-works.com",
                  "5": "Road-550-W Yellow, 38",
                  "6": "1",
                  "7": "1000.4375",
                  "8": "80.035"
                },
                {
                  "0": "SO50466",
                  "1": "1",
                  "2": "2021-04-12",
                  "3": "Cory Sara",
                  "4": "cory8@adventure-works.com",
                  "5": "Road-650 Red, 52",
                  "6": "1",
                  "7": "782.99",
                  "8": "62.6392"
                },
                {
                  "0": "SO50471",
                  "1": "1",
                  "2": "2021-04-12",
                  "3": "Nina Kumar",
                  "4": "nina8@adventure-works.com",
                  "5": "Mountain-200 Silver, 38",
                  "6": "1",
                  "7": "2071.4197",
                  "8": "165.7136"
                },
                {
                  "0": "SO50468",
                  "1": "1",
                  "2": "2021-04-12",
                  "3": "Leslie Dominguez",
                  "4": "leslie13@adventure-works.com",
                  "5": "Road-650 Black, 58",
                  "6": "1",
                  "7": "782.99",
                  "8": "62.6392"
                },
                {
                  "0": "SO50469",
                  "1": "1",
                  "2": "2021-04-12",
                  "3": "Clayton Zhou",
                  "4": "clayton7@adventure-works.com",
                  "5": "Road-650 Red, 58",
                  "6": "1",
                  "7": "782.99",
                  "8": "62.6392"
                },
                {
                  "0": "SO50470",
                  "1": "1",
                  "2": "2021-04-12",
                  "3": "Stephanie Bell",
                  "4": "stephanie10@adventure-works.com",
                  "5": "Road-650 Black, 44",
                  "6": "1",
                  "7": "782.99",
                  "8": "62.6392"
                },
                {
                  "0": "SO50477",
                  "1": "1",
                  "2": "2021-04-13",
                  "3": "Bianca Lu",
                  "4": "bianca9@adventure-works.com",
                  "5": "Mountain-200 Silver, 46",
                  "6": "1",
                  "7": "2071.4197",
                  "8": "165.7136"
                },
                {
                  "0": "SO50479",
                  "1": "1",
                  "2": "2021-04-13",
                  "3": "Logan Jenkins",
                  "4": "logan9@adventure-works.com",
                  "5": "Road-550-W Yellow, 42",
                  "6": "1",
                  "7": "1000.4375",
                  "8": "80.035"
                },
                {
                  "0": "SO50476",
                  "1": "1",
                  "2": "2021-04-13",
                  "3": "Matthew Miller",
                  "4": "matthew12@adventure-works.com",
                  "5": "Road-650 Black, 48",
                  "6": "1",
                  "7": "782.99",
                  "8": "62.6392"
                },
                {
                  "0": "SO50475",
                  "1": "1",
                  "2": "2021-04-13",
                  "3": "Valerie Chen",
                  "4": "valerie3@adventure-works.com",
                  "5": "Road-550-W Yellow, 38",
                  "6": "1",
                  "7": "1000.4375",
                  "8": "80.035"
                },
                {
                  "0": "SO50481",
                  "1": "1",
                  "2": "2021-04-13",
                  "3": "Jan Gonzalez",
                  "4": "jan12@adventure-works.com",
                  "5": "Mountain-200 Silver, 42",
                  "6": "1",
                  "7": "2071.4197",
                  "8": "165.7136"
                },
                {
                  "0": "SO50483",
                  "1": "1",
                  "2": "2021-04-13",
                  "3": "Diane Gill",
                  "4": "diane18@adventure-works.com",
                  "5": "Mountain-200 Silver, 38",
                  "6": "1",
                  "7": "2071.4197",
                  "8": "165.7136"
                },
                {
                  "0": "SO50478",
                  "1": "1",
                  "2": "2021-04-13",
                  "3": "Yolanda Xu",
                  "4": "yolanda4@adventure-works.com",
                  "5": "Road-650 Black, 44",
                  "6": "1",
                  "7": "782.99",
                  "8": "62.6392"
                },
                {
                  "0": "SO50473",
                  "1": "1",
                  "2": "2021-04-13",
                  "3": "Maria Coleman",
                  "4": "maria29@adventure-works.com",
                  "5": "Road-550-W Yellow, 38",
                  "6": "1",
                  "7": "1000.4375",
                  "8": "80.035"
                },
                {
                  "0": "SO50480",
                  "1": "1",
                  "2": "2021-04-13",
                  "3": "Seth Russell",
                  "4": "seth68@adventure-works.com",
                  "5": "Road-550-W Yellow, 40",
                  "6": "1",
                  "7": "1000.4375",
                  "8": "80.035"
                },
                {
                  "0": "SO50482",
                  "1": "1",
                  "2": "2021-04-13",
                  "3": "Deanna Patel",
                  "4": "deanna6@adventure-works.com",
                  "5": "Road-650 Red, 62",
                  "6": "1",
                  "7": "782.99",
                  "8": "62.6392"
                },
                {
                  "0": "SO50472",
                  "1": "1",
                  "2": "2021-04-13",
                  "3": "Destiny Richardson",
                  "4": "destiny35@adventure-works.com",
                  "5": "Mountain-200 Black, 38",
                  "6": "1",
                  "7": "2049.0981",
                  "8": "163.9279"
                },
                {
                  "0": "SO50474",
                  "1": "1",
                  "2": "2021-04-13",
                  "3": "Victoria Lee",
                  "4": "victoria21@adventure-works.com",
                  "5": "Mountain-200 Black, 46",
                  "6": "1",
                  "7": "2049.0981",
                  "8": "163.9279"
                },
                {
                  "0": "SO50487",
                  "1": "1",
                  "2": "2021-04-14",
                  "3": "Cheryl Gutierrez",
                  "4": "cheryl13@adventure-works.com",
                  "5": "Road-550-W Yellow, 40",
                  "6": "1",
                  "7": "1000.4375",
                  "8": "80.035"
                },
                {
                  "0": "SO50488",
                  "1": "1",
                  "2": "2021-04-14",
                  "3": "Christy Sun",
                  "4": "christy11@adventure-works.com",
                  "5": "Road-550-W Yellow, 48",
                  "6": "1",
                  "7": "1000.4375",
                  "8": "80.035"
                }
              ],
              "schema": [
                {
                  "key": "0",
                  "name": "SalesOrderNumber",
                  "type": "string"
                },
                {
                  "key": "1",
                  "name": "SalesOrderLineNumber",
                  "type": "int"
                },
                {
                  "key": "2",
                  "name": "OrderDate",
                  "type": "date"
                },
                {
                  "key": "3",
                  "name": "CustomerName",
                  "type": "string"
                },
                {
                  "key": "4",
                  "name": "Email",
                  "type": "string"
                },
                {
                  "key": "5",
                  "name": "Item",
                  "type": "string"
                },
                {
                  "key": "6",
                  "name": "Quantity",
                  "type": "int"
                },
                {
                  "key": "7",
                  "name": "UnitPrice",
                  "type": "float"
                },
                {
                  "key": "8",
                  "name": "Tax",
                  "type": "float"
                }
              ],
              "truncated": false
            },
            "isSummary": false,
            "language": "scala"
          },
          "persist_state": {
            "view": {
              "type": "details",
              "tableOptions": {},
              "chartOptions": {
                "chartType": "bar",
                "aggregationType": "sum",
                "categoryFieldKeys": [
                  "0"
                ],
                "seriesFieldKeys": [
                  "1"
                ],
                "isStacked": false
              }
            }
          }
        }
      }
    }
  },
  "nbformat": 4,
  "nbformat_minor": 2
}