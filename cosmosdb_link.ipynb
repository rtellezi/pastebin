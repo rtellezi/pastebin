{
    "cells": [
      {
        "cell_type": "markdown",
        "source": [
          "### Query Azure Cosmos DB from a Spark pool"
        ],
        "metadata": {
          "nteract": {
            "transient": {
              "deleting": false
            }
          }
        }
      },
      {
        "cell_type": "code",
        "source": [
          "# Read from Cosmos DB analytical store into a Spark DataFrame and display 10 rows from the DataFrame\n",
          "# To select a preferred list of regions in a multi-region Cosmos DB account, add .option(\"spark.cosmos.preferredRegions\", \"<Region1>,<Region2>\")\n",
          "\n",
          "df = spark.read\\\n",
          "    .format(\"cosmos.olap\")\\\n",
          "    .option(\"spark.synapse.linkedService\", \"AdventureWorks\")\\\n",
          "    .option(\"spark.cosmos.container\", \"Sales\")\\\n",
          "    .load()\n",
          "\n",
          "display(df.limit(10))"
        ],
        "outputs": [],
        "execution_count": null,
        "metadata": {
          "collapsed": false
        }
      },
      {
        "cell_type": "code",
        "source": [
          "customer_df = df.select(\"customerid\", \"customerdetails\")\r\n",
          "display(customer_df)"
        ],
        "outputs": [],
        "execution_count": null,
        "metadata": {
          "jupyter": {
            "source_hidden": false,
            "outputs_hidden": false
          },
          "nteract": {
            "transient": {
              "deleting": false
            }
          },
          "collapsed": false
        }
      },
      {
        "cell_type": "code",
        "source": [
          "customerdetails_df = df.select(\"customerid\", \"customerdetails.*\")\r\n",
          "display(customerdetails_df)"
        ],
        "outputs": [],
        "execution_count": null,
        "metadata": {
          "jupyter": {
            "source_hidden": false,
            "outputs_hidden": false
          },
          "nteract": {
            "transient": {
              "deleting": false
            }
          },
          "collapsed": false
        }
      },
      {
        "cell_type": "code",
        "source": [
          "%%sql\r\n",
          "\r\n",
          "-- Create a logical database in the Spark metastore\r\n",
          "CREATE DATABASE salesdb;\r\n",
          "\r\n",
          "USE salesdb;\r\n",
          "\r\n",
          "-- Create a table from the Cosmos DB container\r\n",
          "CREATE TABLE salesorders using cosmos.olap options (\r\n",
          "    spark.synapse.linkedService 'AdventureWorks',\r\n",
          "    spark.cosmos.container 'Sales'\r\n",
          ");\r\n",
          "\r\n",
          "-- Query the table\r\n",
          "SELECT *\r\n",
          "FROM salesorders;"
        ],
        "outputs": [],
        "execution_count": null,
        "metadata": {
          "jupyter": {
            "source_hidden": false,
            "outputs_hidden": false
          },
          "nteract": {
            "transient": {
              "deleting": false
            }
          },
          "microsoft": {
            "language": "sparksql"
          },
          "collapsed": false
        }
      },
      {
        "cell_type": "code",
        "source": [
          "%%sql\r\n",
          "\r\n",
          "SELECT id, orderdate, customerdetails.customername, product\r\n",
          "FROM salesorders\r\n",
          "ORDER BY id;"
        ],
        "outputs": [],
        "execution_count": null,
        "metadata": {
          "jupyter": {
            "source_hidden": false,
            "outputs_hidden": false
          },
          "nteract": {
            "transient": {
              "deleting": false
            }
          },
          "microsoft": {
            "language": "sparksql"
          },
          "collapsed": false
        }
      }
    ],
    "metadata": {
      "language_info": {
        "name": "python"
      },
      "kernelspec": {
        "name": "synapse_pyspark",
        "language": "Python",
        "display_name": "Synapse PySpark"
      },
      "kernel_info": {
        "name": "synapse_pyspark"
      },
      "save_output": true,
      "synapse_widget": {
        "version": "0.1",
        "state": {}
      }
    },
    "nbformat": 4,
    "nbformat_minor": 2
  }