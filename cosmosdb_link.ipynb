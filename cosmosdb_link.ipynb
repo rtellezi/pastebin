{
 "cells": [
  {
   "cell_type": "markdown",
   "metadata": {},
   "source": [
    "### Query Azure Cosmos DB from a Spark pool"
   ]
  },
  {
   "cell_type": "code",
   "execution_count": null,
   "metadata": {},
   "outputs": [],
   "source": [
    "# Read from Cosmos DB analytical store into a Spark DataFrame and display 10 rows from the DataFrame\n",
    "# To select a preferred list of regions in a multi-region Cosmos DB account, add .option(\"spark.cosmos.preferredRegions\", \"<Region1>,<Region2>\")\n",
    "\n",
    "df = spark.read\\\n",
    "    .format(\"cosmos.olap\")\\\n",
    "    .option(\"spark.synapse.linkedService\", \"AdventureWorks\")\\\n",
    "    .option(\"spark.cosmos.container\", \"Sales\")\\\n",
    "    .load()\n",
    "\n",
    "display(df.limit(10))"
   ]
  },
  {
   "cell_type": "code",
   "execution_count": null,
   "metadata": {},
   "outputs": [],
   "source": [
    "customer_df = df.select(\"customerid\", \"customerdetails\")\n",
    "display(customer_df)"
   ]
  },
  {
   "cell_type": "code",
   "execution_count": null,
   "metadata": {},
   "outputs": [],
   "source": [
    "customerdetails_df = df.select(\"customerid\", \"customerdetails.*\")\n",
    "display(customerdetails_df)"
   ]
  },
  {
   "cell_type": "code",
   "execution_count": null,
   "metadata": {},
   "outputs": [],
   "source": [
    "%%sql\n",
    "\n",
    "-- Create a logical database in the Spark metastore\n",
    "CREATE DATABASE salesdb;\n",
    "\n",
    "USE salesdb;\n",
    "\n",
    "-- Create a table from the Cosmos DB container\n",
    "CREATE TABLE salesorders using cosmos.olap options (\n",
    "    spark.synapse.linkedService 'AdventureWorks',\n",
    "    spark.cosmos.container 'Sales'\n",
    ");\n",
    "\n",
    "-- Query the table\n",
    "SELECT *\n",
    "FROM salesorders;"
   ]
  },
  {
   "cell_type": "code",
   "execution_count": null,
   "metadata": {},
   "outputs": [],
   "source": [
    "%%sql\n",
    "\n",
    "SELECT id, orderdate, customerdetails.customername, product\n",
    "FROM salesorders\n",
    "ORDER BY id;"
   ]
  }
 ],
 "metadata": {
  "kernelspec": {
   "display_name": "Python 3.10.10 64-bit (microsoft store)",
   "language": "python",
   "name": "python3"
  },
  "language_info": {
   "name": "python",
   "version": "3.10.10"
  },
  "orig_nbformat": 4,
  "vscode": {
   "interpreter": {
    "hash": "f9ed328f70eb7d7907e99ec9175888dfd245ae8b933109fd34effba20de7265f"
   }
  }
 },
 "nbformat": 4,
 "nbformat_minor": 2
}
