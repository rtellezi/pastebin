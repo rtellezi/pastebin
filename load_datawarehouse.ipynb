{
 "cells": [
  {
   "cell_type": "markdown",
   "metadata": {},
   "source": [
    "[Data loading strategies for dedicated SQL pool in Azure Synapse Analytics\n",
    "](https://learn.microsoft.com/en-us/azure/synapse-analytics/sql-data-warehouse/design-elt-data-loading)\n",
    "\n",
    "[CREATE EXTERNAL DATA SOURCE (Transact-SQL)](https://learn.microsoft.com/en-us/sql/t-sql/statements/create-external-data-source-transact-sql?toc=%2Fazure%2Fsynapse-analytics%2Fsql-data-warehouse%2Ftoc.json&view=azure-sqldw-latest&preserve-view=true&tabs=serverless)\n",
    "\n",
    "[CREATE EXTERNAL TABLE (Transact-SQL)](https://learn.microsoft.com/en-us/sql/t-sql/statements/create-external-table-transact-sql?toc=%2Fazure%2Fsynapse-analytics%2Fsql-data-warehouse%2Ftoc.json&view=azure-sqldw-latest&preserve-view=true&tabs=dedicated)\n",
    "\n",
    "[CREATE EXTERNAL FILE FORMAT (Transact-SQL)](https://learn.microsoft.com/en-us/sql/t-sql/statements/create-external-file-format-transact-sql?toc=%2Fazure%2Fsynapse-analytics%2Fsql-data-warehouse%2Ftoc.json&view=azure-sqldw-latest&preserve-view=true&tabs=delimited)\n",
    "\n",
    "[Best practices for loading data into a dedicated SQL pool in Azure Synapse Analytics](https://learn.microsoft.com/en-us/azure/synapse-analytics/sql/data-loading-best-practices)\n",
    "\n"
   ]
  },
  {
   "cell_type": "code",
   "execution_count": null,
   "metadata": {},
   "outputs": [],
   "source": [
    "spark.load(\"filepath\")"
   ]
  }
 ],
 "metadata": {
  "kernelspec": {
   "display_name": "Python 3.10.10 64-bit (microsoft store)",
   "language": "python",
   "name": "python3"
  },
  "language_info": {
   "name": "python",
   "version": "3.10.10"
  },
  "orig_nbformat": 4,
  "vscode": {
   "interpreter": {
    "hash": "f9ed328f70eb7d7907e99ec9175888dfd245ae8b933109fd34effba20de7265f"
   }
  }
 },
 "nbformat": 4,
 "nbformat_minor": 2
}
